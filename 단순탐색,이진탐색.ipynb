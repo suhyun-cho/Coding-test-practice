{
 "cells": [
  {
   "cell_type": "markdown",
   "metadata": {},
   "source": [
    "## 파이썬 알고리즘 - 단순탐색(Simple Search), 이진탐색(Binary Search)\n",
    "https://www.youtube.com/watch?v=bfVuEK9ULxw&list=PLAdQRRy4vtQRwAGymS3q3VXk1WUfhZg7l&index=16\n",
    "\n",
    "> #### 장단점\n",
    "* 장점 \n",
    "    * 만들기 쉽다\n",
    "    * 정렬이 안되어 있어도된다.\n",
    "* 단점\n",
    "    * 느리다.\n",
    "* 대안\n",
    "    * 이진탐색"
   ]
  },
  {
   "cell_type": "markdown",
   "metadata": {},
   "source": [
    "------------------------------------------------------------------------------------------\n",
    "### 단순탐색"
   ]
  },
  {
   "cell_type": "code",
   "execution_count": 2,
   "metadata": {},
   "outputs": [],
   "source": [
    "arr=[1,2,3,5,6,7,8,9,10,11]\n",
    "# 8 은 몇번째에 있을까요"
   ]
  },
  {
   "cell_type": "code",
   "execution_count": 6,
   "metadata": {},
   "outputs": [
    {
     "data": {
      "text/plain": [
       "10"
      ]
     },
     "execution_count": 6,
     "metadata": {},
     "output_type": "execute_result"
    }
   ],
   "source": [
    "len(arr)"
   ]
  },
  {
   "cell_type": "code",
   "execution_count": 10,
   "metadata": {},
   "outputs": [
    {
     "name": "stdout",
     "output_type": "stream",
     "text": [
      "6\n",
      "-1\n"
     ]
    }
   ],
   "source": [
    "# 입력받은 숫자가 몇번째 인덱스에 있는지 찾는 function만들기\n",
    "def simpleSearch(arr, targetNum):\n",
    "    for index in range(0,len(arr)):\n",
    "        if arr[index]==targetNum:\n",
    "            return index\n",
    "    return -1\n",
    "\n",
    "print(simpleSearch(arr,8))\n",
    "print(simpleSearch(arr,4))"
   ]
  },
  {
   "cell_type": "markdown",
   "metadata": {},
   "source": [
    "### 이진탐색\n",
    "https://www.youtube.com/watch?v=XJ62IHwJ3uw&list=PLAdQRRy4vtQRwAGymS3q3VXk1WUfhZg7l&index=18\n",
    "* 장점\n",
    "    * 빠르다\n",
    "    * 실제로 쓰인다\n",
    "* 단점\n",
    "    * 정렬이 되어 있어야 한다.\n",
    "    * 만들기 어렵다."
   ]
  },
  {
   "cell_type": "code",
   "execution_count": 36,
   "metadata": {},
   "outputs": [
    {
     "data": {
      "text/plain": [
       "10"
      ]
     },
     "execution_count": 36,
     "metadata": {},
     "output_type": "execute_result"
    }
   ],
   "source": [
    "arr=[1,2,3,5,6,7,8,9,10,11]\n",
    "len(arr)"
   ]
  },
  {
   "cell_type": "code",
   "execution_count": 29,
   "metadata": {},
   "outputs": [
    {
     "data": {
      "text/plain": [
       "5"
      ]
     },
     "execution_count": 29,
     "metadata": {},
     "output_type": "execute_result"
    }
   ],
   "source": [
    "len(arr)//2"
   ]
  },
  {
   "cell_type": "code",
   "execution_count": 52,
   "metadata": {},
   "outputs": [
    {
     "name": "stdout",
     "output_type": "stream",
     "text": [
      "6\n"
     ]
    }
   ],
   "source": [
    "arr=[1,2,3,5,6,7,8,9,10,11]\n",
    "\n",
    "def binarySearch(arr, targetNum):\n",
    "    start=0\n",
    "    end=len(arr)-1   # 9\n",
    "    \n",
    "    while(start <=end):\n",
    "        midIndex= (start+end) //2   # 중간값\n",
    "        if arr[midIndex]  ==targetNum:\n",
    "            return midIndex\n",
    "        elif arr[midIndex]  < targetNum:\n",
    "            start=midIndex +1\n",
    "        elif arr[midIndex] > targetNum:\n",
    "            end=midIndex-1\n",
    "        \n",
    "#        print(\"start:\",start, \"end:\", end)\n",
    "    return -1\n",
    "\n",
    "print(binarySearch(arr,8))"
   ]
  },
  {
   "cell_type": "code",
   "execution_count": null,
   "metadata": {},
   "outputs": [],
   "source": []
  },
  {
   "cell_type": "code",
   "execution_count": null,
   "metadata": {},
   "outputs": [],
   "source": []
  },
  {
   "cell_type": "code",
   "execution_count": null,
   "metadata": {},
   "outputs": [],
   "source": []
  },
  {
   "cell_type": "code",
   "execution_count": null,
   "metadata": {},
   "outputs": [],
   "source": []
  }
 ],
 "metadata": {
  "kernelspec": {
   "display_name": "suhyun2",
   "language": "python",
   "name": "suhyun2"
  },
  "language_info": {
   "codemirror_mode": {
    "name": "ipython",
    "version": 3
   },
   "file_extension": ".py",
   "mimetype": "text/x-python",
   "name": "python",
   "nbconvert_exporter": "python",
   "pygments_lexer": "ipython3",
   "version": "3.6.8"
  }
 },
 "nbformat": 4,
 "nbformat_minor": 2
}
