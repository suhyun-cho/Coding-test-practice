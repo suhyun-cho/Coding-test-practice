{
 "cells": [
  {
   "cell_type": "markdown",
   "metadata": {},
   "source": [
    "## 파이썬 알고리즘 - 버블정렬01~05\n",
    "https://www.youtube.com/watch?v=53FCnMP1-4o&list=PLAdQRRy4vtQRwAGymS3q3VXk1WUfhZg7l&index=4\n",
    "\n",
    "1. 생각 떠올리기\n",
    "2. 규칙찾기\n",
    "3. 반복문 적용하기\n",
    "4. 중첩 for문 적용\n",
    "5. 함수로 만들기"
   ]
  },
  {
   "cell_type": "markdown",
   "metadata": {},
   "source": [
    "#### 1. 생각 떠올리기\n",
    "* 첫번째꺼랑 두번째꺼랑 비교해서 두번째께 더 작으면 첫번째꺼랑 자리를 바꾼다."
   ]
  },
  {
   "cell_type": "code",
   "execution_count": 10,
   "metadata": {},
   "outputs": [
    {
     "name": "stdout",
     "output_type": "stream",
     "text": [
      "7 3\n",
      "True\n",
      "3 7\n"
     ]
    }
   ],
   "source": [
    "numbers=[7,3,2,9]   # 원하는결과 => [2,3,7,9]\n",
    "first=numbers[0]\n",
    "second=numbers[1]\n",
    "print(first,second)\n",
    "\n",
    "print(first >second)\n",
    "\n",
    "# 자리바꾸기\n",
    "temp=first\n",
    "\n",
    "first= second\n",
    "second=temp\n",
    "print(first,second)"
   ]
  },
  {
   "cell_type": "markdown",
   "metadata": {},
   "source": [
    "#### 2. 규칙찾기"
   ]
  },
  {
   "cell_type": "code",
   "execution_count": 13,
   "metadata": {},
   "outputs": [
    {
     "name": "stdout",
     "output_type": "stream",
     "text": [
      "3 2\n",
      "2 3\n"
     ]
    }
   ],
   "source": [
    "numbers=[7,3,2,9]   #. 2 3 7 9\n",
    "numbers=[3,7,2,9]\n",
    "numbers=[2,7,3,9]\n",
    "\n",
    "first=numbers[0]  # 3\n",
    "third=numbers[2]   # 2\n",
    "print(first,third)\n",
    "\n",
    "temp= first\n",
    "first=third\n",
    "third=temp\n",
    "print(first,third)"
   ]
  },
  {
   "cell_type": "code",
   "execution_count": 14,
   "metadata": {},
   "outputs": [
    {
     "name": "stdout",
     "output_type": "stream",
     "text": [
      "2 9\n"
     ]
    }
   ],
   "source": [
    "numbers=[7,3,2,9]  # 첫번째랑 두번째 비교    n n+1  = 1,2\n",
    "numbers=[3,7,2,9]    # 첫번째랑 세번째 비교   n n+2 = 1,3\n",
    "numbers=[2,7,3,9]    # 첫번째랑 네번째 비교   n n+3 = 1,4\n",
    "\n",
    "first=numbers[0]   # 2\n",
    "fourth=numbers[3]   # 9\n",
    "print(first, fourth)\n",
    "\n",
    "temp=first\n"
   ]
  },
  {
   "cell_type": "markdown",
   "metadata": {},
   "source": [
    "#### 3. 반복문 적용하기"
   ]
  },
  {
   "cell_type": "code",
   "execution_count": 16,
   "metadata": {},
   "outputs": [
    {
     "name": "stdout",
     "output_type": "stream",
     "text": [
      "[3, 7, 2, 9]\n",
      "[2, 7, 3, 9]\n"
     ]
    }
   ],
   "source": [
    "# 비교해서 뒤에꺼가 작았을 때 바꾼다.\n",
    "numbers=[7,3,2,9]  \n",
    "\n",
    "if numbers[0] > numbers[1]:   # 예상 = [3,7,2,9] \n",
    "    # 자리를 바꿔준다.\n",
    "    temp=numbers[0]\n",
    "    numbers[0]=numbers[1]\n",
    "    numbers[1]=temp\n",
    "    \n",
    "print(numbers)\n",
    "\n",
    "if numbers[0] > numbers[2]:   # 예상 = [2,7,3,9]\n",
    "    # 자리를 바꿔준다.\n",
    "    temp=numbers[0]\n",
    "    numbers[0]=numbers[2]\n",
    "    numbers[2]=temp\n",
    "    \n",
    "print(numbers)"
   ]
  },
  {
   "cell_type": "code",
   "execution_count": 21,
   "metadata": {
    "scrolled": true
   },
   "outputs": [
    {
     "name": "stdout",
     "output_type": "stream",
     "text": [
      "[3, 7, 2, 9]\n",
      "[2, 7, 3, 9]\n",
      "[2, 7, 3, 9]\n"
     ]
    }
   ],
   "source": [
    "# 반복문 사용\n",
    "numbers=[7,3,2,9]  \n",
    "for index in range(1, len(numbers)):    # 1,2,3\n",
    "    if numbers[0] > numbers[index]:\n",
    "        temp=numbers[0]\n",
    "        numbers[0]=numbers[index]\n",
    "        numbers[index]=temp\n",
    "    print(numbers)"
   ]
  },
  {
   "cell_type": "markdown",
   "metadata": {},
   "source": [
    "#### 4. 중첩 for문"
   ]
  },
  {
   "cell_type": "code",
   "execution_count": null,
   "metadata": {},
   "outputs": [],
   "source": [
    "# 0번째와 나머지를 모두 비교한다. 1바퀴\n",
    "# 가장 작은게 0번째에 온다.\n",
    "# 그다음으로 작은게 1번째에 오게 해야 한다."
   ]
  },
  {
   "cell_type": "code",
   "execution_count": 23,
   "metadata": {},
   "outputs": [
    {
     "name": "stdout",
     "output_type": "stream",
     "text": [
      "[3, 7, 2, 9]\n",
      "[2, 7, 3, 9]\n",
      "[2, 7, 3, 9]\n",
      "[2, 7, 3, 9]\n",
      "[2, 3, 7, 9]\n",
      "[2, 3, 7, 9]\n"
     ]
    }
   ],
   "source": [
    "# 1번째와 2번째 비교   n, n+1\n",
    "# 1번째와 3번째 비교   n, n+2\n",
    "# 반복문 사용\n",
    "numbers=[7,3,2,9]  \n",
    "for index in range(1, len(numbers)):    # 1,2,3\n",
    "    if numbers[0] > numbers[index]:\n",
    "        temp=numbers[0]\n",
    "        numbers[0]=numbers[index]\n",
    "        numbers[index]=temp\n",
    "    print(numbers)\n",
    "    \n",
    "for index in range(1, len(numbers)):    # 1,2,3\n",
    "    if numbers[1] > numbers[index]:\n",
    "        temp=numbers[1]\n",
    "        numbers[1]=numbers[index]\n",
    "        numbers[index]=temp\n",
    "    print(numbers)"
   ]
  },
  {
   "cell_type": "code",
   "execution_count": 47,
   "metadata": {},
   "outputs": [
    {
     "name": "stdout",
     "output_type": "stream",
     "text": [
      "[2, 3, 7, 9]\n"
     ]
    }
   ],
   "source": [
    "# 0 1 2 3\n",
    "numbers=[7,3,2,9]  \n",
    "\n",
    "for i in range(0,len(numbers)-1):   # 0,1,2\n",
    "    for index in range(i+1, len(numbers)):    # 1,2,3 => 2,3 => 3\n",
    "        if numbers[i] > numbers[index]:\n",
    "            temp=numbers[i]\n",
    "            numbers[i]=numbers[index]\n",
    "            numbers[index]=temp\n",
    "print(numbers)"
   ]
  },
  {
   "cell_type": "code",
   "execution_count": null,
   "metadata": {},
   "outputs": [],
   "source": []
  }
 ],
 "metadata": {
  "kernelspec": {
   "display_name": "suhyun2",
   "language": "python",
   "name": "suhyun2"
  },
  "language_info": {
   "codemirror_mode": {
    "name": "ipython",
    "version": 3
   },
   "file_extension": ".py",
   "mimetype": "text/x-python",
   "name": "python",
   "nbconvert_exporter": "python",
   "pygments_lexer": "ipython3",
   "version": "3.6.8"
  }
 },
 "nbformat": 4,
 "nbformat_minor": 2
}
