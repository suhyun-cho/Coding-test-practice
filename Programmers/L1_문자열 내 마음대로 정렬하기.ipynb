{
 "cells": [
  {
   "cell_type": "markdown",
   "metadata": {},
   "source": [
    "## 문자열 내 마음대로 정렬하기\n",
    "2020-09-11\n",
    "\n",
    "#### 문제 설명\n",
    "문자열로 구성된 리스트 strings와, 정수 n이 주어졌을 때,<br>\n",
    "각 문자열의 인덱스 n번째 글자를 기준으로 오름차순 정렬하려 합니다.<br>\n",
    "예를 들어 strings가 [sun, bed, car]이고 n이 1이면 각 단어의 인덱스 1의 문자 u, e, a로 strings를 정렬합니다.\n",
    "<br>\n",
    "\n",
    "> strings=[sun, bed, car]<br>\n",
    "> n=1 (u, e, a) -> (a, e, u) -> (car, bed, sun)<br> \n",
    "> return=[car, bed, sun]<br>\n",
    "\n",
    "* 인덱스 1의 문자가 같은 문자열이 여럿 일 경우, 사전순으로 앞선 문자열이 앞쪽에 위치합니다."
   ]
  },
  {
   "cell_type": "code",
   "execution_count": 70,
   "metadata": {},
   "outputs": [
    {
     "name": "stdout",
     "output_type": "stream",
     "text": [
      "['car', 'bed', 'sun']\n"
     ]
    }
   ],
   "source": [
    "# 각 단어의 index=1위치에 값이 a인경우, e인경우, u인경우\n",
    "strings=['sun', 'bed','car']\n",
    "n=1\n",
    "\n",
    "word=[x[n] for x in strings ]\n",
    "word=sorted(word)   # word = ['a', 'e', 'u']\n",
    "\n",
    "mylist=[]\n",
    "for w in word:   # w=a, e, u\n",
    "    for s in strings:   #  s= ['sun', 'bed','car']\n",
    "        if w==s[n]:\n",
    "            mylist.append(s)\n",
    "print(mylist)"
   ]
  },
  {
   "cell_type": "code",
   "execution_count": 191,
   "metadata": {},
   "outputs": [
    {
     "data": {
      "text/plain": [
       "False"
      ]
     },
     "execution_count": 191,
     "metadata": {},
     "output_type": "execute_result"
    }
   ],
   "source": [
    "len(strings)==len(word)"
   ]
  },
  {
   "cell_type": "markdown",
   "metadata": {},
   "source": [
    "**테스트용 => Fail !**"
   ]
  },
  {
   "cell_type": "code",
   "execution_count": 201,
   "metadata": {},
   "outputs": [
    {
     "name": "stdout",
     "output_type": "stream",
     "text": [
      "word= ['c', 'c', 'x']\n",
      "word_set_sorted= ['c', 'x']\n",
      "mylist= ['abce']\n",
      "mylist= ['abce', 'abcd']\n",
      "mylist= ['abce', 'abcd', 'cdx']\n",
      "['abcd', 'abce', 'cdx']\n"
     ]
    }
   ],
   "source": [
    "# 인덱스 1의 문자가 같은 문자열이 여럿 일 경우\n",
    "strings=['abce', 'abcd', 'cdx']\n",
    "n=2\n",
    "# strings=['sun', 'bed','car']\n",
    "# n=1\n",
    "\n",
    "word=[x[n] for x in strings ]\n",
    "print('word=',word)\n",
    "word=sorted(list(set(word)))  # word= u,e,a => a,e,u  # word= c, c, x => c, x\n",
    "print('word_set_sorted=',word)\n",
    "\n",
    "mylist=[]\n",
    "for w in word:   # w=a,u,e    # w=c,x\n",
    "    for s in strings:   #  s=['sun', 'bed','car']  # s=['abce', 'abcd', 'cdx']\n",
    "        if w==s[n] :\n",
    "            mylist.append(s)\n",
    "            print('mylist=',mylist)\n",
    "# 중복이 있었을경우 마지막에 sorted해야되고, 중복 없었으면 그냥 출력.\n",
    "if len(strings)==len(word):\n",
    "    print(mylist)\n",
    "else:\n",
    "    print(sorted(mylist))"
   ]
  },
  {
   "cell_type": "markdown",
   "metadata": {},
   "source": [
    "**수현's 최종함수 => test-case Fail !**"
   ]
  },
  {
   "cell_type": "code",
   "execution_count": 195,
   "metadata": {},
   "outputs": [],
   "source": [
    "def solution(strings,n):\n",
    "    word=[x[n] for x in strings ]\n",
    "    word=sorted(list(set(word)))  # word= c,c, x => c,x\n",
    "\n",
    "    mylist=[]\n",
    "    for w in word:   # w=c, c, x\n",
    "        for s in strings:   #  s=['abce', 'abcd', 'cdx']\n",
    "            if w==s[n] :\n",
    "                mylist.append(s)\n",
    "    if len(strings)==len(word):\n",
    "        return(mylist)\n",
    "    else:\n",
    "        return sorted(mylist)"
   ]
  },
  {
   "cell_type": "code",
   "execution_count": 197,
   "metadata": {},
   "outputs": [
    {
     "data": {
      "text/plain": [
       "['car', 'bed', 'sun']"
      ]
     },
     "execution_count": 197,
     "metadata": {},
     "output_type": "execute_result"
    }
   ],
   "source": [
    "strings=['sun', 'bed','car']\n",
    "n=1\n",
    "# strings=['abce', 'abcd', 'cdx']\n",
    "# n=2\n",
    "solution(strings,n)"
   ]
  },
  {
   "cell_type": "markdown",
   "metadata": {},
   "source": [
    "**재도전 !**"
   ]
  },
  {
   "cell_type": "code",
   "execution_count": 248,
   "metadata": {},
   "outputs": [
    {
     "name": "stdout",
     "output_type": "stream",
     "text": [
      "strings= ['sun', 'bed', 'car']\n",
      "word= ['u', 'e', 'a']\n"
     ]
    },
    {
     "data": {
      "text/plain": [
       "{'sun': 'u', 'bed': 'e', 'car': 'a'}"
      ]
     },
     "execution_count": 248,
     "metadata": {},
     "output_type": "execute_result"
    }
   ],
   "source": [
    "# 인덱스 1의 문자가 같은 문자열이 여럿 일 경우\n",
    "# strings=['abce', 'abcd', 'cdx']\n",
    "# n=2\n",
    "strings=['sun', 'bed','car']\n",
    "print('strings=',strings)\n",
    "n=1\n",
    "word=[x[n] for x in strings ]\n",
    "print('word=',word)\n",
    "\n",
    "# dictionary\n",
    "#{'abce':'c', 'abcd':'c','cdx':'x'}\n",
    "{'sun':'u', 'bed':'e','car':'a'}"
   ]
  },
  {
   "cell_type": "markdown",
   "metadata": {},
   "source": [
    "* 딕셔너리 만들기(1) - zip사용 "
   ]
  },
  {
   "cell_type": "code",
   "execution_count": 255,
   "metadata": {},
   "outputs": [
    {
     "data": {
      "text/plain": [
       "{'sun': 'u', 'bed': 'e', 'car': 'a'}"
      ]
     },
     "execution_count": 255,
     "metadata": {},
     "output_type": "execute_result"
    }
   ],
   "source": [
    "# zip사용.\n",
    "strings=['sun', 'bed','car']\n",
    "word=[x[n] for x in strings ]\n",
    "myzip=dict(zip(strings,word))\n",
    "myzip"
   ]
  },
  {
   "cell_type": "markdown",
   "metadata": {},
   "source": [
    "* 딕셔너리로 만들기(2) - {} 사용"
   ]
  },
  {
   "cell_type": "code",
   "execution_count": 252,
   "metadata": {},
   "outputs": [
    {
     "name": "stdout",
     "output_type": "stream",
     "text": [
      "{'u': 'sun', 'e': 'bed', 'a': 'car'}\n"
     ]
    }
   ],
   "source": [
    "# 위 결과를 딕셔너리로 만드는법\n",
    "strings=['sun', 'bed','car']\n",
    "word=[x[n] for x in strings ]\n",
    "\n",
    "dic={}\n",
    "for i in range(len(strings)):  # i=0,1,2\n",
    "    dic[word[i]]=strings[i]\n",
    "print(dic)"
   ]
  },
  {
   "cell_type": "code",
   "execution_count": 256,
   "metadata": {},
   "outputs": [
    {
     "data": {
      "text/plain": [
       "['bed', 'car', 'sun']"
      ]
     },
     "execution_count": 256,
     "metadata": {},
     "output_type": "execute_result"
    }
   ],
   "source": [
    "# key값 기준으로 정렬이됨...\n",
    "sorted(myzip)"
   ]
  },
  {
   "cell_type": "code",
   "execution_count": 281,
   "metadata": {},
   "outputs": [
    {
     "name": "stdout",
     "output_type": "stream",
     "text": [
      "myzip = {'bed': 'e', 'car': 'a', 'sun': 'u'}\n",
      "sort_orders = [('car', 'a'), ('bed', 'e'), ('sun', 'u')]\n",
      "['car', 'bed', 'sun']\n"
     ]
    }
   ],
   "source": [
    "strings=['sun', 'bed','car']\n",
    "n=1\n",
    "# strings=['abce', 'abcd', 'cdx']\n",
    "# n=2\n",
    "\n",
    "word=[x[n] for x in sorted(strings) ]\n",
    "myzip=dict(zip(sorted(strings),word))\n",
    "print('myzip =',myzip)\n",
    "\n",
    "# valuer값 기준으로 정렬\n",
    "sort_orders = sorted(myzip.items(), key=lambda x: x[1], reverse=False)\n",
    "print('sort_orders =',sort_orders)\n",
    "\n",
    "mylist=[]\n",
    "for i in sort_orders:\n",
    "    mylist.append(i[0])\n",
    "print(mylist)    # [car, bed, sun]   [abcd, abce, cdx]\n"
   ]
  },
  {
   "cell_type": "code",
   "execution_count": 279,
   "metadata": {},
   "outputs": [
    {
     "data": {
      "text/plain": [
       "['abcd', 'abce', 'cdx']"
      ]
     },
     "execution_count": 279,
     "metadata": {},
     "output_type": "execute_result"
    }
   ],
   "source": [
    "sorted(strings)"
   ]
  },
  {
   "cell_type": "markdown",
   "metadata": {},
   "source": [
    "**수현's 최종코드 -> Success**"
   ]
  },
  {
   "cell_type": "code",
   "execution_count": 282,
   "metadata": {},
   "outputs": [],
   "source": [
    "def solution(strings,n):\n",
    "    word=[x[n] for x in sorted(strings) ]\n",
    "    myzip=dict(zip(sorted(strings),word))\n",
    "    # valuer값 기준으로 정렬\n",
    "    sort_orders = sorted(myzip.items(), key=lambda x: x[1], reverse=False)\n",
    "    \n",
    "    mylist=[]\n",
    "    for i in sort_orders:\n",
    "        mylist.append(i[0])\n",
    "    return mylist"
   ]
  },
  {
   "cell_type": "code",
   "execution_count": 284,
   "metadata": {},
   "outputs": [
    {
     "data": {
      "text/plain": [
       "['abcd', 'abce', 'cdx']"
      ]
     },
     "execution_count": 284,
     "metadata": {},
     "output_type": "execute_result"
    }
   ],
   "source": [
    "# strings=['sun', 'bed','car']\n",
    "# n=1\n",
    "strings=['abce', 'abcd', 'cdx']\n",
    "n=2\n",
    "solution(strings,n)"
   ]
  },
  {
   "cell_type": "code",
   "execution_count": null,
   "metadata": {},
   "outputs": [],
   "source": []
  }
 ],
 "metadata": {
  "kernelspec": {
   "display_name": "suhyun2",
   "language": "python",
   "name": "suhyun2"
  },
  "language_info": {
   "codemirror_mode": {
    "name": "ipython",
    "version": 3
   },
   "file_extension": ".py",
   "mimetype": "text/x-python",
   "name": "python",
   "nbconvert_exporter": "python",
   "pygments_lexer": "ipython3",
   "version": "3.6.8"
  }
 },
 "nbformat": 4,
 "nbformat_minor": 2
}
