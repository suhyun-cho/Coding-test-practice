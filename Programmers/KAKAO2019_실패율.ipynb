{
 "cells": [
  {
   "cell_type": "markdown",
   "metadata": {},
   "source": [
    "#### 2019 KAKAO BLIND RECRUITMENT\n",
    "## 실패율\n",
    "2020-09-13\n",
    "\n",
    "#### 문제 설명\n",
    "실패율은 다음과 같이 정의한다. <br>\n",
    "* 스테이지에 도달했으나 아직 클리어하지 못한 플레이어의 수 / 스테이지에 도달한 플레이어 수\n",
    "\n",
    "실패율이 높은 스테이지부터 내림차순으로 스테이지의 번호가 담겨있는 배열을 return 하도록 solution 함수를 완성하라.\n",
    "\n",
    "> N (스테이지개수): 5   <br>\n",
    "> stages : [2, 1, 2, 6, 2, 4, 3, 3]  <br>\n",
    "> result : [3,4,2,1,5]  <br>\n",
    "\n",
    "* 총 8명의 사용자가 도전\n",
    "* 1 번 스테이지 실패율 : 1/8 (1이상인 값들의 개수)\n",
    "* 2 번 스테이지 실패율 : 3/7\n",
    "* 3 번 스테이지 실패율 : 2/4\n",
    "* 4번 스테이지 실패율 : 1/2\n",
    "* 5번 스테이지 실패율 : 0/1\n",
    "<br>\n",
    "\n",
    "* x번 스테이지 실패율 : (x의 개수) / (x이상인 값의 개수)\n",
    "\n",
    "만약 실패율이 같은 스테이지가 있다면 작은 번호의 스테이지가 먼저 오도록 하면 된다."
   ]
  },
  {
   "cell_type": "code",
   "execution_count": 5,
   "metadata": {},
   "outputs": [
    {
     "name": "stdout",
     "output_type": "stream",
     "text": [
      "1\n",
      "2\n",
      "3\n",
      "4\n",
      "5\n"
     ]
    }
   ],
   "source": [
    "stages =[2, 1, 2, 6, 2, 4, 3, 3] \n",
    "N=5\n",
    "for i in range(1,N+1):\n",
    "    print(i)"
   ]
  },
  {
   "cell_type": "code",
   "execution_count": 17,
   "metadata": {},
   "outputs": [
    {
     "data": {
      "text/plain": [
       "4"
      ]
     },
     "execution_count": 17,
     "metadata": {},
     "output_type": "execute_result"
    }
   ],
   "source": [
    "# n번 스테이지에 도달한 플레이어 수\n",
    "len([x for x in stages if x>=3])"
   ]
  },
  {
   "cell_type": "code",
   "execution_count": 18,
   "metadata": {},
   "outputs": [
    {
     "data": {
      "text/plain": [
       "[6, 4, 3, 3]"
      ]
     },
     "execution_count": 18,
     "metadata": {},
     "output_type": "execute_result"
    }
   ],
   "source": [
    "# check\n",
    "[x for x in stages if x>=3]"
   ]
  },
  {
   "cell_type": "code",
   "execution_count": 20,
   "metadata": {},
   "outputs": [
    {
     "data": {
      "text/plain": [
       "2"
      ]
     },
     "execution_count": 20,
     "metadata": {},
     "output_type": "execute_result"
    }
   ],
   "source": [
    "# n번 스테이지에 도달했으나 아직 클리어하지 못한 플에이어의 수\n",
    "len([x for x in stages if x==3])"
   ]
  },
  {
   "cell_type": "code",
   "execution_count": 21,
   "metadata": {},
   "outputs": [
    {
     "data": {
      "text/plain": [
       "0.5"
      ]
     },
     "execution_count": 21,
     "metadata": {},
     "output_type": "execute_result"
    }
   ],
   "source": [
    "# 실패율\n",
    "len([x for x in stages if x==3]) / len([x for x in stages if x>=3])"
   ]
  },
  {
   "cell_type": "markdown",
   "metadata": {},
   "source": [
    "------------------------------------------------------------------------------------------\n",
    "### 수현's 정답코드\n",
    "**분모가 0이되는 경우(스테이지에 도달한 플레이어가 없을경우) 고려해야함**\n",
    "* ex) 총 5개의 스테이지가있는데, stages안에 5이상인 값이 없을때\n",
    "* ex) N=5, stages=[2, 1, 2, 2, 4, 3, 3]  인경우\n",
    "> (+) 추가로, 최종 sorting한 결과는 if문안에 넣으면 안되고 최종 return값으로 넣어줘야 분모가 0인경우도 포함해서 sorting이됨.\n"
   ]
  },
  {
   "cell_type": "code",
   "execution_count": 128,
   "metadata": {},
   "outputs": [
    {
     "name": "stdout",
     "output_type": "stream",
     "text": [
      "dic= {1: 0.14285714285714285, 2: 0.5, 3: 0.6666666666666666, 4: 1.0, 5: 0}\n",
      "result= [4, 3, 2, 1, 5]\n"
     ]
    }
   ],
   "source": [
    "#stages =[2, 1, 2, 6, 2, 4, 3, 3] \n",
    "stages=[2, 1, 2, 2, 4, 3, 3] \n",
    "#stages=[4,4,4,4,4]\n",
    "N=5\n",
    "    \n",
    "dic={}\n",
    "for n in range(1,N+1):   # n = 1,2,3,4,5\n",
    "    if len([x for x in stages if x>=n]) !=0: # 분모가0인경우 (스테이지가 5개인데 5번스테이지를 통과한사람이 없을경우)\n",
    "        fail= len([x for x in stages if x==n]) / len([x for x in stages if x>=n])\n",
    "        dic[n] = fail\n",
    "    else:\n",
    "        dic[n]=0\n",
    "result=sorted(dic, key=lambda x:dic[x], reverse=True)\n",
    "\n",
    "print('dic=',dic)\n",
    "print('result=',result)\n"
   ]
  },
  {
   "cell_type": "markdown",
   "metadata": {},
   "source": [
    "------------------------------------------\n",
    "**error case(1)**\n",
    "* 분모가 0이되서 에러나는 경우\n",
    "* if문으로 분모가 0이되는경우를 안나눠줄경우 에러남"
   ]
  },
  {
   "cell_type": "code",
   "execution_count": 136,
   "metadata": {},
   "outputs": [
    {
     "ename": "ZeroDivisionError",
     "evalue": "division by zero",
     "output_type": "error",
     "traceback": [
      "\u001b[0;31m---------------------------------------------------------------------------\u001b[0m",
      "\u001b[0;31mZeroDivisionError\u001b[0m                         Traceback (most recent call last)",
      "\u001b[0;32m<ipython-input-136-a22c738856aa>\u001b[0m in \u001b[0;36m<module>\u001b[0;34m\u001b[0m\n\u001b[1;32m      4\u001b[0m \u001b[0mdic\u001b[0m\u001b[0;34m=\u001b[0m\u001b[0;34m{\u001b[0m\u001b[0;34m}\u001b[0m\u001b[0;34m\u001b[0m\u001b[0;34m\u001b[0m\u001b[0m\n\u001b[1;32m      5\u001b[0m \u001b[0;32mfor\u001b[0m \u001b[0mn\u001b[0m \u001b[0;32min\u001b[0m \u001b[0mrange\u001b[0m\u001b[0;34m(\u001b[0m\u001b[0;36m1\u001b[0m\u001b[0;34m,\u001b[0m\u001b[0mN\u001b[0m\u001b[0;34m+\u001b[0m\u001b[0;36m1\u001b[0m\u001b[0;34m)\u001b[0m\u001b[0;34m:\u001b[0m   \u001b[0;31m# n = 1,2,3,4,5\u001b[0m\u001b[0;34m\u001b[0m\u001b[0;34m\u001b[0m\u001b[0m\n\u001b[0;32m----> 6\u001b[0;31m     \u001b[0mfail\u001b[0m\u001b[0;34m=\u001b[0m \u001b[0mlen\u001b[0m\u001b[0;34m(\u001b[0m\u001b[0;34m[\u001b[0m\u001b[0mx\u001b[0m \u001b[0;32mfor\u001b[0m \u001b[0mx\u001b[0m \u001b[0;32min\u001b[0m \u001b[0mstages\u001b[0m \u001b[0;32mif\u001b[0m \u001b[0mx\u001b[0m\u001b[0;34m==\u001b[0m\u001b[0mn\u001b[0m\u001b[0;34m]\u001b[0m\u001b[0;34m)\u001b[0m \u001b[0;34m/\u001b[0m \u001b[0mlen\u001b[0m\u001b[0;34m(\u001b[0m\u001b[0;34m[\u001b[0m\u001b[0mx\u001b[0m \u001b[0;32mfor\u001b[0m \u001b[0mx\u001b[0m \u001b[0;32min\u001b[0m \u001b[0mstages\u001b[0m \u001b[0;32mif\u001b[0m \u001b[0mx\u001b[0m\u001b[0;34m>=\u001b[0m\u001b[0mn\u001b[0m\u001b[0;34m]\u001b[0m\u001b[0;34m)\u001b[0m\u001b[0;34m\u001b[0m\u001b[0;34m\u001b[0m\u001b[0m\n\u001b[0m\u001b[1;32m      7\u001b[0m     \u001b[0mdic\u001b[0m\u001b[0;34m[\u001b[0m\u001b[0mn\u001b[0m\u001b[0;34m]\u001b[0m \u001b[0;34m=\u001b[0m \u001b[0mfail\u001b[0m\u001b[0;34m\u001b[0m\u001b[0;34m\u001b[0m\u001b[0m\n\u001b[1;32m      8\u001b[0m     \u001b[0msort_orders\u001b[0m\u001b[0;34m=\u001b[0m\u001b[0msorted\u001b[0m\u001b[0;34m(\u001b[0m\u001b[0mdic\u001b[0m\u001b[0;34m.\u001b[0m\u001b[0mitems\u001b[0m\u001b[0;34m(\u001b[0m\u001b[0;34m)\u001b[0m\u001b[0;34m,\u001b[0m \u001b[0mkey\u001b[0m\u001b[0;34m=\u001b[0m\u001b[0;32mlambda\u001b[0m \u001b[0mx\u001b[0m\u001b[0;34m:\u001b[0m\u001b[0mx\u001b[0m\u001b[0;34m[\u001b[0m\u001b[0;36m1\u001b[0m\u001b[0;34m]\u001b[0m\u001b[0;34m,\u001b[0m \u001b[0mreverse\u001b[0m\u001b[0;34m=\u001b[0m\u001b[0;32mTrue\u001b[0m\u001b[0;34m)\u001b[0m\u001b[0;34m\u001b[0m\u001b[0;34m\u001b[0m\u001b[0m\n",
      "\u001b[0;31mZeroDivisionError\u001b[0m: division by zero"
     ]
    }
   ],
   "source": [
    "stages=[2, 1, 2, 2, 4, 3, 3] \n",
    "N=5\n",
    "    \n",
    "dic={}\n",
    "for n in range(1,N+1):   # n = 1,2,3,4,5\n",
    "    fail= len([x for x in stages if x==n]) / len([x for x in stages if x>=n])\n",
    "    dic[n] = fail\n",
    "    sort_orders=sorted(dic.items(), key=lambda x:x[1], reverse=True)\n",
    "    result=[x[0] for x in sort_orders]\n",
    "\n",
    "print('sort_orders =',sort_orders)\n",
    "print('result=',result)"
   ]
  },
  {
   "cell_type": "markdown",
   "metadata": {},
   "source": [
    "**error case(2)**\n",
    "* result를 if문 안에 넣었을 때\n",
    "* N=5, stages=[2, 1, 2, 2, 4, 3, 3] 인경우 결과값이 [4, 3, 2, 1, 5] 로 5까지 포함되어야하는데 [4, 3, 2, 1] 로나옴"
   ]
  },
  {
   "cell_type": "code",
   "execution_count": 126,
   "metadata": {},
   "outputs": [
    {
     "name": "stdout",
     "output_type": "stream",
     "text": [
      "dic= {1: 0.14285714285714285, 2: 0.5, 3: 0.6666666666666666, 4: 1.0, 5: 0}\n",
      "result= [4, 3, 2, 1]\n"
     ]
    }
   ],
   "source": [
    "# 에러나는 경우 \n",
    "stages =[2, 1, 2, 2, 4, 3, 3] \n",
    "N=5\n",
    "    \n",
    "dic={}\n",
    "for n in range(1,N+1):   # n = 1,2,3,4,5\n",
    "    if len([x for x in stages if x>=n]) !=0: # 분모가0인경우 (스테이지가 5개인데 5번스테이지를 통과한사람이 없을경우)\n",
    "        fail= len([x for x in stages if x==n]) / len([x for x in stages if x>=n])\n",
    "        dic[n] = fail\n",
    "        result=sorted(dic, key=lambda x:dic[x], reverse=True)\n",
    "    else:\n",
    "        dic[n]=0\n",
    "        \n",
    "print('dic=',dic)\n",
    "print('result=',result)"
   ]
  },
  {
   "cell_type": "markdown",
   "metadata": {},
   "source": [
    "------------------------------------------------------------------------------------------\n",
    "**(참고) 딕셔너리에서 value값 기준으로 나열하는 방법.**\n",
    "* (key=lambda x:dic[x] ,reverse=True)"
   ]
  },
  {
   "cell_type": "code",
   "execution_count": 129,
   "metadata": {},
   "outputs": [
    {
     "name": "stdout",
     "output_type": "stream",
     "text": [
      "dic = {1: 0.14285714285714285, 2: 0.5, 3: 0.6666666666666666, 4: 1.0, 5: 0}\n"
     ]
    },
    {
     "data": {
      "text/plain": [
       "[4, 3, 2, 1, 5]"
      ]
     },
     "execution_count": 129,
     "metadata": {},
     "output_type": "execute_result"
    }
   ],
   "source": [
    "# 딕셔너리에서 value값 기준으로 나열하는 방법.\n",
    "print('dic =',dic)\n",
    "sorted(dic, key=lambda x:dic[x], reverse=True)   # dic[x] 가 value값을 의미하므로."
   ]
  },
  {
   "cell_type": "code",
   "execution_count": 133,
   "metadata": {},
   "outputs": [
    {
     "data": {
      "text/plain": [
       "[5, 4, 3, 2, 1]"
      ]
     },
     "execution_count": 133,
     "metadata": {},
     "output_type": "execute_result"
    }
   ],
   "source": [
    "# 딕셔너리의 key값 기준으로 정렬.\n",
    "sorted(dic, key=lambda x: x, reverse=True)"
   ]
  },
  {
   "cell_type": "markdown",
   "metadata": {},
   "source": [
    "### 수현's 최종제출 함수\n",
    "* 결과값인 sorted(dic, key=lambda x:dic[x], reverse=True) 이거를 if문 안에다가 넣으면 안되고, else문 다음 최종결과값으로 뱉어내야 함."
   ]
  },
  {
   "cell_type": "code",
   "execution_count": 123,
   "metadata": {},
   "outputs": [],
   "source": [
    "def solution(N,stages):\n",
    "    dic={}\n",
    "    for n in range(1,N+1):   # n = 1,2,3,4,5\n",
    "        if len([x for x in stages if x>=n]) !=0: # 분모가0인경우 (스테이지가 5개인데 5번스테이지를 통과한사람이 없을경우)\n",
    "            fail= len([x for x in stages if x==n]) / len([x for x in stages if x>=n])\n",
    "            dic[n] = fail \n",
    "        else:\n",
    "            dic[n]=0\n",
    "    return sorted(dic, key=lambda x:dic[x], reverse=True)   # 최종 return값에서 sorting해줘야함."
   ]
  },
  {
   "cell_type": "code",
   "execution_count": 124,
   "metadata": {},
   "outputs": [
    {
     "data": {
      "text/plain": [
       "[3, 4, 2, 1, 5]"
      ]
     },
     "execution_count": 124,
     "metadata": {},
     "output_type": "execute_result"
    }
   ],
   "source": [
    "stages =[2, 1, 2, 6, 2, 4, 3, 3] \n",
    "solution(5, stages)"
   ]
  },
  {
   "cell_type": "markdown",
   "metadata": {},
   "source": [
    "---------------------------------------------------------------\n",
    "### 다른사람 코드\n",
    "* collections.Counter() 사용\n",
    "    * stages리스트에서 1의개수,2의개수,3의개수,,,5의개수를 카운트\n",
    "* 분모를 count된것만큼 게속 빼주다가 분모가 0일경우 0할당\n",
    "* 딕셔너리에 key는 카운트한개수, value는 분모의값으로해서 최종적으로는 "
   ]
  },
  {
   "cell_type": "code",
   "execution_count": 138,
   "metadata": {},
   "outputs": [
    {
     "data": {
      "text/plain": [
       "Counter({2: 3, 1: 1, 6: 1, 4: 1, 3: 2})"
      ]
     },
     "execution_count": 138,
     "metadata": {},
     "output_type": "execute_result"
    }
   ],
   "source": [
    "import collections\n",
    "stages =[2, 1, 2, 6, 2, 4, 3, 3] \n",
    "collections.Counter(stages)"
   ]
  },
  {
   "cell_type": "code",
   "execution_count": 159,
   "metadata": {},
   "outputs": [
    {
     "name": "stdout",
     "output_type": "stream",
     "text": [
      "count =  1\n",
      "분모 = 8\n",
      "count =  3\n",
      "분모 = 7\n",
      "count =  2\n",
      "분모 = 4\n",
      "count =  1\n",
      "분모 = 2\n",
      "count =  0\n",
      "분모 = 1\n",
      "result= {1: 0.125, 2: 0.42857142857142855, 3: 0.5, 4: 0.5, 5: 0.0}\n",
      "\n",
      "\n",
      "정렬한 결과 = [3, 4, 2, 1, 5]\n"
     ]
    }
   ],
   "source": [
    "stages =[2, 1, 2, 6, 2, 4, 3, 3] \n",
    "N=5\n",
    "\n",
    "result={}\n",
    "denominator=len(stages)   # denominator = 8 -\n",
    "for stage in range(1,N+1):   # stage =1,2,3,4,5    , denominator = 8 -> 7 -> 4\n",
    "    if  denominator!=0:\n",
    "        count=stages.count(stage)   # count= 1의개수=1, 2의개수=3, 3의개수=1 ,,,5의개수\n",
    "        print('count = ',count)\n",
    "        result[stage] = count / denominator   # 1의개수= 1 / 분모 =8 , 2의개수=3, 분모=7, 3의개수=1,분모=4\n",
    "        print('분모 =' ,denominator)\n",
    "        denominator -= count # 8 - 1 =7, 7-3=4 , \n",
    "    else:\n",
    "        result[stage]=0\n",
    "print('result=' ,result)\n",
    "print('\\n')\n",
    "\n",
    "# value값 기준으로 정렬한 후, 매칭되는 key값을 출력.\n",
    "print('정렬한 결과 =',sorted(result, key=lambda x:result[x], reverse=True))  "
   ]
  },
  {
   "cell_type": "code",
   "execution_count": 161,
   "metadata": {},
   "outputs": [],
   "source": [
    "# 최종함수\n",
    "def solution(N, stages):\n",
    "    result = {}\n",
    "    denominator = len(stages)\n",
    "    for stage in range(1, N+1):\n",
    "        if denominator != 0:\n",
    "            count = stages.count(stage)\n",
    "            result[stage] = count / denominator\n",
    "            denominator -= count\n",
    "        else:\n",
    "            result[stage] = 0\n",
    "    return sorted(result, key=lambda x : result[x], reverse=True)"
   ]
  },
  {
   "cell_type": "code",
   "execution_count": null,
   "metadata": {},
   "outputs": [],
   "source": []
  }
 ],
 "metadata": {
  "kernelspec": {
   "display_name": "suhyun2",
   "language": "python",
   "name": "suhyun2"
  },
  "language_info": {
   "codemirror_mode": {
    "name": "ipython",
    "version": 3
   },
   "file_extension": ".py",
   "mimetype": "text/x-python",
   "name": "python",
   "nbconvert_exporter": "python",
   "pygments_lexer": "ipython3",
   "version": "3.6.8"
  }
 },
 "nbformat": 4,
 "nbformat_minor": 2
}
