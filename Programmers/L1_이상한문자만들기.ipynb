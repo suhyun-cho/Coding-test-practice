{
 "cells": [
  {
   "cell_type": "markdown",
   "metadata": {},
   "source": [
    "## 이상한 문자 만들기\n",
    "2020-09-21\n",
    "\n",
    "#### 문제 설명\n",
    "문자열 s는 한 개 이상의 단어로 구성되어 있습니다.<br>\n",
    "각 단어는 하나 이상의 공백문자로 구분되어 있습니다. <br>\n",
    "각 단어의 짝수번째 알파벳은 대문자로, 홀수번째 알파벳은 소문자로 바꾼 문자열을 리턴하는 함수, solution을 완성하세요.\n",
    "\n",
    "> s = \"try hello world\" <br>\n",
    "> return = \"TrY HeLlO WoRlD\"\n",
    "\n",
    "* 문자열 전체의 짝/홀수 인덱스가 아니라, 단어(공백을 기준)별로 짝/홀수 인덱스를 판단해야합니다."
   ]
  },
  {
   "cell_type": "code",
   "execution_count": 51,
   "metadata": {},
   "outputs": [
    {
     "data": {
      "text/plain": [
       "['try', 'hello', 'world']"
      ]
     },
     "execution_count": 51,
     "metadata": {},
     "output_type": "execute_result"
    }
   ],
   "source": [
    "s = \"try hello world\"\n",
    "s=s.split(' ')\n",
    "s"
   ]
  },
  {
   "cell_type": "code",
   "execution_count": 52,
   "metadata": {},
   "outputs": [
    {
     "data": {
      "text/plain": [
       "'try'"
      ]
     },
     "execution_count": 52,
     "metadata": {},
     "output_type": "execute_result"
    }
   ],
   "source": [
    "s[0]"
   ]
  },
  {
   "cell_type": "code",
   "execution_count": 182,
   "metadata": {},
   "outputs": [
    {
     "name": "stdout",
     "output_type": "stream",
     "text": [
      "t\n",
      "r\n",
      "y\n"
     ]
    }
   ],
   "source": [
    "for word in s[0]:\n",
    "    print(word)"
   ]
  },
  {
   "cell_type": "code",
   "execution_count": 183,
   "metadata": {},
   "outputs": [
    {
     "data": {
      "text/plain": [
       "3"
      ]
     },
     "execution_count": 183,
     "metadata": {},
     "output_type": "execute_result"
    }
   ],
   "source": [
    "len(s)"
   ]
  },
  {
   "cell_type": "code",
   "execution_count": 185,
   "metadata": {},
   "outputs": [
    {
     "name": "stdout",
     "output_type": "stream",
     "text": [
      "t\n",
      "h\n",
      "w\n"
     ]
    }
   ],
   "source": [
    "s = \"try hello world\"\n",
    "s=s.split(' ')\n",
    "\n",
    "for i in range(len(s)):\n",
    "    letter=s[i]\n",
    "    print(letter[0])"
   ]
  },
  {
   "cell_type": "code",
   "execution_count": 191,
   "metadata": {},
   "outputs": [
    {
     "name": "stdout",
     "output_type": "stream",
     "text": [
      "try\n",
      "t\n",
      "r\n",
      "y\n",
      "hello\n",
      "h\n",
      "e\n",
      "l\n",
      "l\n",
      "o\n",
      "world\n",
      "w\n",
      "o\n",
      "r\n",
      "l\n",
      "d\n"
     ]
    }
   ],
   "source": [
    "for i in range(len(s)):\n",
    "    print(s[i])\n",
    "    for word in s[i]:\n",
    "        print(word)"
   ]
  },
  {
   "cell_type": "code",
   "execution_count": 261,
   "metadata": {},
   "outputs": [
    {
     "name": "stdout",
     "output_type": "stream",
     "text": [
      "['try', 'hello', 'world']\n",
      "num = 0 value = t\n",
      "num = 1 value = r\n",
      "num = 2 value = y\n",
      "num = 0 value = h\n",
      "num = 1 value = e\n",
      "num = 2 value = l\n",
      "num = 3 value = l\n",
      "num = 4 value = o\n",
      "num = 0 value = w\n",
      "num = 1 value = o\n",
      "num = 2 value = r\n",
      "num = 3 value = l\n",
      "num = 4 value = d\n"
     ]
    }
   ],
   "source": [
    "s = \"try hello world\"\n",
    "s=s.split(' ')\n",
    "print(s)\n",
    "\n",
    "for i in range(len(s)):   # i=0,1,2\n",
    "    for num,value in enumerate(s[i]):\n",
    "        print('num =' ,num, 'value =' ,value)"
   ]
  },
  {
   "cell_type": "markdown",
   "metadata": {},
   "source": [
    "* 아래처럼 하면, 띄어쓰기 구분이 안됨.."
   ]
  },
  {
   "cell_type": "code",
   "execution_count": 259,
   "metadata": {},
   "outputs": [
    {
     "name": "stdout",
     "output_type": "stream",
     "text": [
      "['try', '', 'hello', 'world']\n",
      "TrYHeLlOWoRlD\n"
     ]
    }
   ],
   "source": [
    "s = \"try  hello world\"\n",
    "s=s.split(' ')\n",
    "print(s)\n",
    "\n",
    "mylist=[]\n",
    "for i in range(len(s)):   # i=0,1,2\n",
    "    for num,value in enumerate(s[i]):   # s[0]=> 't','r','y'\n",
    "#         print(num,value)\n",
    "        if num%2==0:\n",
    "            value=value.upper()\n",
    "            mylist.append(value)\n",
    "        else:\n",
    "            value=value.lower()\n",
    "            mylist.append(value)\n",
    "print(''.join(mylist))"
   ]
  },
  {
   "cell_type": "code",
   "execution_count": 121,
   "metadata": {},
   "outputs": [
    {
     "data": {
      "text/plain": [
       "'D'"
      ]
     },
     "execution_count": 121,
     "metadata": {},
     "output_type": "execute_result"
    }
   ],
   "source": [
    "result"
   ]
  },
  {
   "cell_type": "code",
   "execution_count": 165,
   "metadata": {},
   "outputs": [
    {
     "data": {
      "text/plain": [
       "['t', 'r', 'y', ' ', 'h', 'e', 'l', 'l', 'o', ' ', 'w', 'o', 'r', 'l', 'd']"
      ]
     },
     "execution_count": 165,
     "metadata": {},
     "output_type": "execute_result"
    }
   ],
   "source": [
    "s = \"try hello world\"\n",
    "s=list(s)\n",
    "s"
   ]
  },
  {
   "cell_type": "code",
   "execution_count": 176,
   "metadata": {},
   "outputs": [
    {
     "data": {
      "text/plain": [
       "True"
      ]
     },
     "execution_count": 176,
     "metadata": {},
     "output_type": "execute_result"
    }
   ],
   "source": [
    "s[3]==' '"
   ]
  },
  {
   "cell_type": "code",
   "execution_count": 166,
   "metadata": {},
   "outputs": [
    {
     "data": {
      "text/plain": [
       "15"
      ]
     },
     "execution_count": 166,
     "metadata": {},
     "output_type": "execute_result"
    }
   ],
   "source": [
    "len(s)"
   ]
  },
  {
   "cell_type": "code",
   "execution_count": 180,
   "metadata": {},
   "outputs": [
    {
     "name": "stdout",
     "output_type": "stream",
     "text": [
      "TrY  hElLo wOrLd\n"
     ]
    }
   ],
   "source": [
    "# 띄어쓰기가 나오면 다시 i를 0부터\n",
    "s = \"try  hello world\"\n",
    "s=list(s)\n",
    "\n",
    "for i in range(len(s)):  # i=0,1,2,,,,14\n",
    "    if i%2==0:  # 짝수\n",
    "        s[i]=s[i].upper()\n",
    "    elif i%2 !=0:# 홀수\n",
    "        s[i]=s[i].lower()\n",
    "    elif s[i]==' ':\n",
    "        i==0\n",
    "result=''.join(s)\n",
    "print(result)"
   ]
  },
  {
   "cell_type": "markdown",
   "metadata": {},
   "source": [
    "**수현's 풀이** => fail\n",
    "* 단어를 기준으로 인덱스를 인식해야하는데, 문자열 전체의 인덱스로됨.."
   ]
  },
  {
   "cell_type": "code",
   "execution_count": 162,
   "metadata": {},
   "outputs": [],
   "source": [
    "def solution(s):\n",
    "    s=list(s)\n",
    "    for i in range(len(s)):\n",
    "        if i%2==0:  # 짝수\n",
    "            s[i]=s[i].upper()\n",
    "        elif i%2 !=0:# 홀수\n",
    "            s[i]=s[i].lower()\n",
    "    return ''.join(s)"
   ]
  },
  {
   "cell_type": "code",
   "execution_count": 163,
   "metadata": {},
   "outputs": [
    {
     "data": {
      "text/plain": [
       "'TrY HeLlO WoRlD'"
      ]
     },
     "execution_count": 163,
     "metadata": {},
     "output_type": "execute_result"
    }
   ],
   "source": [
    "s = \"try hello world\"\n",
    "solution(s)"
   ]
  },
  {
   "cell_type": "markdown",
   "metadata": {},
   "source": [
    "**다른사람의 풀이**"
   ]
  },
  {
   "cell_type": "code",
   "execution_count": 400,
   "metadata": {},
   "outputs": [],
   "source": [
    "def solution(s):\n",
    "    return ' '.join([''.join([c.upper() if i % 2 == 0 else c.lower() for i, c in enumerate(w)]) for w in s.split(' ')])"
   ]
  },
  {
   "cell_type": "markdown",
   "metadata": {},
   "source": [
    "* 풀어서 살펴보기"
   ]
  },
  {
   "cell_type": "code",
   "execution_count": 379,
   "metadata": {},
   "outputs": [
    {
     "data": {
      "text/plain": [
       "['try', '', 'hello', 'world']"
      ]
     },
     "execution_count": 379,
     "metadata": {},
     "output_type": "execute_result"
    }
   ],
   "source": [
    "s = \"try  hello world\"\n",
    "[w for w in s.split(' ')]"
   ]
  },
  {
   "cell_type": "code",
   "execution_count": 399,
   "metadata": {},
   "outputs": [
    {
     "data": {
      "text/plain": [
       "[[(0, 't'), (1, 'r'), (2, 'y')],\n",
       " [],\n",
       " [(0, 'h'), (1, 'e'), (2, 'l'), (3, 'l'), (4, 'o')],\n",
       " [(0, 'w'), (1, 'o'), (2, 'r'), (3, 'l'), (4, 'd')]]"
      ]
     },
     "execution_count": 399,
     "metadata": {},
     "output_type": "execute_result"
    }
   ],
   "source": [
    "[[(i,c) for i,c in enumerate(w)]  for w in s.split(' ')]"
   ]
  },
  {
   "cell_type": "code",
   "execution_count": 398,
   "metadata": {},
   "outputs": [
    {
     "data": {
      "text/plain": [
       "[['t', 'r', 'y'], [], ['h', 'e', 'l', 'l', 'o'], ['w', 'o', 'r', 'l', 'd']]"
      ]
     },
     "execution_count": 398,
     "metadata": {},
     "output_type": "execute_result"
    }
   ],
   "source": [
    "[[c for i,c in enumerate(w)]  for w in s.split(' ')]"
   ]
  },
  {
   "cell_type": "code",
   "execution_count": 394,
   "metadata": {},
   "outputs": [
    {
     "data": {
      "text/plain": [
       "[['T', 'r', 'Y'], [], ['H', 'e', 'L', 'l', 'O'], ['W', 'o', 'R', 'l', 'D']]"
      ]
     },
     "execution_count": 394,
     "metadata": {},
     "output_type": "execute_result"
    }
   ],
   "source": [
    "[ [c.upper() if i%2==0 else c.lower() for i,c in enumerate(w)]  for w in s.split(' ')]"
   ]
  },
  {
   "cell_type": "code",
   "execution_count": 365,
   "metadata": {
    "scrolled": true
   },
   "outputs": [
    {
     "data": {
      "text/plain": [
       "['TrY', '', 'HeLlO', 'WoRlD']"
      ]
     },
     "execution_count": 365,
     "metadata": {},
     "output_type": "execute_result"
    }
   ],
   "source": [
    "[''.join([c.upper() if i%2==0 else c.lower() for i,c in enumerate(w)]) for w in s.split(' ')]"
   ]
  },
  {
   "cell_type": "code",
   "execution_count": 333,
   "metadata": {},
   "outputs": [
    {
     "data": {
      "text/plain": [
       "'TrY  HeLlO WoRlD'"
      ]
     },
     "execution_count": 333,
     "metadata": {},
     "output_type": "execute_result"
    }
   ],
   "source": [
    "' '.join([ \\\n",
    "          ''.join([c.upper() if i%2==0 else c.lower()  for i,c in enumerate(w)] )\\\n",
    "                  for w in s.split(' ')])"
   ]
  },
  {
   "cell_type": "code",
   "execution_count": 308,
   "metadata": {},
   "outputs": [
    {
     "name": "stdout",
     "output_type": "stream",
     "text": [
      "0 t\n",
      "1 r\n",
      "2 y\n",
      "0 h\n",
      "1 e\n",
      "2 l\n",
      "3 l\n",
      "4 o\n",
      "0 w\n",
      "1 o\n",
      "2 r\n",
      "3 l\n",
      "4 d\n"
     ]
    }
   ],
   "source": [
    "s = \"try  hello world\"\n",
    "for w in s.split(' '):   # w = try ,  , hello , world\n",
    "    for i,c in enumerate(w):\n",
    "        print(i,c)"
   ]
  },
  {
   "cell_type": "code",
   "execution_count": null,
   "metadata": {},
   "outputs": [],
   "source": []
  },
  {
   "cell_type": "code",
   "execution_count": null,
   "metadata": {},
   "outputs": [],
   "source": []
  },
  {
   "cell_type": "code",
   "execution_count": null,
   "metadata": {},
   "outputs": [],
   "source": []
  }
 ],
 "metadata": {
  "kernelspec": {
   "display_name": "suhyun2",
   "language": "python",
   "name": "suhyun2"
  },
  "language_info": {
   "codemirror_mode": {
    "name": "ipython",
    "version": 3
   },
   "file_extension": ".py",
   "mimetype": "text/x-python",
   "name": "python",
   "nbconvert_exporter": "python",
   "pygments_lexer": "ipython3",
   "version": "3.6.8"
  }
 },
 "nbformat": 4,
 "nbformat_minor": 2
}
