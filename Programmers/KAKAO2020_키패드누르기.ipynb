{
 "cells": [
  {
   "cell_type": "markdown",
   "metadata": {},
   "source": [
    "## 2020 카카오 인턴 - 키패드 누르기\n",
    "2020-09-24\n",
    "\n",
    "#### 문제설명\n",
    "맨 처음 왼손 엄지손가락은 * 키패드에 오른손 엄지손가락은 # 키패드 위치에서 시작하며, <br>\n",
    "엄지손가락을 사용하는 규칙은 다음과 같습니다.\n",
    "\n",
    "* 1.엄지손가락은 상하좌우 4가지 방향으로만 이동할 수 있으며 키패드 이동 한 칸은 거리로 1에 해당합니다.\n",
    "* 2.왼쪽 열의 3개의 숫자 1, 4, 7을 입력할 때는 왼손 엄지손가락을 사용합니다.\n",
    "* 3.오른쪽 열의 3개의 숫자 3, 6, 9를 입력할 때는 오른손 엄지손가락을 사용합니다.\n",
    "* 4.가운데 열의 4개의 숫자 2, 5, 8, 0을 입력할 때는 두 엄지손가락의 현재 키패드의 위치에서 더 가까운 엄지손가락을 사용합니다.\n",
    "    * 4-1. 만약 두 엄지손가락의 거리가 같다면, 오른손잡이는 오른손 엄지손가락, 왼손잡이는 왼손 엄지손가락을 사용합니다.\n",
    "    \n",
    "> numbers=[1, 3, 4, 5, 8, 2, 1, 4, 5, 9, 5] <br>\n",
    "> hand = \"right\" <br>\n",
    "> result=\"LRLLLRLLRRL\""
   ]
  },
  {
   "cell_type": "code",
   "execution_count": 27,
   "metadata": {},
   "outputs": [
    {
     "name": "stdout",
     "output_type": "stream",
     "text": [
      "mylist=> ['L', 'R', 'L', 'no', 'no', 'no', 'L', 'L', 'no', 'R', 'no']\n",
      "left=> [4]\n",
      "right=> [9]\n"
     ]
    }
   ],
   "source": [
    "numbers=[1, 3, 4, 5, 8, 2, 1, 4, 5, 9, 5] \n",
    "hand=\"right\"\n",
    "left=['*']\n",
    "right=['#']\n",
    "# 1,4,7이면 왼손, 3,6,9면 오른손\n",
    "## 번호 입력 후 위치이동.\n",
    "\n",
    "mylist=[]\n",
    "for number in numbers:\n",
    "    if number in [1,4,7]:\n",
    "        mylist.append('L')\n",
    "        left[0]=number\n",
    "    elif number in [3,6,9]:\n",
    "        mylist.append('R')\n",
    "        right[0]=number\n",
    "    else:\n",
    "        mylist.append('no')\n",
    "print('mylist=>',mylist)\n",
    "print('left=>',left )\n",
    "print('right=>', right)"
   ]
  },
  {
   "cell_type": "code",
   "execution_count": 57,
   "metadata": {},
   "outputs": [
    {
     "name": "stdout",
     "output_type": "stream",
     "text": [
      "번호 1 =>  (0, 0)\n",
      "번호 3 =>  (0, 2)\n",
      "번호 4 =>  (1, 0)\n",
      "번호 5 =>  (1, 1)\n",
      "번호 8 =>  (2, 1)\n",
      "번호 2 =>  (0, 1)\n",
      "번호 1 =>  (0, 0)\n",
      "번호 4 =>  (1, 0)\n",
      "번호 5 =>  (1, 1)\n",
      "번호 9 =>  (2, 2)\n",
      "번호 5 =>  (1, 1)\n"
     ]
    }
   ],
   "source": [
    "# 누를 번호들의 키패드 위치\n",
    "keypad=[[1,2,3],[4,5,6],[7,8,9]]\n",
    "numbers=[1, 3, 4, 5, 8, 2, 1, 4, 5, 9, 5] \n",
    "left=[4]\n",
    "right=[3]\n",
    "for number in numbers:\n",
    "    x=[x for x in keypad if number in x][0]\n",
    "    number_idx=(keypad.index(x),x.index(number))\n",
    "    print('번호',number,'=> ',number_idx)"
   ]
  },
  {
   "cell_type": "code",
   "execution_count": 61,
   "metadata": {},
   "outputs": [
    {
     "data": {
      "text/plain": [
       "[4, 5, 6]"
      ]
     },
     "execution_count": 61,
     "metadata": {},
     "output_type": "execute_result"
    }
   ],
   "source": [
    "[l for l in keypad if left[0] in l][0]"
   ]
  },
  {
   "cell_type": "code",
   "execution_count": 22,
   "metadata": {},
   "outputs": [
    {
     "data": {
      "text/plain": [
       "['*']"
      ]
     },
     "execution_count": 22,
     "metadata": {},
     "output_type": "execute_result"
    }
   ],
   "source": [
    "# 리스트 값 변경\n",
    "left=['*']\n",
    "right=['#']\n",
    "left"
   ]
  },
  {
   "cell_type": "code",
   "execution_count": 24,
   "metadata": {},
   "outputs": [],
   "source": [
    "left[0]=1"
   ]
  },
  {
   "cell_type": "code",
   "execution_count": 25,
   "metadata": {},
   "outputs": [
    {
     "data": {
      "text/plain": [
       "1"
      ]
     },
     "execution_count": 25,
     "metadata": {},
     "output_type": "execute_result"
    }
   ],
   "source": [
    "left[0]"
   ]
  },
  {
   "cell_type": "code",
   "execution_count": 131,
   "metadata": {},
   "outputs": [
    {
     "name": "stdout",
     "output_type": "stream",
     "text": [
      "번호 5 =>  (1, 1)\n",
      "left [4] => (1, 0)\n",
      "right [2] => (0, 1)\n",
      "hand\n"
     ]
    }
   ],
   "source": [
    "numbers=[5]\n",
    "left=[4]\n",
    "right=[2]\n",
    "for number in numbers:\n",
    "    n=[n for n in keypad if number in n][0]\n",
    "    number_idx=(keypad.index(n),n.index(number))\n",
    "    print('번호',number,'=> ',number_idx)\n",
    "    \n",
    "    l=[l for l in keypad if left[0] in l][0]\n",
    "    left_idx=(keypad.index(l),l.index(left[0]))\n",
    "    print('left',left, '=>', left_idx)\n",
    "    \n",
    "    r=[r for r in keypad if right[0] in r][0]\n",
    "    right_idx=(keypad.index(r),r.index(right[0]))\n",
    "    print('right',right, '=>', right_idx)\n",
    "    \n",
    "    if (left_idx[0]==number_idx[0] or left_idx[1]==number_idx[1]) and (right_idx[0]==number_idx[0] or right_idx[1]==number_idx[1]):\n",
    "        print('hand')  # 왼손,오른손 거리 같은경우\n",
    "    elif left_idx[0]==number_idx[0] or left_idx[1]==number_idx[1]:\n",
    "        print('Left')\n",
    "    elif right_idx[0]==number_idx[0] or right_idx[1]==number_idx[1]:\n",
    "        print('Right')\n"
   ]
  },
  {
   "cell_type": "code",
   "execution_count": 87,
   "metadata": {},
   "outputs": [
    {
     "data": {
      "text/plain": [
       "(1, 0)"
      ]
     },
     "execution_count": 87,
     "metadata": {},
     "output_type": "execute_result"
    }
   ],
   "source": [
    "left_idx"
   ]
  },
  {
   "cell_type": "code",
   "execution_count": 97,
   "metadata": {},
   "outputs": [
    {
     "data": {
      "text/plain": [
       "0"
      ]
     },
     "execution_count": 97,
     "metadata": {},
     "output_type": "execute_result"
    }
   ],
   "source": [
    "abs(left_idx[0]-number_idx[0])"
   ]
  },
  {
   "cell_type": "code",
   "execution_count": 98,
   "metadata": {},
   "outputs": [
    {
     "data": {
      "text/plain": [
       "1"
      ]
     },
     "execution_count": 98,
     "metadata": {},
     "output_type": "execute_result"
    }
   ],
   "source": [
    "abs(left_idx[1]-number_idx[1])"
   ]
  },
  {
   "cell_type": "code",
   "execution_count": 136,
   "metadata": {},
   "outputs": [
    {
     "data": {
      "text/plain": [
       "(0, 1)"
      ]
     },
     "execution_count": 136,
     "metadata": {},
     "output_type": "execute_result"
    }
   ],
   "source": [
    "# 행렬 위치 차이가 (0,1) 이거나 (1,0) 이면 바로옆위치\n",
    "(abs(left_idx[0]-number_idx[0]),abs(left_idx[1]-number_idx[1]))"
   ]
  },
  {
   "cell_type": "code",
   "execution_count": 137,
   "metadata": {
    "scrolled": true
   },
   "outputs": [
    {
     "data": {
      "text/plain": [
       "1"
      ]
     },
     "execution_count": 137,
     "metadata": {},
     "output_type": "execute_result"
    }
   ],
   "source": [
    "# 두 합계\n",
    "(abs(left_idx[0]-number_idx[0])+abs(left_idx[1]-number_idx[1]))"
   ]
  },
  {
   "cell_type": "code",
   "execution_count": 138,
   "metadata": {},
   "outputs": [
    {
     "data": {
      "text/plain": [
       "1"
      ]
     },
     "execution_count": 138,
     "metadata": {},
     "output_type": "execute_result"
    }
   ],
   "source": [
    "(abs(right_idx[0]-number_idx[0])+abs(right_idx[1]-number_idx[1]))"
   ]
  },
  {
   "cell_type": "code",
   "execution_count": 90,
   "metadata": {},
   "outputs": [
    {
     "data": {
      "text/plain": [
       "(1, 1)"
      ]
     },
     "execution_count": 90,
     "metadata": {},
     "output_type": "execute_result"
    }
   ],
   "source": [
    "number_idx"
   ]
  },
  {
   "cell_type": "code",
   "execution_count": 127,
   "metadata": {},
   "outputs": [
    {
     "name": "stdout",
     "output_type": "stream",
     "text": [
      "번호 7 =>  (2, 0)\n",
      "left ['*'] => (3, 0)\n",
      "right ['#'] => (3, 2)\n",
      "mylist=> ['L']\n",
      "번호 0 =>  (3, 1)\n",
      "left [7] => (2, 0)\n",
      "right ['#'] => (3, 2)\n",
      "mylist=> ['L', 'R']\n",
      "번호 8 =>  (2, 1)\n",
      "left [7] => (2, 0)\n",
      "right [0] => (3, 1)\n",
      "mylist=> ['L', 'R', 'L']\n",
      "번호 2 =>  (0, 1)\n",
      "left [8] => (2, 1)\n",
      "right [0] => (3, 1)\n",
      "mylist=> ['L', 'R', 'L', 'L']\n",
      "번호 8 =>  (2, 1)\n",
      "left [2] => (0, 1)\n",
      "right [0] => (3, 1)\n",
      "mylist=> ['L', 'R', 'L', 'L', 'L']\n",
      "번호 3 =>  (0, 2)\n",
      "left [8] => (2, 1)\n",
      "right [0] => (3, 1)\n",
      "mylist=> ['L', 'R', 'L', 'L', 'L', 'R']\n",
      "번호 1 =>  (0, 0)\n",
      "left [8] => (2, 1)\n",
      "right [3] => (0, 2)\n",
      "mylist=> ['L', 'R', 'L', 'L', 'L', 'R', 'L']\n",
      "번호 5 =>  (1, 1)\n",
      "left [1] => (0, 0)\n",
      "right [3] => (0, 2)\n",
      "번호 7 =>  (2, 0)\n",
      "left [1] => (0, 0)\n",
      "right [3] => (0, 2)\n",
      "mylist=> ['L', 'R', 'L', 'L', 'L', 'R', 'L', 'L']\n",
      "번호 6 =>  (1, 2)\n",
      "left [7] => (2, 0)\n",
      "right [3] => (0, 2)\n",
      "mylist=> ['L', 'R', 'L', 'L', 'L', 'R', 'L', 'L', 'R']\n",
      "번호 2 =>  (0, 1)\n",
      "left [7] => (2, 0)\n",
      "right [6] => (1, 2)\n",
      "mylist=> ['L', 'R', 'L', 'L', 'L', 'R', 'L', 'L', 'R']\n",
      "left=> [7]\n",
      "right=> [6]\n"
     ]
    }
   ],
   "source": [
    "# 코드 합치기  => fail\n",
    "keypad=[[1,2,3],[4,5,6],[7,8,9],['*',0,'#']]\n",
    "numbers=[1, 3, 4, 5, 8, 2, 1, 4, 5, 9, 5] \n",
    "hand=\"right\"\n",
    "\n",
    "numbers=[7, 0, 8, 2, 8, 3, 1, 5, 7, 6, 2]\n",
    "hand=\"left\"\n",
    "left=['*']\n",
    "right=['#']\n",
    "# 1,4,7이면 왼손, 3,6,9면 오른손\n",
    "## 번호 입력 후 위치이동.\n",
    "\n",
    "mylist=[]\n",
    "for number in numbers:\n",
    "    n=[n for n in keypad if number in n][0]\n",
    "    number_idx=(keypad.index(n),n.index(number))\n",
    "    print('번호',number,'=> ',number_idx)\n",
    "    \n",
    "    l=[l for l in keypad if left[0] in l][0]\n",
    "    left_idx=(keypad.index(l),l.index(left[0]))\n",
    "    print('left',left, '=>', left_idx)\n",
    "    \n",
    "    r=[r for r in keypad if right[0] in r][0]\n",
    "    right_idx=(keypad.index(r),r.index(right[0]))\n",
    "    print('right',right, '=>', right_idx)\n",
    "    \n",
    "# 1,4,7이면 왼손, 3,6,9면 오른손\n",
    "    if number in [1,4,7]:\n",
    "        mylist.append('L')\n",
    "        left[0]=number\n",
    "        print('mylist=>',mylist)\n",
    "    elif number in [3,6,9]:\n",
    "        mylist.append('R')\n",
    "        right[0]=number\n",
    "        print('mylist=>',mylist)\n",
    "# 왼손,오른손 거리 같을경우\n",
    "    elif (left_idx[0]==number_idx[0] or left_idx[1]==number_idx[1]) and (right_idx[0]==number_idx[0] or right_idx[1]==number_idx[1]):\n",
    "        if hand=='right':\n",
    "            mylist.append('R')\n",
    "            right[0]=number\n",
    "            print('mylist=>',mylist)\n",
    "        else:\n",
    "            mylist.append('L')\n",
    "            left[0]=number\n",
    "            print('mylist=>',mylist)\n",
    "    elif left_idx[0]==number_idx[0] or left_idx[1]==number_idx[1]:\n",
    "        mylist.append('L')\n",
    "        left[0]=number\n",
    "        print('mylist=>',mylist)\n",
    "    elif right_idx[0]==number_idx[0] or right_idx[1]==number_idx[1]:\n",
    "        mylist.append('R')\n",
    "        right[0]=number\n",
    "        print('mylist=>',mylist)\n",
    "\n",
    "print('mylist=>',mylist)\n",
    "print('left=>',left )\n",
    "print('right=>', right)"
   ]
  },
  {
   "cell_type": "code",
   "execution_count": 129,
   "metadata": {},
   "outputs": [
    {
     "name": "stdout",
     "output_type": "stream",
     "text": [
      "번호 7 =>  (2, 0)\n",
      "left ['*'] => (3, 0)\n",
      "right ['#'] => (3, 2)\n",
      "mylist=> ['L']\n",
      "번호 0 =>  (3, 1)\n",
      "left [7] => (2, 0)\n",
      "right ['#'] => (3, 2)\n",
      "mylist=> ['L', 'R']\n",
      "번호 8 =>  (2, 1)\n",
      "left [7] => (2, 0)\n",
      "right [0] => (3, 1)\n",
      "mylist=> ['L', 'R', 'L']\n",
      "번호 2 =>  (0, 1)\n",
      "left [8] => (2, 1)\n",
      "right [0] => (3, 1)\n",
      "번호 8 =>  (2, 1)\n",
      "left [8] => (2, 1)\n",
      "right [0] => (3, 1)\n",
      "mylist=> ['L', 'R', 'L', 'R']\n",
      "번호 3 =>  (0, 2)\n",
      "left [8] => (2, 1)\n",
      "right [8] => (2, 1)\n",
      "mylist=> ['L', 'R', 'L', 'R', 'R']\n",
      "번호 1 =>  (0, 0)\n",
      "left [8] => (2, 1)\n",
      "right [3] => (0, 2)\n",
      "mylist=> ['L', 'R', 'L', 'R', 'R', 'L']\n",
      "번호 5 =>  (1, 1)\n",
      "left [1] => (0, 0)\n",
      "right [3] => (0, 2)\n",
      "번호 7 =>  (2, 0)\n",
      "left [1] => (0, 0)\n",
      "right [3] => (0, 2)\n",
      "mylist=> ['L', 'R', 'L', 'R', 'R', 'L', 'L']\n",
      "번호 6 =>  (1, 2)\n",
      "left [7] => (2, 0)\n",
      "right [3] => (0, 2)\n",
      "mylist=> ['L', 'R', 'L', 'R', 'R', 'L', 'L', 'R']\n",
      "번호 2 =>  (0, 1)\n",
      "left [7] => (2, 0)\n",
      "right [6] => (1, 2)\n",
      "mylist=> ['L', 'R', 'L', 'R', 'R', 'L', 'L', 'R']\n",
      "left=> [7]\n",
      "right=> [6]\n"
     ]
    }
   ],
   "source": [
    "# 코드 합치기 (1차 재도전)  => fail\n",
    "keypad=[[1,2,3],[4,5,6],[7,8,9],['*',0,'#']]\n",
    "#numbers=[1, 3, 4, 5, 8, 2, 1, 4, 5, 9, 5] \n",
    "numbers=[7, 0, 8, 2, 8, 3, 1, 5, 7, 6, 2]\n",
    "hand=\"left\"\n",
    "left=['*']\n",
    "right=['#']\n",
    "\n",
    "# 번호, 왼손,오른손 위치(index)\n",
    "mylist=[]\n",
    "for number in numbers:\n",
    "    n=[n for n in keypad if number in n][0]\n",
    "    number_idx=(keypad.index(n),n.index(number))\n",
    "    print('번호',number,'=> ',number_idx)\n",
    "    \n",
    "    l=[l for l in keypad if left[0] in l][0]\n",
    "    left_idx=(keypad.index(l),l.index(left[0]))\n",
    "    print('left',left, '=>', left_idx)\n",
    "    \n",
    "    r=[r for r in keypad if right[0] in r][0]\n",
    "    right_idx=(keypad.index(r),r.index(right[0]))\n",
    "    print('right',right, '=>', right_idx)\n",
    "    \n",
    "# 1,4,7이면 왼손, 3,6,9면 오른손\n",
    "    if number in [1,4,7]:\n",
    "        mylist.append('L')\n",
    "        left[0]=number\n",
    "        print('mylist=>',mylist)\n",
    "    elif number in [3,6,9]:\n",
    "        mylist.append('R')\n",
    "        right[0]=number\n",
    "        print('mylist=>',mylist)\n",
    "        pass\n",
    "        \n",
    "# 왼손,오른손 거리 같을경우\n",
    "### 왼손위치와 번호위치 차이가 (0,1) 또는 (1,0) 이고 , 오른손 위치와 번호위치 차이가 (0,1) 또는 (1,0) 임을 둘다 만족할경우\n",
    "    elif (abs(left_idx[0]-number_idx[0]),abs(left_idx[1]-number_idx[1])) in ((0,1),(1,0)) and (abs(right_idx[0]-number_idx[0]),abs(right_idx[1]-number_idx[1])) in ((0,1),(1,0)) :\n",
    "        if hand=='right':\n",
    "            mylist.append('R')\n",
    "            right[0]=number\n",
    "            print('mylist=>',mylist)\n",
    "        else:\n",
    "            mylist.append('L')\n",
    "            left[0]=number\n",
    "            print('mylist=>',mylist)\n",
    "            pass\n",
    "                \n",
    "# 왼손,오른손 거리 다른경우\n",
    "    elif (abs(left_idx[0]-number_idx[0]),abs(left_idx[1]-number_idx[1])) in ((0,1),(1,0)) :   #왼손위치가 number위치와 차이가 (0,1)또는 (1,0)\n",
    "        mylist.append('L')\n",
    "        left[0]=number\n",
    "        print('mylist=>',mylist)\n",
    "    elif (abs(right_idx[0]-number_idx[0]),abs(right_idx[1]-number_idx[1])) in ((0,1),(1,0)):  #오른손위치가 number위치와 차이가 (0,1)또는 (1,0)\n",
    "        mylist.append('R')\n",
    "        right[0]=number\n",
    "        print('mylist=>',mylist)\n",
    "        pass\n",
    "\n",
    "print('mylist=>',mylist)\n",
    "print('left=>',left )\n",
    "print('right=>', right)"
   ]
  },
  {
   "cell_type": "code",
   "execution_count": 141,
   "metadata": {},
   "outputs": [
    {
     "name": "stdout",
     "output_type": "stream",
     "text": [
      "번호 1 =>  (0, 0)\n",
      "left ['*'] => (3, 0)\n",
      "right ['#'] => (3, 2)\n",
      "mylist=> ['L']\n",
      "번호 2 =>  (0, 1)\n",
      "left [1] => (0, 0)\n",
      "right ['#'] => (3, 2)\n",
      "mylist=> ['L', 'L']\n",
      "번호 3 =>  (0, 2)\n",
      "left [2] => (0, 1)\n",
      "right ['#'] => (3, 2)\n",
      "mylist=> ['L', 'L', 'R']\n",
      "번호 4 =>  (1, 0)\n",
      "left [2] => (0, 1)\n",
      "right [3] => (0, 2)\n",
      "mylist=> ['L', 'L', 'R', 'L']\n",
      "번호 5 =>  (1, 1)\n",
      "left [4] => (1, 0)\n",
      "right [3] => (0, 2)\n",
      "mylist=> ['L', 'L', 'R', 'L', 'L']\n",
      "번호 6 =>  (1, 2)\n",
      "left [5] => (1, 1)\n",
      "right [3] => (0, 2)\n",
      "mylist=> ['L', 'L', 'R', 'L', 'L', 'R']\n",
      "번호 7 =>  (2, 0)\n",
      "left [5] => (1, 1)\n",
      "right [6] => (1, 2)\n",
      "mylist=> ['L', 'L', 'R', 'L', 'L', 'R', 'L']\n",
      "번호 8 =>  (2, 1)\n",
      "left [7] => (2, 0)\n",
      "right [6] => (1, 2)\n",
      "mylist=> ['L', 'L', 'R', 'L', 'L', 'R', 'L', 'L']\n",
      "번호 9 =>  (2, 2)\n",
      "left [8] => (2, 1)\n",
      "right [6] => (1, 2)\n",
      "mylist=> ['L', 'L', 'R', 'L', 'L', 'R', 'L', 'L', 'R']\n",
      "번호 0 =>  (3, 1)\n",
      "left [8] => (2, 1)\n",
      "right [9] => (2, 2)\n",
      "mylist=> ['L', 'L', 'R', 'L', 'L', 'R', 'L', 'L', 'R', 'L']\n",
      "mylist=> ['L', 'L', 'R', 'L', 'L', 'R', 'L', 'L', 'R', 'L']\n",
      "left=> [0]\n",
      "right=> [9]\n"
     ]
    }
   ],
   "source": [
    "# 코드 합치기 (2차 재도전)  => success\n",
    "keypad=[[1,2,3],[4,5,6],[7,8,9],['*',0,'#']]\n",
    "numbers=[1, 2, 3, 4, 5, 6, 7, 8, 9, 0]\n",
    "hand='right'\n",
    "# numbers=[1, 3, 4, 5, 8, 2, 1, 4, 5, 9, 5] \n",
    "# hand='right'\n",
    "#numbers=[7, 0, 8, 2, 8, 3, 1, 5, 7, 6, 2]\n",
    "# hand=\"left\"\n",
    "left=['*']\n",
    "right=['#']\n",
    "\n",
    "# 번호, 왼손,오른손 위치(index)\n",
    "mylist=[]\n",
    "for number in numbers:\n",
    "    n=[n for n in keypad if number in n][0]\n",
    "    number_idx=(keypad.index(n),n.index(number))\n",
    "    print('번호',number,'=> ',number_idx)\n",
    "    \n",
    "    l=[l for l in keypad if left[0] in l][0]\n",
    "    left_idx=(keypad.index(l),l.index(left[0]))\n",
    "    print('left',left, '=>', left_idx)\n",
    "    \n",
    "    r=[r for r in keypad if right[0] in r][0]\n",
    "    right_idx=(keypad.index(r),r.index(right[0]))\n",
    "    print('right',right, '=>', right_idx)\n",
    "    \n",
    "# 1,4,7이면 왼손, 3,6,9면 오른손\n",
    "    if number in [1,4,7]:\n",
    "        mylist.append('L')\n",
    "        left[0]=number\n",
    "        print('mylist=>',mylist)\n",
    "    elif number in [3,6,9]:\n",
    "        mylist.append('R')\n",
    "        right[0]=number\n",
    "        print('mylist=>',mylist)\n",
    "        pass\n",
    "        \n",
    "# 왼손,오른손 거리 같을경우\n",
    "### 왼손위치와 번호위치 차이가 (0,1) 또는 (1,0) 이고 , 오른손 위치와 번호위치 차이가 (0,1) 또는 (1,0) 임을 둘다 만족할경우\n",
    "    elif (abs(left_idx[0]-number_idx[0])+abs(left_idx[1]-number_idx[1]))==(abs(right_idx[0]-number_idx[0])+abs(right_idx[1]-number_idx[1])):\n",
    "        if hand=='right':\n",
    "            mylist.append('R')\n",
    "            right[0]=number\n",
    "            print('mylist=>',mylist)\n",
    "        else:\n",
    "            mylist.append('L')\n",
    "            left[0]=number\n",
    "            print('mylist=>',mylist)\n",
    "            pass\n",
    "                \n",
    "# 왼손,오른손 거리 다른경우\n",
    "### 왼손과 넘버와의 거리가 더 작은경우\n",
    "    elif (abs(left_idx[0]-number_idx[0])+abs(left_idx[1]-number_idx[1])) <(abs(right_idx[0]-number_idx[0])+abs(right_idx[1]-number_idx[1])):\n",
    "        mylist.append('L')\n",
    "        left[0]=number\n",
    "        print('mylist=>',mylist)\n",
    "### 오른손과 넘버와의 거리가 더 작은경우\n",
    "    elif (abs(left_idx[0]-number_idx[0])+abs(left_idx[1]-number_idx[1])) >(abs(right_idx[0]-number_idx[0])+abs(right_idx[1]-number_idx[1])):\n",
    "        mylist.append('R')\n",
    "        right[0]=number\n",
    "        print('mylist=>',mylist)\n",
    "        pass\n",
    "\n",
    "print('mylist=>',mylist)\n",
    "print('left=>',left )\n",
    "print('right=>', right)"
   ]
  },
  {
   "cell_type": "markdown",
   "metadata": {},
   "source": [
    "**success 코드 정리**"
   ]
  },
  {
   "cell_type": "code",
   "execution_count": 164,
   "metadata": {},
   "outputs": [
    {
     "name": "stdout",
     "output_type": "stream",
     "text": [
      "mylist=> ['L', 'L', 'R', 'L', 'L', 'R', 'L', 'L', 'R', 'L']\n",
      "left=> [0]\n",
      "right=> [9]\n",
      "result=> LLRLLRLLRL\n"
     ]
    }
   ],
   "source": [
    "# 코드 합치기 (2차 재도전)\n",
    "### 코드정리\n",
    "keypad=[[1,2,3],[4,5,6],[7,8,9],['*',0,'#']]\n",
    "numbers=[1, 2, 3, 4, 5, 6, 7, 8, 9, 0]\n",
    "hand='right'\n",
    "# numbers=[1, 3, 4, 5, 8, 2, 1, 4, 5, 9, 5] \n",
    "# hand='right'\n",
    "#numbers=[7, 0, 8, 2, 8, 3, 1, 5, 7, 6, 2]\n",
    "# hand=\"left\"\n",
    "left=['*']\n",
    "right=['#']\n",
    "\n",
    "# 번호, 왼손,오른손 위치(index)\n",
    "mylist=[]\n",
    "for number in numbers:\n",
    "    n=[n for n in keypad if number in n][0]\n",
    "    number_idx=(keypad.index(n),n.index(number))\n",
    "    \n",
    "    l=[l for l in keypad if left[0] in l][0]\n",
    "    left_idx=(keypad.index(l),l.index(left[0]))\n",
    "    \n",
    "    r=[r for r in keypad if right[0] in r][0]\n",
    "    right_idx=(keypad.index(r),r.index(right[0]))\n",
    "    \n",
    "#  lpos= 왼손과 number거리, rpos=오른손과 number거리 \n",
    "    lpos=(abs(left_idx[0]-number_idx[0])+abs(left_idx[1]-number_idx[1]))\n",
    "    rpos=(abs(right_idx[0]-number_idx[0])+abs(right_idx[1]-number_idx[1]))\n",
    "    \n",
    "# 1,4,7이면 왼손, 3,6,9면 오른손\n",
    "    if number in [1,4,7]:\n",
    "        mylist.append('L')\n",
    "        left[0]=number\n",
    "    elif number in [3,6,9]:\n",
    "        mylist.append('R')\n",
    "        right[0]=number\n",
    "        pass\n",
    "        \n",
    "# 왼손,오른손 거리 같을경우\n",
    "### 왼손과 넘버와의 행,렬 각 차이의 합과 오른손과 넘버와의 행,렬 각 차이의 합이 같은경우\n",
    "    elif lpos==rpos:\n",
    "        if hand=='right':\n",
    "            mylist.append('R')\n",
    "            right[0]=number\n",
    "        else:\n",
    "            mylist.append('L')\n",
    "            left[0]=number\n",
    "            pass\n",
    "                \n",
    "# 왼손,오른손 거리 다른경우\n",
    "### 왼손과 넘버와의 거리가 더 작은경우\n",
    "    elif lpos < rpos:\n",
    "        mylist.append('L')\n",
    "        left[0]=number\n",
    "### 오른손과 넘버와의 거리가 더 작은경우\n",
    "    elif lpos > rpos:\n",
    "        right[0]=number\n",
    "        pass\n",
    "    \n",
    "result=''.join(mylist)\n",
    "print('mylist=>',mylist)\n",
    "print('left=>',left )\n",
    "print('right=>', right)\n",
    "print('result=>', result)"
   ]
  },
  {
   "cell_type": "markdown",
   "metadata": {},
   "source": [
    "------------------------------------------------------\n",
    "### [최종] 수현's 풀이 정리 => Success!!\n",
    "\n",
    "> 왼손 숫자의 index(l_x, l_y) 와 오른손 숫자의 index(r_x, r_y) 를 각각 number의 index 행별, 열별 차이 계산 후 합산한 값으로 L또는 R을 추가\n",
    "\n",
    "* 왼손 숫자 위치 (left_x, left_y) 와 오른손 숫자 위치 (right_x,right_y) 를 행,열 별로 차이를 계산해서 합산후 절대값 취함.\n",
    "    * 절대값 (left_x - right_x) + (left_y - right_y)<br>\n",
    "<br>\n",
    "* 합이 같으면 왼손, 오른손 위치가 같으므로 hand='right'이면 R, hand='left' 이면 L 추가\n",
    "<br>\n",
    "* 왼손과 number의 거리가 더가까우면 L추가, 오른손과 number 거리가 더 가까우면 R추가\n"
   ]
  },
  {
   "cell_type": "markdown",
   "metadata": {},
   "source": [
    "(아래코드) 2중 리스트에서 큰겹의 리스트 index를 찾고, 그안에서 해당 숫자의 index를 찾아서 튜플로 묶어줌"
   ]
  },
  {
   "cell_type": "code",
   "execution_count": 160,
   "metadata": {},
   "outputs": [
    {
     "data": {
      "text/plain": [
       "[[1, 2, 3], [4, 5, 6], [7, 8, 9], ['*', 0, '#']]"
      ]
     },
     "execution_count": 160,
     "metadata": {},
     "output_type": "execute_result"
    }
   ],
   "source": [
    "keypad"
   ]
  },
  {
   "cell_type": "code",
   "execution_count": 159,
   "metadata": {},
   "outputs": [
    {
     "data": {
      "text/plain": [
       "[1, 2, 3]"
      ]
     },
     "execution_count": 159,
     "metadata": {},
     "output_type": "execute_result"
    }
   ],
   "source": [
    "n=[n for n in keypad if 3 in n][0]\n",
    "n"
   ]
  },
  {
   "cell_type": "code",
   "execution_count": 161,
   "metadata": {},
   "outputs": [
    {
     "data": {
      "text/plain": [
       "2"
      ]
     },
     "execution_count": 161,
     "metadata": {},
     "output_type": "execute_result"
    }
   ],
   "source": [
    "n.index(3)"
   ]
  },
  {
   "cell_type": "code",
   "execution_count": 162,
   "metadata": {},
   "outputs": [
    {
     "data": {
      "text/plain": [
       "(0, 2)"
      ]
     },
     "execution_count": 162,
     "metadata": {},
     "output_type": "execute_result"
    }
   ],
   "source": [
    "(keypad.index(n), n.index(3))"
   ]
  },
  {
   "cell_type": "code",
   "execution_count": 165,
   "metadata": {},
   "outputs": [],
   "source": [
    "def solution(numbers,hand):\n",
    "    keypad=[[1,2,3],[4,5,6],[7,8,9],['*',0,'#']]\n",
    "    left=['*']\n",
    "    right=['#']\n",
    "\n",
    "    # 번호, 왼손,오른손 위치(index)\n",
    "    mylist=[]\n",
    "    for number in numbers:\n",
    "        n=[n for n in keypad if number in n][0]\n",
    "        number_idx=(keypad.index(n),n.index(number))\n",
    "\n",
    "        l=[l for l in keypad if left[0] in l][0]\n",
    "        left_idx=(keypad.index(l),l.index(left[0]))\n",
    "\n",
    "        r=[r for r in keypad if right[0] in r][0]\n",
    "        right_idx=(keypad.index(r),r.index(right[0]))\n",
    "        \n",
    "        lpos=(abs(left_idx[0]-number_idx[0])+abs(left_idx[1]-number_idx[1]))\n",
    "        rpos=(abs(right_idx[0]-number_idx[0])+abs(right_idx[1]-number_idx[1]))\n",
    "\n",
    "    # 1,4,7이면 왼손, 3,6,9면 오른손\n",
    "        if number in [1,4,7]:\n",
    "            mylist.append('L')\n",
    "            left[0]=number\n",
    "        elif number in [3,6,9]:\n",
    "            mylist.append('R')\n",
    "            right[0]=number\n",
    "            pass\n",
    "\n",
    "    # 왼손,오른손 거리 같을경우\n",
    "    ### 왼손과 넘버와의 행,렬 각 차이의 합과 오른손과 넘버와의 행,렬 각 차이의 합이 같은경우\n",
    "        elif lpos==rpos:\n",
    "            if hand=='right':\n",
    "                mylist.append('R')\n",
    "                right[0]=number\n",
    "            else:\n",
    "                mylist.append('L')\n",
    "                left[0]=number\n",
    "                pass\n",
    "\n",
    "    # 왼손,오른손 거리 다른경우\n",
    "    ### 왼손과 넘버와의 거리가 더 작은경우\n",
    "        elif lpos < rpos:\n",
    "            mylist.append('L')\n",
    "            left[0]=number\n",
    "    ### 오른손과 넘버와의 거리가 더 작은경우\n",
    "        elif lpos > rpos:\n",
    "            mylist.append('R')\n",
    "            right[0]=number\n",
    "            pass\n",
    "\n",
    "    result=''.join(mylist)\n",
    "    return result"
   ]
  },
  {
   "cell_type": "code",
   "execution_count": 166,
   "metadata": {},
   "outputs": [
    {
     "data": {
      "text/plain": [
       "'LRLLLRLLRRL'"
      ]
     },
     "execution_count": 166,
     "metadata": {},
     "output_type": "execute_result"
    }
   ],
   "source": [
    "# 결과확인 => success\n",
    "numbers=[1, 3, 4, 5, 8, 2, 1, 4, 5, 9, 5] \n",
    "hand='right'\n",
    "solution(numbers,hand)"
   ]
  },
  {
   "cell_type": "markdown",
   "metadata": {},
   "source": [
    "### 다른사람 풀이 \n",
    "* 딕셔너리에 각 키배드별 index를 저장\n",
    "* append 대신 += 로 문자를 더해주는 방법"
   ]
  },
  {
   "cell_type": "code",
   "execution_count": 167,
   "metadata": {},
   "outputs": [
    {
     "data": {
      "text/plain": [
       "{1: (0, 0),\n",
       " 2: (0, 1),\n",
       " 3: (0, 2),\n",
       " 4: (1, 0),\n",
       " 5: (1, 1),\n",
       " 6: (1, 2),\n",
       " 7: (2, 0),\n",
       " 8: (2, 1),\n",
       " 9: (2, 2),\n",
       " '*': (3, 0),\n",
       " 0: (3, 1),\n",
       " '#': (3, 2)}"
      ]
     },
     "execution_count": 167,
     "metadata": {},
     "output_type": "execute_result"
    }
   ],
   "source": [
    "key_dict = {1:(0,0),2:(0,1),3:(0,2),\n",
    "                4:(1,0),5:(1,1),6:(1,2),\n",
    "                7:(2,0),8:(2,1),9:(2,2),\n",
    "                '*':(3,0),0:(3,1),'#':(3,2)}\n",
    "key_dict"
   ]
  },
  {
   "cell_type": "code",
   "execution_count": 168,
   "metadata": {},
   "outputs": [
    {
     "data": {
      "text/plain": [
       "(0, 1)"
      ]
     },
     "execution_count": 168,
     "metadata": {},
     "output_type": "execute_result"
    }
   ],
   "source": [
    "key_dict[2]"
   ]
  },
  {
   "cell_type": "code",
   "execution_count": 170,
   "metadata": {},
   "outputs": [],
   "source": [
    "answer=' '\n",
    "left = [1,4,7]\n",
    "right = [3,6,9]\n",
    "lhand = '*'\n",
    "rhand= '#'\n",
    "for i in numbers:\n",
    "    if i in left:\n",
    "        answer += 'L'\n",
    "        lhand=i\n",
    "    elif i in right:\n",
    "        answer += 'R'\n",
    "        rhand=i"
   ]
  },
  {
   "cell_type": "code",
   "execution_count": null,
   "metadata": {},
   "outputs": [],
   "source": []
  },
  {
   "cell_type": "code",
   "execution_count": null,
   "metadata": {},
   "outputs": [],
   "source": []
  },
  {
   "cell_type": "code",
   "execution_count": null,
   "metadata": {},
   "outputs": [],
   "source": []
  }
 ],
 "metadata": {
  "kernelspec": {
   "display_name": "suhyun2",
   "language": "python",
   "name": "suhyun2"
  },
  "language_info": {
   "codemirror_mode": {
    "name": "ipython",
    "version": 3
   },
   "file_extension": ".py",
   "mimetype": "text/x-python",
   "name": "python",
   "nbconvert_exporter": "python",
   "pygments_lexer": "ipython3",
   "version": "3.6.8"
  }
 },
 "nbformat": 4,
 "nbformat_minor": 2
}
