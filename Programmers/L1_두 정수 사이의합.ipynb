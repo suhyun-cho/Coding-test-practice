{
 "cells": [
  {
   "cell_type": "markdown",
   "metadata": {},
   "source": [
    "## 두 정수 사이의 합\n",
    "\n",
    "#### 문제 설명\n",
    "두 정수 a,b가 주어졌을 때 a와 b사이에 속한 모든 정수의 합을 리턴하는 함수를 작성하시오. <br>\n",
    "예를 들어 a=3, b=5인 경우, 3+4+5=12 이므로 12를 리턴한다.\n",
    "<br>\n",
    "**제한조건**\n",
    "* a와 b가 같은 경우는 둘 중 아무 수나 리턴하세요.\n",
    "\n",
    "> a=3, b=5 , return=12 <br>\n",
    "> a=3, b=3, return=3 <br>\n",
    "> a=5, b=3, return 12"
   ]
  },
  {
   "cell_type": "code",
   "execution_count": 25,
   "metadata": {},
   "outputs": [
    {
     "name": "stdout",
     "output_type": "stream",
     "text": [
      "12\n"
     ]
    }
   ],
   "source": [
    "a=5\n",
    "b=3\n",
    "if a<=b:\n",
    "    print(sum([x for x in range(a,b+1)]))\n",
    "else:\n",
    "    print(sum([x for x in range(b,a+1)]))"
   ]
  },
  {
   "cell_type": "markdown",
   "metadata": {},
   "source": [
    "**수현's 풀이**"
   ]
  },
  {
   "cell_type": "code",
   "execution_count": 32,
   "metadata": {},
   "outputs": [],
   "source": [
    "def solution(a,b):\n",
    "    result=0\n",
    "    if a<=b:\n",
    "        result=sum([x for x in range(a,b+1)])\n",
    "    else:\n",
    "        result=sum([x for x in range(b,a+1)])\n",
    "    return result"
   ]
  },
  {
   "cell_type": "code",
   "execution_count": 33,
   "metadata": {},
   "outputs": [
    {
     "data": {
      "text/plain": [
       "12"
      ]
     },
     "execution_count": 33,
     "metadata": {},
     "output_type": "execute_result"
    }
   ],
   "source": [
    "# test\n",
    "solution(5,3)"
   ]
  },
  {
   "cell_type": "markdown",
   "metadata": {},
   "source": [
    "**다른사람 풀이(1)**\n",
    "* 값을 치환(?) 하는 방법"
   ]
  },
  {
   "cell_type": "code",
   "execution_count": 35,
   "metadata": {},
   "outputs": [
    {
     "name": "stdout",
     "output_type": "stream",
     "text": [
      "12\n"
     ]
    }
   ],
   "source": [
    "if a>b: \n",
    "    a,b=b,a\n",
    "    print(sum(range(a,b+1)))"
   ]
  },
  {
   "cell_type": "code",
   "execution_count": 42,
   "metadata": {},
   "outputs": [],
   "source": [
    "def adder(a,b):\n",
    "    if a>b:\n",
    "        a,b=b,a\n",
    "    return sum(range(a,b+1))"
   ]
  },
  {
   "cell_type": "code",
   "execution_count": 41,
   "metadata": {},
   "outputs": [
    {
     "data": {
      "text/plain": [
       "12"
      ]
     },
     "execution_count": 41,
     "metadata": {},
     "output_type": "execute_result"
    }
   ],
   "source": [
    "# for문 안쓰고 이렇게만해도 값 나옴.\n",
    "sum(range(3,6))"
   ]
  },
  {
   "cell_type": "markdown",
   "metadata": {},
   "source": [
    "**다름사람 풀이(2)**\n",
    "* a,b중 최소값을 시작범위로, 최대값을 끝범위로 지정."
   ]
  },
  {
   "cell_type": "code",
   "execution_count": 43,
   "metadata": {},
   "outputs": [
    {
     "data": {
      "text/plain": [
       "12"
      ]
     },
     "execution_count": 43,
     "metadata": {},
     "output_type": "execute_result"
    }
   ],
   "source": [
    "sum(range(min(a,b), max(a,b)+1))"
   ]
  },
  {
   "cell_type": "code",
   "execution_count": null,
   "metadata": {},
   "outputs": [],
   "source": []
  }
 ],
 "metadata": {
  "kernelspec": {
   "display_name": "suhyun2",
   "language": "python",
   "name": "suhyun2"
  },
  "language_info": {
   "codemirror_mode": {
    "name": "ipython",
    "version": 3
   },
   "file_extension": ".py",
   "mimetype": "text/x-python",
   "name": "python",
   "nbconvert_exporter": "python",
   "pygments_lexer": "ipython3",
   "version": "3.6.8"
  }
 },
 "nbformat": 4,
 "nbformat_minor": 2
}
