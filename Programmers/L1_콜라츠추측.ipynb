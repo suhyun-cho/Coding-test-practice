{
 "cells": [
  {
   "cell_type": "markdown",
   "metadata": {},
   "source": [
    "## 콜라츠 추측\n",
    "2020-09-29\n",
    "\n",
    "#### 문제설명\n",
    "1937년 Collatz란 사람에 의해 제기된 이 추측은, 주어진 수가 1이 될때까지 다음 작업을 반복하면, <br>\n",
    "모든 수를 1로 만들 수 있다는 추측입니다. 작업은 다음과 같습니다.<br>\n",
    "\n",
    "1-1. 입력된 수가 짝수라면 2로 나눕니다. <br>\n",
    "1-2. 입력된 수가 홀수라면 3을 곱하고 1을 더합니다.<br>\n",
    "2.결과로 나온 수에 같은 작업을 1이 될 때까지 반복합니다. <br>\n",
    "\n",
    "예를 들어, 입력된 수가 6이라면 6→3→10→5→16→8→4→2→1 이 되어 총 8번 만에 1이 됩니다. <br>위 작업을 몇 번이나 반복해야하는지 반환하는 함수, solution을 완성해 주세요.<br>\n",
    "단, 작업을 500번을 반복해도 1이 되지 않는다면 –1을 반환해 주세요."
   ]
  },
  {
   "cell_type": "code",
   "execution_count": 64,
   "metadata": {},
   "outputs": [
    {
     "name": "stdout",
     "output_type": "stream",
     "text": [
      "짝수 => 3\n",
      "홀수 => 10\n",
      "짝수 => 5\n",
      "홀수 => 16\n",
      "짝수 => 8\n",
      "짝수 => 4\n",
      "짝수 => 2\n",
      "짝수 => 1\n",
      "8\n"
     ]
    }
   ],
   "source": [
    "n=6\n",
    "cnt=0\n",
    "while n!=1:    # n이 1이 될때까지만 반복할거니까, n이 1이아닌경우만 반복.\n",
    "    if n%2==0:\n",
    "        n=n//2\n",
    "        print('짝수 =>',n)\n",
    "        cnt+=1\n",
    "    else:\n",
    "        n=n*3+1\n",
    "        print('홀수 =>',n)\n",
    "        cnt+=1\n",
    "print(cnt)"
   ]
  },
  {
   "cell_type": "code",
   "execution_count": 74,
   "metadata": {},
   "outputs": [
    {
     "name": "stdout",
     "output_type": "stream",
     "text": [
      "-1\n"
     ]
    }
   ],
   "source": [
    "n=626331\n",
    "cnt=0\n",
    "while n!=1:    # n이 1이 될때까지만 반복할거니까, n이 1이아닌경우만 반복.\n",
    "    if n%2==0:\n",
    "        n=n//2\n",
    "        cnt+=1\n",
    "    elif n%2!=0:\n",
    "        n=n*3+1\n",
    "        cnt+=1\n",
    "if cnt>500:\n",
    "    cnt=-1\n",
    "print(cnt)"
   ]
  },
  {
   "cell_type": "code",
   "execution_count": 76,
   "metadata": {},
   "outputs": [
    {
     "name": "stdout",
     "output_type": "stream",
     "text": [
      "-1\n"
     ]
    }
   ],
   "source": [
    "n=626331\n",
    "cnt=0\n",
    "while n!=1:   \n",
    "    if n%2==0:\n",
    "        n=n//2\n",
    "    elif n%2!=0:\n",
    "        n=n*3+1\n",
    "    cnt+=1     # cnt증가를 if,elif안에 안넣고 바깥으로 빼서 넣으면 한번만 넣으면됨.\n",
    "if cnt>500:\n",
    "    cnt=-1\n",
    "print(cnt)"
   ]
  },
  {
   "cell_type": "markdown",
   "metadata": {},
   "source": [
    "**수현's 풀이**"
   ]
  },
  {
   "cell_type": "code",
   "execution_count": 75,
   "metadata": {},
   "outputs": [],
   "source": [
    "def solution(num):\n",
    "    cnt=0\n",
    "    while n!=1:  \n",
    "        if n%2==0:\n",
    "            n=n//2\n",
    "            cnt+=1\n",
    "        elif n%2!=0:\n",
    "            n=n*3+1\n",
    "            cnt+=1\n",
    "    if cnt>500:\n",
    "        cnt=-1\n",
    "    return cnt"
   ]
  },
  {
   "cell_type": "markdown",
   "metadata": {},
   "source": [
    "----------------------------------------------------------------------\n",
    "## 평균 구하기\n",
    "\n",
    "#### 문제설명\n",
    "정수를 담고 있는 배열 arr의 평균값을 return하는 함수, solution을 완성해보세요."
   ]
  },
  {
   "cell_type": "code",
   "execution_count": 84,
   "metadata": {},
   "outputs": [
    {
     "data": {
      "text/plain": [
       "[5, 5]"
      ]
     },
     "execution_count": 84,
     "metadata": {},
     "output_type": "execute_result"
    }
   ],
   "source": [
    "#arr=[1,2,3,4]\n",
    "arr=[5,5]\n",
    "arr"
   ]
  },
  {
   "cell_type": "code",
   "execution_count": 87,
   "metadata": {},
   "outputs": [
    {
     "data": {
      "text/plain": [
       "5.0"
      ]
     },
     "execution_count": 87,
     "metadata": {},
     "output_type": "execute_result"
    }
   ],
   "source": [
    "sum(arr)/len(arr)"
   ]
  },
  {
   "cell_type": "code",
   "execution_count": 88,
   "metadata": {},
   "outputs": [],
   "source": [
    "def solution(arr):\n",
    "    return sum(arr)/len(arr)"
   ]
  },
  {
   "cell_type": "code",
   "execution_count": null,
   "metadata": {},
   "outputs": [],
   "source": []
  },
  {
   "cell_type": "code",
   "execution_count": null,
   "metadata": {},
   "outputs": [],
   "source": []
  }
 ],
 "metadata": {
  "kernelspec": {
   "display_name": "suhyun2",
   "language": "python",
   "name": "suhyun2"
  },
  "language_info": {
   "codemirror_mode": {
    "name": "ipython",
    "version": 3
   },
   "file_extension": ".py",
   "mimetype": "text/x-python",
   "name": "python",
   "nbconvert_exporter": "python",
   "pygments_lexer": "ipython3",
   "version": "3.6.8"
  }
 },
 "nbformat": 4,
 "nbformat_minor": 2
}
