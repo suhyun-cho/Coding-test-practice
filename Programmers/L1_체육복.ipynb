{
 "cells": [
  {
   "cell_type": "markdown",
   "metadata": {},
   "source": [
    "# 체육복\n",
    "https://programmers.co.kr/learn/courses/30/lessons/42862\n",
    "\n",
    "#### 문제 설명\n",
    "전체 학생의 수 n,<br>\n",
    "체육복을 도난당한 학생들의 번호가 담긴 배열 lost, <br>\n",
    "여벌의 체육복을 가져온 학생들의 번호가 담긴 배열 reserver가 매개변수로 주어질 때, <Br>\n",
    "체육수업을 들을 수 있는 학생의 최댓값을 return하도록 solution함수를 작성하시오.\n",
    "    \n",
    "단, 학생들의 번호는 체격 순으로 매겨져 있어, 바로 앞번호의 학생이나 바로 뒷번호의 학생에게만 체육복을 빌려줄 수 있습니다. 예를 들어, 4번 학생은 3번 학생이나 5번 학생에게만 체육복을 빌려줄 수 있습니다. "
   ]
  },
  {
   "cell_type": "markdown",
   "metadata": {},
   "source": [
    "#### 예시 \n",
    "n=5 <br>\n",
    "lost=[2,4] <br>\n",
    "reserve=[1,3,5] <br>\n",
    "return =5 <br>\n",
    "\n",
    "n=3 <br>\n",
    "lost=[3] <br>\n",
    "reserve=[1]  <br>\n",
    "*  (이경우, 1은 3에게 체육복을 빌려줄수없음.  <br>\n",
    "\n",
    "return =2"
   ]
  },
  {
   "cell_type": "markdown",
   "metadata": {},
   "source": [
    "--------------\n",
    "**나의풀이** (실패ㅠㅠ) \n",
    "* 여유분을 가지고있는 사람이 도난당할 경우를 고려하지 못함\n",
    "* 리스트의 값을 조건에 따라 제거하는 remove() 를 고려하지 못함"
   ]
  },
  {
   "cell_type": "code",
   "execution_count": 70,
   "metadata": {},
   "outputs": [
    {
     "name": "stdout",
     "output_type": "stream",
     "text": [
      "6\n"
     ]
    }
   ],
   "source": [
    "# 내가 푼 잘못된 풀이\n",
    "list=[]\n",
    "for i in range(0,min(len(lost), len(reserve))):   # i=0,1\n",
    "    diff=(abs(sorted(lost)[i]-sorted(reserve)[i])) \n",
    "    if diff==1:\n",
    "        list.append(diff)    # list=[1,1]\n",
    "        result=n-len(lost)+sum(list)\n",
    "    else:\n",
    "        result=n-len(lost)\n",
    "print(result)"
   ]
  },
  {
   "cell_type": "markdown",
   "metadata": {},
   "source": [
    "---------------------------------------------------------------------------------\n",
    "### 다른사람 정답풀이 [1]\n",
    "* set함수 사용=> lost와 reserve에 중복값이 있는경우 제거 \n",
    "* remove 사용 => reserve에서 값을 하나씩 뽑아서 reserve-1값이 lost에 있으면 lost에서 해당값 삭제\n",
    "    * 없으면 reserve+1값이 lost에 있는지 확인하고 있으면 lost에서 해당값 삭제\n",
    "* 최종결과 => n - lost에 남아있는 개수\n"
   ]
  },
  {
   "cell_type": "code",
   "execution_count": 69,
   "metadata": {},
   "outputs": [
    {
     "name": "stdout",
     "output_type": "stream",
     "text": [
      "set_lost_plus=> {4, 6}\n",
      "set_lost_plus=> {6}\n",
      "set_lost_minus=> set()\n",
      "6\n"
     ]
    }
   ],
   "source": [
    "n=6\n",
    "lost=[2,4,6]  \n",
    "reserve=[1,3,7]   \n",
    "\n",
    "# 중복이 있을 경우 제외\n",
    "set_reserve=set(reserve)-set(lost)\n",
    "set_lost=set(lost)-set(reserve)\n",
    "#print('set_reserve',set_reserve)\n",
    "#print('set_lost =',set_lost)\n",
    "\n",
    "for i in set_reserve:  # i=1,3,7\n",
    "    if i-1 in set_lost:   # i-1 = 0,2,6\n",
    "        set_lost.remove(i-1)   \n",
    "        print('set_lost_minus=>',set_lost)\n",
    "    elif i+1 in set_lost:  # i+1 = 2,4,6\n",
    "        set_lost.remove(i+1)   # i+1=2일때 제거, i+1=4일때 제거\n",
    "        print('set_lost_plus=>',set_lost)\n",
    "print(n-len(set_lost))\n"
   ]
  },
  {
   "cell_type": "markdown",
   "metadata": {},
   "source": [
    "\n",
    "**최종함수**"
   ]
  },
  {
   "cell_type": "code",
   "execution_count": 53,
   "metadata": {},
   "outputs": [],
   "source": [
    "def solution(n,lost,reserve):\n",
    "    set_reserve=set(reserve)-set(lost)\n",
    "    set_lost=set(lost)-set(reserve)\n",
    "    \n",
    "    for i in set_reserve:  # i=1,3,7\n",
    "        if i-1 in set_lost:   # i-1 = 0,2,6\n",
    "            set_lost.remove(i-1)   \n",
    "        elif i+1 in set_lost:  # i+1 = 2,4,6\n",
    "            set_lost.remove(i+1)   # i+1=2일때 제거, i+1=4일때 제거\n",
    "    return n-len(set_lost)"
   ]
  },
  {
   "cell_type": "markdown",
   "metadata": {},
   "source": [
    "---------------------------------------------------------------------------------\n",
    "### 다른사람 정답풀이 [2]\n",
    "* 위의 [1] 풀이와 거의 유사함\n",
    "* for문과 if문을 한줄로 작성한것이 특이사항."
   ]
  },
  {
   "cell_type": "code",
   "execution_count": 64,
   "metadata": {},
   "outputs": [
    {
     "name": "stdout",
     "output_type": "stream",
     "text": [
      "5\n"
     ]
    }
   ],
   "source": [
    "n=5\n",
    "lost=[2,4]\n",
    "reserve=[1,2,3,5]\n",
    "\n",
    "# for, if문을 한줄로 \n",
    "### 중복 제거\n",
    "_reserve=[r for r in reserve if r not in lost]  # [1,3,5]\n",
    "_lost=[l for l in lost if l not in reserve]  # [4]\n",
    "\n",
    "for r in _reserve:\n",
    "    f=r-1   # f = 0,2,4\n",
    "    b=r+1   # b = 2,4,6\n",
    "    if f in _lost:\n",
    "        _lost.remove(f)\n",
    "    elif b in _lost:\n",
    "        _lost.remove(b)\n",
    "print(n-len(_lost))"
   ]
  },
  {
   "cell_type": "code",
   "execution_count": null,
   "metadata": {},
   "outputs": [],
   "source": []
  },
  {
   "cell_type": "code",
   "execution_count": null,
   "metadata": {},
   "outputs": [],
   "source": []
  },
  {
   "cell_type": "code",
   "execution_count": null,
   "metadata": {},
   "outputs": [],
   "source": []
  }
 ],
 "metadata": {
  "kernelspec": {
   "display_name": "suhyun2",
   "language": "python",
   "name": "suhyun2"
  },
  "language_info": {
   "codemirror_mode": {
    "name": "ipython",
    "version": 3
   },
   "file_extension": ".py",
   "mimetype": "text/x-python",
   "name": "python",
   "nbconvert_exporter": "python",
   "pygments_lexer": "ipython3",
   "version": "3.6.8"
  }
 },
 "nbformat": 4,
 "nbformat_minor": 2
}
