{
 "cells": [
  {
   "cell_type": "markdown",
   "metadata": {},
   "source": [
    "## 소수 찾기\n",
    "2020-09-16\n",
    "\n",
    "#### 문제 설명 \n",
    "1부터 입력받은 숫자 n 사이에 있는 소수의 개수를 반환하는 함수, solution을 만들어 보세요.<br>\n",
    "소수는 1과 자기 자신으로만 나누어지는 수를 의미합니다.<br>\n",
    "(1은 소수가 아닙니다.)\n",
    "\n",
    "> n = 10 <br>\n",
    "> result = 4 (2, 3, 5, 7 총 4개)\n",
    "\n",
    "> n=5 <br>\n",
    "> result= 3 (2, 3, 5 총 3개)"
   ]
  },
  {
   "cell_type": "code",
   "execution_count": 6,
   "metadata": {},
   "outputs": [
    {
     "data": {
      "text/plain": [
       "[1, 2, 3, 4, 5]"
      ]
     },
     "execution_count": 6,
     "metadata": {},
     "output_type": "execute_result"
    }
   ],
   "source": [
    "n=5\n",
    "a=[i for i in range(1,n+1)]\n",
    "a"
   ]
  },
  {
   "cell_type": "code",
   "execution_count": 13,
   "metadata": {},
   "outputs": [
    {
     "data": {
      "text/plain": [
       "0"
      ]
     },
     "execution_count": 13,
     "metadata": {},
     "output_type": "execute_result"
    }
   ],
   "source": [
    "2%2,3,4,5,6,7,8,9 \n",
    "3%2,3,4,5,6,7,8,9\n",
    "4%2,3,4,5,6,7,8,9"
   ]
  },
  {
   "cell_type": "code",
   "execution_count": 117,
   "metadata": {},
   "outputs": [
    {
     "name": "stdout",
     "output_type": "stream",
     "text": [
      "3\n",
      "5\n",
      "7\n",
      "9\n",
      "11\n"
     ]
    }
   ],
   "source": [
    "for i in range(2,n+1):  # i = 2~5\n",
    "    if i%2!=0:\n",
    "        print(i)"
   ]
  },
  {
   "cell_type": "code",
   "execution_count": 124,
   "metadata": {},
   "outputs": [
    {
     "name": "stdout",
     "output_type": "stream",
     "text": [
      "i= 3\n",
      "m =  3\n",
      "i= 5\n",
      "m =  5\n",
      "i= 7\n",
      "m =  7\n",
      "i= 9\n",
      "m =  3\n",
      "i= 9\n",
      "m =  9\n",
      "i= 11\n",
      "m =  11\n",
      "mylist= [3, 5, 7, 9, 9, 11]\n",
      "num_list= Counter({9: 2, 3: 1, 5: 1, 7: 1, 11: 1})\n",
      "num= [3, 5, 7, 11]\n",
      "len_num= 5\n"
     ]
    }
   ],
   "source": [
    "# 1과 자기 자신만 2~9로 나누었을때 나머지가 0인경우의 개수만 카운트.\n",
    "# 2=> 2,3,4,5,6,7,8,9 => 2\n",
    "# 3 => 2,3,4,5,6,7,8,9 => 3\n",
    "# 4 => 2,3,4,5,6,7,8,9 => 2,4\n",
    "# 5 => 2,3,4,5,6,7,8,9 => 5\n",
    "from collections import Counter\n",
    "\n",
    "n=11  # 11이넘어가면, 자기자신이 없어서 append가 안되므로 m의 범위는 n+1까지로수정.\n",
    "mylist=[]\n",
    "for i in range(2,n+1):  # i = 2~n\n",
    "    if i%2!=0:\n",
    "        for m in range(2,n+1):   # m=2~n  # 홀수로만 나눠도됨\n",
    "            if  i%m ==0 :\n",
    "                print('i=',i)\n",
    "                print('m = ',m)\n",
    "                mylist.append(i)\n",
    "print('mylist=',mylist)\n",
    "num_list=Counter(mylist)\n",
    "print('num_list=', num_list)\n",
    "num=[x for x in num_list if num_list[x]==1]\n",
    "print('num=',num)\n",
    "print('len_num=', len(num)+1)"
   ]
  },
  {
   "cell_type": "code",
   "execution_count": 107,
   "metadata": {},
   "outputs": [
    {
     "name": "stdout",
     "output_type": "stream",
     "text": [
      "num_list= Counter({6: 3, 8: 3, 10: 3, 4: 2, 9: 2, 2: 1, 3: 1, 5: 1, 7: 1, 11: 1})\n"
     ]
    },
    {
     "data": {
      "text/plain": [
       "[2, 3, 5, 7, 11]"
      ]
     },
     "execution_count": 107,
     "metadata": {},
     "output_type": "execute_result"
    }
   ],
   "source": [
    "# value가 1인 key값의 개수를 카운트.=> [2,3,5,7,11] => 5개\n",
    "num_list=Counter(mylist)\n",
    "print('num_list=',num_list)\n",
    "num=[x for x in num_list if num_list[x]==1]\n",
    "num"
   ]
  },
  {
   "cell_type": "code",
   "execution_count": 97,
   "metadata": {},
   "outputs": [
    {
     "data": {
      "text/plain": [
       "3"
      ]
     },
     "execution_count": 97,
     "metadata": {},
     "output_type": "execute_result"
    }
   ],
   "source": [
    "# 완성\n",
    "from collections import Counter\n",
    "\n",
    "n=5\n",
    "mylist=[]\n",
    "for i in range(2,n+1):  # i = 2~5\n",
    "    for m in range(2,n+1):   # m=2~9\n",
    "        if  i%m ==0:\n",
    "            mylist.append(i)\n",
    "num_list=Counter(mylist)\n",
    "result=[x for x in num_list if num_list[x]==1]\n",
    "result=len(result)\n",
    "result"
   ]
  },
  {
   "cell_type": "code",
   "execution_count": 11,
   "metadata": {},
   "outputs": [
    {
     "name": "stdout",
     "output_type": "stream",
     "text": [
      "mylist = [3, 5, 7, 9, 9, 11]\n",
      "Counter({9: 2, 3: 1, 5: 1, 7: 1, 11: 1})\n",
      "5\n"
     ]
    }
   ],
   "source": [
    "######## 홀수로만 나누도록 수정\n",
    "n=11  \n",
    "mylist=[]\n",
    "\n",
    "for i in range(2,n+1):  # i = 2~n\n",
    "    if i%2!=0:\n",
    "        for m in range(2,n+1):   # m=2~n  # 홀수로만 나눠도됨\n",
    "            if m%2 !=0 and  i%m ==0 :\n",
    "                mylist.append(i)\n",
    "num_list=Counter(mylist)\n",
    "result=len([x for x in num_list if num_list[x]==1])+1   # 2포함해야되서 1더함.\n",
    "print('mylist =',mylist)\n",
    "print(num_list)\n",
    "print(result)"
   ]
  },
  {
   "cell_type": "markdown",
   "metadata": {},
   "source": [
    "**수현's 풀이(1)** => test-case는 통과했지만 시간초과"
   ]
  },
  {
   "cell_type": "code",
   "execution_count": 127,
   "metadata": {},
   "outputs": [],
   "source": [
    "from collections import Counter\n",
    "def solution(n):\n",
    "    mylist=[]\n",
    "    for i in range(2,n+1):  # i = 2~5\n",
    "        if i%2!=0:   # 시간초과 줄이려고 홀수만 아래 for문돌렸지만..그래도 시간초과...\n",
    "            for m in range(2,n+1):   # m=2~9\n",
    "                if  i%m ==0:\n",
    "                    mylist.append(i)\n",
    "        num_list=Counter(mylist)\n",
    "        result=len([x for x in num_list if num_list[x]==1])+1\n",
    "    return result"
   ]
  },
  {
   "cell_type": "code",
   "execution_count": 129,
   "metadata": {},
   "outputs": [
    {
     "data": {
      "text/plain": [
       "4"
      ]
     },
     "execution_count": 129,
     "metadata": {},
     "output_type": "execute_result"
    }
   ],
   "source": [
    "solution(10)"
   ]
  },
  {
   "cell_type": "code",
   "execution_count": 12,
   "metadata": {},
   "outputs": [],
   "source": [
    "######## 홀수로만 나누도록 수정 ===> 시간초과 ㅜㅜ\n",
    "from collections import Counter\n",
    "def solution(n):\n",
    "    mylist=[]\n",
    "    for i in range(2,n+1):  # i = 2~n\n",
    "        if i%2!=0:\n",
    "            for m in range(2,n+1):   # m=2~n  # 홀수로만 나눠도됨\n",
    "                if m%2 !=0 and  i%m ==0 :\n",
    "                    mylist.append(i)\n",
    "    num_list=Counter(mylist)\n",
    "    result=len([x for x in num_list if num_list[x]==1])+1   # 2포함해야되서 1더함.\n",
    "    return result"
   ]
  },
  {
   "cell_type": "code",
   "execution_count": 15,
   "metadata": {},
   "outputs": [
    {
     "data": {
      "text/plain": [
       "4"
      ]
     },
     "execution_count": 15,
     "metadata": {},
     "output_type": "execute_result"
    }
   ],
   "source": [
    "solution(10)"
   ]
  },
  {
   "cell_type": "markdown",
   "metadata": {},
   "source": [
    "------------------------------------------------------------\n",
    "**다른사람 풀이(1)**\n",
    "* 에라토스테네스의 체(Sieve of Eratosthenes)\n",
    "    * set() 을 활용해서 하나씩 빼주는 방식\n",
    "    \n",
    "> 1. 1은제거\n",
    "> 2. 지워지지 않은 수 중 제일 작은 2를 소수로 채택하고, 나머지 2의배수를 모두 지운다.\n",
    "> 3. 지워지지 않은 수 중 제일 작은 3을 소수로 채택하고, 나머지 3의배수를 모두 지운다.\n",
    "> 4. 지워지지 않은 수 중 제일 작은 5를 소수로 채택하고, 나머지 5의배수를 모두 지운다.\n",
    "> 5. 반복"
   ]
  },
  {
   "cell_type": "code",
   "execution_count": 34,
   "metadata": {},
   "outputs": [
    {
     "name": "stdout",
     "output_type": "stream",
     "text": [
      "num= {2, 3, 4, 5, 6, 7, 8, 9, 10, 11, 12, 13, 14, 15}\n",
      "i= 2\n",
      "num= {2, 3, 5, 7, 9, 11, 13, 15}\n",
      "i= 3\n",
      "num= {2, 3, 5, 7, 11, 13}\n",
      "i= 5\n",
      "num= {2, 3, 5, 7, 11, 13}\n",
      "i= 7\n",
      "num= {2, 3, 5, 7, 11, 13}\n",
      "i= 11\n",
      "num= {2, 3, 5, 7, 11, 13}\n",
      "i= 13\n",
      "num= {2, 3, 5, 7, 11, 13}\n"
     ]
    }
   ],
   "source": [
    "n=15\n",
    "num=set(range(2,n+1))  # num=2~11\n",
    "print('num=',num)\n",
    "for i in range(2,n+1):  # i=2~11\n",
    "    if i in num:\n",
    "        print('i=',i)\n",
    "        num=num-set(range(2*i, n+1,i))  #2는남기고 2의배수 제거 (num=4,6,8,10제거 )\n",
    "                                                            #3은 남기고 3의배수 제거 (num=9제거)\n",
    "                                                            #4는 num에서빠졌으니 제외\n",
    "                                                            #5는 남기고 5의배수제거 (num에 5의배수는이미빠짐)\n",
    "        print('num=',num)"
   ]
  },
  {
   "cell_type": "code",
   "execution_count": 35,
   "metadata": {},
   "outputs": [],
   "source": [
    "def solution(n):\n",
    "    num=set(range(2,n+1))\n",
    "    \n",
    "    for i in range(2, n+1):\n",
    "        if i in num:\n",
    "            num-=set(range(2*i,n+1,i))\n",
    "    return len(num)"
   ]
  },
  {
   "cell_type": "code",
   "execution_count": null,
   "metadata": {},
   "outputs": [],
   "source": []
  },
  {
   "cell_type": "code",
   "execution_count": null,
   "metadata": {},
   "outputs": [],
   "source": []
  }
 ],
 "metadata": {
  "kernelspec": {
   "display_name": "suhyun2",
   "language": "python",
   "name": "suhyun2"
  },
  "language_info": {
   "codemirror_mode": {
    "name": "ipython",
    "version": 3
   },
   "file_extension": ".py",
   "mimetype": "text/x-python",
   "name": "python",
   "nbconvert_exporter": "python",
   "pygments_lexer": "ipython3",
   "version": "3.6.8"
  }
 },
 "nbformat": 4,
 "nbformat_minor": 2
}
