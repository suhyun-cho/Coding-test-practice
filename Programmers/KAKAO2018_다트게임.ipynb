{
 "cells": [
  {
   "cell_type": "markdown",
   "metadata": {},
   "source": [
    "## KAKAO2018_다트게임\n",
    "2020-10-08\n",
    "\n",
    "#### 문제 설명\n",
    "\n",
    "1. 다트 게임은 총 3번의 기회로 구성된다.\n",
    "2. 각 기회마다 얻을 수 있는 점수는 0점에서 10점까지이다.\n",
    "3. 점수와 함께 Single(S), Double(D), Triple(T) 영역이 존재하고 각 영역 당첨 시 점수에서 1제곱, 2제곱, 3제곱 (점수1 , 점수2 , 점수3 )으로 계산된다.\n",
    "4. 옵션으로 스타상(*) , 아차상(#)이 존재하며 스타상(*) 당첨 시 해당 점수와 바로 전에 얻은 점수를 각 2배로 만든다. 아차상(#) 당첨 시 해당 점수는 마이너스된다.\n",
    "5. 스타상(*)은 첫 번째 기회에서도 나올 수 있다. 이 경우 첫 번째 스타상(*)의 점수만 2배가 된다. (예제 4번 참고)\n",
    "6. 스타상(*)의 효과는 다른 스타상(*)의 효과와 중첩될 수 있다. 이 경우 중첩된 스타상(*) 점수는 4배가 된다. (예제 4번 참고)\n",
    "7. 스타상(*)의 효과는 아차상(#)의 효과와 중첩될 수 있다. 이 경우 중첩된 아차상(#)의 점수는 -2배가 된다. (예제 5번 참고)\n",
    "8. Single(S), Double(D), Triple(T)은 점수마다 하나씩 존재한다.\n",
    "9. 스타상(*), 아차상(#)은 점수마다 둘 중 하나만 존재할 수 있으며, 존재하지 않을 수도 있다."
   ]
  },
  {
   "cell_type": "markdown",
   "metadata": {},
   "source": [
    "> 예시\n",
    "* 1S2D3T 일경우 => 1^1 + 2^2 + 3^3 = 1 +4+27 = 32"
   ]
  },
  {
   "cell_type": "code",
   "execution_count": 16,
   "metadata": {},
   "outputs": [
    {
     "data": {
      "text/plain": [
       "'1S2D*3T'"
      ]
     },
     "execution_count": 16,
     "metadata": {},
     "output_type": "execute_result"
    }
   ],
   "source": [
    "dartResult='1S2D*3T'\n",
    "dartResult"
   ]
  },
  {
   "cell_type": "code",
   "execution_count": 17,
   "metadata": {},
   "outputs": [
    {
     "data": {
      "text/plain": [
       "['1', 'S', '2', 'D', '*', '3', 'T']"
      ]
     },
     "execution_count": 17,
     "metadata": {},
     "output_type": "execute_result"
    }
   ],
   "source": [
    "dart_list=[x for x in dartResult]\n",
    "dart_list"
   ]
  },
  {
   "cell_type": "code",
   "execution_count": 21,
   "metadata": {},
   "outputs": [
    {
     "name": "stdout",
     "output_type": "stream",
     "text": [
      "True\n",
      "False\n",
      "True\n",
      "False\n",
      "False\n",
      "True\n",
      "False\n"
     ]
    }
   ],
   "source": [
    "# isdigit() => 문자열이 숫자인지 문자인지체크.\n",
    "for i in range(len(dart_list)):\n",
    "    print(dart_list[i].isdigit())"
   ]
  },
  {
   "cell_type": "markdown",
   "metadata": {},
   "source": [
    "**스타상(*) 이나 아차상(#) 이 없을 경우**"
   ]
  },
  {
   "cell_type": "code",
   "execution_count": 28,
   "metadata": {},
   "outputs": [
    {
     "name": "stdout",
     "output_type": "stream",
     "text": [
      "dart_list=> S\n",
      "answer=> 1\n",
      "dart_list=> D\n",
      "answer=> 4\n",
      "dart_list=> T\n",
      "answer=> 27\n",
      "mylist=> [1, 4, 27]\n"
     ]
    }
   ],
   "source": [
    "# 스타상(*) 이나 아차상(#) 이 없을 경우\n",
    "mylist=[]\n",
    "dart_list=[x for x in dartResult]\n",
    "for i in range(len(dart_list)):\n",
    "    if dart_list[i]=='S':\n",
    "        answer=int(dart_list[i-1])**1\n",
    "        mylist.append(answer)\n",
    "        print('dart_list=>',dart_list[i])\n",
    "        print('answer=>',answer)\n",
    "    elif dart_list[i]=='D':\n",
    "        answer=int(dart_list[i-1])**2\n",
    "        mylist.append(answer)\n",
    "        print('dart_list=>',dart_list[i])\n",
    "        print('answer=>',answer)\n",
    "    elif dart_list[i]=='T':\n",
    "        answer=int(dart_list[i-1])**3\n",
    "        mylist.append(answer)\n",
    "        print('dart_list=>',dart_list[i])\n",
    "        print('answer=>',answer)\n",
    "print('mylist=>',mylist)"
   ]
  },
  {
   "cell_type": "code",
   "execution_count": 32,
   "metadata": {},
   "outputs": [
    {
     "ename": "IndexError",
     "evalue": "list index out of range",
     "output_type": "error",
     "traceback": [
      "\u001b[0;31m---------------------------------------------------------------------------\u001b[0m",
      "\u001b[0;31mIndexError\u001b[0m                                Traceback (most recent call last)",
      "\u001b[0;32m<ipython-input-32-3acf6ff7c616>\u001b[0m in \u001b[0;36m<module>\u001b[0;34m\u001b[0m\n\u001b[1;32m     14\u001b[0m         \u001b[0mmylist\u001b[0m\u001b[0;34m.\u001b[0m\u001b[0mappend\u001b[0m\u001b[0;34m(\u001b[0m\u001b[0manswer\u001b[0m\u001b[0;34m)\u001b[0m\u001b[0;34m\u001b[0m\u001b[0;34m\u001b[0m\u001b[0m\n\u001b[1;32m     15\u001b[0m     \u001b[0;32melif\u001b[0m \u001b[0mdart_list\u001b[0m\u001b[0;34m[\u001b[0m\u001b[0mi\u001b[0m\u001b[0;34m]\u001b[0m\u001b[0;34m==\u001b[0m\u001b[0;34m'*'\u001b[0m\u001b[0;34m:\u001b[0m\u001b[0;34m\u001b[0m\u001b[0;34m\u001b[0m\u001b[0m\n\u001b[0;32m---> 16\u001b[0;31m         \u001b[0manswer_new\u001b[0m\u001b[0;34m=\u001b[0m\u001b[0mint\u001b[0m\u001b[0;34m(\u001b[0m\u001b[0mmylist\u001b[0m\u001b[0;34m[\u001b[0m\u001b[0mi\u001b[0m\u001b[0;34m]\u001b[0m\u001b[0;34m)\u001b[0m\u001b[0;34m*\u001b[0m\u001b[0;36m2\u001b[0m \u001b[0;34m+\u001b[0m \u001b[0mint\u001b[0m\u001b[0;34m(\u001b[0m\u001b[0mmylist\u001b[0m\u001b[0;34m[\u001b[0m\u001b[0mi\u001b[0m\u001b[0;34m-\u001b[0m\u001b[0;36m1\u001b[0m\u001b[0;34m]\u001b[0m\u001b[0;34m)\u001b[0m\u001b[0;34m*\u001b[0m\u001b[0;36m2\u001b[0m\u001b[0;34m\u001b[0m\u001b[0;34m\u001b[0m\u001b[0m\n\u001b[0m\u001b[1;32m     17\u001b[0m         \u001b[0mmylist_new\u001b[0m\u001b[0;34m.\u001b[0m\u001b[0mappend\u001b[0m\u001b[0;34m(\u001b[0m\u001b[0manswer_new\u001b[0m\u001b[0;34m)\u001b[0m\u001b[0;34m\u001b[0m\u001b[0;34m\u001b[0m\u001b[0m\n\u001b[1;32m     18\u001b[0m \u001b[0mprint\u001b[0m\u001b[0;34m(\u001b[0m\u001b[0mmylist\u001b[0m\u001b[0;34m)\u001b[0m\u001b[0;34m\u001b[0m\u001b[0;34m\u001b[0m\u001b[0m\n",
      "\u001b[0;31mIndexError\u001b[0m: list index out of range"
     ]
    }
   ],
   "source": [
    "# 스타상 있을 경우\n",
    "mylist=[]\n",
    "mylist_new=[]\n",
    "dart_list=[x for x in dartResult]\n",
    "for i in range(len(dart_list)):\n",
    "    if dart_list[i]=='S':\n",
    "        answer=int(dart_list[i-1])**1\n",
    "        mylist.append(answer)\n",
    "    elif dart_list[i]=='D':\n",
    "        answer=int(dart_list[i-1])**2\n",
    "        mylist.append(answer)\n",
    "    elif dart_list[i]=='T':\n",
    "        answer=int(dart_list[i-1])**3\n",
    "        mylist.append(answer)\n",
    "    elif dart_list[i]=='*':\n",
    "        answer_new=int(mylist[i])*2 + int(mylist[i-1])*2\n",
    "        mylist_new.append(answer_new)\n",
    "print(mylist)\n",
    "print(mylist_new)"
   ]
  },
  {
   "cell_type": "code",
   "execution_count": 46,
   "metadata": {},
   "outputs": [
    {
     "name": "stdout",
     "output_type": "stream",
     "text": [
      "['1', 'S', '2', 'D', '*', '3', 'T']\n",
      "[1, 2, 3]\n",
      "['S', 'D', '*', 'T']\n"
     ]
    }
   ],
   "source": [
    "dart_list=[x for x in dartResult]\n",
    "print(dart_list)\n",
    "\n",
    "num_list=[]\n",
    "str_list=[]\n",
    "for i in range(len(dart_list)):\n",
    "    if dart_list[i].isdigit()==True:\n",
    "        num_list.append(int(dart_list[i]))\n",
    "    else:\n",
    "        str_list.append(dart_list[i])\n",
    "print(num_list)\n",
    "print(str_list)"
   ]
  },
  {
   "cell_type": "code",
   "execution_count": 60,
   "metadata": {},
   "outputs": [
    {
     "data": {
      "text/plain": [
       "[1, 2]"
      ]
     },
     "execution_count": 60,
     "metadata": {},
     "output_type": "execute_result"
    }
   ],
   "source": [
    "num_list[:2]"
   ]
  },
  {
   "cell_type": "code",
   "execution_count": 61,
   "metadata": {},
   "outputs": [
    {
     "data": {
      "text/plain": [
       "[2, 4]"
      ]
     },
     "execution_count": 61,
     "metadata": {},
     "output_type": "execute_result"
    }
   ],
   "source": [
    "# 리스트 값을 각각 2배\n",
    "[x*2 for x in num_list[:2]]"
   ]
  },
  {
   "cell_type": "code",
   "execution_count": 66,
   "metadata": {},
   "outputs": [
    {
     "data": {
      "text/plain": [
       "'1S2D*3T#'"
      ]
     },
     "execution_count": 66,
     "metadata": {},
     "output_type": "execute_result"
    }
   ],
   "source": [
    "# 이경우 숫자 => 1^1*2 + 2^2*2 + 3^3*(-1)\n",
    "dartResult='1S2D*3T#'\n",
    "dartResult"
   ]
  },
  {
   "cell_type": "code",
   "execution_count": 67,
   "metadata": {},
   "outputs": [
    {
     "data": {
      "text/plain": [
       "['1', 'S', '2', 'D', '*', '3', 'T', '#']"
      ]
     },
     "execution_count": 67,
     "metadata": {},
     "output_type": "execute_result"
    }
   ],
   "source": [
    "dart_list=[x for x in '1S2D*3T#']\n",
    "dart_list"
   ]
  },
  {
   "cell_type": "code",
   "execution_count": 78,
   "metadata": {},
   "outputs": [
    {
     "name": "stdout",
     "output_type": "stream",
     "text": [
      "S\n",
      "[1]\n",
      "D\n",
      "[1, 4]\n",
      "T\n",
      "[1, 4, 27]\n",
      "최종 mylist=> [1, 4, 27]\n"
     ]
    }
   ],
   "source": [
    "num_list=[]\n",
    "str_list=[]\n",
    "# for i in range(len(dart_list)):\n",
    "#     if dart_list[i].isdigit()==True:\n",
    "#         num_list.append(int(dart_list[i]))\n",
    "#     else:\n",
    "#         str_list.append(dart_list[i])\n",
    "for i in range(len(dart_list)):\n",
    "    if dart_list[i].isdigit()==True:\n",
    "        num_list.append(int(dart_list[i]))\n",
    "    elif dart_list[i].isdigit()==False and '*' not in dart_list[i] and '#' not in dart_list[i]:\n",
    "        str_list.append(dart_list[i])\n",
    "\n",
    "mylist=[]\n",
    "answer=0\n",
    "for j in range(len(str_list)):  # j=0,1,2,3\n",
    "    if str_list[j]=='S':\n",
    "        answer=num_list[j]**1\n",
    "        mylist.append(answer)\n",
    "        print(str_list[j])\n",
    "        print(mylist)\n",
    "    elif str_list[j]=='D':\n",
    "        answer=num_list[j]**2\n",
    "        mylist.append(answer)\n",
    "        print(str_list[j])\n",
    "        print(mylist)\n",
    "    elif str_list[j]=='T':\n",
    "        answer=num_list[j]**3\n",
    "        mylist.append(answer)\n",
    "        print(str_list[j])\n",
    "        print(mylist)\n",
    "    elif dart_list[j]=='*':\n",
    "        mylist=[x*2 for x in mylist[:j]]\n",
    "        print(str_list[j])\n",
    "        print(mylist)\n",
    "print('최종 mylist=>',mylist)"
   ]
  },
  {
   "cell_type": "code",
   "execution_count": 77,
   "metadata": {},
   "outputs": [
    {
     "name": "stdout",
     "output_type": "stream",
     "text": [
      "dart_list => ['1', 'S', '2', 'D', '*', '3', 'T', '#']\n",
      "num_list=> [1, 2, 3]\n",
      "str_list=> ['S', 'D', 'T']\n"
     ]
    }
   ],
   "source": [
    "dart_list=[x for x in dartResult]\n",
    "print('dart_list =>',dart_list)\n",
    "\n",
    "num_list=[]\n",
    "str_list=[]\n",
    "for i in range(len(dart_list)):\n",
    "    if dart_list[i].isdigit()==True:\n",
    "        num_list.append(int(dart_list[i]))\n",
    "    elif dart_list[i].isdigit()==False and '*' not in dart_list[i] and '#' not in dart_list[i]:\n",
    "        str_list.append(dart_list[i])\n",
    "print('num_list=>',num_list)\n",
    "print('str_list=>',str_list)"
   ]
  },
  {
   "cell_type": "code",
   "execution_count": 224,
   "metadata": {},
   "outputs": [
    {
     "name": "stdout",
     "output_type": "stream",
     "text": [
      "dart_list=> ['1', 'D', '2', 'S', '#', '1', '0', 'S']\n",
      "D\n",
      "mylist=> [1]\n",
      "S\n",
      "mylist=> [1, 2]\n",
      "#\n",
      "mylist=> [1, -2]\n",
      "S\n",
      "mylist=> [1, -2, 0]\n",
      "최종mylist----------------------> [1, -2, 0]\n",
      "mylist합계-------> -1\n"
     ]
    }
   ],
   "source": [
    "dartResult='1D2S#10S'\n",
    "dart_list=[x for x in dartResult]   # 두자리수인경우 한자리로 인식함...\n",
    "print('dart_list=>',dart_list)\n",
    "\n",
    "mylist=[]\n",
    "answer=0\n",
    "for j in range(len(dart_list)):  # j=0,1,2,3,4\n",
    "    if dart_list[j]=='S':\n",
    "        print(dart_list[j])\n",
    "        answer=int(dart_list[j-1])**1\n",
    "        mylist.append(answer)\n",
    "        print('mylist=>',mylist)\n",
    "    elif dart_list[j]=='D':\n",
    "        print(dart_list[j])\n",
    "        answer=int(dart_list[j-1])**2\n",
    "        mylist.append(answer)\n",
    "        print('mylist=>',mylist)\n",
    "    elif dart_list[j]=='T':\n",
    "        print(dart_list[j])\n",
    "        answer=int(dart_list[j-1])**3\n",
    "        mylist.append(answer)\n",
    "        print('mylist=>',mylist)\n",
    "    elif dart_list[j]=='*':\n",
    "        print(dart_list[j])\n",
    "        if len(mylist)==3:\n",
    "            c=[x*2 for x in mylist[-2:]]\n",
    "            print('c=>',c)\n",
    "            mylist=mylist[:1]+c    # 스타(*)가 세번째로 나올경우 2,3번째만 두배하고 1번째에 붙이기\n",
    "            print('mylist=>',mylist)\n",
    "        elif len(mylist)<3:\n",
    "            c=[x*2 for x in mylist]\n",
    "            print('c=>',c)\n",
    "            mylist=c  # 스타(*)가 첫번째나 두번째로 나올경우 mylist전체를 두배하면됨.\n",
    "            print('mylist=>',mylist)\n",
    "    elif dart_list[j]=='#':\n",
    "        print(dart_list[j])\n",
    "        mylist[-1]=mylist[-1]*(-1)\n",
    "        print('mylist=>',mylist)\n",
    "print('최종mylist---------------------->',mylist)\n",
    "print('mylist합계------->',sum(mylist))"
   ]
  },
  {
   "cell_type": "code",
   "execution_count": 189,
   "metadata": {},
   "outputs": [
    {
     "data": {
      "text/plain": [
       "['1', 'D', '2', 'S', '#', '1', '0', 'S']"
      ]
     },
     "execution_count": 189,
     "metadata": {},
     "output_type": "execute_result"
    }
   ],
   "source": [
    "dart_list=[x for x in '1D2S#10S' if '10' in '1D2S#10S'] \n",
    "dart_list"
   ]
  },
  {
   "cell_type": "code",
   "execution_count": 187,
   "metadata": {},
   "outputs": [
    {
     "data": {
      "text/plain": [
       "['1', 'D', '2', 'S', '#', '10', 'S']"
      ]
     },
     "execution_count": 187,
     "metadata": {},
     "output_type": "execute_result"
    }
   ],
   "source": [
    "# 이형태로 만들려고함\n",
    "['1', 'D', '2', 'S', '#', '10', 'S']"
   ]
  },
  {
   "cell_type": "code",
   "execution_count": 209,
   "metadata": {},
   "outputs": [
    {
     "data": {
      "text/plain": [
       "'0'"
      ]
     },
     "execution_count": 209,
     "metadata": {},
     "output_type": "execute_result"
    }
   ],
   "source": [
    "dart_list[6]"
   ]
  },
  {
   "cell_type": "code",
   "execution_count": 219,
   "metadata": {},
   "outputs": [
    {
     "data": {
      "text/plain": [
       "'10'"
      ]
     },
     "execution_count": 219,
     "metadata": {},
     "output_type": "execute_result"
    }
   ],
   "source": [
    "''.join(dart_list[5:7])"
   ]
  },
  {
   "cell_type": "code",
   "execution_count": 258,
   "metadata": {},
   "outputs": [
    {
     "name": "stdout",
     "output_type": "stream",
     "text": [
      "['1', 'D', '2', 'S', '#', '1', '0', 'S']\n",
      "['1', 'D', '2', 'S', '#', '10', '0', 'S']\n",
      "['1', 'D', '2', 'S', '#', '10', 'S']\n",
      "10\n",
      "['1', 'D', '2', 'S', '#', '10', 'S']\n"
     ]
    }
   ],
   "source": [
    "dartResult='1D2S#10S'\n",
    "dart_list=[x for x in dartResult] \n",
    "print(dart_list)\n",
    "\n",
    "for j in range(len(dart_list)):  # j=0,1,2,,,7\n",
    "    if dart_list[j]=='1' and dart_list[j+1]=='0':  # j=5\n",
    "        a=''.join(dart_list[j:j+2])   # a=10\n",
    "        \n",
    "        dart_list[j]=a\n",
    "        print(dart_list)\n",
    "        \n",
    "        dart_list2=dart_list.copy()\n",
    "        dart_list2.pop(j+1)\n",
    "        print(dart_list2)\n",
    "print(a)\n",
    "print(dart_list2)"
   ]
  },
  {
   "cell_type": "code",
   "execution_count": 259,
   "metadata": {},
   "outputs": [
    {
     "name": "stdout",
     "output_type": "stream",
     "text": [
      "['1', 'D', '2', 'S', '#', '1', '0', 'S']\n",
      "['1', 'D', '2', 'S', '#', '10', 'S']\n"
     ]
    }
   ],
   "source": [
    "### 위 코드 정리\n",
    "dartResult='1D2S#10S'\n",
    "dart_list=[x for x in dartResult] \n",
    "print(dart_list)\n",
    "\n",
    "for j in range(len(dart_list)):  # j=0,1,2,,,7\n",
    "    if dart_list[j]=='1' and dart_list[j+1]=='0':  # j=5\n",
    "        a=''.join(dart_list[j:j+2])   # a=10\n",
    "        dart_list[j]=a\n",
    "        \n",
    "        dart_list2=dart_list.copy()\n",
    "        dart_list2.pop(j+1)\n",
    "\n",
    "print(dart_list2)"
   ]
  },
  {
   "cell_type": "code",
   "execution_count": null,
   "metadata": {},
   "outputs": [],
   "source": [
    "if '10'"
   ]
  },
  {
   "cell_type": "code",
   "execution_count": 196,
   "metadata": {},
   "outputs": [
    {
     "data": {
      "text/plain": [
       "['1', '0']"
      ]
     },
     "execution_count": 196,
     "metadata": {},
     "output_type": "execute_result"
    }
   ],
   "source": [
    "dart_list[5:7]"
   ]
  },
  {
   "cell_type": "code",
   "execution_count": 195,
   "metadata": {},
   "outputs": [
    {
     "data": {
      "text/plain": [
       "'10'"
      ]
     },
     "execution_count": 195,
     "metadata": {},
     "output_type": "execute_result"
    }
   ],
   "source": [
    "x=['1','0']\n",
    "''.join(x)"
   ]
  },
  {
   "cell_type": "code",
   "execution_count": 186,
   "metadata": {},
   "outputs": [
    {
     "name": "stdout",
     "output_type": "stream",
     "text": [
      "['1', '2', '10']\n"
     ]
    }
   ],
   "source": [
    "import re\n",
    "if '10' in '1D2S#10S':\n",
    "    print(re.findall('\\d+','1D2S#10S' ))"
   ]
  },
  {
   "cell_type": "code",
   "execution_count": 283,
   "metadata": {},
   "outputs": [
    {
     "name": "stdout",
     "output_type": "stream",
     "text": [
      "['1', 'S', '2', 'D', '*', '3', 'T']\n"
     ]
    }
   ],
   "source": [
    "# dartResult='1D2S#10S'\n",
    "dartResult='1S2D*3T'\n",
    "\n",
    "if '10' not in dartResult:\n",
    "    dart_list=[x for x in dartResult] \n",
    "else:\n",
    "    dart_list=[x for x in dartResult] \n",
    "    for j in range(len(dart_list)):  # j=0,1,2,,,7\n",
    "        if dart_list[j]=='1' and dart_list[j+1]=='0':  # j=5\n",
    "            a=''.join(dart_list[j:j+2])   # a=10\n",
    "            dart_list[j]=a\n",
    "            dart_list2=dart_list.copy()\n",
    "            dart_list2.pop(j+1)\n",
    "    dart_list=dart_list2.copy()\n",
    "\n",
    "print(dart_list)\n"
   ]
  },
  {
   "cell_type": "code",
   "execution_count": 285,
   "metadata": {},
   "outputs": [
    {
     "name": "stdout",
     "output_type": "stream",
     "text": [
      "D\n",
      "mylist=> [1]\n",
      "S\n",
      "mylist=> [1, 2]\n",
      "#\n",
      "mylist=> [1, -2]\n",
      "S\n",
      "mylist=> [1, -2, 10]\n",
      "최종mylist----------------------> [1, -2, 10]\n",
      "mylist합계-------> 9\n"
     ]
    }
   ],
   "source": [
    "## 정리\n",
    "dartResult='1D2S#10S'\n",
    "if '10' not in dartResult:\n",
    "    dart_list=[x for x in dartResult] \n",
    "else:\n",
    "    dart_list=[x for x in dartResult] \n",
    "    for j in range(len(dart_list)):  # j=0,1,2,,,7\n",
    "        if dart_list[j]=='1' and dart_list[j+1]=='0':  # j=5\n",
    "            a=''.join(dart_list[j:j+2])   # a=10\n",
    "            dart_list[j]=a\n",
    "            dart_list2=dart_list.copy()\n",
    "            dart_list2.pop(j+1)\n",
    "    dart_list=dart_list2.copy()\n",
    "\n",
    "mylist=[]\n",
    "answer=0\n",
    "for j in range(len(dart_list)):  # j=0,1,2,3,4\n",
    "    if dart_list[j]=='S':\n",
    "        print(dart_list[j])\n",
    "        answer=int(dart_list[j-1])**1\n",
    "        mylist.append(answer)\n",
    "        print('mylist=>',mylist)\n",
    "    elif dart_list[j]=='D':\n",
    "        print(dart_list[j])\n",
    "        answer=int(dart_list[j-1])**2\n",
    "        mylist.append(answer)\n",
    "        print('mylist=>',mylist)\n",
    "    elif dart_list[j]=='T':\n",
    "        print(dart_list[j])\n",
    "        answer=int(dart_list[j-1])**3\n",
    "        mylist.append(answer)\n",
    "        print('mylist=>',mylist)\n",
    "    elif dart_list[j]=='*':\n",
    "        print(dart_list[j])\n",
    "        if len(mylist)==3:\n",
    "            c=[x*2 for x in mylist[-2:]]\n",
    "            print('c=>',c)\n",
    "            mylist=mylist[:1]+c    # 스타(*)가 세번째로 나올경우 2,3번째만 두배하고 1번째에 붙이기\n",
    "            print('mylist=>',mylist)\n",
    "        elif len(mylist)<3:\n",
    "            c=[x*2 for x in mylist]\n",
    "            print('c=>',c)\n",
    "            mylist=c  # 스타(*)가 첫번째나 두번째로 나올경우 mylist전체를 두배하면됨.\n",
    "            print('mylist=>',mylist)\n",
    "    elif dart_list[j]=='#':\n",
    "        print(dart_list[j])\n",
    "        mylist[-1]=mylist[-1]*(-1)\n",
    "        print('mylist=>',mylist)\n",
    "print('최종mylist---------------------->',mylist)\n",
    "print('mylist합계------->',sum(mylist))"
   ]
  },
  {
   "cell_type": "code",
   "execution_count": 288,
   "metadata": {},
   "outputs": [],
   "source": [
    "def solution(dartResult):\n",
    "    if '10' not in dartResult:\n",
    "        dart_list=[x for x in dartResult] \n",
    "    else:\n",
    "        dart_list=[x for x in dartResult] \n",
    "        for j in range(len(dart_list)):  # j=0,1,2,,,7\n",
    "            if dart_list[j]=='1' and dart_list[j+1]=='0':  # j=5\n",
    "                a=''.join(dart_list[j:j+2])   # a=10\n",
    "                dart_list[j]=a\n",
    "                dart_list2=dart_list.copy()\n",
    "                dart_list2.pop(j+1)\n",
    "        dart_list=dart_list2.copy()\n",
    "\n",
    "    mylist=[]\n",
    "    answer=0\n",
    "    for j in range(len(dart_list)):  # j=0,1,2,3,4\n",
    "        if dart_list[j]=='S':\n",
    "            answer=int(dart_list[j-1])**1\n",
    "            mylist.append(answer)\n",
    "        elif dart_list[j]=='D':\n",
    "            answer=int(dart_list[j-1])**2\n",
    "            mylist.append(answer)\n",
    "        elif dart_list[j]=='T':\n",
    "            answer=int(dart_list[j-1])**3\n",
    "            mylist.append(answer)\n",
    "        elif dart_list[j]=='*':\n",
    "            if len(mylist)==3:\n",
    "                c=[x*2 for x in mylist[-2:]]\n",
    "                mylist=mylist[:1]+c    # 스타(*)가 세번째로 나올경우 2,3번째만 두배하고 1번째에 붙이기\n",
    "            elif len(mylist)<3:\n",
    "                c=[x*2 for x in mylist]\n",
    "                mylist=c  # 스타(*)가 첫번째나 두번째로 나올경우 mylist전체를 두배하면됨.\n",
    "        elif dart_list[j]=='#':\n",
    "            mylist[-1]=mylist[-1]*(-1)\n",
    "    return sum(mylist)"
   ]
  },
  {
   "cell_type": "code",
   "execution_count": 297,
   "metadata": {},
   "outputs": [
    {
     "data": {
      "text/plain": [
       "59"
      ]
     },
     "execution_count": 297,
     "metadata": {},
     "output_type": "execute_result"
    }
   ],
   "source": [
    "dartResult='1D2S3T*'\n",
    "solution(dartResult)"
   ]
  },
  {
   "cell_type": "code",
   "execution_count": null,
   "metadata": {},
   "outputs": [],
   "source": []
  }
 ],
 "metadata": {
  "kernelspec": {
   "display_name": "suhyun2",
   "language": "python",
   "name": "suhyun2"
  },
  "language_info": {
   "codemirror_mode": {
    "name": "ipython",
    "version": 3
   },
   "file_extension": ".py",
   "mimetype": "text/x-python",
   "name": "python",
   "nbconvert_exporter": "python",
   "pygments_lexer": "ipython3",
   "version": "3.6.8"
  }
 },
 "nbformat": 4,
 "nbformat_minor": 2
}
