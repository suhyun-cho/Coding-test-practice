{
 "cells": [
  {
   "cell_type": "markdown",
   "metadata": {},
   "source": [
    "## KAKAO2018_다트게임\n",
    "2020-10-08\n",
    "\n",
    "#### 문제 설명\n",
    "\n",
    "1. 다트 게임은 총 3번의 기회로 구성된다.\n",
    "2. 각 기회마다 얻을 수 있는 점수는 0점에서 10점까지이다.\n",
    "3. 점수와 함께 Single(S), Double(D), Triple(T) 영역이 존재하고 각 영역 당첨 시 점수에서 1제곱, 2제곱, 3제곱 (점수1 , 점수2 , 점수3 )으로 계산된다.\n",
    "4. 옵션으로 스타상(*) , 아차상(#)이 존재하며 스타상(*) 당첨 시 해당 점수와 바로 전에 얻은 점수를 각 2배로 만든다. 아차상(#) 당첨 시 해당 점수는 마이너스된다.\n",
    "5. 스타상(*)은 첫 번째 기회에서도 나올 수 있다. 이 경우 첫 번째 스타상(*)의 점수만 2배가 된다. (예제 4번 참고)\n",
    "6. 스타상(*)의 효과는 다른 스타상(*)의 효과와 중첩될 수 있다. 이 경우 중첩된 스타상(*) 점수는 4배가 된다. (예제 4번 참고)\n",
    "7. 스타상(*)의 효과는 아차상(#)의 효과와 중첩될 수 있다. 이 경우 중첩된 아차상(#)의 점수는 -2배가 된다. (예제 5번 참고)\n",
    "8. Single(S), Double(D), Triple(T)은 점수마다 하나씩 존재한다.\n",
    "9. 스타상(*), 아차상(#)은 점수마다 둘 중 하나만 존재할 수 있으며, 존재하지 않을 수도 있다."
   ]
  },
  {
   "cell_type": "markdown",
   "metadata": {},
   "source": [
    "> 예시\n",
    "* 1S2D3T 일경우 => 1^1 + 2^2 + 3^3 = 1 +4+27 = 32"
   ]
  },
  {
   "cell_type": "code",
   "execution_count": 17,
   "metadata": {},
   "outputs": [
    {
     "data": {
      "text/plain": [
       "['1', 'S', '2', 'D', '*', '3', 'T']"
      ]
     },
     "execution_count": 17,
     "metadata": {},
     "output_type": "execute_result"
    }
   ],
   "source": [
    "dart_list=[x for x in dartResult]\n",
    "dart_list"
   ]
  },
  {
   "cell_type": "code",
   "execution_count": 21,
   "metadata": {},
   "outputs": [
    {
     "name": "stdout",
     "output_type": "stream",
     "text": [
      "True\n",
      "False\n",
      "True\n",
      "False\n",
      "False\n",
      "True\n",
      "False\n"
     ]
    }
   ],
   "source": [
    "# isdigit() => 문자열이 숫자인지 문자인지체크.\n",
    "for i in range(len(dart_list)):\n",
    "    print(dart_list[i].isdigit())"
   ]
  },
  {
   "cell_type": "markdown",
   "metadata": {},
   "source": [
    "**스타상(*) 이나 아차상(#) 이 없을 경우**"
   ]
  },
  {
   "cell_type": "code",
   "execution_count": 28,
   "metadata": {},
   "outputs": [
    {
     "name": "stdout",
     "output_type": "stream",
     "text": [
      "dart_list=> S\n",
      "answer=> 1\n",
      "dart_list=> D\n",
      "answer=> 4\n",
      "dart_list=> T\n",
      "answer=> 27\n",
      "mylist=> [1, 4, 27]\n"
     ]
    }
   ],
   "source": [
    "# 스타상(*) 이나 아차상(#) 이 없을 경우\n",
    "mylist=[]\n",
    "dart_list=[x for x in dartResult]\n",
    "for i in range(len(dart_list)):\n",
    "    if dart_list[i]=='S':\n",
    "        answer=int(dart_list[i-1])**1\n",
    "        mylist.append(answer)\n",
    "        print('dart_list=>',dart_list[i])\n",
    "        print('answer=>',answer)\n",
    "    elif dart_list[i]=='D':\n",
    "        answer=int(dart_list[i-1])**2\n",
    "        mylist.append(answer)\n",
    "        print('dart_list=>',dart_list[i])\n",
    "        print('answer=>',answer)\n",
    "    elif dart_list[i]=='T':\n",
    "        answer=int(dart_list[i-1])**3\n",
    "        mylist.append(answer)\n",
    "        print('dart_list=>',dart_list[i])\n",
    "        print('answer=>',answer)\n",
    "print('mylist=>',mylist)"
   ]
  },
  {
   "cell_type": "code",
   "execution_count": 46,
   "metadata": {},
   "outputs": [
    {
     "name": "stdout",
     "output_type": "stream",
     "text": [
      "['1', 'S', '2', 'D', '*', '3', 'T']\n",
      "[1, 2, 3]\n",
      "['S', 'D', '*', 'T']\n"
     ]
    }
   ],
   "source": [
    "dart_list=[x for x in dartResult]\n",
    "print(dart_list)\n",
    "\n",
    "num_list=[]\n",
    "str_list=[]\n",
    "for i in range(len(dart_list)):\n",
    "    if dart_list[i].isdigit()==True:\n",
    "        num_list.append(int(dart_list[i]))\n",
    "    else:\n",
    "        str_list.append(dart_list[i])\n",
    "print(num_list)\n",
    "print(str_list)"
   ]
  },
  {
   "cell_type": "code",
   "execution_count": 61,
   "metadata": {},
   "outputs": [
    {
     "data": {
      "text/plain": [
       "[2, 4]"
      ]
     },
     "execution_count": 61,
     "metadata": {},
     "output_type": "execute_result"
    }
   ],
   "source": [
    "# 리스트 값을 각각 2배\n",
    "[x*2 for x in num_list[:2]]"
   ]
  },
  {
   "cell_type": "code",
   "execution_count": 78,
   "metadata": {},
   "outputs": [
    {
     "name": "stdout",
     "output_type": "stream",
     "text": [
      "S\n",
      "[1]\n",
      "D\n",
      "[1, 4]\n",
      "T\n",
      "[1, 4, 27]\n",
      "최종 mylist=> [1, 4, 27]\n"
     ]
    }
   ],
   "source": [
    "num_list=[]\n",
    "str_list=[]\n",
    "# for i in range(len(dart_list)):\n",
    "#     if dart_list[i].isdigit()==True:\n",
    "#         num_list.append(int(dart_list[i]))\n",
    "#     else:\n",
    "#         str_list.append(dart_list[i])\n",
    "for i in range(len(dart_list)):\n",
    "    if dart_list[i].isdigit()==True:\n",
    "        num_list.append(int(dart_list[i]))\n",
    "    elif dart_list[i].isdigit()==False and '*' not in dart_list[i] and '#' not in dart_list[i]:\n",
    "        str_list.append(dart_list[i])\n",
    "\n",
    "mylist=[]\n",
    "answer=0\n",
    "for j in range(len(str_list)):  # j=0,1,2,3\n",
    "    if str_list[j]=='S':\n",
    "        answer=num_list[j]**1\n",
    "        mylist.append(answer)\n",
    "        print(str_list[j])\n",
    "        print(mylist)\n",
    "    elif str_list[j]=='D':\n",
    "        answer=num_list[j]**2\n",
    "        mylist.append(answer)\n",
    "        print(str_list[j])\n",
    "        print(mylist)\n",
    "    elif str_list[j]=='T':\n",
    "        answer=num_list[j]**3\n",
    "        mylist.append(answer)\n",
    "        print(str_list[j])\n",
    "        print(mylist)\n",
    "    elif dart_list[j]=='*':\n",
    "        mylist=[x*2 for x in mylist[:j]]\n",
    "        print(str_list[j])\n",
    "        print(mylist)\n",
    "print('최종 mylist=>',mylist)"
   ]
  },
  {
   "cell_type": "code",
   "execution_count": 77,
   "metadata": {},
   "outputs": [
    {
     "name": "stdout",
     "output_type": "stream",
     "text": [
      "dart_list => ['1', 'S', '2', 'D', '*', '3', 'T', '#']\n",
      "num_list=> [1, 2, 3]\n",
      "str_list=> ['S', 'D', 'T']\n"
     ]
    }
   ],
   "source": [
    "dart_list=[x for x in dartResult]\n",
    "print('dart_list =>',dart_list)\n",
    "\n",
    "num_list=[]\n",
    "str_list=[]\n",
    "for i in range(len(dart_list)):\n",
    "    if dart_list[i].isdigit()==True:\n",
    "        num_list.append(int(dart_list[i]))\n",
    "    elif dart_list[i].isdigit()==False and '*' not in dart_list[i] and '#' not in dart_list[i]:\n",
    "        str_list.append(dart_list[i])\n",
    "print('num_list=>',num_list)\n",
    "print('str_list=>',str_list)"
   ]
  },
  {
   "cell_type": "code",
   "execution_count": 224,
   "metadata": {},
   "outputs": [
    {
     "name": "stdout",
     "output_type": "stream",
     "text": [
      "dart_list=> ['1', 'D', '2', 'S', '#', '1', '0', 'S']\n",
      "D\n",
      "mylist=> [1]\n",
      "S\n",
      "mylist=> [1, 2]\n",
      "#\n",
      "mylist=> [1, -2]\n",
      "S\n",
      "mylist=> [1, -2, 0]\n",
      "최종mylist----------------------> [1, -2, 0]\n",
      "mylist합계-------> -1\n"
     ]
    }
   ],
   "source": [
    "dartResult='1D2S#10S'\n",
    "dart_list=[x for x in dartResult]   # 두자리수인경우 한자리로 인식함...\n",
    "print('dart_list=>',dart_list)\n",
    "\n",
    "mylist=[]\n",
    "answer=0\n",
    "for j in range(len(dart_list)):  # j=0,1,2,3,4\n",
    "    if dart_list[j]=='S':\n",
    "        print(dart_list[j])\n",
    "        answer=int(dart_list[j-1])**1\n",
    "        mylist.append(answer)\n",
    "        print('mylist=>',mylist)\n",
    "    elif dart_list[j]=='D':\n",
    "        print(dart_list[j])\n",
    "        answer=int(dart_list[j-1])**2\n",
    "        mylist.append(answer)\n",
    "        print('mylist=>',mylist)\n",
    "    elif dart_list[j]=='T':\n",
    "        print(dart_list[j])\n",
    "        answer=int(dart_list[j-1])**3\n",
    "        mylist.append(answer)\n",
    "        print('mylist=>',mylist)\n",
    "    elif dart_list[j]=='*':\n",
    "        print(dart_list[j])\n",
    "        if len(mylist)==3:\n",
    "            c=[x*2 for x in mylist[-2:]]\n",
    "            print('c=>',c)\n",
    "            mylist=mylist[:1]+c    # 스타(*)가 세번째로 나올경우 2,3번째만 두배하고 1번째에 붙이기\n",
    "            print('mylist=>',mylist)\n",
    "        elif len(mylist)<3:\n",
    "            c=[x*2 for x in mylist]\n",
    "            print('c=>',c)\n",
    "            mylist=c  # 스타(*)가 첫번째나 두번째로 나올경우 mylist전체를 두배하면됨.\n",
    "            print('mylist=>',mylist)\n",
    "    elif dart_list[j]=='#':\n",
    "        print(dart_list[j])\n",
    "        mylist[-1]=mylist[-1]*(-1)\n",
    "        print('mylist=>',mylist)\n",
    "print('최종mylist---------------------->',mylist)\n",
    "print('mylist합계------->',sum(mylist))"
   ]
  },
  {
   "cell_type": "markdown",
   "metadata": {},
   "source": [
    "#### 점수에 '10' 이 있을경우 '1','0'을 '10'으로 만들려고 노력"
   ]
  },
  {
   "cell_type": "code",
   "execution_count": 189,
   "metadata": {},
   "outputs": [
    {
     "data": {
      "text/plain": [
       "['1', 'D', '2', 'S', '#', '1', '0', 'S']"
      ]
     },
     "execution_count": 189,
     "metadata": {},
     "output_type": "execute_result"
    }
   ],
   "source": [
    "dart_list=[x for x in '1D2S#10S' if '10' in '1D2S#10S'] \n",
    "dart_list"
   ]
  },
  {
   "cell_type": "code",
   "execution_count": 187,
   "metadata": {},
   "outputs": [
    {
     "data": {
      "text/plain": [
       "['1', 'D', '2', 'S', '#', '10', 'S']"
      ]
     },
     "execution_count": 187,
     "metadata": {},
     "output_type": "execute_result"
    }
   ],
   "source": [
    "# 이형태로 만들려고함\n",
    "['1', 'D', '2', 'S', '#', '10', 'S']"
   ]
  },
  {
   "cell_type": "code",
   "execution_count": 209,
   "metadata": {},
   "outputs": [
    {
     "data": {
      "text/plain": [
       "'0'"
      ]
     },
     "execution_count": 209,
     "metadata": {},
     "output_type": "execute_result"
    }
   ],
   "source": [
    "dart_list[6]"
   ]
  },
  {
   "cell_type": "code",
   "execution_count": 219,
   "metadata": {},
   "outputs": [
    {
     "data": {
      "text/plain": [
       "'10'"
      ]
     },
     "execution_count": 219,
     "metadata": {},
     "output_type": "execute_result"
    }
   ],
   "source": [
    "''.join(dart_list[5:7])"
   ]
  },
  {
   "cell_type": "code",
   "execution_count": 258,
   "metadata": {},
   "outputs": [
    {
     "name": "stdout",
     "output_type": "stream",
     "text": [
      "['1', 'D', '2', 'S', '#', '1', '0', 'S']\n",
      "['1', 'D', '2', 'S', '#', '10', '0', 'S']\n",
      "['1', 'D', '2', 'S', '#', '10', 'S']\n",
      "10\n",
      "['1', 'D', '2', 'S', '#', '10', 'S']\n"
     ]
    }
   ],
   "source": [
    "dartResult='1D2S#10S'\n",
    "dart_list=[x for x in dartResult] \n",
    "print(dart_list)\n",
    "\n",
    "for j in range(len(dart_list)):  # j=0,1,2,,,7\n",
    "    if dart_list[j]=='1' and dart_list[j+1]=='0':  # j=5\n",
    "        a=''.join(dart_list[j:j+2])   # a=10\n",
    "        \n",
    "        dart_list[j]=a\n",
    "        print(dart_list)\n",
    "        \n",
    "        dart_list2=dart_list.copy()\n",
    "        dart_list2.pop(j+1)\n",
    "        print(dart_list2)\n",
    "print(a)\n",
    "print(dart_list2)"
   ]
  },
  {
   "cell_type": "code",
   "execution_count": 259,
   "metadata": {},
   "outputs": [
    {
     "name": "stdout",
     "output_type": "stream",
     "text": [
      "['1', 'D', '2', 'S', '#', '1', '0', 'S']\n",
      "['1', 'D', '2', 'S', '#', '10', 'S']\n"
     ]
    }
   ],
   "source": [
    "### 위 코드 정리\n",
    "dartResult='1D2S#10S'\n",
    "dart_list=[x for x in dartResult] \n",
    "print(dart_list)\n",
    "\n",
    "for j in range(len(dart_list)):  # j=0,1,2,,,7\n",
    "    if dart_list[j]=='1' and dart_list[j+1]=='0':  # j=5\n",
    "        a=''.join(dart_list[j:j+2])   # a=10\n",
    "        dart_list[j]=a\n",
    "        \n",
    "        dart_list2=dart_list.copy()\n",
    "        dart_list2.pop(j+1)\n",
    "\n",
    "print(dart_list2)"
   ]
  },
  {
   "cell_type": "code",
   "execution_count": null,
   "metadata": {},
   "outputs": [],
   "source": [
    "if '10'"
   ]
  },
  {
   "cell_type": "code",
   "execution_count": 196,
   "metadata": {},
   "outputs": [
    {
     "data": {
      "text/plain": [
       "['1', '0']"
      ]
     },
     "execution_count": 196,
     "metadata": {},
     "output_type": "execute_result"
    }
   ],
   "source": [
    "dart_list[5:7]"
   ]
  },
  {
   "cell_type": "code",
   "execution_count": 195,
   "metadata": {},
   "outputs": [
    {
     "data": {
      "text/plain": [
       "'10'"
      ]
     },
     "execution_count": 195,
     "metadata": {},
     "output_type": "execute_result"
    }
   ],
   "source": [
    "x=['1','0']\n",
    "''.join(x)"
   ]
  },
  {
   "cell_type": "code",
   "execution_count": 186,
   "metadata": {},
   "outputs": [
    {
     "name": "stdout",
     "output_type": "stream",
     "text": [
      "['1', '2', '10']\n"
     ]
    }
   ],
   "source": [
    "import re\n",
    "if '10' in '1D2S#10S':\n",
    "    print(re.findall('\\d+','1D2S#10S' ))"
   ]
  },
  {
   "cell_type": "code",
   "execution_count": 100,
   "metadata": {},
   "outputs": [
    {
     "name": "stdout",
     "output_type": "stream",
     "text": [
      "dart_list원본  ['1', '0', 'D', '1', '0', 'S', '#', '4', 'S']\n",
      "a= 10\n",
      "['10', 'D', '1', '0', 'S', '#', '4', 'S']\n"
     ]
    }
   ],
   "source": [
    "# copy 대신 break사용.\n",
    "dartResult='10D10S#4S'\n",
    "# dartResult='1S2D*3T'\n",
    "\n",
    "if '10' not in dartResult:\n",
    "    dart_list=[x for x in dartResult] \n",
    "else:\n",
    "    dart_list=[x for x in dartResult] \n",
    "    print('dart_list원본 ',dart_list)\n",
    "    for i in range(len(dart_list)):  # j=0,1,2,,,6\n",
    "        a=0\n",
    "        if dart_list[i]=='1' and dart_list[i+1]=='0':  # j=5\n",
    "            a=''.join(dart_list[i : i+2])   # a=10\n",
    "            print('a=',a)\n",
    "            dart_list[i]=a\n",
    "            dart_list.pop(i+1)\n",
    "            break\n",
    "print(dart_list)\n"
   ]
  },
  {
   "cell_type": "markdown",
   "metadata": {},
   "source": [
    "#### 최종정리"
   ]
  },
  {
   "cell_type": "code",
   "execution_count": 33,
   "metadata": {},
   "outputs": [
    {
     "name": "stdout",
     "output_type": "stream",
     "text": [
      "dart_list => ['1', 'D', '2', 'S', '3', 'S']\n",
      "D\n",
      "mylist=> [1]\n",
      "S\n",
      "mylist=> [1, 2]\n",
      "S\n",
      "mylist=> [1, 2, 3]\n",
      "최종mylist----------------------> [1, 2, 3]\n",
      "mylist합계-------> 6\n"
     ]
    }
   ],
   "source": [
    "## 최종 정리\n",
    "# dartResult='1D2S#10S'\n",
    "dartResult='1D2S3S'\n",
    "if '10' not in dartResult:\n",
    "    dart_list=[x for x in dartResult] \n",
    "else:\n",
    "    dart_list=[x for x in dartResult] \n",
    "    for i in range(len(dart_list)):  # j=0,1,2,,,6\n",
    "        if dart_list[i]=='1' and dart_list[i+1]=='0':  # j=5\n",
    "            a=''.join(dart_list[i : i+2])   # a=10\n",
    "            dart_list[i]=a\n",
    "            dart_list.pop(i+1)\n",
    "            break\n",
    "print('dart_list =>', dart_list)\n",
    "\n",
    "mylist=[]\n",
    "answer=0\n",
    "for j in range(len(dart_list)):  # j=0,1,2,3,4,5,6\n",
    "    if dart_list[j]=='S':\n",
    "        print(dart_list[j])\n",
    "        answer=int(dart_list[j-1])**1\n",
    "        mylist.append(answer)\n",
    "        print('mylist=>',mylist)\n",
    "    elif dart_list[j]=='D':\n",
    "        print(dart_list[j])\n",
    "        answer=int(dart_list[j-1])**2\n",
    "        mylist.append(answer)\n",
    "        print('mylist=>',mylist)\n",
    "    elif dart_list[j]=='T':\n",
    "        print(dart_list[j])\n",
    "        answer=int(dart_list[j-1])**3\n",
    "        mylist.append(answer)\n",
    "        print('mylist=>',mylist)\n",
    "    elif dart_list[j]=='*':\n",
    "        print(dart_list[j])\n",
    "        if len(mylist)==3:\n",
    "            c=[x*2 for x in mylist[-2:]]  # 스타(*)가 세번째로 나온 경우에는 맨끝에 2개만 두배.\n",
    "            print('c=>',c)\n",
    "            mylist=mylist[:1]+c    # 스타(*)가 세번째로 나올경우 2,3번째만 두배하고 1번째에 붙이기\n",
    "            print('mylist=>',mylist)\n",
    "        elif len(mylist)<3:\n",
    "            c=[x*2 for x in mylist]   # 스타(*)가 첫번째나 두번째에 나온 경우 mylist전체를 두배\n",
    "            print('c=>',c)\n",
    "            mylist=c  # 스타(*)가 첫번째나 두번째로 나올경우 mylist전체를 두배하면됨.\n",
    "            print('mylist=>',mylist)\n",
    "    elif dart_list[j]=='#':\n",
    "        print(dart_list[j])\n",
    "        mylist[-1]=mylist[-1]*(-1)\n",
    "        print('mylist=>',mylist)\n",
    "print('최종mylist---------------------->',mylist)\n",
    "print('mylist합계------->',sum(mylist))"
   ]
  },
  {
   "cell_type": "code",
   "execution_count": 77,
   "metadata": {},
   "outputs": [
    {
     "name": "stdout",
     "output_type": "stream",
     "text": [
      "dart_list => ['1', 'D', '2', 'S', '#', '10', 'S', '*']\n",
      "D\n",
      "mylist=> [1]\n",
      "S\n",
      "mylist=> [1, 2]\n",
      "#\n",
      "mylist=> [1, -2]\n",
      "S\n",
      "mylist=> [1, -2, 10]\n",
      "*\n",
      "mylist=> [1, -4, 10]\n",
      "mylist=> [1, -4, 20]\n",
      "최종mylist----------------------> [1, -4, 20]\n",
      "mylist합계-------> 17\n"
     ]
    }
   ],
   "source": [
    "## 최종 정리\n",
    "# dartResult='1D2S#10S'\n",
    "dartResult='1D2S#10S*'\n",
    "if '10' not in dartResult:\n",
    "    dart_list=[x for x in dartResult] \n",
    "else:\n",
    "    dart_list=[x for x in dartResult] \n",
    "    for i in range(len(dart_list)):  # j=0,1,2,,,6\n",
    "        if dart_list[i]=='1' and dart_list[i+1]=='0':  # j=5\n",
    "            a=''.join(dart_list[i : i+2])   # a=10\n",
    "            dart_list[i]=a\n",
    "            dart_list.pop(i+1)\n",
    "            break\n",
    "print('dart_list =>', dart_list)\n",
    "\n",
    "mylist=[]\n",
    "answer=0\n",
    "for j in range(len(dart_list)):  # j=0,1,2,3,4,5,6\n",
    "    if dart_list[j]=='S':\n",
    "        print(dart_list[j])\n",
    "        answer=int(dart_list[j-1])**1\n",
    "        mylist.append(answer)\n",
    "        print('mylist=>',mylist)\n",
    "    elif dart_list[j]=='D':\n",
    "        print(dart_list[j])\n",
    "        answer=int(dart_list[j-1])**2\n",
    "        mylist.append(answer)\n",
    "        print('mylist=>',mylist)\n",
    "    elif dart_list[j]=='T':\n",
    "        print(dart_list[j])\n",
    "        answer=int(dart_list[j-1])**3\n",
    "        mylist.append(answer)\n",
    "        print('mylist=>',mylist)\n",
    "    elif dart_list[j]=='*':\n",
    "        print(dart_list[j])\n",
    "        if len(mylist)>1:\n",
    "            mylist[-2]*=2 \n",
    "            print('mylist=>',mylist)\n",
    "        mylist[-1]*=2\n",
    "        print('mylist=>',mylist)\n",
    "    elif dart_list[j]=='#':\n",
    "        print(dart_list[j])\n",
    "        mylist[-1]=mylist[-1]*(-1)\n",
    "        print('mylist=>',mylist)\n",
    "print('최종mylist---------------------->',mylist)\n",
    "print('mylist합계------->',sum(mylist))"
   ]
  },
  {
   "cell_type": "markdown",
   "metadata": {},
   "source": [
    "------------------------------------------\n",
    "### 수현's 풀이  => fail\n",
    "* test-case 4,5,6,7 탈락\n",
    "    * 10이 두번이상 올 경우 안됨.\n",
    "* 점수에 10이 없으면, 문자를 각각 분리하고\n",
    "    * 10이 있으면, 1과 0이 연속으로올경우 join해서 10으로 만들고 1자리에 10을넣고 0은 pop으로제거"
   ]
  },
  {
   "cell_type": "code",
   "execution_count": 82,
   "metadata": {},
   "outputs": [],
   "source": [
    "def solution(dartResult):\n",
    "    if '10' not in dartResult:\n",
    "        dart_list=[x for x in dartResult] \n",
    "    else:\n",
    "        dart_list=[x for x in dartResult] \n",
    "        for i in range(len(dart_list)):  # j=0,1,2,,,6\n",
    "            if dart_list[i]=='1' and dart_list[i+1]=='0':  # j=5\n",
    "                a=''.join(dart_list[i : i+2])   # a=10\n",
    "                dart_list[i]=a\n",
    "                dart_list.pop(i+1)\n",
    "                break\n",
    "\n",
    "    mylist=[]\n",
    "    answer=0\n",
    "    for j in range(len(dart_list)):  # j=0,1,2,3,4\n",
    "        if dart_list[j]=='S':\n",
    "            mylist.append(int(dart_list[j-1])**1)\n",
    "        elif dart_list[j]=='D':\n",
    "            mylist.append(int(dart_list[j-1])**2)\n",
    "        elif dart_list[j]=='T':\n",
    "            mylist.append(int(dart_list[j-1])**3)\n",
    "        elif dart_list[j]=='*':\n",
    "            if len(mylist)>1:\n",
    "                mylist[-2]*=2 \n",
    "            mylist[-1]*=2\n",
    "        elif dart_list[j]=='#':\n",
    "            mylist[-1]*=-1\n",
    "    return sum(mylist)"
   ]
  },
  {
   "cell_type": "code",
   "execution_count": 83,
   "metadata": {},
   "outputs": [
    {
     "data": {
      "text/plain": [
       "-4"
      ]
     },
     "execution_count": 83,
     "metadata": {},
     "output_type": "execute_result"
    }
   ],
   "source": [
    "dartResult='1T2D3D#'\n",
    "solution(dartResult)"
   ]
  },
  {
   "cell_type": "markdown",
   "metadata": {},
   "source": [
    "-----------------------------------\n",
    "### 다른사람 풀이[1]\n",
    "* n을 빈 문자열로 놓고, dartResult에서 값을 하나씩 빼서 넣다가 D,S,T가 들어와서 계산이되면 다시 n을 리셋 하는 방식\n",
    "    * 10이 들어올경우에, isnumeric() 으로 숫자인경우 n에 쌓이므로 '10'으로 묶여짐."
   ]
  },
  {
   "cell_type": "code",
   "execution_count": 46,
   "metadata": {},
   "outputs": [
    {
     "name": "stdout",
     "output_type": "stream",
     "text": [
      "n:   1\n",
      "n:   12\n",
      "n:   121\n",
      "n:   1210\n"
     ]
    }
   ],
   "source": [
    "dartResult='1D2S#10S'\n",
    "score=[]\n",
    "n=' '\n",
    "for i in dartResult:\n",
    "    if i.isnumeric():   # 숫자만 따로 n에 저장.\n",
    "        n+=i\n",
    "        print('n: ',n)"
   ]
  },
  {
   "cell_type": "code",
   "execution_count": 61,
   "metadata": {},
   "outputs": [
    {
     "name": "stdout",
     "output_type": "stream",
     "text": [
      "dartResult=>  1\n",
      "i :  1\n",
      "n=>   1\n",
      "dartResult=>  D\n",
      "스코어=> [1]\n",
      "dartResult=>  2\n",
      "i :  2\n",
      "n=>  2\n",
      "dartResult=>  S\n",
      "스코어=> [1, 2]\n",
      "dartResult=>  #\n",
      "스코어=> [1, -2]\n",
      "dartResult=>  1\n",
      "i :  1\n",
      "n=>   1\n",
      "dartResult=>  0\n",
      "i :  0\n",
      "n=>   10\n",
      "dartResult=>  S\n",
      "스코어=> [1, -2, 10]\n",
      "dartResult=>  *\n",
      "스코어=> [1, -4, 10]\n",
      "스코어=> [1, -4, 20]\n",
      "score=> [1, -4, 20]\n"
     ]
    }
   ],
   "source": [
    "dartResult='1D2S#10S*'\n",
    "score=[]\n",
    "n=' '\n",
    "for i in dartResult:\n",
    "    print('dartResult=> ',i)\n",
    "    if i.isnumeric():\n",
    "        print('i : ',i)\n",
    "        n+=i   # n= 1, 2, 10\n",
    "        print('n=> ',n)\n",
    "    elif i=='S':\n",
    "        score.append(int(n)**1)\n",
    "        n=' '\n",
    "        print('스코어=>',score)\n",
    "    elif i == 'D':\n",
    "        score.append(int(n) ** 2)\n",
    "        n = ''\n",
    "        print('스코어=>',score)\n",
    "    elif i == 'T':\n",
    "        score.append(int(n) ** 3)\n",
    "        n = ''\n",
    "        print('스코어=>',score)\n",
    "    elif i=='*':\n",
    "        if len(score)>1:   # 스코어안에 값이 두개이상 있으면, \n",
    "            score[-2] =  score[-2] *2\n",
    "            print('스코어=>',score)\n",
    "        score[-1] *=2  # 스코어안에 값이 1개만있을경우, 스타(*)가 맨처음나올경우 맨끝에값을 두배\n",
    "        print('스코어=>',score)\n",
    "    elif i=='#':\n",
    "        score[-1]=score[-1]*-1\n",
    "        print('스코어=>',score)\n",
    "print('score=>',score)"
   ]
  },
  {
   "cell_type": "code",
   "execution_count": 74,
   "metadata": {},
   "outputs": [
    {
     "name": "stdout",
     "output_type": "stream",
     "text": [
      "score=> [1, -4, 20]\n"
     ]
    }
   ],
   "source": [
    "dartResult='1D2S#10S*'\n",
    "score=[]\n",
    "n=' '\n",
    "for i in dartResult:\n",
    "    if i.isnumeric():\n",
    "        n+=i   # n= 1, 2, 10\n",
    "    elif i=='S':\n",
    "        score.append(int(n)**1)\n",
    "        n=' '\n",
    "    elif i == 'D':\n",
    "        score.append(int(n) ** 2)\n",
    "        n = ''\n",
    "    elif i == 'T':\n",
    "        score.append(int(n) ** 3)\n",
    "        n = ''\n",
    "    elif i=='*':\n",
    "        if len(score)>1:   # 스코어안에 값이 두개이상 있으면, \n",
    "            score[-2] =  score[-2] *2\n",
    "        score[-1] *=2  # 스코어안에 값이 1개만있을경우, 스타(*)가 맨처음나올경우 맨끝에값을 두배\n",
    "    elif i=='#':\n",
    "        score[-1]=score[-1]*-1\n",
    "print('score=>',score)"
   ]
  },
  {
   "cell_type": "markdown",
   "metadata": {},
   "source": [
    "-----------------------------------\n",
    "### 다른사람 풀이[2]\n",
    "* 풀이방식\n",
    "    * 미리 점수계산을 할 딕셔너리를 만들어준다. (보너스, 옵션 따로)\n",
    "    * 정규표현식으로 dartResult를 '숫자' 'DST' '* #' 세 그룹으로 나누어서 각각 그룹에 접근.\n",
    "    * 스타(*)가 나타난 경우만 예외조건을 줌.\n",
    "        * 그룹 두번째 또는 세번째에 스타(*)가 나타나면 그앞에 그룹 숫자를 두배해줌.\n",
    "     \n",
    "* (참고)정규표현식 \n",
    "    * x+ : 10 처럼 1 나오고 0 나올경우 10으로 뽑아내려면 한번이상반복을 의미하는 +를 붙여줘야 함.\n",
    "    * x? : 여기서는 [*#]? 라고하면 * 또는 #이 올수도있고, 안올수도있음을 의미.\n",
    "    * \\d : 숫자를 의미\n",
    "    * () : 정규표현식에서 ( ) 괄호는 그룹을 의미. 괄호로 그룹을 분리.\n",
    "        * (\\d+) : 숫자그룹, ([SDT]) : 알파벳그룹, ([*#]?) : 특수문자그룹"
   ]
  },
  {
   "cell_type": "code",
   "execution_count": 132,
   "metadata": {},
   "outputs": [
    {
     "data": {
      "text/plain": [
       "'10D2S*10S'"
      ]
     },
     "execution_count": 132,
     "metadata": {},
     "output_type": "execute_result"
    }
   ],
   "source": [
    "dartResult='10D2S*10S'\n",
    "dartResult"
   ]
  },
  {
   "cell_type": "markdown",
   "metadata": {},
   "source": [
    "* findall은 결과 문자열들의 리스트를 리턴.\n",
    "    * 패턴에 매칭되는 모든결과를 리턴."
   ]
  },
  {
   "cell_type": "code",
   "execution_count": 144,
   "metadata": {},
   "outputs": [
    {
     "name": "stdout",
     "output_type": "stream",
     "text": [
      "[('10', 'D', ''), ('2', 'S', '*'), ('10', 'S', '')]\n",
      "[200, 4, 10]\n",
      "214\n"
     ]
    }
   ],
   "source": [
    "import re\n",
    "bonus={'S':1,'D':2,'T':3}\n",
    "option={'':1,'*':2, \"#\":-1}\n",
    "p =re.compile('(\\d+)([SDT])([*#]?)')\n",
    "dart=p.findall(dartResult)\n",
    "print(dart)\n",
    "\n",
    "for i in range(len(dart)):\n",
    "    if dart[i][2]=='*' and i>0:  # 스타(*)가 두번째 또는 세번째에 나타날경우\n",
    "        dart[i-1]*=2   # 스타(*)가 나타난 앞에그룹 숫자를 두배\n",
    "    dart[i] = int(dart[i][0]) ** bonus[dart[i][1]] * option[dart[i][2]]\n",
    "print(dart)\n",
    "print(sum(dart))"
   ]
  },
  {
   "cell_type": "code",
   "execution_count": 140,
   "metadata": {},
   "outputs": [
    {
     "data": {
      "text/plain": [
       "2"
      ]
     },
     "execution_count": 140,
     "metadata": {},
     "output_type": "execute_result"
    }
   ],
   "source": [
    "bonus['D']"
   ]
  },
  {
   "cell_type": "code",
   "execution_count": 137,
   "metadata": {
    "scrolled": false
   },
   "outputs": [
    {
     "data": {
      "text/plain": [
       "'10'"
      ]
     },
     "execution_count": 137,
     "metadata": {},
     "output_type": "execute_result"
    }
   ],
   "source": [
    "dart[0][0]"
   ]
  },
  {
   "cell_type": "markdown",
   "metadata": {},
   "source": [
    "-----------------------------------\n",
    "### 다른사람 풀이[3]\n",
    "* dartResult에서 '10' 을 'k'로 바꾸고\n",
    "* 다시 dartResult가 'k' 일경우 '10' 으로 바꿔서 '1' 과 '0' 을 '10' 으로 묶어줌\n",
    "    * '10D2S*10S'  => 'kD2S*kS'  => ['10', 'D', '2', 'S', '*', '10', 'S']"
   ]
  },
  {
   "cell_type": "code",
   "execution_count": 157,
   "metadata": {},
   "outputs": [
    {
     "data": {
      "text/plain": [
       "'10D2S*10S'"
      ]
     },
     "execution_count": 157,
     "metadata": {},
     "output_type": "execute_result"
    }
   ],
   "source": [
    "dartResult='10D2S*10S'\n",
    "dartResult"
   ]
  },
  {
   "cell_type": "code",
   "execution_count": 158,
   "metadata": {},
   "outputs": [
    {
     "data": {
      "text/plain": [
       "'kD2S*kS'"
      ]
     },
     "execution_count": 158,
     "metadata": {},
     "output_type": "execute_result"
    }
   ],
   "source": [
    "dartResult=dartResult.replace('10','k')\n",
    "dartResult"
   ]
  },
  {
   "cell_type": "code",
   "execution_count": 159,
   "metadata": {},
   "outputs": [
    {
     "data": {
      "text/plain": [
       "['10', 'D', '2', 'S', '*', '10', 'S']"
      ]
     },
     "execution_count": 159,
     "metadata": {},
     "output_type": "execute_result"
    }
   ],
   "source": [
    "['10' if i=='k' else i for i in dartResult]"
   ]
  },
  {
   "cell_type": "code",
   "execution_count": null,
   "metadata": {},
   "outputs": [],
   "source": []
  }
 ],
 "metadata": {
  "kernelspec": {
   "display_name": "suhyun2",
   "language": "python",
   "name": "suhyun2"
  },
  "language_info": {
   "codemirror_mode": {
    "name": "ipython",
    "version": 3
   },
   "file_extension": ".py",
   "mimetype": "text/x-python",
   "name": "python",
   "nbconvert_exporter": "python",
   "pygments_lexer": "ipython3",
   "version": "3.6.8"
  }
 },
 "nbformat": 4,
 "nbformat_minor": 2
}
