{
 "cells": [
  {
   "cell_type": "markdown",
   "metadata": {},
   "source": [
    "## 크레인 인형뽑기 게임\n",
    "2020-09-29\n",
    "\n",
    "#### 문제 설명\n",
    "게임 화면의 격자의 상태가 담긴 2차원 배열 board와 인형을 집기 위해 크레인을 작동시킨 위치가 담긴 배열 moves가 매개변수로 주어질 때,<br>\n",
    "크레인을 모두 작동시킨 후 터트려져 사라진 인형의 개수를 return 하도록 solution 함수를 완성해주세요.\n"
   ]
  },
  {
   "cell_type": "code",
   "execution_count": 3,
   "metadata": {},
   "outputs": [
    {
     "data": {
      "text/plain": [
       "[[0, 0, 0, 0, 0],\n",
       " [0, 0, 1, 0, 3],\n",
       " [0, 2, 5, 0, 1],\n",
       " [4, 2, 4, 4, 2],\n",
       " [3, 5, 1, 3, 1]]"
      ]
     },
     "execution_count": 3,
     "metadata": {},
     "output_type": "execute_result"
    }
   ],
   "source": [
    "board=[[0,0,0,0,0],[0,0,1,0,3],[0,2,5,0,1],[4,2,4,4,2],[3,5,1,3,1]]\n",
    "moves=[1,5,3,5,1,2,1,4]\t\n",
    "board"
   ]
  },
  {
   "cell_type": "code",
   "execution_count": 113,
   "metadata": {},
   "outputs": [
    {
     "data": {
      "text/plain": [
       "[[0, 0, 0, 4, 3],\n",
       " [0, 0, 2, 2, 5],\n",
       " [0, 1, 5, 4, 1],\n",
       " [0, 0, 0, 4, 3],\n",
       " [0, 3, 1, 2, 1]]"
      ]
     },
     "execution_count": 113,
     "metadata": {},
     "output_type": "execute_result"
    }
   ],
   "source": [
    "Array=[list(i) for i in zip(*board)]\n",
    "Array"
   ]
  },
  {
   "cell_type": "code",
   "execution_count": 64,
   "metadata": {},
   "outputs": [
    {
     "data": {
      "text/plain": [
       "[0, 0, 0, 4, 3]"
      ]
     },
     "execution_count": 64,
     "metadata": {},
     "output_type": "execute_result"
    }
   ],
   "source": [
    "Array[0]"
   ]
  },
  {
   "cell_type": "code",
   "execution_count": 63,
   "metadata": {},
   "outputs": [
    {
     "data": {
      "text/plain": [
       "3"
      ]
     },
     "execution_count": 63,
     "metadata": {},
     "output_type": "execute_result"
    }
   ],
   "source": [
    "Array[0].index(4)"
   ]
  },
  {
   "cell_type": "code",
   "execution_count": 27,
   "metadata": {},
   "outputs": [
    {
     "name": "stdout",
     "output_type": "stream",
     "text": [
      "[0, 0, 0, 4, 3]\n",
      "[0, 3, 1, 2, 1]\n",
      "[0, 1, 5, 4, 1]\n",
      "[0, 3, 1, 2, 1]\n",
      "[0, 0, 0, 4, 3]\n",
      "[0, 0, 2, 2, 5]\n",
      "[0, 0, 0, 4, 3]\n",
      "[0, 0, 0, 4, 3]\n"
     ]
    }
   ],
   "source": [
    "for m in moves: \n",
    "    print(Array[m-1])"
   ]
  },
  {
   "cell_type": "code",
   "execution_count": 72,
   "metadata": {},
   "outputs": [
    {
     "data": {
      "text/plain": [
       "[[0, 0, 0, 4, 3],\n",
       " [0, 0, 2, 2, 5],\n",
       " [0, 1, 5, 4, 1],\n",
       " [0, 0, 0, 4, 3],\n",
       " [0, 3, 1, 2, 1]]"
      ]
     },
     "execution_count": 72,
     "metadata": {},
     "output_type": "execute_result"
    }
   ],
   "source": [
    "Array"
   ]
  },
  {
   "cell_type": "code",
   "execution_count": 51,
   "metadata": {},
   "outputs": [
    {
     "data": {
      "text/plain": [
       "4"
      ]
     },
     "execution_count": 51,
     "metadata": {},
     "output_type": "execute_result"
    }
   ],
   "source": [
    "Array[0][3]"
   ]
  },
  {
   "cell_type": "code",
   "execution_count": 74,
   "metadata": {},
   "outputs": [],
   "source": [
    "Array[0].remove(Array[0][3])"
   ]
  },
  {
   "cell_type": "code",
   "execution_count": 75,
   "metadata": {},
   "outputs": [
    {
     "data": {
      "text/plain": [
       "[[0, 0, 0, 3],\n",
       " [0, 0, 2, 2, 5],\n",
       " [0, 1, 5, 4, 1],\n",
       " [0, 0, 0, 4, 3],\n",
       " [0, 3, 1, 2, 1]]"
      ]
     },
     "execution_count": 75,
     "metadata": {},
     "output_type": "execute_result"
    }
   ],
   "source": [
    "Array"
   ]
  },
  {
   "cell_type": "code",
   "execution_count": 58,
   "metadata": {},
   "outputs": [
    {
     "data": {
      "text/plain": [
       "5"
      ]
     },
     "execution_count": 58,
     "metadata": {},
     "output_type": "execute_result"
    }
   ],
   "source": [
    "len(Array)"
   ]
  },
  {
   "cell_type": "code",
   "execution_count": 78,
   "metadata": {},
   "outputs": [
    {
     "data": {
      "text/plain": [
       "5"
      ]
     },
     "execution_count": 78,
     "metadata": {},
     "output_type": "execute_result"
    }
   ],
   "source": [
    "len(Array[0])"
   ]
  },
  {
   "cell_type": "code",
   "execution_count": 40,
   "metadata": {},
   "outputs": [
    {
     "name": "stdout",
     "output_type": "stream",
     "text": [
      "4\n",
      "3\n"
     ]
    }
   ],
   "source": [
    "for j in range(len(Array)):\n",
    "    arr_value= Array[0][j]\n",
    "    if arr_value !=0:\n",
    "        print(arr_value)"
   ]
  },
  {
   "cell_type": "code",
   "execution_count": 61,
   "metadata": {},
   "outputs": [
    {
     "name": "stdout",
     "output_type": "stream",
     "text": [
      "[4, 3, 3, 1, 2, 1, 1, 5, 4, 1, 3, 1, 2, 1, 4, 3, 2, 2, 5, 4, 3, 4, 3]\n"
     ]
    }
   ],
   "source": [
    "mylist=[]\n",
    "for m in moves:   # [1,5,3,5,1,2,1,4]\n",
    "    for j in range(len(Array)):    # j = 0,1,2,3,4 => \n",
    "        arr_value=Array[m-1][j]   # arr_value=Array의 앞에서부터 뽑아내는식\n",
    "        if arr_value!=0:\n",
    "            mylist.append(arr_value)       \n",
    "print(mylist)"
   ]
  },
  {
   "cell_type": "code",
   "execution_count": 79,
   "metadata": {},
   "outputs": [
    {
     "data": {
      "text/plain": [
       "[[0, 0, 0, 4, 3],\n",
       " [0, 0, 2, 2, 5],\n",
       " [0, 1, 5, 4, 1],\n",
       " [0, 0, 0, 4, 3],\n",
       " [0, 3, 1, 2, 1]]"
      ]
     },
     "execution_count": 79,
     "metadata": {},
     "output_type": "execute_result"
    }
   ],
   "source": [
    "Array"
   ]
  },
  {
   "cell_type": "code",
   "execution_count": 81,
   "metadata": {},
   "outputs": [
    {
     "data": {
      "text/plain": [
       "5"
      ]
     },
     "execution_count": 81,
     "metadata": {},
     "output_type": "execute_result"
    }
   ],
   "source": [
    "len(Array[0])"
   ]
  },
  {
   "cell_type": "code",
   "execution_count": 85,
   "metadata": {},
   "outputs": [
    {
     "data": {
      "text/plain": [
       "3"
      ]
     },
     "execution_count": 85,
     "metadata": {},
     "output_type": "execute_result"
    }
   ],
   "source": [
    "Array[0].index(4)"
   ]
  },
  {
   "cell_type": "code",
   "execution_count": 86,
   "metadata": {},
   "outputs": [
    {
     "data": {
      "text/plain": [
       "4"
      ]
     },
     "execution_count": 86,
     "metadata": {},
     "output_type": "execute_result"
    }
   ],
   "source": [
    "Array[0][3]"
   ]
  },
  {
   "cell_type": "code",
   "execution_count": 174,
   "metadata": {},
   "outputs": [
    {
     "name": "stdout",
     "output_type": "stream",
     "text": [
      "moves=> 1\n",
      "Array => [[0, 0, 0, 3], [0, 0, 2, 2, 5], [0, 1, 5, 4, 1], [0, 0, 0, 4, 3], [0, 3, 1, 2, 1]]\n",
      "mylist=> [4]\n",
      "\n",
      "\n",
      "moves=> 5\n",
      "Array => [[0, 0, 0, 3], [0, 0, 2, 2, 5], [0, 1, 5, 4, 1], [0, 0, 0, 4, 3], [0, 1, 2, 1]]\n",
      "mylist=> [4, 3]\n",
      "\n",
      "\n",
      "moves=> 3\n",
      "Array => [[0, 0, 0, 3], [0, 0, 2, 2, 5], [0, 5, 4, 1], [0, 0, 0, 4, 3], [0, 1, 2, 1]]\n",
      "mylist=> [4, 3, 1]\n",
      "\n",
      "\n",
      "moves=> 5\n",
      "Array => [[0, 0, 0, 3], [0, 0, 2, 2, 5], [0, 5, 4, 1], [0, 0, 0, 4, 3], [0, 2, 1]]\n",
      "mylist=> [4, 3, 1, 1]\n",
      "\n",
      "\n",
      "moves=> 1\n",
      "Array => [[0, 0, 0], [0, 0, 2, 2, 5], [0, 5, 4, 1], [0, 0, 0, 4, 3], [0, 2, 1]]\n",
      "mylist=> [4, 3, 3]\n",
      "\n",
      "\n",
      "moves=> 2\n",
      "Array => [[0, 0, 0], [0, 0, 2, 5], [0, 5, 4, 1], [0, 0, 0, 4, 3], [0, 2, 1]]\n",
      "mylist=> [4, 2]\n",
      "\n",
      "\n",
      "moves=> 1\n",
      "moves=> 4\n",
      "Array => [[0, 0, 0], [0, 0, 2, 5], [0, 5, 4, 1], [0, 0, 0, 3], [0, 2, 1]]\n",
      "mylist=> [4, 2, 4]\n",
      "\n",
      "\n",
      "result => [4, 2, 4]\n",
      "mylist_total=> [4, 3, 1, 1, 3, 2, 4]\n",
      "answer=>  4\n",
      "cnt=> 4\n"
     ]
    }
   ],
   "source": [
    "board=[[0,0,0,0,0],[0,0,1,0,3],[0,2,5,0,1],[4,2,4,4,2],[3,5,1,3,1]]\n",
    "moves=[1,5,3,5,1,2,1,4]\n",
    "# moves=[4,5,3,2,1]\n",
    "Array=[list(i) for i in zip(*board)]\n",
    "# [[0, 0, 0, 4, 3],\n",
    "#  [0, 0, 2, 2, 5],\n",
    "#  [0, 1, 5, 4, 1],\n",
    "#  [0, 0, 0, 4, 3],\n",
    "#  [0, 3, 1, 2, 1]]\n",
    "\n",
    "mylist=[]\n",
    "mylist_total=[]\n",
    "cnt=0\n",
    "for m in moves:   # [1,5,3,5,1,2,1,4]\n",
    "    print('moves=>', m)\n",
    "    for j in range(len(Array[m-1])):    # j = 0,1,2,3,4 => \n",
    "        arr_value=Array[m-1][j]   # arr_value=Array의 앞에서부터 뽑아내는식\n",
    "        if arr_value!=0:\n",
    "            mylist.append(arr_value)  \n",
    "            mylist_total.append(arr_value)\n",
    "            value_idx=Array[m-1].index(arr_value)  # arr_value가 있는 위치index\n",
    "            Array[m-1].remove(Array[m-1][value_idx])   # Array[0][3]\n",
    "            print('Array =>',Array)\n",
    "            print('mylist=>',mylist)\n",
    "            print('\\n')\n",
    "            if len(mylist)>1 and mylist[-1]==mylist[-2]:    # 같은 인형 제거.\n",
    "                cnt+=1\n",
    "                del mylist[-2:]\n",
    "#                 mylist.remove(mylist[-1])\n",
    "#                 mylist.remove(mylist[-1])\n",
    "            break\n",
    "            \n",
    "print('result =>',mylist)\n",
    "print('mylist_total=>', mylist_total)\n",
    "answer=len(mylist_total) - len(mylist)\n",
    "print('answer=> ',answer)\n",
    "print('cnt=>',cnt*2)"
   ]
  },
  {
   "cell_type": "code",
   "execution_count": 171,
   "metadata": {},
   "outputs": [],
   "source": [
    "ss=[4,2,4,2,2]\n",
    "del ss[-2:]"
   ]
  },
  {
   "cell_type": "code",
   "execution_count": 172,
   "metadata": {},
   "outputs": [
    {
     "data": {
      "text/plain": [
       "[4, 2, 4]"
      ]
     },
     "execution_count": 172,
     "metadata": {},
     "output_type": "execute_result"
    }
   ],
   "source": [
    "ss"
   ]
  },
  {
   "cell_type": "code",
   "execution_count": 146,
   "metadata": {},
   "outputs": [
    {
     "name": "stdout",
     "output_type": "stream",
     "text": [
      "mylist => [4, 2, 4]\n",
      "mylist_total=> [4, 3, 1, 1, 3, 2, 4]\n",
      "answer=>  4\n"
     ]
    }
   ],
   "source": [
    "Array=[list(i) for i in zip(*board)]\n",
    "\n",
    "mylist=[]\n",
    "mylist_total=[]\n",
    "for m in moves:   # [1,5,3,5,1,2,1,4]\n",
    "    for j in range(len(Array[m-1])):    # j = 0,1,2,3,4 => \n",
    "        arr_value=Array[m-1][j]   # arr_value=Array의 앞에서부터 뽑아내는식\n",
    "        if arr_value!=0:\n",
    "            mylist.append(arr_value)  \n",
    "            mylist_total.append(arr_value)\n",
    "            value_idx=Array[m-1].index(arr_value)  # arr_value가 있는 위치index\n",
    "            Array[m-1].remove(Array[m-1][value_idx])\n",
    "            if len(mylist)>1 and mylist[-1]==mylist[-2]:    # 같은 인형 제거.\n",
    "                mylist.remove(mylist[-1])\n",
    "                mylist.remove(mylist[-1])\n",
    "            break\n",
    "print('mylist =>',mylist)\n",
    "print('mylist_total=>', mylist_total)\n",
    "answer=len(mylist_total) - len(mylist)\n",
    "print('answer=> ',answer)"
   ]
  },
  {
   "cell_type": "code",
   "execution_count": 189,
   "metadata": {},
   "outputs": [
    {
     "data": {
      "text/plain": [
       "5"
      ]
     },
     "execution_count": 189,
     "metadata": {},
     "output_type": "execute_result"
    }
   ],
   "source": [
    "Array=[list(i) for i in zip(*board)]\n",
    "len(Array)"
   ]
  },
  {
   "cell_type": "markdown",
   "metadata": {},
   "source": [
    "**수현's 풀이**"
   ]
  },
  {
   "cell_type": "code",
   "execution_count": 192,
   "metadata": {},
   "outputs": [],
   "source": [
    "def solution(board,moves):\n",
    "    Array=[list(i) for i in zip(*board)]\n",
    "    mylist=[]\n",
    "    cnt=0\n",
    "    \n",
    "    for m in moves:   # [1,5,3,5,1,2,1,4]\n",
    "        for j in range(len(Array[m-1])):    # j = 0,1,2,3,4 => \n",
    "            arr_value=Array[m-1][j]   # arr_value=Array의 앞에서부터 뽑아내는식\n",
    "            if arr_value!=0:\n",
    "                mylist.append(arr_value)  \n",
    "                value_idx=Array[m-1].index(arr_value)  # arr_value가 있는 위치index\n",
    "                \n",
    "                Array[m-1].remove(Array[m-1][value_idx])\n",
    "                if len(mylist)>1 and mylist[-1]==mylist[-2]:    # 같은 인형 제거.\n",
    "                    cnt+=1\n",
    "                    del mylist[-2:]\n",
    "                break\n",
    "    answer=cnt*2\n",
    "    return answer"
   ]
  },
  {
   "cell_type": "code",
   "execution_count": 193,
   "metadata": {},
   "outputs": [
    {
     "data": {
      "text/plain": [
       "4"
      ]
     },
     "execution_count": 193,
     "metadata": {},
     "output_type": "execute_result"
    }
   ],
   "source": [
    "board=[[0,0,0,0,0],[0,0,1,0,3],[0,2,5,0,1],[4,2,4,4,2],[3,5,1,3,1]]\n",
    "moves=[1,5,3,5,1,2,1,4]\t\n",
    "solution(board,moves)"
   ]
  },
  {
   "cell_type": "markdown",
   "metadata": {},
   "source": [
    "**다른사람 풀이**\n",
    "* for문에서 i,j순으로 loop돌리고나서 j를 행에, i를 열로하게되면 열은 고정하고 행별로 값을 꺼내올수있음\n",
    "* 인형은 두개씩없어지므로, 애초에 카운트할때 +=2로 두개씩 증가시키면됨.\n",
    "* remove() 대신 pop()사용 "
   ]
  },
  {
   "cell_type": "code",
   "execution_count": 205,
   "metadata": {},
   "outputs": [],
   "source": [
    "board=[[0,0,0,0,0],[0,0,1,0,3],[0,2,5,0,1],[4,2,4,4,2],[3,5,1,3,1]]\n",
    "moves=[1,5,3,5,1,2,1,4]\t\n",
    "\n",
    "stacklist=[]\n",
    "answer=0\n",
    "for i in moves:\n",
    "    for j in range(len(board)): # j=0,1,2,3,4\n",
    "        if board[j][i-1] !=0:\n",
    "            stacklist.append(board[j][i-1])\n",
    "            \n",
    "            if len(stacklist)>1:\n",
    "                if stacklist[-1]==stacklist[-2]:\n",
    "                    stacklist.pop(-1)\n",
    "                    stacklist.pop(-1)\n",
    "                    answer+=2\n",
    "            break"
   ]
  },
  {
   "cell_type": "code",
   "execution_count": null,
   "metadata": {},
   "outputs": [],
   "source": []
  },
  {
   "cell_type": "code",
   "execution_count": null,
   "metadata": {},
   "outputs": [],
   "source": []
  },
  {
   "cell_type": "code",
   "execution_count": null,
   "metadata": {},
   "outputs": [],
   "source": []
  }
 ],
 "metadata": {
  "kernelspec": {
   "display_name": "suhyun2",
   "language": "python",
   "name": "suhyun2"
  },
  "language_info": {
   "codemirror_mode": {
    "name": "ipython",
    "version": 3
   },
   "file_extension": ".py",
   "mimetype": "text/x-python",
   "name": "python",
   "nbconvert_exporter": "python",
   "pygments_lexer": "ipython3",
   "version": "3.6.8"
  }
 },
 "nbformat": 4,
 "nbformat_minor": 2
}
