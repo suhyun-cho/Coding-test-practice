{
 "cells": [
  {
   "cell_type": "markdown",
   "metadata": {},
   "source": [
    "## 시저 암호\n",
    "2020-09-18\n",
    "\n",
    "#### 문제 설명 \n",
    "어떤 문장의 각 알파벳을 일정한 거리만큼 밀어서 다른 알파벳으로 바꾸는 암호화 방식을 시저 암호라고 합니다. <br>\n",
    "예를 들어 AB는 1만큼 밀면 BC가 되고, 3만큼 밀면 DE가 됩니다. <br>\n",
    "z는 1만큼 밀면 a가 됩니다. <br>\n",
    "문자열 s와 거리 n을 입력받아 s를 n만큼 민 암호문을 만드는 함수, solution을 완성해 보세요.\n",
    "* 공백은 아무리 밀어도 공백입니다.\n",
    "\n",
    "> s = \"AB\"  <br>\n",
    "> n = 1 <br>\n",
    "> result = \"BC\"\n",
    "\n",
    "> s= \"a B z\" <br>\n",
    "> n =4 <br>\n",
    "> result = \"e F d\""
   ]
  },
  {
   "cell_type": "code",
   "execution_count": 55,
   "metadata": {},
   "outputs": [
    {
     "data": {
      "text/plain": [
       "'ABCDEFGHIJKLMNOPQRSTUVWXYZ'"
      ]
     },
     "execution_count": 55,
     "metadata": {},
     "output_type": "execute_result"
    }
   ],
   "source": [
    "alpha=string.ascii_uppercase\n",
    "alpha"
   ]
  },
  {
   "cell_type": "code",
   "execution_count": 265,
   "metadata": {},
   "outputs": [
    {
     "name": "stdout",
     "output_type": "stream",
     "text": [
      "{0: 'A', 1: 'B', 2: 'C', 3: 'D', 4: 'E', 5: 'F', 6: 'G', 7: 'H', 8: 'I', 9: 'J', 10: 'K', 11: 'L', 12: 'M', 13: 'N', 14: 'O', 15: 'P', 16: 'Q', 17: 'R', 18: 'S', 19: 'T', 20: 'U', 21: 'V', 22: 'W', 23: 'X', 24: 'Y', 25: 'Z'}\n"
     ]
    }
   ],
   "source": [
    "# enumerate를 딕셔너리로만들기.\n",
    "alpha='ABCDEFGHIJKLMNOPQRSTUVWXYZ'  # 26개\n",
    "data=enumerate(alpha)\n",
    "dict={}\n",
    "s = [\"YZ\"]\n",
    "n=1\n",
    "for i,value in data:\n",
    "    dict[i]=value\n",
    "print(dict)"
   ]
  },
  {
   "cell_type": "code",
   "execution_count": 409,
   "metadata": {},
   "outputs": [
    {
     "name": "stdout",
     "output_type": "stream",
     "text": [
      "알파벳 딕셔너리 :  {0: 'A', 1: 'B', 2: 'C', 3: 'D', 4: 'E', 5: 'F', 6: 'G', 7: 'H', 8: 'I', 9: 'J', 10: 'K', 11: 'L', 12: 'M', 13: 'N', 14: 'O', 15: 'P', 16: 'Q', 17: 'R', 18: 'S', 19: 'T', 20: 'U', 21: 'V', 22: 'W', 23: 'X', 24: 'Y', 25: 'Z'}\n",
      "\n",
      "key의 위치 => 0\n",
      "mylist=>  ['E', 'F', 'G']\n",
      "answer=> EFG\n",
      "\n",
      "진짜 정답 =>  eFg\n"
     ]
    }
   ],
   "source": [
    "# 1차 완성.\n",
    "s=\"aBz\"\n",
    "n=4\n",
    "mylist=[]\n",
    "dict={}\n",
    "\n",
    "alpha='ABCDEFGHIJKLMNOPQRSTUVWXYZ' \n",
    "data=enumerate(alpha)\n",
    "for i,value in data:\n",
    "    dict[i]=value\n",
    "print('알파벳 딕셔너리 : ',dict)\n",
    "print('')\n",
    "\n",
    "mystring=s.upper()\n",
    "for ss in [mystring]:\n",
    "    for key,value in dict.items():\n",
    "        if ss[0]== value:\n",
    "            print('key의 위치 =>',key)\n",
    "            for n in range(n,n+len(s)):   #n=1일때 1,2,3 n=2 일때 2,3,4이고 n=3일때 3,4,5\n",
    "                result=dict[(key+n)%26]   \n",
    "                mylist.append(result)\n",
    "            \n",
    "            print('mylist=> ',mylist)\n",
    "            answer=''.join(mylist)\n",
    "            print('answer=>',answer)\n",
    "print('')\n",
    "\n",
    "\n",
    "somelist=[]\n",
    "for something in [s]:\n",
    "    for y in range(0,len(s)):\n",
    "        if something[y]==something[y].lower():\n",
    "            final_answer=answer[y].lower()\n",
    "            somelist.append(final_answer)\n",
    "        else:\n",
    "            final_answer=answer[y].upper()\n",
    "            somelist.append(final_answer)\n",
    "print('진짜 정답 => ',''.join(somelist))"
   ]
  },
  {
   "cell_type": "code",
   "execution_count": 368,
   "metadata": {},
   "outputs": [
    {
     "data": {
      "text/plain": [
       "['xyZ']"
      ]
     },
     "execution_count": 368,
     "metadata": {},
     "output_type": "execute_result"
    }
   ],
   "source": [
    "[s]"
   ]
  },
  {
   "cell_type": "code",
   "execution_count": 389,
   "metadata": {},
   "outputs": [
    {
     "name": "stdout",
     "output_type": "stream",
     "text": [
      "yzA\n"
     ]
    }
   ],
   "source": [
    "somelist=[]\n",
    "for something in [s]:\n",
    "    for y in range(0,len(s)):\n",
    "        if something[y]==something[y].lower():\n",
    "            final_answer=answer[y].lower()\n",
    "            somelist.append(final_answer)\n",
    "        else:\n",
    "            final_answer=answer[y].upper()\n",
    "            somelist.append(final_answer)\n",
    "print(''.join(somelist))"
   ]
  },
  {
   "cell_type": "code",
   "execution_count": 464,
   "metadata": {},
   "outputs": [
    {
     "name": "stdout",
     "output_type": "stream",
     "text": [
      "eFd\n"
     ]
    }
   ],
   "source": [
    "s=\"a B z\"  # cDb (위치=2,3,1)\n",
    "n=4\n",
    "mylist=[]\n",
    "dict={}\n",
    "\n",
    "alpha='ABCDEFGHIJKLMNOPQRSTUVWXYZ' \n",
    "data=enumerate(alpha)\n",
    "for i,value in data:\n",
    "    dict[i]=value\n",
    "# print('알파벳 딕셔너리 : ',dict)\n",
    "# print('')\n",
    "\n",
    "mystring=s.upper()   # 대문자로치환 => mystring =[ABZ]\n",
    "# print('mystring=>', mystring)\n",
    "\n",
    "for ss in [mystring]:   # ss=['ABZ']\n",
    "    for key,value in dict.items():\n",
    "        for i in range(0,len(ss)):  # i=0,1,2\n",
    "            if ss[i]==value:\n",
    "                answer=dict[(key+n)%26]\n",
    "                if s[i]==mystring[i]:\n",
    "                    mylist.append(answer)\n",
    "                else:\n",
    "                    mylist.append(answer.lower())\n",
    "result=''.join(mylist)        \n",
    "print(result)"
   ]
  },
  {
   "cell_type": "markdown",
   "metadata": {},
   "source": [
    "--------------------------------------------------------\n",
    "#### 수현's 풀이방법 (띄어쓰기는 구분을 못함 ㅠㅠ)\n",
    "* 대문자 알파벳을 alpha로 미리 만들어놓는다.\n",
    "* enumerate로 알파벳별 index를 dict라는 딕셔너리로 만든다.\n",
    "* mystring에 s를 대문자로 치환해놓고\n",
    "* mystring에있는 값을 하나씩 꺼내서 알파벳에 해당하는 key값을 딕셔너리에서 찾는다.\n",
    "* 해당 key값에 n을 더하고 알파벳개수 26으로 나눈 나머지가 key일때의 value값을 answer에 저장.\n",
    "* 원래의 s를 대문자치환한 mystring과 비교해서, 대문자이면 그대로 mylist에 append를하고, 다르면 lower()소문자치환해서 append\n",
    "* join으로 mylist를 하나의 문자로 만들어줌"
   ]
  },
  {
   "cell_type": "code",
   "execution_count": 465,
   "metadata": {},
   "outputs": [],
   "source": [
    "def solution(s,n):\n",
    "    mylist=[]\n",
    "    dict={}\n",
    "\n",
    "    alpha='ABCDEFGHIJKLMNOPQRSTUVWXYZ' \n",
    "    data=enumerate(alpha)\n",
    "    for i,value in data:\n",
    "        dict[i]=value\n",
    "    mystring=s.upper()   # 대문자로치환 => mystring =[ABZ]\n",
    "\n",
    "    for ss in [mystring]:   # ss=['ABZ']\n",
    "        for key,value in dict.items():\n",
    "            for i in range(0,len(ss)):  # i=0,1,2\n",
    "                if ss[i]==value:\n",
    "                    answer=dict[(key+n)%26]\n",
    "                    if s[i]==mystring[i]:\n",
    "                        mylist.append(answer)\n",
    "                    else:\n",
    "                        mylist.append(answer.lower())\n",
    "    result=''.join(mylist)     \n",
    "    return result"
   ]
  },
  {
   "cell_type": "code",
   "execution_count": 470,
   "metadata": {},
   "outputs": [
    {
     "data": {
      "text/plain": [
       "'eFd'"
      ]
     },
     "execution_count": 470,
     "metadata": {},
     "output_type": "execute_result"
    }
   ],
   "source": [
    "solution(\"a B z\",4)"
   ]
  },
  {
   "cell_type": "markdown",
   "metadata": {},
   "source": [
    "--------------------------------------------------------\n",
    "**다른사람 풀이(1)**\n",
    "* isupper(), islower() 로 대소문자 판별\n",
    "* 유니코드 값을 반환받는 ord를 이용해서 유니코드 값을 구하고, 이를 chr의 인자로 전달하여 해당 유니코드에 매칭되는 문자를 구한다."
   ]
  },
  {
   "cell_type": "code",
   "execution_count": 509,
   "metadata": {},
   "outputs": [
    {
     "data": {
      "text/plain": [
       "'c B z'"
      ]
     },
     "execution_count": 509,
     "metadata": {},
     "output_type": "execute_result"
    }
   ],
   "source": [
    "s=\"c B z\"\n",
    "s"
   ]
  },
  {
   "cell_type": "code",
   "execution_count": 510,
   "metadata": {},
   "outputs": [
    {
     "data": {
      "text/plain": [
       "['c', ' ', 'B', ' ', 'z']"
      ]
     },
     "execution_count": 510,
     "metadata": {},
     "output_type": "execute_result"
    }
   ],
   "source": [
    "s=list(s)\n",
    "s"
   ]
  },
  {
   "cell_type": "code",
   "execution_count": 494,
   "metadata": {},
   "outputs": [
    {
     "data": {
      "text/plain": [
       "66"
      ]
     },
     "execution_count": 494,
     "metadata": {},
     "output_type": "execute_result"
    }
   ],
   "source": [
    "ord('B')"
   ]
  },
  {
   "cell_type": "code",
   "execution_count": 495,
   "metadata": {},
   "outputs": [
    {
     "data": {
      "text/plain": [
       "98"
      ]
     },
     "execution_count": 495,
     "metadata": {},
     "output_type": "execute_result"
    }
   ],
   "source": [
    "ord('b')"
   ]
  },
  {
   "cell_type": "code",
   "execution_count": 500,
   "metadata": {},
   "outputs": [
    {
     "data": {
      "text/plain": [
       "'b'"
      ]
     },
     "execution_count": 500,
     "metadata": {},
     "output_type": "execute_result"
    }
   ],
   "source": [
    "chr(98)"
   ]
  },
  {
   "cell_type": "code",
   "execution_count": 539,
   "metadata": {},
   "outputs": [
    {
     "name": "stdout",
     "output_type": "stream",
     "text": [
      "e F d\n"
     ]
    }
   ],
   "source": [
    "s=\"a B z\"\n",
    "s=list(s)\n",
    "for i in range(len(s)):  # i=0,1,2,3,4\n",
    "    if s[i].isupper():\n",
    "        s[i] = chr((ord(s[i]) - ord('A') + n) % 26 + ord('A'))\n",
    "    elif s[i].islower():\n",
    "        s[i]=chr(( ord(s[i]) - ord('a')+n) %26 + ord('a'))\n",
    "print(''.join(s))"
   ]
  },
  {
   "cell_type": "code",
   "execution_count": 523,
   "metadata": {},
   "outputs": [
    {
     "data": {
      "text/plain": [
       "'e'"
      ]
     },
     "execution_count": 523,
     "metadata": {},
     "output_type": "execute_result"
    }
   ],
   "source": [
    "chr((ord('c')- ord('a') + 2)%26 + ord('a'))"
   ]
  },
  {
   "cell_type": "code",
   "execution_count": 525,
   "metadata": {},
   "outputs": [
    {
     "data": {
      "text/plain": [
       "97"
      ]
     },
     "execution_count": 525,
     "metadata": {},
     "output_type": "execute_result"
    }
   ],
   "source": [
    "ord('a')"
   ]
  },
  {
   "cell_type": "code",
   "execution_count": 526,
   "metadata": {},
   "outputs": [
    {
     "data": {
      "text/plain": [
       "99"
      ]
     },
     "execution_count": 526,
     "metadata": {},
     "output_type": "execute_result"
    }
   ],
   "source": [
    "ord('c')"
   ]
  },
  {
   "cell_type": "code",
   "execution_count": 527,
   "metadata": {},
   "outputs": [
    {
     "data": {
      "text/plain": [
       "4"
      ]
     },
     "execution_count": 527,
     "metadata": {},
     "output_type": "execute_result"
    }
   ],
   "source": [
    "4%26"
   ]
  },
  {
   "cell_type": "code",
   "execution_count": null,
   "metadata": {},
   "outputs": [],
   "source": []
  }
 ],
 "metadata": {
  "kernelspec": {
   "display_name": "suhyun2",
   "language": "python",
   "name": "suhyun2"
  },
  "language_info": {
   "codemirror_mode": {
    "name": "ipython",
    "version": 3
   },
   "file_extension": ".py",
   "mimetype": "text/x-python",
   "name": "python",
   "nbconvert_exporter": "python",
   "pygments_lexer": "ipython3",
   "version": "3.6.8"
  }
 },
 "nbformat": 4,
 "nbformat_minor": 2
}
