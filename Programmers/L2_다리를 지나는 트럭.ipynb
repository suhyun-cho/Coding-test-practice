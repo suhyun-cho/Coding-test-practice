{
 "cells": [
  {
   "cell_type": "markdown",
   "metadata": {},
   "source": [
    "## 다리를 지나는 트럭\n",
    "2020-10-25\n",
    "\n",
    "#### 문제설명\n",
    "트럭 여러 대가 강을 가로지르는 일 차선 다리를 정해진 순으로 건너려 합니다.<br>\n",
    "모든 트럭이 다리를 건너려면 최소 몇 초가 걸리는지 알아내야 합니다. <br>\n",
    "트럭은 1초에 1만큼 움직이며, 다리 길이는 bridge_length이고 다리는 무게 weight까지 견딥니다.<br>\n",
    "※ 트럭이 다리에 완전히 오르지 않은 경우, 이 트럭의 무게는 고려하지 않습니다."
   ]
  },
  {
   "cell_type": "markdown",
   "metadata": {},
   "source": [
    "#### 이문제에서 새롭게 배운점 \n",
    "> * while문에서 q=[0,0]이런식으로 q값이 있을때 게속 반복하다가\n",
    "    * q가 q=[] 처럼 빈 리스트가 되면 중단.\n",
    "> * if문에서도 마찬가지로, if truck_weights : 라고하면\n",
    "    * truck_weights값이 [] 이면 수행안함.\n",
    "    * 0이나 null값일 경우 False이기때문에, 빈리스트가 아니라면 True가되어 실행되는 함수입니다."
   ]
  },
  {
   "cell_type": "code",
   "execution_count": 30,
   "metadata": {},
   "outputs": [],
   "source": [
    "# 길이가 2이고, 10kg무게를 견디는 다리.\n",
    "bridge_length=2\n",
    "weight=10\n",
    "truck_weights=[7,4,5,6]"
   ]
  },
  {
   "cell_type": "code",
   "execution_count": 31,
   "metadata": {},
   "outputs": [
    {
     "data": {
      "text/plain": [
       "[7, 4]"
      ]
     },
     "execution_count": 31,
     "metadata": {},
     "output_type": "execute_result"
    }
   ],
   "source": [
    "truck_weights[:bridge_length]"
   ]
  },
  {
   "cell_type": "code",
   "execution_count": 32,
   "metadata": {},
   "outputs": [],
   "source": [
    "bridge_length=2\n",
    "weight=10\n",
    "truck_weights=[7,4,5,6]"
   ]
  },
  {
   "cell_type": "markdown",
   "metadata": {},
   "source": [
    "**잘못된방법..ㅠㅠ Fail!!!**"
   ]
  },
  {
   "cell_type": "code",
   "execution_count": 36,
   "metadata": {},
   "outputs": [
    {
     "name": "stdout",
     "output_type": "stream",
     "text": [
      "time-------------------> 1\n",
      "truck_weights=> [7, 4, 5, 6]\n",
      "truck= 7\n",
      "on_bridge=> [7]\n",
      "time-------------------> 2\n",
      "truck_weights=> [7, 4, 5, 6]\n",
      "truck= 4\n",
      "on_bridge=> [7, 4]\n",
      "on_bridge_2=> [7]\n",
      "truck_weights [4, 5, 6]\n",
      "time-------------------> 3\n",
      "truck_weights=> [4, 5, 6]\n",
      "truck= 6\n",
      "on_bridge=> [7, 6]\n",
      "on_bridge_2=> [7]\n",
      "truck_weights [5, 6]\n"
     ]
    }
   ],
   "source": [
    "bridge_length=2\n",
    "weight=10\n",
    "truck_weights=[7,4,5,6]\n",
    "time=0\n",
    "on_bridge=[]\n",
    "\n",
    "for truck in truck_weights:  # truck=7,4,5,6\n",
    "    time+=1\n",
    "    print('time------------------->',time)\n",
    "    print('truck_weights=>',truck_weights)\n",
    "    print('truck=',truck)\n",
    "    on_bridge.append(truck)   \n",
    "    print('on_bridge=>',on_bridge)\n",
    "    \n",
    "    if sum(on_bridge)>10:\n",
    "        on_bridge.pop(-1)\n",
    "        print('on_bridge_2=>',on_bridge)\n",
    "        truck_weights.pop(0)\n",
    "        print('truck_weights',truck_weights)\n",
    "        truck=truck_weights"
   ]
  },
  {
   "cell_type": "markdown",
   "metadata": {},
   "source": [
    "### 다른사람 풀이\n",
    "\n",
    "> * q안에 [0,0,0,0] 이런형태로 다리가 2이면 [0,0], 다리가 3이면 [0,0,0] 이렇게 다리개수대로 0을 넣은 리스트를 만든다.\n",
    "> * q의 가장 앞에있는 값을 pop()으로 하나씩 빼고\n",
    "> * truck_weights에 있는 값을 뒤에 append() 하는방식\n",
    "> * 이때, append하고난 값은 truck_weights에서 pop(0)으로 제거.\n",
    "> * 만약, 기존 q에 있는 값과 truck_weights[0] 합이 weight보다 크면, q에 0을 append해서 [숫자,0] 과 같이 만들어줌\n",
    "\n",
    "* while문 \n",
    "    * q = [0]*bridge_length  # [0,0]\n",
    "    * whilt q : 라고하면, q=[] 이렇게 q값이 비어있을때까지 수행.\n",
    "* if  truck_weights: 의미 \n",
    "    * truck_weights가 빈 리스트 [] 이면, 아래구문을 수행안함.\n",
    "    * truck_weights 안에 값이 있으면, 아래 구문 수행."
   ]
  },
  {
   "cell_type": "code",
   "execution_count": 130,
   "metadata": {},
   "outputs": [],
   "source": [
    "def solution(bridge_length, weight, truck_weights):\n",
    "    time = 0\n",
    "    q = [0] * bridge_length\n",
    "    \n",
    "    while q:\n",
    "        time += 1\n",
    "        q.pop(0)\n",
    "        if truck_weights:\n",
    "            if sum(q) + truck_weights[0] <= weight:\n",
    "                q.append(truck_weights[0])\n",
    "                truck_weights.pop(0)\n",
    "                # q.append(truck_weights.pop(0)) 위 두줄을 한줄로요약 가능. (append와 pop을 동시에)\n",
    "            else:\n",
    "                q.append(0)\n",
    "    \n",
    "    return time"
   ]
  },
  {
   "cell_type": "code",
   "execution_count": 54,
   "metadata": {},
   "outputs": [
    {
     "data": {
      "text/plain": [
       "[0, 0, 0, 0, 0]"
      ]
     },
     "execution_count": 54,
     "metadata": {},
     "output_type": "execute_result"
    }
   ],
   "source": [
    "time=0\n",
    "q=[0]*5\n",
    "q"
   ]
  },
  {
   "cell_type": "markdown",
   "metadata": {},
   "source": [
    "* if문을 사용해서 리스트가 비어있을경우 while문 탈출하도록 만듬.(아래 예시)"
   ]
  },
  {
   "cell_type": "code",
   "execution_count": 124,
   "metadata": {},
   "outputs": [
    {
     "name": "stdout",
     "output_type": "stream",
     "text": [
      "pop으로 없앤 숫자=> 7\n",
      "남은 리스트 [4, 5, 6]\n",
      "\n",
      "\n",
      "pop으로 없앤 숫자=> 4\n",
      "남은 리스트 [5, 6]\n",
      "\n",
      "\n",
      "pop으로 없앤 숫자=> 5\n",
      "남은 리스트 [6]\n",
      "\n",
      "\n",
      "pop으로 없앤 숫자=> 6\n",
      "남은 리스트 []\n",
      "\n",
      "\n"
     ]
    }
   ],
   "source": [
    "truck_weights=[7,4,5,6]\n",
    "time=0\n",
    "while truck_weights:\n",
    "    if truck_weights:\n",
    "        print('pop으로 없앤 숫자=>',truck_weights.pop(0))\n",
    "        print('남은 리스트',truck_weights)\n",
    "        print('\\n')"
   ]
  },
  {
   "cell_type": "code",
   "execution_count": 125,
   "metadata": {},
   "outputs": [],
   "source": [
    "truck_weights=[]\n",
    "if truck_weights:\n",
    "    print('yes')"
   ]
  },
  {
   "cell_type": "code",
   "execution_count": 126,
   "metadata": {},
   "outputs": [
    {
     "name": "stdout",
     "output_type": "stream",
     "text": [
      "yes\n"
     ]
    }
   ],
   "source": [
    "truck_weights=[7,4,5,6]\n",
    "if truck_weights:\n",
    "    print('yes')\n",
    "else:\n",
    "    print('no')"
   ]
  },
  {
   "cell_type": "code",
   "execution_count": 129,
   "metadata": {},
   "outputs": [
    {
     "name": "stdout",
     "output_type": "stream",
     "text": [
      "time----------------------------------------- 1\n",
      "q=> [0]\n",
      "truck_weights->  [7, 4, 5, 6]\n",
      "업데이트truck_weights->  [4, 5, 6]\n",
      "q값-----------------------> [0, 7]\n",
      "time----------------------------------------- 2\n",
      "q=> [7]\n",
      "truck_weights->  [4, 5, 6]\n",
      "업데이트truck_weights->  [4, 5, 6]\n",
      "q값-----------------------> [7, 0]\n",
      "time----------------------------------------- 3\n",
      "q=> [0]\n",
      "truck_weights->  [4, 5, 6]\n",
      "업데이트truck_weights->  [5, 6]\n",
      "q값-----------------------> [0, 4]\n",
      "time----------------------------------------- 4\n",
      "q=> [4]\n",
      "truck_weights->  [5, 6]\n",
      "업데이트truck_weights->  [6]\n",
      "q값-----------------------> [4, 5]\n",
      "time----------------------------------------- 5\n",
      "q=> [5]\n",
      "truck_weights->  [6]\n",
      "업데이트truck_weights->  [6]\n",
      "q값-----------------------> [5, 0]\n",
      "time----------------------------------------- 6\n",
      "q=> [0]\n",
      "truck_weights->  [6]\n",
      "업데이트truck_weights->  []\n",
      "q값-----------------------> [0, 6]\n",
      "time----------------------------------------- 7\n",
      "q=> [6]\n",
      "time----------------------------------------- 8\n",
      "q=> []\n"
     ]
    }
   ],
   "source": [
    "bridge_length=2\n",
    "weight=10\n",
    "truck_weights=[7,4,5,6]\n",
    "time=0\n",
    "q = [0]*bridge_length  # [0,0]\n",
    "\n",
    "while q:   # q가 없으면 끝 ?\n",
    "    time+=1\n",
    "    print('time-----------------------------------------',time)\n",
    "    q.pop(0)\n",
    "    print('q=>',q)\n",
    "    if truck_weights:    # truck_weights 리스트안에 값이 있어야 아래 구문을수행. 없으면 수행안함.\n",
    "        print('truck_weights-> ',truck_weights)\n",
    "        if sum(q) + truck_weights[0] <=weight:\n",
    "            q.append(truck_weights.pop(0))   # truck_weights.pop(0) => truck_weights의 첫번째값.\n",
    "            print('업데이트truck_weights-> ',truck_weights)\n",
    "            print('q값----------------------->',q)\n",
    "        else:\n",
    "            q.append(0)  # weight보다 크면 0을 append\n",
    "            print('업데이트truck_weights-> ',truck_weights)\n",
    "            print('q값----------------------->',q)  # 다리무게보다 트럭무게합계가 큰 경우는 무게 append안함."
   ]
  },
  {
   "cell_type": "markdown",
   "metadata": {},
   "source": [
    "* 아래코드는 time+=1을 마지막에수행한 경우 (결과는 같음)"
   ]
  },
  {
   "cell_type": "code",
   "execution_count": 134,
   "metadata": {
    "scrolled": true
   },
   "outputs": [
    {
     "name": "stdout",
     "output_type": "stream",
     "text": [
      "q=> [0]\n",
      "truck_weights->  [7, 4, 5, 6]\n",
      "업데이트truck_weights->  [4, 5, 6]\n",
      "q값-----------------------> [0, 7]\n",
      "time----------------------------------------- 1\n",
      "q=> [7]\n",
      "truck_weights->  [4, 5, 6]\n",
      "업데이트truck_weights->  [4, 5, 6]\n",
      "q값-----------------------> [7, 0]\n",
      "time----------------------------------------- 2\n",
      "q=> [0]\n",
      "truck_weights->  [4, 5, 6]\n",
      "업데이트truck_weights->  [5, 6]\n",
      "q값-----------------------> [0, 4]\n",
      "time----------------------------------------- 3\n",
      "q=> [4]\n",
      "truck_weights->  [5, 6]\n",
      "업데이트truck_weights->  [6]\n",
      "q값-----------------------> [4, 5]\n",
      "time----------------------------------------- 4\n",
      "q=> [5]\n",
      "truck_weights->  [6]\n",
      "업데이트truck_weights->  [6]\n",
      "q값-----------------------> [5, 0]\n",
      "time----------------------------------------- 5\n",
      "q=> [0]\n",
      "truck_weights->  [6]\n",
      "업데이트truck_weights->  []\n",
      "q값-----------------------> [0, 6]\n",
      "time----------------------------------------- 6\n",
      "q=> [6]\n",
      "time----------------------------------------- 7\n",
      "q=> []\n",
      "time----------------------------------------- 8\n"
     ]
    }
   ],
   "source": [
    "bridge_length=2\n",
    "weight=10\n",
    "truck_weights=[7,4,5,6]\n",
    "time=0\n",
    "q = [0]*bridge_length  # [0,0]\n",
    "\n",
    "while q:   # q가 없으면 끝 ?\n",
    "    q.pop(0)\n",
    "    print('q=>',q)\n",
    "    if truck_weights:    # truck_weights 리스트안에 값이 있어야 아래 구문을수행. 없으면 수행안함.\n",
    "        print('truck_weights-> ',truck_weights)\n",
    "        if sum(q) + truck_weights[0] <=weight:\n",
    "            q.append(truck_weights.pop(0))   # truck_weights.pop(0) => truck_weights의 첫번째값.\n",
    "            print('업데이트truck_weights-> ',truck_weights)\n",
    "            print('q값----------------------->',q)\n",
    "        else:\n",
    "            q.append(0)  # weight보다 크면 0을 append\n",
    "            print('업데이트truck_weights-> ',truck_weights)\n",
    "            print('q값----------------------->',q)  # 다리무게보다 트럭무게합계가 큰 경우는 무게 append안함.\n",
    "    time+=1\n",
    "    print('time-----------------------------------------',time)"
   ]
  },
  {
   "cell_type": "code",
   "execution_count": null,
   "metadata": {},
   "outputs": [],
   "source": []
  }
 ],
 "metadata": {
  "kernelspec": {
   "display_name": "Python 3",
   "language": "python",
   "name": "python3"
  },
  "language_info": {
   "codemirror_mode": {
    "name": "ipython",
    "version": 3
   },
   "file_extension": ".py",
   "mimetype": "text/x-python",
   "name": "python",
   "nbconvert_exporter": "python",
   "pygments_lexer": "ipython3",
   "version": "3.6.8"
  }
 },
 "nbformat": 4,
 "nbformat_minor": 2
}
