{
 "cells": [
  {
   "cell_type": "markdown",
   "metadata": {},
   "source": [
    "## 기능개발\n",
    "2020-10-28\n",
    "\n",
    "#### 문제 설명\n",
    "프로그래머스 팀에서는 기능 개선 작업을 수행 중입니다. 각 기능은 진도가 100%일 때 서비스에 반영할 수 있습니다.<br>\n",
    "또, 각 기능의 개발속도는 모두 다르기 때문에 뒤에 있는 기능이 앞에 있는 기능보다 먼저 개발될 수 있고, 이때 뒤에 있는 기능은 앞에 있는 기능이 배포될 때 함께 배포됩니다.<br>\n",
    "먼저 배포되어야 하는 순서대로 작업의 진도가 적힌 정수 배열 progresses와 각 작업의 개발 속도가 적힌 정수 배열 speeds가 주어질 때<br>\n",
    "각 배포마다 몇 개의 기능이 배포되는지를 return 하도록 solution 함수를 완성하세요."
   ]
  },
  {
   "cell_type": "code",
   "execution_count": 17,
   "metadata": {},
   "outputs": [],
   "source": [
    "#progresses=[93,30,55]  # 7 , 3 , 9\n",
    "progresses=[95, 90, 99, 99, 80, 99]\n",
    "#speeds=[1,30,5]\n",
    "speeds=[1, 1, 1, 1, 1, 1]"
   ]
  },
  {
   "cell_type": "markdown",
   "metadata": {},
   "source": [
    "* 각 작업별 완료되기까지 걸리는 시간을 구한 수현's 방법"
   ]
  },
  {
   "cell_type": "code",
   "execution_count": 18,
   "metadata": {},
   "outputs": [
    {
     "name": "stdout",
     "output_type": "stream",
     "text": [
      "progresses=> 95\n",
      "n=> 5\n",
      "progresses=> 90\n",
      "n=> 10\n",
      "progresses=> 99\n",
      "n=> 1\n",
      "progresses=> 99\n",
      "n=> 1\n",
      "progresses=> 80\n",
      "n=> 20\n",
      "progresses=> 99\n",
      "n=> 1\n",
      "daylist-------------------> [5, 10, 1, 1, 20, 1]\n"
     ]
    }
   ],
   "source": [
    "daylist=[]\n",
    "for i in range(len(progresses)):\n",
    "    print('progresses=>',progresses[i])\n",
    "    for n in range(1,101):\n",
    "        if 100-progresses[i] <= speeds[i]*n:   # 7 < 1*7\n",
    "            print('n=>',n)\n",
    "            daylist.append(n)\n",
    "            break\n",
    "print('daylist------------------->',daylist)"
   ]
  },
  {
   "cell_type": "code",
   "execution_count": 3,
   "metadata": {},
   "outputs": [
    {
     "data": {
      "text/plain": [
       "[5, 10, 1, 1, 20, 1]"
      ]
     },
     "execution_count": 3,
     "metadata": {},
     "output_type": "execute_result"
    }
   ],
   "source": [
    "# 앞에서부터 차례대로가면서, 앞이 뒤보다 크거나 같으면 같이 배포.\n",
    "daylist"
   ]
  },
  {
   "cell_type": "markdown",
   "metadata": {},
   "source": [
    "------------------------------------------------------------------------------------\n",
    "\n",
    "\n",
    "#### 다른사람 풀이[1]\n",
    "* while문으로 progresses안에 값이 다 없어지기 전까지 반복\n",
    "* 합이 100이상이면, pop으로 맨앞숫자를 빼주고 count는 1 올려줌.\n",
    "* 주의할점은 time은 매번 1씩 올리는게아니라, 배포가 하나되면 그뒤의 값들도 해당 시간에 배포가능한지 확인후에 없으면 time을 1증가\n",
    "* 맨 마지막의 count는 while문이 끝나면 append가 안되니까 while문과 동일 위치에 append해줌."
   ]
  },
  {
   "cell_type": "code",
   "execution_count": 2,
   "metadata": {},
   "outputs": [
    {
     "name": "stdout",
     "output_type": "stream",
     "text": [
      "time=> 0\n",
      "time=> 1\n",
      "time=> 2\n",
      "time=> 3\n",
      "time=> 4\n",
      "time=> 5\n",
      "progresses=> [90, 99, 99, 80, 99]\n",
      "time=> 5\n",
      "answer= [1]\n",
      "time=> 6\n",
      "time=> 7\n",
      "time=> 8\n",
      "time=> 9\n",
      "time=> 10\n",
      "progresses=> [99, 99, 80, 99]\n",
      "time=> 10\n",
      "progresses=> [99, 80, 99]\n",
      "time=> 10\n",
      "progresses=> [80, 99]\n",
      "time=> 10\n",
      "answer= [1, 3]\n",
      "time=> 11\n",
      "time=> 12\n",
      "time=> 13\n",
      "time=> 14\n",
      "time=> 15\n",
      "time=> 16\n",
      "time=> 17\n",
      "time=> 18\n",
      "time=> 19\n",
      "time=> 20\n",
      "progresses=> [99]\n",
      "time=> 20\n",
      "progresses=> []\n",
      "answer_2= [1, 3, 2]\n"
     ]
    },
    {
     "data": {
      "text/plain": [
       "[1, 3, 2]"
      ]
     },
     "execution_count": 2,
     "metadata": {},
     "output_type": "execute_result"
    }
   ],
   "source": [
    "progresses=[95, 90, 99, 99, 80, 99]\n",
    "speeds=[1, 1, 1, 1, 1, 1]\n",
    "answer=[]\n",
    "time=0\n",
    "count=0\n",
    "# 5,10,1,1,20,1\n",
    "while len(progresses)>0:\n",
    "    print('time=>', time)\n",
    "    if (progresses[0] + time*speeds[0]) >=100:   # time=5\n",
    "        progresses.pop(0)\n",
    "        print('progresses=>',progresses)\n",
    "        speeds.pop(0)\n",
    "        count+=1\n",
    "    else:\n",
    "        if count>0:\n",
    "            answer.append(count)\n",
    "            print('answer=',answer)\n",
    "            count=0\n",
    "        time+=1\n",
    "answer.append(count)\n",
    "print('answer_2=',answer)   # 마지막꺼 append\n",
    "answer"
   ]
  },
  {
   "cell_type": "markdown",
   "metadata": {},
   "source": [
    "------------------------------------------------------------------------------------\n",
    "#### 다른사람 풀이[2]\n",
    "> pop()을 이용해서 리스트에서값을 제거하는방법 대신에, 시작점을 옮겨가면서 비교하는 방식\n",
    "\n",
    "* 각 작업별 완료되기까지 걸리는 시간에 대한 리스트를 progresses로 저장\n",
    "    * 이때 math.ceil() 로 올림을 활용.\n",
    "* progresses를 앞에서부터 차례로 이동하는 for문 작성하고,\n",
    "* front=0을 시작으로 front를 옮겨가면서 뒤에숫자와 앞에숫자를 비교.\n",
    "* 뒤에수가 앞에수보다 큰경우를 찾으면서 append를하고 front를 idx위치로이동."
   ]
  },
  {
   "cell_type": "code",
   "execution_count": 14,
   "metadata": {},
   "outputs": [],
   "source": [
    "# 최종완성코드\n",
    "import math\n",
    "answer=[]\n",
    "\n",
    "def solution(progresses,speeds):\n",
    "    progresses=[math.ceil((100-a)/b) for a,b in zip(progresses,speeds)]\n",
    "    front=0\n",
    "    for idx in range(len(progresses)): \n",
    "        if progresses[front]<progresses[idx]: \n",
    "            answer.append(idx-front)  \n",
    "            front=idx  \n",
    "#     answer.append(len(progresses)-front)\n",
    "    answer.append(idx-front+1)\n",
    "    return answer"
   ]
  },
  {
   "cell_type": "code",
   "execution_count": 19,
   "metadata": {},
   "outputs": [
    {
     "name": "stdout",
     "output_type": "stream",
     "text": [
      "95 1\n",
      "90 1\n",
      "99 1\n",
      "99 1\n",
      "80 1\n",
      "99 1\n"
     ]
    }
   ],
   "source": [
    "progresses=[95, 90, 99, 99, 80, 99]\n",
    "speeds=[1, 1, 1, 1, 1, 1]\n",
    "for a,b in zip(progresses, speeds):\n",
    "    print(a,b)"
   ]
  },
  {
   "cell_type": "code",
   "execution_count": 13,
   "metadata": {},
   "outputs": [
    {
     "data": {
      "text/plain": [
       "[5, 10, 1, 1, 20, 1]"
      ]
     },
     "execution_count": 13,
     "metadata": {},
     "output_type": "execute_result"
    }
   ],
   "source": [
    "answer=[]\n",
    "progresses=[math.ceil((100-a)/b) for a,b in zip(progresses,speeds)]\n",
    "progresses"
   ]
  },
  {
   "cell_type": "code",
   "execution_count": 2,
   "metadata": {},
   "outputs": [
    {
     "name": "stdout",
     "output_type": "stream",
     "text": [
      "idx= 0\n",
      "idx= 1\n",
      "progresses=> 5 idx=> 10\n",
      "answer [1]\n",
      "front=> 1\n",
      "-------------------\n",
      "idx= 2\n",
      "idx= 3\n",
      "idx= 4\n",
      "progresses=> 10 idx=> 20\n",
      "answer [1, 3]\n",
      "front=> 4\n",
      "-------------------\n",
      "idx= 5\n"
     ]
    },
    {
     "data": {
      "text/plain": [
       "[1, 3, 2]"
      ]
     },
     "execution_count": 2,
     "metadata": {},
     "output_type": "execute_result"
    }
   ],
   "source": [
    "import math\n",
    "progresses=[95, 90, 99, 99, 80, 99]\n",
    "speeds=[1, 1, 1, 1, 1, 1]\n",
    "answer=[]\n",
    "\n",
    "progresses=[math.ceil((100-a)/b) for a,b in zip(progresses,speeds)]\n",
    "# progresses=> [5, 10, 1, 1, 20, 1]\n",
    "front=0\n",
    "for idx in range(len(progresses)):  # idx=0,1,2,3,4,5\n",
    "    print('idx=', idx)\n",
    "    if progresses[front]<progresses[idx]:  # 5 <10\n",
    "        print('progresses=>',progresses[front], 'idx=>', progresses[idx])\n",
    "        answer.append(idx-front)  # idx-front=\n",
    "        print('answer',answer)\n",
    "        front=idx  # front=1      # front가 idx위치로이동.\n",
    "        print('front=>',front)\n",
    "        print('-------------------')\n",
    "answer.append(len(progresses)-front)\n",
    "answer"
   ]
  },
  {
   "cell_type": "markdown",
   "metadata": {},
   "source": [
    "#### 다른사람풀이[3]"
   ]
  },
  {
   "cell_type": "code",
   "execution_count": 31,
   "metadata": {},
   "outputs": [
    {
     "name": "stdout",
     "output_type": "stream",
     "text": [
      "Q = []\n",
      "Q = [[5, 1]]\n",
      "Q2======> [[5, 1], [10, 1]]\n",
      "Q2======> [[5, 1], [10, 2]]\n",
      "Q = [[5, 1], [10, 3]]\n",
      "Q2======> [[5, 1], [10, 3], [20, 1]]\n",
      "[1, 3, 2]\n"
     ]
    }
   ],
   "source": [
    "progresses=[95, 90, 99, 99, 80, 99]\n",
    "speeds=[1, 1, 1, 1, 1, 1]\n",
    "Q=[]\n",
    "\n",
    "for p, s in zip(progresses, speeds):\n",
    "    if len(Q)==0 or Q[-1][0]< -((p-100)//s):\n",
    "        print('Q =' ,Q)\n",
    "        Q.append([-((p-100)//s),1])\n",
    "    else:\n",
    "        print('Q2======>',Q)\n",
    "        Q[-1][1]+=1\n",
    "print([q[1] for q in Q])"
   ]
  },
  {
   "cell_type": "code",
   "execution_count": null,
   "metadata": {},
   "outputs": [],
   "source": []
  }
 ],
 "metadata": {
  "kernelspec": {
   "display_name": "suhyun2",
   "language": "python",
   "name": "suhyun2"
  },
  "language_info": {
   "codemirror_mode": {
    "name": "ipython",
    "version": 3
   },
   "file_extension": ".py",
   "mimetype": "text/x-python",
   "name": "python",
   "nbconvert_exporter": "python",
   "pygments_lexer": "ipython3",
   "version": "3.6.8"
  }
 },
 "nbformat": 4,
 "nbformat_minor": 2
}
