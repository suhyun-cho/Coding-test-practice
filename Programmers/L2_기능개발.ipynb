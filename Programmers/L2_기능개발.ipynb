{
 "cells": [
  {
   "cell_type": "markdown",
   "metadata": {},
   "source": [
    "## 기능개발\n",
    "2020-10-28\n",
    "\n",
    "#### 문제 설명\n",
    "프로그래머스 팀에서는 기능 개선 작업을 수행 중입니다. 각 기능은 진도가 100%일 때 서비스에 반영할 수 있습니다.<br>\n",
    "또, 각 기능의 개발속도는 모두 다르기 때문에 뒤에 있는 기능이 앞에 있는 기능보다 먼저 개발될 수 있고, 이때 뒤에 있는 기능은 앞에 있는 기능이 배포될 때 함께 배포됩니다.<br>\n",
    "먼저 배포되어야 하는 순서대로 작업의 진도가 적힌 정수 배열 progresses와 각 작업의 개발 속도가 적힌 정수 배열 speeds가 주어질 때<br>\n",
    "각 배포마다 몇 개의 기능이 배포되는지를 return 하도록 solution 함수를 완성하세요."
   ]
  },
  {
   "cell_type": "code",
   "execution_count": 1,
   "metadata": {},
   "outputs": [],
   "source": [
    "#progresses=[93,30,55]  # 7 , 3 , 9\n",
    "progresses=[95, 90, 99, 99, 80, 99]\n",
    "#speeds=[1,30,5]\n",
    "speeds=[1, 1, 1, 1, 1, 1]"
   ]
  },
  {
   "cell_type": "code",
   "execution_count": 2,
   "metadata": {},
   "outputs": [
    {
     "name": "stdout",
     "output_type": "stream",
     "text": [
      "progresses=> 95\n",
      "n=> 5\n",
      "progresses=> 90\n",
      "n=> 10\n",
      "progresses=> 99\n",
      "n=> 1\n",
      "progresses=> 99\n",
      "n=> 1\n",
      "progresses=> 80\n",
      "n=> 20\n",
      "progresses=> 99\n",
      "n=> 1\n",
      "daylist-------------------> [5, 10, 1, 1, 20, 1]\n"
     ]
    }
   ],
   "source": [
    "daylist=[]\n",
    "for i in range(len(progresses)):\n",
    "    print('progresses=>',progresses[i])\n",
    "    for n in range(1,101):\n",
    "        if 100-progresses[i] <= speeds[i]*n:   # 7 < 1*7\n",
    "            print('n=>',n)\n",
    "            daylist.append(n)\n",
    "            break\n",
    "print('daylist------------------->',daylist)"
   ]
  },
  {
   "cell_type": "code",
   "execution_count": 3,
   "metadata": {},
   "outputs": [
    {
     "data": {
      "text/plain": [
       "[5, 10, 1, 1, 20, 1]"
      ]
     },
     "execution_count": 3,
     "metadata": {},
     "output_type": "execute_result"
    }
   ],
   "source": [
    "# 앞에서부터 차례대로가면서, 앞이 뒤보다 크거나 같으면 같이 배포.\n",
    "daylist"
   ]
  },
  {
   "cell_type": "markdown",
   "metadata": {},
   "source": [
    "#### 다른사람 풀이"
   ]
  },
  {
   "cell_type": "code",
   "execution_count": 35,
   "metadata": {},
   "outputs": [
    {
     "name": "stdout",
     "output_type": "stream",
     "text": [
      "time=> 5\n",
      "progresses=> [90, 99, 99, 80, 99]\n",
      "answer= [1]\n",
      "time=> 10\n",
      "progresses=> [99, 99, 80, 99]\n",
      "time=> 10\n",
      "progresses=> [99, 80, 99]\n",
      "time=> 10\n",
      "progresses=> [80, 99]\n",
      "answer= [1, 3]\n",
      "time=> 20\n",
      "progresses=> [99]\n",
      "time=> 20\n",
      "progresses=> []\n",
      "answer_2= [1, 3, 2]\n"
     ]
    },
    {
     "data": {
      "text/plain": [
       "[1, 3, 2]"
      ]
     },
     "execution_count": 35,
     "metadata": {},
     "output_type": "execute_result"
    }
   ],
   "source": [
    "progresses=[95, 90, 99, 99, 80, 99]\n",
    "speeds=[1, 1, 1, 1, 1, 1]\n",
    "answer=[]\n",
    "time=0\n",
    "count=0\n",
    "\n",
    "while len(progresses)>0:\n",
    "    if (progresses[0] + time*speeds[0]) >=100:   # time=5\n",
    "        print('time=>', time)\n",
    "        progresses.pop(0)\n",
    "        print('progresses=>',progresses)\n",
    "        speeds.pop(0)\n",
    "        count+=1\n",
    "    else:\n",
    "        if count>0:\n",
    "            answer.append(count)\n",
    "            print('answer=',answer)\n",
    "            count=0\n",
    "        time+=1\n",
    "answer.append(count)\n",
    "print('answer_2=',answer)   # 마지막꺼 append\n",
    "answer"
   ]
  },
  {
   "cell_type": "code",
   "execution_count": null,
   "metadata": {},
   "outputs": [],
   "source": []
  },
  {
   "cell_type": "code",
   "execution_count": null,
   "metadata": {},
   "outputs": [],
   "source": []
  },
  {
   "cell_type": "code",
   "execution_count": null,
   "metadata": {},
   "outputs": [],
   "source": []
  }
 ],
 "metadata": {
  "kernelspec": {
   "display_name": "suhyun2",
   "language": "python",
   "name": "suhyun2"
  },
  "language_info": {
   "codemirror_mode": {
    "name": "ipython",
    "version": 3
   },
   "file_extension": ".py",
   "mimetype": "text/x-python",
   "name": "python",
   "nbconvert_exporter": "python",
   "pygments_lexer": "ipython3",
   "version": "3.6.8"
  }
 },
 "nbformat": 4,
 "nbformat_minor": 2
}
