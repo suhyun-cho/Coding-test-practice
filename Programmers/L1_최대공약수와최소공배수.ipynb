{
 "cells": [
  {
   "cell_type": "markdown",
   "metadata": {},
   "source": [
    "## 최대공약수와 최소공배수\n",
    "2020-09-25\n",
    "\n",
    "#### 문제설명\n"
   ]
  },
  {
   "cell_type": "markdown",
   "metadata": {},
   "source": [
    "두 수를 입력받아 두 수의 최대공약수와 최소공배수를 반환하는 함수, solution을 완성해 보세요.<br>\n",
    "배열의 맨 앞에 최대공약수, 그다음 최소공배수를 넣어 반환하면 됩니다. <br>\n",
    "예를 들어 두 수 3, 12의 최대공약수는 3, 최소공배수는 12이므로 solution(3, 12)는 [3, 12]를 반환해야 합니다."
   ]
  },
  {
   "cell_type": "code",
   "execution_count": 31,
   "metadata": {},
   "outputs": [
    {
     "name": "stdout",
     "output_type": "stream",
     "text": [
      "6\n",
      "6\n",
      "6\n",
      "12\n",
      "12\n",
      "12\n"
     ]
    }
   ],
   "source": [
    "n=6\n",
    "m=12\n",
    "nm=[n,m]\n",
    "num_list=[2,3]  # 2,3중에 하나로 나누고 나머지가 0인게 없으면 1로\n",
    "mok=[]\n",
    "\n",
    "# 최소공배수 : 두 개 이상의 자연수의 공통인 배수\n",
    "for x in [6,12]:\n",
    "    for num in [2,3]:\n",
    "        if x%num==0:\n",
    "            mok.append()"
   ]
  },
  {
   "cell_type": "code",
   "execution_count": 15,
   "metadata": {},
   "outputs": [
    {
     "data": {
      "text/plain": [
       "[[6, 12], [3, 6], [2, 4]]"
      ]
     },
     "execution_count": 15,
     "metadata": {},
     "output_type": "execute_result"
    }
   ],
   "source": [
    "[[x//num for x in [6,m]]  for num in num_list]"
   ]
  },
  {
   "cell_type": "code",
   "execution_count": 49,
   "metadata": {},
   "outputs": [
    {
     "data": {
      "text/plain": [
       "[2, 5]"
      ]
     },
     "execution_count": 49,
     "metadata": {},
     "output_type": "execute_result"
    }
   ],
   "source": [
    "# 6,12\n",
    "list(map(lambda x: x//2  if n %2==0 and m%2==0 else 'none', [5,11]))"
   ]
  },
  {
   "cell_type": "markdown",
   "metadata": {},
   "source": [
    "**다른사람 풀이 참고**"
   ]
  },
  {
   "cell_type": "code",
   "execution_count": 56,
   "metadata": {},
   "outputs": [
    {
     "name": "stdout",
     "output_type": "stream",
     "text": [
      "[1, 10]\n"
     ]
    }
   ],
   "source": [
    "# gcd =최대공약수, lcm=최소공배수\n",
    "n=2\n",
    "m=5\n",
    "for i in range(1,n+1):  # 1~6\n",
    "    if n%i ==0:\n",
    "        if m%i==0:\n",
    "            gcd=i\n",
    "if gcd==1:\n",
    "    lcm=n*m\n",
    "else:\n",
    "    lcm=gcd*(n//gcd)*(m//gcd)\n",
    "\n",
    "print([gcd,lcm])"
   ]
  },
  {
   "cell_type": "code",
   "execution_count": 58,
   "metadata": {},
   "outputs": [],
   "source": [
    "def solution(n,m):\n",
    "    for i in range(1,n+1):\n",
    "        if n%i==0:\n",
    "            if m%i==0:\n",
    "                gcd=i\n",
    "    if gcd==1:\n",
    "        lcm=n*m\n",
    "    else:\n",
    "        lcm=gcd*(n//gcd)*(m//gcd)\n",
    "    return [gcd,lcm]"
   ]
  },
  {
   "cell_type": "markdown",
   "metadata": {},
   "source": [
    "**다른사람 풀이(2)**"
   ]
  },
  {
   "cell_type": "code",
   "execution_count": 66,
   "metadata": {},
   "outputs": [
    {
     "data": {
      "text/plain": [
       "[12, 6]"
      ]
     },
     "execution_count": 66,
     "metadata": {},
     "output_type": "execute_result"
    }
   ],
   "source": [
    "n=6\n",
    "m=12\n",
    "c,d =max(6,12), min(6,12)\n",
    "\n",
    "t=1\n",
    "while t>0:\n",
    "    t=c%d  # 12를 6으로 나눴을때 나머지\n",
    "    c,d= c,t\n",
    "answer=[c, int(n*m/c)]\n",
    "answer"
   ]
  },
  {
   "cell_type": "code",
   "execution_count": null,
   "metadata": {},
   "outputs": [],
   "source": []
  }
 ],
 "metadata": {
  "kernelspec": {
   "display_name": "suhyun2",
   "language": "python",
   "name": "suhyun2"
  },
  "language_info": {
   "codemirror_mode": {
    "name": "ipython",
    "version": 3
   },
   "file_extension": ".py",
   "mimetype": "text/x-python",
   "name": "python",
   "nbconvert_exporter": "python",
   "pygments_lexer": "ipython3",
   "version": "3.6.8"
  }
 },
 "nbformat": 4,
 "nbformat_minor": 2
}
