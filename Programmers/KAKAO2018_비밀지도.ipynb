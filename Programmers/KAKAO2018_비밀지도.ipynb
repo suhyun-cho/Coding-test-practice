{
 "cells": [
  {
   "cell_type": "markdown",
   "metadata": {},
   "source": [
    "## KAKAO2018_[1차]비밀지도\n",
    "2020-10-05\n",
    "\n",
    "#### 문제설명\n",
    "1. 지도는 한 변의 길이가 n인 정사각형 배열 형태로, 각 칸은 공백(\" ) 또는벽(#\") 두 종류로 이루어져 있다.\n",
    "\n",
    "2. 전체 지도는 두 장의 지도를 겹쳐서 얻을 수 있다. 각각 지도 1과 지도 2라고 하자. 지도 1 또는 지도 2 중 어느 하나라도 벽인 부분은 전체 지도에서도 벽이다. 지도 1과 지도 2에서 모두 공백인 부분은 전체 지도에서도 공백이다.\n",
    "\n",
    "3. 지도 1과 지도 2는 각각 정수 배열로 암호화되어 있다.\n",
    "4. 암호화된 배열은 지도의 각 가로줄에서 벽 부분을 1, 공백 부분을 0으로 부호화했을 때 얻어지는 이진수에 해당하는 값의 배열이다."
   ]
  },
  {
   "cell_type": "code",
   "execution_count": 5,
   "metadata": {},
   "outputs": [
    {
     "data": {
      "text/plain": [
       "'1001'"
      ]
     },
     "execution_count": 5,
     "metadata": {},
     "output_type": "execute_result"
    }
   ],
   "source": [
    "format(9, 'b')"
   ]
  },
  {
   "cell_type": "code",
   "execution_count": 147,
   "metadata": {},
   "outputs": [
    {
     "data": {
      "text/plain": [
       "'10100'"
      ]
     },
     "execution_count": 147,
     "metadata": {},
     "output_type": "execute_result"
    }
   ],
   "source": [
    "format(20,'b')"
   ]
  },
  {
   "cell_type": "code",
   "execution_count": 163,
   "metadata": {},
   "outputs": [
    {
     "data": {
      "text/plain": [
       "'0b1011'"
      ]
     },
     "execution_count": 163,
     "metadata": {},
     "output_type": "execute_result"
    }
   ],
   "source": [
    "# 10진수를 2진수로\n",
    "bin(11)"
   ]
  },
  {
   "cell_type": "code",
   "execution_count": 11,
   "metadata": {},
   "outputs": [
    {
     "data": {
      "text/plain": [
       "11"
      ]
     },
     "execution_count": 11,
     "metadata": {},
     "output_type": "execute_result"
    }
   ],
   "source": [
    "# 2진수를 10진수로\n",
    "int('0b1011',2)"
   ]
  },
  {
   "cell_type": "code",
   "execution_count": 20,
   "metadata": {},
   "outputs": [
    {
     "data": {
      "text/plain": [
       "'1011'"
      ]
     },
     "execution_count": 20,
     "metadata": {},
     "output_type": "execute_result"
    }
   ],
   "source": [
    "# 이진수 연산\n",
    "num1=0b1011\n",
    "num2=0b1001\n",
    "format(num1 |num2,'b')"
   ]
  },
  {
   "cell_type": "code",
   "execution_count": 12,
   "metadata": {},
   "outputs": [
    {
     "data": {
      "text/plain": [
       "[9, 20, 28, 18, 11]"
      ]
     },
     "execution_count": 12,
     "metadata": {},
     "output_type": "execute_result"
    }
   ],
   "source": [
    "arr1=[9, 20, 28, 18, 11]\n",
    "arr2=[30, 1, 21, 17, 28]\n",
    "arr1"
   ]
  },
  {
   "cell_type": "code",
   "execution_count": 170,
   "metadata": {},
   "outputs": [
    {
     "data": {
      "text/plain": [
       "[0, 0, 0, 0, 1]"
      ]
     },
     "execution_count": 170,
     "metadata": {},
     "output_type": "execute_result"
    }
   ],
   "source": [
    "# 이진 문자열의 길이 고정\n",
    "n=5\n",
    "number=\"{0:{fill}{n}b}\".format(1,fill='0',n=n)\n",
    "list(map(int,number))"
   ]
  },
  {
   "cell_type": "code",
   "execution_count": 135,
   "metadata": {},
   "outputs": [
    {
     "name": "stdout",
     "output_type": "stream",
     "text": [
      "0b1001 0b11110\n",
      "0b10100 0b1\n",
      "0b11100 0b10101\n",
      "0b10010 0b10001\n",
      "0b1011 0b11100\n"
     ]
    }
   ],
   "source": [
    "arr1=[9, 20, 28, 18, 11]\n",
    "arr2=[30, 1, 21, 17, 28]\n",
    "for i in range(0,5):\n",
    "    print(bin(arr1[i]) ,bin(arr2[i]))"
   ]
  },
  {
   "cell_type": "code",
   "execution_count": 122,
   "metadata": {},
   "outputs": [
    {
     "name": "stdout",
     "output_type": "stream",
     "text": [
      "0b1001\n",
      "0b10100\n",
      "0b11100\n",
      "0b10010\n",
      "0b1011\n",
      "\n",
      "\n",
      "0b11110\n",
      "0b1\n",
      "0b10101\n",
      "0b10001\n",
      "0b11100\n"
     ]
    }
   ],
   "source": [
    "n=5\n",
    "arr1=[9, 20, 28, 18, 11]\n",
    "arr2=[30, 1, 21, 17, 28]\n",
    "for arr1 in arr1:\n",
    "    num1=bin(arr1)\n",
    "    print(num1)\n",
    "print('\\n')\n",
    "for arr2 in arr2:\n",
    "    num2=bin(arr2)\n",
    "    print(num2)"
   ]
  },
  {
   "cell_type": "code",
   "execution_count": 113,
   "metadata": {},
   "outputs": [
    {
     "name": "stdout",
     "output_type": "stream",
     "text": [
      "01001\n",
      "10100\n",
      "11100\n",
      "10010\n",
      "01011\n",
      "\n",
      "\n",
      "11110\n",
      "00001\n",
      "10101\n",
      "10001\n",
      "11100\n"
     ]
    },
    {
     "data": {
      "text/plain": [
       "'0101111100'"
      ]
     },
     "execution_count": 113,
     "metadata": {},
     "output_type": "execute_result"
    }
   ],
   "source": [
    "n=5\n",
    "arr1=[9, 20, 28, 18, 11]\n",
    "arr2=[30, 1, 21, 17, 28]\n",
    "for arr1 in arr1:\n",
    "    num1=\"{0:{fill}{n}b}\".format(arr1,fill='0',n=n)   # 이진 문자열의 길이 고정\n",
    "    print(num1)\n",
    "print('\\n')\n",
    "for arr2 in arr2:\n",
    "    num2=\"{0:{fill}{n}b}\".format(arr2,fill='0',n=n)\n",
    "    print(num2)\n",
    "\n",
    "num1+num2"
   ]
  },
  {
   "cell_type": "code",
   "execution_count": 51,
   "metadata": {},
   "outputs": [
    {
     "name": "stdout",
     "output_type": "stream",
     "text": [
      "01001\n",
      "10100\n",
      "11100\n",
      "10010\n",
      "01011\n",
      "['01001', '10100', '11100', '10010', '01011']\n",
      "11110\n",
      "00001\n",
      "10101\n",
      "10001\n",
      "11100\n",
      "['11110', '00001', '10101', '10001', '11100', '11110', '00001', '10101', '10001', '11100']\n"
     ]
    }
   ],
   "source": [
    "# 10진수로 들어온 배열을 2진수 배열로 변환\n",
    "## 다섯자리수로 통일\n",
    "arr1=[9, 20, 28, 18, 11]\n",
    "arr2=[30, 1, 21, 17, 28]\n",
    "mylist1=[]\n",
    "for arr1 in arr1:\n",
    "    num=format(arr1,'b')\n",
    "    zero= '0'*(5-len(num))\n",
    "    if len(num)<5:\n",
    "        print(zero+num)\n",
    "        mylist1.append(zero+num)\n",
    "    else:\n",
    "        print(num)\n",
    "        mylist1.append(num)\n",
    "print(mylist1)\n",
    "\n",
    "for arr2 in arr2:\n",
    "    num=format(arr2,'b')\n",
    "    zero= '0'*(5-len(num))\n",
    "    if len(num)<5:\n",
    "        print(zero+num)\n",
    "        mylist2.append(zero+num)\n",
    "    else:\n",
    "        print(num)\n",
    "        mylist2.append(num)\n",
    "print(mylist2)"
   ]
  },
  {
   "cell_type": "code",
   "execution_count": 60,
   "metadata": {},
   "outputs": [
    {
     "data": {
      "text/plain": [
       "[('01001', '11110'),\n",
       " ('10100', '00001'),\n",
       " ('11100', '10101'),\n",
       " ('10010', '10001'),\n",
       " ('01011', '11100')]"
      ]
     },
     "execution_count": 60,
     "metadata": {},
     "output_type": "execute_result"
    }
   ],
   "source": [
    "list(zip(mylist1,mylist2))"
   ]
  },
  {
   "cell_type": "code",
   "execution_count": 61,
   "metadata": {},
   "outputs": [
    {
     "data": {
      "text/plain": [
       "('01001', '11110')"
      ]
     },
     "execution_count": 61,
     "metadata": {},
     "output_type": "execute_result"
    }
   ],
   "source": [
    "list(zip(mylist1,mylist2))[0]"
   ]
  },
  {
   "cell_type": "markdown",
   "metadata": {},
   "source": [
    "------------------------------------------------------------------------\n",
    "### 수현's 풀이 정리\n",
    "* 이진 문자열 길이를 고정하고 없으면 0으로 채움.\n",
    "    * \"{0:{fill}{n}b}\".format(1,fill='0',n=n)\n",
    "* 문자로 연결되어있는 값을 int 형태로 분리\n",
    "    * list(map(int,number))\n",
    "* 각 리스트 자릿수별 리스트 덧셈 (add 함수)\n",
    "    * list(map(add, num1_split, num2_split))\n",
    "* 리스트안에 숫자가 1이상이면 '#' 출력. 0이면 ' ' 공백\n",
    "    * 빈 리스트에 append"
   ]
  },
  {
   "cell_type": "markdown",
   "metadata": {},
   "source": [
    "**1. 이진 문자열의 길이 고정하여 0으로 채우고 숫자분리**"
   ]
  },
  {
   "cell_type": "code",
   "execution_count": 279,
   "metadata": {},
   "outputs": [
    {
     "name": "stdout",
     "output_type": "stream",
     "text": [
      "00001\n"
     ]
    },
    {
     "data": {
      "text/plain": [
       "[0, 0, 0, 0, 1]"
      ]
     },
     "execution_count": 279,
     "metadata": {},
     "output_type": "execute_result"
    }
   ],
   "source": [
    "# 이진 문자열의 길이 고정\n",
    "n=5\n",
    "number=\"{0:{fill}{n}b}\".format(1,fill='0',n=n)\n",
    "print(number)\n",
    "list(map(int,number))"
   ]
  },
  {
   "cell_type": "markdown",
   "metadata": {},
   "source": [
    "**2. 리스트 덧셈**"
   ]
  },
  {
   "cell_type": "code",
   "execution_count": 280,
   "metadata": {},
   "outputs": [
    {
     "data": {
      "text/plain": [
       "[1, 2, 1, 1, 1]"
      ]
     },
     "execution_count": 280,
     "metadata": {},
     "output_type": "execute_result"
    }
   ],
   "source": [
    "from operator import add \n",
    "test_list1=[0, 1, 0, 0, 1]\n",
    "test_list2=[1, 1, 1, 1, 0]\n",
    "list(map(add, test_list1,test_list2))"
   ]
  },
  {
   "cell_type": "code",
   "execution_count": 284,
   "metadata": {},
   "outputs": [
    {
     "name": "stdout",
     "output_type": "stream",
     "text": [
      "num1=> [1, 0, 1, 1, 1, 0]\n",
      "num2=> [0, 1, 1, 0, 1, 1]\n",
      "리스트 덧셈 =>  [1, 1, 2, 1, 2, 1]\n",
      "\n",
      "\n",
      "num1=> [1, 0, 0, 0, 0, 1]\n",
      "num2=> [1, 1, 1, 0, 0, 0]\n",
      "리스트 덧셈 =>  [2, 1, 1, 0, 0, 1]\n",
      "\n",
      "\n",
      "num1=> [1, 0, 0, 0, 0, 1]\n",
      "num2=> [0, 1, 0, 0, 1, 1]\n",
      "리스트 덧셈 =>  [1, 1, 0, 0, 1, 2]\n",
      "\n",
      "\n",
      "num1=> [0, 1, 0, 1, 1, 0]\n",
      "num2=> [0, 0, 1, 1, 1, 0]\n",
      "리스트 덧셈 =>  [0, 1, 1, 2, 2, 0]\n",
      "\n",
      "\n",
      "num1=> [0, 1, 1, 1, 1, 1]\n",
      "num2=> [0, 0, 1, 1, 1, 0]\n",
      "리스트 덧셈 =>  [0, 1, 2, 2, 2, 1]\n",
      "\n",
      "\n",
      "num1=> [1, 1, 0, 0, 1, 0]\n",
      "num2=> [0, 0, 1, 0, 1, 0]\n",
      "리스트 덧셈 =>  [1, 1, 1, 0, 2, 0]\n",
      "\n",
      "\n"
     ]
    }
   ],
   "source": [
    "n=6\n",
    "arr1=[46, 33, 33 ,22, 31, 50]\n",
    "arr2=[27 ,56, 19, 14, 14, 10]\n",
    "from operator import add \n",
    "\n",
    "for i in range(n):\n",
    "    num1=\"{0:{fill}{n}b}\".format(arr1[i],fill='0',n=n)  \n",
    "    num2=\"{0:{fill}{n}b}\".format(arr2[i],fill='0',n=n)\n",
    "    num1_split=list(map(int,num1))\n",
    "    num2_split=list(map(int,num2))\n",
    "    print('num1=>', num1_split)\n",
    "    print('num2=>', num2_split)\n",
    "    \n",
    "    res=list(map(add,num1_split,num2_split))\n",
    "    print('리스트 덧셈 => ',res)\n",
    "    print('\\n')"
   ]
  },
  {
   "cell_type": "markdown",
   "metadata": {},
   "source": [
    "**3. 리스트안에 숫자가 1이상이면 '#' 출력. 0이면 ' ' 공백**\n"
   ]
  },
  {
   "cell_type": "code",
   "execution_count": 287,
   "metadata": {},
   "outputs": [
    {
     "name": "stdout",
     "output_type": "stream",
     "text": [
      "['#', '#', '#', '#', '#', '#']\n",
      "['#', '#', '#', ' ', ' ', '#']\n",
      "['#', '#', ' ', ' ', '#', '#']\n",
      "[' ', '#', '#', '#', '#', ' ']\n",
      "[' ', '#', '#', '#', '#', '#']\n",
      "['#', '#', '#', ' ', '#', ' ']\n"
     ]
    }
   ],
   "source": [
    "n=6\n",
    "arr1=[46, 33, 33 ,22, 31, 50]\n",
    "arr2=[27 ,56, 19, 14, 14, 10]\n",
    "from operator import add \n",
    "\n",
    "for i in range(n):\n",
    "    num1=\"{0:{fill}{n}b}\".format(arr1[i],fill='0',n=n)  \n",
    "    num2=\"{0:{fill}{n}b}\".format(arr2[i],fill='0',n=n)\n",
    "    num1_split=list(map(int,num1))\n",
    "    num2_split=list(map(int,num2))\n",
    "    res=list(map(add,num1_split,num2_split))\n",
    "##############################  리스트안에 숫자가 1이상이면 '#' 출력. 0이면 ' ' 공백\n",
    "    sharp_list=[]\n",
    "    for j in range(n):\n",
    "        if res[j]!=0:\n",
    "            sharp_list.append('#')\n",
    "        else:\n",
    "            sharp_list.append(' ')\n",
    "    print(sharp_list)"
   ]
  },
  {
   "cell_type": "markdown",
   "metadata": {},
   "source": [
    "**3-1. join으로 연결**"
   ]
  },
  {
   "cell_type": "code",
   "execution_count": 285,
   "metadata": {},
   "outputs": [
    {
     "name": "stdout",
     "output_type": "stream",
     "text": [
      "######\n",
      "###  #\n",
      "##  ##\n",
      " #### \n",
      " #####\n",
      "### # \n"
     ]
    }
   ],
   "source": [
    "n=6\n",
    "arr1=[46, 33, 33 ,22, 31, 50]\n",
    "arr2=[27 ,56, 19, 14, 14, 10]\n",
    "mylist=[]\n",
    "from operator import add \n",
    "\n",
    "for i in range(n):\n",
    "    num1=\"{0:{fill}{n}b}\".format(arr1[i],fill='0',n=n)  \n",
    "    num2=\"{0:{fill}{n}b}\".format(arr2[i],fill='0',n=n)\n",
    "    num1_split=list(map(int,num1))\n",
    "    num2_split=list(map(int,num2))\n",
    "    res=list(map(add,num1_split,num2_split))\n",
    "##############################  리스트안에 숫자가 1이상이면 '#' 출력. 0이면 ' ' 공백\n",
    "    sharp_list=[]\n",
    "    for j in range(n):\n",
    "        if res[j]!=0:\n",
    "            sharp_list.append('#')\n",
    "        else:\n",
    "            sharp_list.append(' ')\n",
    "        sharp_res=''.join(sharp_list)\n",
    "    print(sharp_res)   "
   ]
  },
  {
   "cell_type": "markdown",
   "metadata": {},
   "source": [
    "**3-2. mylist에 for문 돌때마다 나오는 sharp_res결과를 append.**"
   ]
  },
  {
   "cell_type": "code",
   "execution_count": 288,
   "metadata": {},
   "outputs": [
    {
     "name": "stdout",
     "output_type": "stream",
     "text": [
      "['######', '###  #', '##  ##', ' #### ', ' #####', '### # ']\n"
     ]
    }
   ],
   "source": [
    "n=6\n",
    "arr1=[46, 33, 33 ,22, 31, 50]\n",
    "arr2=[27 ,56, 19, 14, 14, 10]\n",
    "mylist=[]\n",
    "from operator import add \n",
    "\n",
    "for i in range(n):\n",
    "    num1=\"{0:{fill}{n}b}\".format(arr1[i],fill='0',n=n)  \n",
    "    num2=\"{0:{fill}{n}b}\".format(arr2[i],fill='0',n=n)\n",
    "    num1_split=list(map(int,num1))\n",
    "    num2_split=list(map(int,num2))\n",
    "    res=list(map(add,num1_split,num2_split))\n",
    "    \n",
    "    sharp_list=[]\n",
    "    for j in range(n):\n",
    "        if res[j]!=0:\n",
    "            sharp_list.append('#')\n",
    "        else:\n",
    "            sharp_list.append(' ')\n",
    "        sharp_res=''.join(sharp_list)\n",
    "#     print(sharp_res)   \n",
    "\n",
    "    mylist.append(sharp_res)\n",
    "print(mylist)"
   ]
  },
  {
   "cell_type": "markdown",
   "metadata": {},
   "source": [
    "**4. 최종 코드**\n"
   ]
  },
  {
   "cell_type": "code",
   "execution_count": 276,
   "metadata": {},
   "outputs": [],
   "source": [
    "from operator import add\n",
    "def solution(n,arr1,arr2):\n",
    "    mylist=[]\n",
    "    for i in range(n):\n",
    "        num1=\"{0:{fill}{n}b}\".format(arr1[i],fill='0',n=n)  \n",
    "        num2=\"{0:{fill}{n}b}\".format(arr2[i],fill='0',n=n)\n",
    "        num1_split=list(map(int,num1))\n",
    "        num2_split=list(map(int,num2))\n",
    "        res=list(map(add,num1_split,num2_split))\n",
    "\n",
    "        sharp_list=[]\n",
    "        for j in range(n):\n",
    "            if res[j]!=0:\n",
    "                sharp_list.append('#')\n",
    "            else:\n",
    "                sharp_list.append(' ')\n",
    "            sharp_res=''.join(sharp_list)\n",
    "### mylist에 for문 돌때마다 나오는 sharp_res결과를 append.\n",
    "        mylist.append(sharp_res)\n",
    "    return mylist"
   ]
  },
  {
   "cell_type": "markdown",
   "metadata": {},
   "source": [
    "**test ==> Success**"
   ]
  },
  {
   "cell_type": "code",
   "execution_count": 261,
   "metadata": {},
   "outputs": [
    {
     "data": {
      "text/plain": [
       "['#####', '# # #', '### #', '#  ##', '#####']"
      ]
     },
     "execution_count": 261,
     "metadata": {},
     "output_type": "execute_result"
    }
   ],
   "source": [
    "n=5\n",
    "arr1=[9, 20, 28, 18, 11]\n",
    "arr2=[30, 1, 21, 17, 28]\n",
    "solution(n,arr1,arr2)"
   ]
  },
  {
   "cell_type": "code",
   "execution_count": 277,
   "metadata": {},
   "outputs": [
    {
     "data": {
      "text/plain": [
       "['######', '###  #', '##  ##', ' #### ', ' #####', '### # ']"
      ]
     },
     "execution_count": 277,
     "metadata": {},
     "output_type": "execute_result"
    }
   ],
   "source": [
    "n=6\n",
    "arr1=[46, 33, 33 ,22, 31, 50]\n",
    "arr2=[27 ,56, 19, 14, 14, 10]\n",
    "solution(n,arr1,arr2)"
   ]
  },
  {
   "cell_type": "markdown",
   "metadata": {},
   "source": [
    "------------------------------------------------------------------------------------\n",
    "### 다른사람 풀이"
   ]
  },
  {
   "cell_type": "code",
   "execution_count": null,
   "metadata": {},
   "outputs": [],
   "source": [
    "def solution(n, arr1, arr2):\n",
    "    answer = []\n",
    "    for i,j in zip(arr1,arr2):\n",
    "        a12 = str(bin(i|j)[2:])\n",
    "        a12=a12.rjust(n,'0')\n",
    "        a12=a12.replace('1','#')\n",
    "        a12=a12.replace('0',' ')\n",
    "        answer.append(a12)\n",
    "    return answer"
   ]
  },
  {
   "cell_type": "code",
   "execution_count": null,
   "metadata": {},
   "outputs": [],
   "source": [
    "import re\n",
    "\n",
    "def solution(n, arr1, arr2):\n",
    "    answer = [\"#\"]*n\n",
    "    for i in range(0, n):\n",
    "        answer[i] = str(bin(arr1[i]|arr2[i]))[2:]\n",
    "        answer[i] = re.sub('1', '#', '0'*(n-len(answer[i]))+answer[i])\n",
    "        answer[i] = re.sub('0', ' ', answer[i])\n",
    "    return answer"
   ]
  },
  {
   "cell_type": "code",
   "execution_count": null,
   "metadata": {},
   "outputs": [],
   "source": [
    "\n",
    "def solution(n, arr1, arr2):\n",
    "    answer = []\n",
    "    for index in range(0,n):\n",
    "        answer.append(str(bin(arr1[index] | arr2[index] | pow(2,n))).replace(\"0b1\",\"\").replace(\"1\",\"#\").replace(\"0\",\" \"))\n",
    "        pass\n",
    "\n",
    "    return answer"
   ]
  }
 ],
 "metadata": {
  "kernelspec": {
   "display_name": "suhyun2",
   "language": "python",
   "name": "suhyun2"
  },
  "language_info": {
   "codemirror_mode": {
    "name": "ipython",
    "version": 3
   },
   "file_extension": ".py",
   "mimetype": "text/x-python",
   "name": "python",
   "nbconvert_exporter": "python",
   "pygments_lexer": "ipython3",
   "version": "3.6.8"
  }
 },
 "nbformat": 4,
 "nbformat_minor": 2
}
