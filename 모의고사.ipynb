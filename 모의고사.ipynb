{
 "cells": [
  {
   "cell_type": "markdown",
   "metadata": {},
   "source": [
    "## 모의고사\n",
    "\n",
    "#### 문제 설명\n",
    "\n",
    "수포자는 수학을 포기한 사람의 준말입니다. <br>\n",
    "수포자 삼인방은 모의고사에 수학 문제를 전부 찍으려 합니다. 수포자는 1번 문제부터 마지막 문제까지 다음과 같이 찍습니다.<br>\n",
    "1번 수포자가 찍는 방식: 1, 2, 3, 4, 5, 1, 2, 3, 4, 5, ...<br>\n",
    "2번 수포자가 찍는 방식: 2, 1, 2, 3, 2, 4, 2, 5, 2, 1, 2, 3, 2, 4, 2, 5, ...<br>\n",
    "3번 수포자가 찍는 방식: 3, 3, 1, 1, 2, 2, 4, 4, 5, 5, 3, 3, 1, 1, 2, 2, 4, 4, 5, 5, ...<br>\n",
    "\n",
    "1번 문제부터 마지막 문제까지의 정답이 순서대로 들은 배열 answers가 주어졌을 때, <br>\n",
    "가장 많은 문제를 맞힌 사람이 누구인지 배열에 담아 return 하도록 solution 함수를 작성해주세요."
   ]
  },
  {
   "cell_type": "code",
   "execution_count": 41,
   "metadata": {},
   "outputs": [
    {
     "data": {
      "text/plain": [
       "[1, 2, 3, 4, 5]"
      ]
     },
     "execution_count": 41,
     "metadata": {},
     "output_type": "execute_result"
    }
   ],
   "source": [
    "# 예제1\n",
    "answer=[1,2,3,4,5]\n",
    "answer"
   ]
  },
  {
   "cell_type": "code",
   "execution_count": 152,
   "metadata": {},
   "outputs": [
    {
     "data": {
      "text/plain": [
       "[1, 3, 2, 4, 2]"
      ]
     },
     "execution_count": 152,
     "metadata": {},
     "output_type": "execute_result"
    }
   ],
   "source": [
    "# 예제2\n",
    "answer=[1,3,2,4,2]\n",
    "answer"
   ]
  },
  {
   "cell_type": "code",
   "execution_count": 33,
   "metadata": {},
   "outputs": [],
   "source": [
    "one=[1, 2, 3, 4, 5]\n",
    "two=[2, 1, 2, 3, 2, 4, 2, 5]\n",
    "three=[3, 3, 1, 1, 2, 2, 4, 4, 5, 5]"
   ]
  },
  {
   "cell_type": "code",
   "execution_count": 42,
   "metadata": {},
   "outputs": [
    {
     "name": "stdout",
     "output_type": "stream",
     "text": [
      "5\n"
     ]
    }
   ],
   "source": [
    "# 1번 수포자\n",
    "count_num=0\n",
    "for index in range(len(answer)):  # 0~4\n",
    "    if answer[index]==one[index]:\n",
    "        count_num +=1\n",
    "print(count_num)"
   ]
  },
  {
   "cell_type": "code",
   "execution_count": 43,
   "metadata": {},
   "outputs": [
    {
     "name": "stdout",
     "output_type": "stream",
     "text": [
      "0\n"
     ]
    }
   ],
   "source": [
    "# 2번 수포자\n",
    "count_num=0\n",
    "for index in range(len(answer)):  # 0~4\n",
    "    if answer[index]==two[index]:\n",
    "        count_num +=1\n",
    "print(count_num)"
   ]
  },
  {
   "cell_type": "code",
   "execution_count": 44,
   "metadata": {},
   "outputs": [
    {
     "name": "stdout",
     "output_type": "stream",
     "text": [
      "0\n"
     ]
    }
   ],
   "source": [
    "# 3번 수포자\n",
    "count_num=0\n",
    "for index in range(len(answer)):  # 0~4\n",
    "    if answer[index]==three[index]:\n",
    "        count_num +=1\n",
    "print(count_num)"
   ]
  },
  {
   "cell_type": "markdown",
   "metadata": {},
   "source": [
    "### for문반복"
   ]
  },
  {
   "cell_type": "code",
   "execution_count": 203,
   "metadata": {},
   "outputs": [
    {
     "data": {
      "text/plain": [
       "[1, 2, 3, 4, 5]"
      ]
     },
     "execution_count": 203,
     "metadata": {},
     "output_type": "execute_result"
    }
   ],
   "source": [
    "# 예제1\n",
    "answer=[1,2,3,4,5]\n",
    "answer"
   ]
  },
  {
   "cell_type": "code",
   "execution_count": 30,
   "metadata": {},
   "outputs": [
    {
     "data": {
      "text/plain": [
       "[1, 3, 2, 4, 2]"
      ]
     },
     "execution_count": 30,
     "metadata": {},
     "output_type": "execute_result"
    }
   ],
   "source": [
    "# 예제2\n",
    "answer=[1,3,2,4,2]\n",
    "answer"
   ]
  },
  {
   "cell_type": "code",
   "execution_count": null,
   "metadata": {},
   "outputs": [],
   "source": [
    "pattern_supo_1 = [1 ,2, 3, 4, 5]\n",
    "pattern_supo_2 = [2, 1, 2, 3, 2, 4, 2, 5]\n",
    "pattern_supo_3 = [3, 3, 1, 1, 2, 2, 4, 4, 5, 5]\n",
    "pick=[pattern_supo_1, pattern_supo_2, pattern_supo_3]\n",
    "pick"
   ]
  },
  {
   "cell_type": "code",
   "execution_count": 28,
   "metadata": {},
   "outputs": [
    {
     "data": {
      "text/plain": [
       "[[1, 2, 3, 4, 5], [2, 1, 2, 3, 2, 4, 2, 5], [3, 3, 1, 1, 2, 2, 4, 4, 5, 5]]"
      ]
     },
     "execution_count": 28,
     "metadata": {},
     "output_type": "execute_result"
    }
   ],
   "source": [
    "pick=[[1, 2, 3, 4, 5],[2, 1, 2, 3, 2, 4, 2, 5],[3, 3, 1, 1, 2, 2, 4, 4, 5, 5]]\n",
    "pick"
   ]
  },
  {
   "cell_type": "code",
   "execution_count": 97,
   "metadata": {
    "scrolled": true
   },
   "outputs": [
    {
     "name": "stdout",
     "output_type": "stream",
     "text": [
      "[1, 2, 3, 4, 5]\n",
      "[2, 1, 2, 3, 2, 4, 2, 5]\n",
      "[3, 3, 1, 1, 2, 2, 4, 4, 5, 5]\n"
     ]
    }
   ],
   "source": [
    "for pick_num in pick:\n",
    "    print(pick_num)"
   ]
  },
  {
   "cell_type": "code",
   "execution_count": 82,
   "metadata": {},
   "outputs": [
    {
     "name": "stdout",
     "output_type": "stream",
     "text": [
      "[2, 2, 2]\n",
      "[1]\n",
      "[1, 2]\n",
      "[1, 2, 3]\n"
     ]
    }
   ],
   "source": [
    "answer=[1,3,2,4,2]\n",
    "pattern_supo_1 = [1 ,2, 3, 4, 5]\n",
    "pattern_supo_2 = [2, 1, 2, 3, 2, 4, 2, 5]\n",
    "pattern_supo_3 = [3, 3, 1, 1, 2, 2, 4, 4, 5, 5]\n",
    "pick=[pattern_supo_1, pattern_supo_2, pattern_supo_3]\n",
    "\n",
    "my_list=[]\n",
    "for pick_num in pick:\n",
    "    count_num=0\n",
    "    for index in range(len(answer)):  # 0~4\n",
    "        if answer[index]==pick_num[index]:\n",
    "            count_num +=1\n",
    "    my_list.append(count_num)    # 5, 0, 0\n",
    "print(my_list)\n",
    "\n",
    "my_list2=[]\n",
    "for list_index in range(len(pick)):   # list_index = 0, 1, 2\n",
    "    if my_list[list_index]==max(my_list):\n",
    "        my_list2.append(list_index+1)\n",
    "    print(my_list2)"
   ]
  },
  {
   "cell_type": "markdown",
   "metadata": {},
   "source": [
    "### 함수로 만들기\n",
    "* my code"
   ]
  },
  {
   "cell_type": "code",
   "execution_count": 60,
   "metadata": {},
   "outputs": [],
   "source": [
    "def solution(answer):\n",
    "    my_list=[]\n",
    "    for pick_num in pick:   #pick_num = [1, 2, 3, 4, 5], [2, 1, 2, 3, 2, 4, 2, 5], [3, 3, 1, 1, 2, 2, 4, 4, 5, 5]\n",
    "        count_num=0\n",
    "        for index in range(len(answer)):  # 0~4\n",
    "            if answer[index]==pick_num[index]:\n",
    "                count_num +=1\n",
    "        my_list.append(count_num)    # 5, 0, 0\n",
    "#     print(my_list)\n",
    "    \n",
    "    my_list2=[]\n",
    "    for list_index in range(len(my_list)):   # list_index = 0, 1, 2\n",
    "        max_num=max(my_list)   # max_num =5\n",
    "        if my_list[list_index]==max_num:\n",
    "            my_list2.append(list_index+1)\n",
    "    return sorted(my_list2)\n",
    "    return -1"
   ]
  },
  {
   "cell_type": "code",
   "execution_count": 62,
   "metadata": {},
   "outputs": [
    {
     "data": {
      "text/plain": [
       "[1, 2, 3]"
      ]
     },
     "execution_count": 62,
     "metadata": {},
     "output_type": "execute_result"
    }
   ],
   "source": [
    "answer=[9,9,9,9,9]\n",
    "solution(answer)"
   ]
  },
  {
   "cell_type": "markdown",
   "metadata": {},
   "source": [
    "### 다른사람 풀이(1)\n",
    "* cycle 활용\n",
    "* zip () \n",
    "    * zip(*iterable)은 동일한 개수로 이루어진 자료형을 묶어 주는 역할을 하는 함수이다.\n",
    "* enumerate () 함수 활용"
   ]
  },
  {
   "cell_type": "code",
   "execution_count": 2,
   "metadata": {},
   "outputs": [],
   "source": [
    "from itertools import cycle"
   ]
  },
  {
   "cell_type": "code",
   "execution_count": 230,
   "metadata": {},
   "outputs": [
    {
     "data": {
      "text/plain": [
       "<itertools.cycle at 0x112d28ea0>"
      ]
     },
     "execution_count": 230,
     "metadata": {},
     "output_type": "execute_result"
    }
   ],
   "source": [
    "# cycle 활용\n",
    "a=[1, 3, 5]\n",
    "cycle_a=cycle(a)\n",
    "cycle_a"
   ]
  },
  {
   "cell_type": "code",
   "execution_count": 231,
   "metadata": {},
   "outputs": [
    {
     "data": {
      "text/plain": [
       "1"
      ]
     },
     "execution_count": 231,
     "metadata": {},
     "output_type": "execute_result"
    }
   ],
   "source": [
    "next(cycle_a)"
   ]
  },
  {
   "cell_type": "code",
   "execution_count": 233,
   "metadata": {},
   "outputs": [
    {
     "data": {
      "text/plain": [
       "3"
      ]
     },
     "execution_count": 233,
     "metadata": {},
     "output_type": "execute_result"
    }
   ],
   "source": [
    "next(cycle_a)"
   ]
  },
  {
   "cell_type": "code",
   "execution_count": 234,
   "metadata": {},
   "outputs": [
    {
     "data": {
      "text/plain": [
       "5"
      ]
     },
     "execution_count": 234,
     "metadata": {},
     "output_type": "execute_result"
    }
   ],
   "source": [
    "next(cycle_a)"
   ]
  },
  {
   "cell_type": "code",
   "execution_count": 235,
   "metadata": {},
   "outputs": [
    {
     "data": {
      "text/plain": [
       "1"
      ]
     },
     "execution_count": 235,
     "metadata": {},
     "output_type": "execute_result"
    }
   ],
   "source": [
    "next(cycle_a)"
   ]
  },
  {
   "cell_type": "code",
   "execution_count": 236,
   "metadata": {},
   "outputs": [
    {
     "data": {
      "text/plain": [
       "3"
      ]
     },
     "execution_count": 236,
     "metadata": {},
     "output_type": "execute_result"
    }
   ],
   "source": [
    "next(cycle_a)"
   ]
  },
  {
   "cell_type": "code",
   "execution_count": 237,
   "metadata": {},
   "outputs": [
    {
     "data": {
      "text/plain": [
       "5"
      ]
     },
     "execution_count": 237,
     "metadata": {},
     "output_type": "execute_result"
    }
   ],
   "source": [
    "next(cycle_a)"
   ]
  },
  {
   "cell_type": "code",
   "execution_count": 279,
   "metadata": {},
   "outputs": [],
   "source": [
    "answers=[1,2,3,4,5]\n",
    "#answers=[1,3,2,4,2]"
   ]
  },
  {
   "cell_type": "code",
   "execution_count": 280,
   "metadata": {},
   "outputs": [],
   "source": [
    "winner = []\n",
    "pattern_supo_1 = [1 ,2, 3, 4, 5]\n",
    "pattern_supo_2 = [2, 1, 2, 3, 2, 4, 2, 5]\n",
    "pattern_supo_3 = [3, 3, 1, 1, 2, 2, 4, 4, 5, 5]\n",
    "score_supo = [0, 0, 0]"
   ]
  },
  {
   "cell_type": "code",
   "execution_count": 275,
   "metadata": {},
   "outputs": [
    {
     "name": "stdout",
     "output_type": "stream",
     "text": [
      "1 2 3 1\n",
      "2 1 3 3\n",
      "3 2 1 2\n",
      "4 3 1 4\n",
      "5 2 2 2\n"
     ]
    }
   ],
   "source": [
    "for supo_1, supo_2, supo_3, answer in zip(cycle(pattern_supo_1), cycle(pattern_supo_2), cycle(pattern_supo_3), answers):\n",
    "    print(supo_1, supo_2, supo_3, answer)"
   ]
  },
  {
   "cell_type": "code",
   "execution_count": 3,
   "metadata": {},
   "outputs": [
    {
     "name": "stdout",
     "output_type": "stream",
     "text": [
      "n번 수포자가 찍는 방식 , 정답: 1 2 3 1\n",
      "n번 수포자가 찍는 방식 , 정답: 2 1 3 2\n",
      "n번 수포자가 찍는 방식 , 정답: 3 2 1 3\n",
      "n번 수포자가 찍는 방식 , 정답: 4 3 1 4\n",
      "n번 수포자가 찍는 방식 , 정답: 5 2 2 5\n",
      "맞은 갯수 : [5, 0, 0]\n",
      "수포자명 인덱스 , 값 : 0 5\n",
      "수포자명 인덱스 , 값 : 1 0\n",
      "수포자명 인덱스 , 값 : 2 0\n",
      "맞춘 수포자명 : [1]\n"
     ]
    }
   ],
   "source": [
    "#answers=[1,3,2,4,2]\n",
    "winner = []\n",
    "pattern_supo_1 = [1 ,2, 3, 4, 5]\n",
    "pattern_supo_2 = [2, 1, 2, 3, 2, 4, 2, 5]\n",
    "pattern_supo_3 = [3, 3, 1, 1, 2, 2, 4, 4, 5, 5]\n",
    "answers=[1,2,3,4,5]\n",
    "score_supo = [0, 0, 0]\n",
    "\n",
    "for supo_1, supo_2, supo_3, answer in zip(cycle(pattern_supo_1), cycle(pattern_supo_2), cycle(pattern_supo_3), answers):\n",
    "    print('n번 수포자가 찍는 방식 , 정답:',supo_1,supo_2,supo_3,answer)\n",
    "    if supo_1 ==answer: \n",
    "        score_supo[0]+=1\n",
    "    if supo_2==answer: \n",
    "        score_supo[1]+=1\n",
    "    if supo_3 ==answer: \n",
    "        score_supo[2]+=1\n",
    "print('맞은 갯수 :',score_supo)\n",
    "\n",
    "for i, score in enumerate(score_supo):\n",
    "    print('수포자명 인덱스 , 값 :',i,score)\n",
    "    if score ==max(score_supo):\n",
    "        winner.append(i+1)\n",
    "print('맞춘 수포자명 :',winner)"
   ]
  },
  {
   "cell_type": "code",
   "execution_count": 11,
   "metadata": {},
   "outputs": [],
   "source": [
    "from itertools import cycle\n",
    "def solution(answers):\n",
    "    winner = []\n",
    "    pattern_supo_1 = [1 ,2, 3, 4, 5]\n",
    "    pattern_supo_2 = [2, 1, 2, 3, 2, 4, 2, 5]\n",
    "    pattern_supo_3 = [3, 3, 1, 1, 2, 2, 4, 4, 5, 5]\n",
    "    score_supo = [0, 0, 0]\n",
    "\n",
    "    for supo_1, supo_2, supo_3, answer in zip(cycle(pattern_supo_1), cycle(pattern_supo_2), cycle(pattern_supo_3), answers):\n",
    "        if supo_1 ==answer: \n",
    "            score_supo[0]+=1\n",
    "        if supo_2==answer: \n",
    "            score_supo[1]+=1\n",
    "        if supo_3 ==answer: \n",
    "            score_supo[2]+=1\n",
    "\n",
    "    for i, score in enumerate(score_supo):\n",
    "        if score ==max(score_supo):\n",
    "            winner.append(i+1)\n",
    "    return winner"
   ]
  },
  {
   "cell_type": "code",
   "execution_count": 12,
   "metadata": {},
   "outputs": [
    {
     "data": {
      "text/plain": [
       "[1]"
      ]
     },
     "execution_count": 12,
     "metadata": {},
     "output_type": "execute_result"
    }
   ],
   "source": [
    "solution(answers)"
   ]
  },
  {
   "cell_type": "code",
   "execution_count": 4,
   "metadata": {},
   "outputs": [
    {
     "data": {
      "text/plain": [
       "[(2, 1), (1, 2), (2, 3), (3, 4), (2, 5)]"
      ]
     },
     "execution_count": 4,
     "metadata": {},
     "output_type": "execute_result"
    }
   ],
   "source": [
    "list(zip( [2, 1, 2, 3, 2, 4, 2, 5],[1 ,2, 3, 4, 5]))"
   ]
  },
  {
   "cell_type": "markdown",
   "metadata": {},
   "source": [
    "### 다른사람 풀이(2)"
   ]
  },
  {
   "cell_type": "code",
   "execution_count": 108,
   "metadata": {},
   "outputs": [
    {
     "name": "stdout",
     "output_type": "stream",
     "text": [
      "score : [5, 0, 0]\n",
      "idx, s : 0 5\n",
      "idx, s : 1 0\n",
      "idx, s : 2 0\n",
      "[1]\n"
     ]
    }
   ],
   "source": [
    "pattern1 = [1,2,3,4,5]\n",
    "pattern2 = [2,1,2,3,2,4,2,5]\n",
    "pattern3 = [3,3,1,1,2,2,4,4,5,5]\n",
    "score = [0, 0, 0]\n",
    "result=[]\n",
    "#answers=[1,3,2,4,2]\n",
    "answers=[1,2,3,4,5]\n",
    "for idx, answer in enumerate(answers):  # idx = 0,1,2,3,4\n",
    "    if answer==pattern1[idx%len(pattern1)]:\n",
    "        score[0]+=1\n",
    "    if answer==pattern2[idx%len(pattern1)]:\n",
    "        score[1]+=1\n",
    "    if answer==pattern3[idx%len(pattern1)]:\n",
    "        score[2]+=1\n",
    "print('score :',score)\n",
    "\n",
    "for idx, s in enumerate(score):\n",
    "    print('idx, s :',idx, s)\n",
    "    if s==max(score):\n",
    "        result.append(idx+1)\n",
    "print(result)"
   ]
  },
  {
   "cell_type": "code",
   "execution_count": 94,
   "metadata": {},
   "outputs": [
    {
     "data": {
      "text/plain": [
       "3"
      ]
     },
     "execution_count": 94,
     "metadata": {},
     "output_type": "execute_result"
    }
   ],
   "source": [
    "# % 연산은 몫을 산출.\n",
    "3 % 10"
   ]
  },
  {
   "cell_type": "code",
   "execution_count": null,
   "metadata": {},
   "outputs": [],
   "source": [
    "def solution(answers):\n",
    "    pattern1 = [1,2,3,4,5]\n",
    "    pattern2 = [2,1,2,3,2,4,2,5]\n",
    "    pattern3 = [3,3,1,1,2,2,4,4,5,5]\n",
    "    score = [0, 0, 0]\n",
    "    result = []\n",
    "\n",
    "    for idx, answer in enumerate(answers):  # idx = 0,1, 2, 3, 4\n",
    "        if answer == pattern1[idx%len(pattern1)]:    # [0,1,2,3,4]\n",
    "            score[0] += 1\n",
    "        if answer == pattern2[idx%len(pattern2)]:    # [0,1,2,3,4]\n",
    "            score[1] += 1\n",
    "        if answer == pattern3[idx%len(pattern3)]:    # [0,1,2,3,4]\n",
    "            score[2] += 1\n",
    "\n",
    "    for idx, s in enumerate(score):\n",
    "        if s == max(score):\n",
    "            result.append(idx+1)\n",
    "\n",
    "    return result"
   ]
  },
  {
   "cell_type": "code",
   "execution_count": null,
   "metadata": {},
   "outputs": [],
   "source": []
  }
 ],
 "metadata": {
  "kernelspec": {
   "display_name": "suhyun2",
   "language": "python",
   "name": "suhyun2"
  },
  "language_info": {
   "codemirror_mode": {
    "name": "ipython",
    "version": 3
   },
   "file_extension": ".py",
   "mimetype": "text/x-python",
   "name": "python",
   "nbconvert_exporter": "python",
   "pygments_lexer": "ipython3",
   "version": "3.6.8"
  }
 },
 "nbformat": 4,
 "nbformat_minor": 2
}
