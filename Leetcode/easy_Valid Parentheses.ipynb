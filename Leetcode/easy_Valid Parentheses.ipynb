{
 "cells": [
  {
   "cell_type": "markdown",
   "metadata": {},
   "source": [
    "## Valid Parentheses\n",
    "2021-03-23~ 2021-03-24 <br>\n",
    "\n",
    "https://leetcode.com/problems/valid-parentheses/\n",
    "\n",
    "#### Problem\n",
    "> '(', ')', '{', '}', '[' , ']'  와 같은 문자만 주어짐. <br>\n",
    "괄호가 순서에맞게 잘 닫히면 true 아니면 false\n",
    "\n",
    "#### Example\n",
    "> Input:  s = \"{[]}\" <br>\n",
    "Output: true\n",
    "\n",
    "> Input:  s = \"([]}\" <br>\n",
    "Output: false"
   ]
  },
  {
   "cell_type": "code",
   "execution_count": 41,
   "metadata": {},
   "outputs": [
    {
     "data": {
      "text/plain": [
       "'{{()}}'"
      ]
     },
     "execution_count": 41,
     "metadata": {},
     "output_type": "execute_result"
    }
   ],
   "source": [
    "# 전체 문자는 반드시 짝수개로 있어야됨\n",
    "# () {[]} -> 이경우 true ?\n",
    "# \"()[]{}\"\n",
    "\n",
    "# s=\"{[()]}\"\n",
    "s= \"{{(   )}}\"\n",
    "# 우선 띄어쓰기부터 없애야함.\n",
    "s=s.replace(\" \",\"\")\n",
    "s"
   ]
  },
  {
   "cell_type": "code",
   "execution_count": 42,
   "metadata": {},
   "outputs": [
    {
     "data": {
      "text/plain": [
       "['{', '{', '(', ')', '}', '}']"
      ]
     },
     "execution_count": 42,
     "metadata": {},
     "output_type": "execute_result"
    }
   ],
   "source": [
    "word=[char for char in s]\n",
    "word"
   ]
  },
  {
   "cell_type": "code",
   "execution_count": 46,
   "metadata": {},
   "outputs": [
    {
     "data": {
      "text/plain": [
       "'{'"
      ]
     },
     "execution_count": 46,
     "metadata": {},
     "output_type": "execute_result"
    }
   ],
   "source": [
    "brackets={'}':'{',')':'(',']':'['}\n",
    "brackets['}']"
   ]
  },
  {
   "cell_type": "code",
   "execution_count": 50,
   "metadata": {},
   "outputs": [
    {
     "name": "stdout",
     "output_type": "stream",
     "text": [
      "{\n",
      "{\n",
      "(\n",
      ")\n",
      "}\n",
      "}\n"
     ]
    }
   ],
   "source": [
    "stack=[]\n",
    "s= \"{{(   )}}\"\n",
    "s=s.replace(\" \",\"\")\n",
    "for bracket in s:\n",
    "    print(bracket)"
   ]
  },
  {
   "cell_type": "markdown",
   "metadata": {},
   "source": [
    "**다른사람 풀이**\n",
    "* 닫는 괄호를 key값으로, 여는 괄호를 value값으로 입력한 딕셔너리를 만든다.\n",
    "* s 에서 문자를 하나씩 꺼내는데, 만약 여는괄호가 들어오면 stack에 append하고\n",
    "* 닫는 괄호가 들어왔을 경우, stack이 비어있지 않으면서 닫는 괄호에 대응하는 key값(여는괄호) 이 stack의 맨 끝 문자와 일치하면 stack의 끝값을 pop해서 없애기\n",
    "    * stack이 비어있는데 닫는 괄호가 들어오면 False\n",
    "* 만약 닫는 괄호가 들어왔는데 stack의 끝값과 일치하지 않으면 False 출력\n",
    "* 또 만약 모든 문자를 다 꺼냈는데도 stack에 문자가 남아있으면, False 출력\n",
    "* stack안에 문자가 다 없어지면 True 출력"
   ]
  },
  {
   "cell_type": "code",
   "execution_count": 1,
   "metadata": {},
   "outputs": [
    {
     "name": "stdout",
     "output_type": "stream",
     "text": [
      "['{', '{', '(', ')', '}', '}']\n"
     ]
    }
   ],
   "source": [
    "brackets={'}':'{',')':'(',']':'['}\n",
    "stack=[]\n",
    "s= \"{{(   )}}\"\n",
    "s=s.replace(\" \",\"\")\n",
    "\n",
    "for bracket in s:\n",
    "    if bracket in brackets.values():  # 여는 괄호\n",
    "        stack.append(bracket)\n",
    "    else:  # 닫는 괄호\n",
    "        if stack and brackets[bracket]==stack[-1]:  # stack 이 비어있지 않고, 새로꺼낸 닫는 괄호에 매칭되는 여는괄호가 stack맨끝값과 일치하면\n",
    "            stack.pop()\n",
    "        else:\n",
    "            return False\n",
    "if stack:   # stack이 비어있지 않으면(stack=True)\n",
    "    return False\n",
    "return True"
   ]
  },
  {
   "cell_type": "code",
   "execution_count": 3,
   "metadata": {},
   "outputs": [
    {
     "data": {
      "text/plain": [
       "dict_values(['{', '(', '['])"
      ]
     },
     "execution_count": 3,
     "metadata": {},
     "output_type": "execute_result"
    }
   ],
   "source": [
    "brackets={'}':'{',')':'(',']':'['}\n",
    "brackets.values()"
   ]
  },
  {
   "cell_type": "code",
   "execution_count": 4,
   "metadata": {},
   "outputs": [
    {
     "data": {
      "text/plain": [
       "dict_values(['(', '{', '['])"
      ]
     },
     "execution_count": 4,
     "metadata": {},
     "output_type": "execute_result"
    }
   ],
   "source": [
    "brackets={')':'(' , '}':'{' , ']':'['}\n",
    "brackets.values()"
   ]
  },
  {
   "cell_type": "code",
   "execution_count": 5,
   "metadata": {},
   "outputs": [
    {
     "data": {
      "text/plain": [
       "'{{()}}'"
      ]
     },
     "execution_count": 5,
     "metadata": {},
     "output_type": "execute_result"
    }
   ],
   "source": [
    "s"
   ]
  },
  {
   "cell_type": "code",
   "execution_count": 19,
   "metadata": {},
   "outputs": [
    {
     "name": "stdout",
     "output_type": "stream",
     "text": [
      "bracket :  {\n",
      "stack-----------> ['{']\n",
      "bracket :  (\n",
      "stack-----------> ['{', '(']\n",
      "bracket :  [\n",
      "stack-----------> ['{', '(', '[']\n",
      "bracket :  ]\n",
      "stack-----------> ['{', '(']\n",
      "bracket :  )\n",
      "stack-----------> ['{']\n",
      "bracket :  }\n",
      "stack-----------> []\n",
      "True\n"
     ]
    }
   ],
   "source": [
    "# s= \"{{()}}\"\n",
    "s=\"{([])}\"\n",
    "stack=[]\n",
    "for bracket in s:\n",
    "    print('bracket : ',bracket)\n",
    "    if bracket in brackets.values():\n",
    "        stack.append(bracket)\n",
    "        print('stack----------->',stack)\n",
    "    else:\n",
    "        if  stack and brackets[bracket]==stack[-1]:\n",
    "            stack.pop()\n",
    "            print('stack----------->',stack)\n",
    "        else:\n",
    "            print('False')\n",
    "if stack:\n",
    "    print('False')\n",
    "print('True')"
   ]
  },
  {
   "cell_type": "code",
   "execution_count": null,
   "metadata": {},
   "outputs": [],
   "source": []
  },
  {
   "cell_type": "code",
   "execution_count": null,
   "metadata": {},
   "outputs": [],
   "source": []
  },
  {
   "cell_type": "code",
   "execution_count": null,
   "metadata": {},
   "outputs": [],
   "source": []
  },
  {
   "cell_type": "code",
   "execution_count": null,
   "metadata": {},
   "outputs": [],
   "source": []
  },
  {
   "cell_type": "code",
   "execution_count": null,
   "metadata": {},
   "outputs": [],
   "source": []
  },
  {
   "cell_type": "code",
   "execution_count": null,
   "metadata": {},
   "outputs": [],
   "source": []
  },
  {
   "cell_type": "code",
   "execution_count": null,
   "metadata": {},
   "outputs": [],
   "source": []
  },
  {
   "cell_type": "code",
   "execution_count": null,
   "metadata": {},
   "outputs": [],
   "source": []
  }
 ],
 "metadata": {
  "kernelspec": {
   "display_name": "suhyun2",
   "language": "python",
   "name": "suhyun2"
  },
  "language_info": {
   "codemirror_mode": {
    "name": "ipython",
    "version": 3
   },
   "file_extension": ".py",
   "mimetype": "text/x-python",
   "name": "python",
   "nbconvert_exporter": "python",
   "pygments_lexer": "ipython3",
   "version": "3.6.8"
  }
 },
 "nbformat": 4,
 "nbformat_minor": 2
}
