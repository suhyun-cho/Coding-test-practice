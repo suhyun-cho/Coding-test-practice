{
 "cells": [
  {
   "cell_type": "markdown",
   "metadata": {},
   "source": [
    "## Longest Common Prefix\n",
    "2021-02-15 ~ 2021-02-17\n",
    "\n",
    "#### Example\n",
    "> Input: strs = [\"flower\",\"flow\",\"flight\"] <br>\n",
    "Output: \"fl\""
   ]
  },
  {
   "cell_type": "code",
   "execution_count": 6,
   "metadata": {},
   "outputs": [
    {
     "data": {
      "text/plain": [
       "['flower', 'flow', 'flight']"
      ]
     },
     "execution_count": 6,
     "metadata": {},
     "output_type": "execute_result"
    }
   ],
   "source": [
    "strs=[\"flower\",\"flow\",\"flight\"]\n",
    "strs"
   ]
  },
  {
   "cell_type": "code",
   "execution_count": 26,
   "metadata": {},
   "outputs": [
    {
     "name": "stdout",
     "output_type": "stream",
     "text": [
      "dict_keys(['flo', 'fli'])\n"
     ]
    },
    {
     "data": {
      "text/plain": [
       "2"
      ]
     },
     "execution_count": 26,
     "metadata": {},
     "output_type": "execute_result"
    }
   ],
   "source": [
    "from collections import Counter\n",
    "print(Counter(mylist).keys())\n",
    "len(Counter(mylist).keys())"
   ]
  },
  {
   "cell_type": "code",
   "execution_count": 7,
   "metadata": {},
   "outputs": [
    {
     "name": "stdout",
     "output_type": "stream",
     "text": [
      "{'flower': 6, 'flow': 4, 'flight': 6}\n"
     ]
    }
   ],
   "source": [
    "\"\"\"\n",
    "가장 길이가 짧은 단어를 뽑고, 단어를 뒤에서부터 잘라가면서 다른 단어에 포함되어있는지 체크\n",
    "\"\"\"\n",
    "mydict={}\n",
    "for i in range(len(strs)):\n",
    "    # for loop안에서 딕셔너리 만드는 방법\n",
    "    mydict[strs[i]]=len(strs[i])\n",
    "print(mydict)"
   ]
  },
  {
   "cell_type": "code",
   "execution_count": 8,
   "metadata": {},
   "outputs": [
    {
     "data": {
      "text/plain": [
       "dict_items([('flower', 6), ('flow', 4), ('flight', 6)])"
      ]
     },
     "execution_count": 8,
     "metadata": {},
     "output_type": "execute_result"
    }
   ],
   "source": [
    "mydict.items()"
   ]
  },
  {
   "cell_type": "code",
   "execution_count": 5,
   "metadata": {},
   "outputs": [
    {
     "name": "stdout",
     "output_type": "stream",
     "text": [
      "flow\n"
     ]
    }
   ],
   "source": [
    "\"\"\"\n",
    "글자수가 가장 적은 단어 뽑기\n",
    "\"\"\"\n",
    "mydict={}\n",
    "for i in range(len(strs)):\n",
    "    mydict[strs[i]]=len(strs[i])\n",
    "    min_str=''.join([name for name,length in mydict.items() if length==min(mydict.values())])\n",
    "print(min_str)"
   ]
  },
  {
   "cell_type": "code",
   "execution_count": 24,
   "metadata": {},
   "outputs": [
    {
     "name": "stdout",
     "output_type": "stream",
     "text": [
      "{'flower': 6, 'flow': 4, 'flight': 6}\n",
      "{'flower': 6, 'flight': 6}\n",
      "dict_keys(['flower', 'flight'])\n"
     ]
    }
   ],
   "source": [
    "mydict={}\n",
    "for i in range(len(strs)):\n",
    "    mydict[strs[i]]=len(strs[i])\n",
    "    min_val=min(mydict.values())    # min_val=4\n",
    "    min_str=''.join([name for name,length in mydict.items() if length==min_val])\n",
    "    \n",
    "    # 딕셔너리 안에 단어개수 가장적은 단어 제거\n",
    "print(mydict)\n",
    "mydict.pop(min_str)\n",
    "print(mydict)\n",
    "print(mydict.keys())"
   ]
  },
  {
   "cell_type": "markdown",
   "metadata": {},
   "source": [
    "#### 1차 결과\n",
    "* strs = [\"dog\",\"racecar\",\"doc\"] 이런식으로 단어개수가 3개로 가장 적은 단어가 두개이상일경우 error.."
   ]
  },
  {
   "cell_type": "code",
   "execution_count": 132,
   "metadata": {},
   "outputs": [
    {
     "name": "stdout",
     "output_type": "stream",
     "text": [
      "fl\n"
     ]
    }
   ],
   "source": [
    "strs = [\"flower\",\"flow\",\"flight\"]\n",
    "\n",
    "mydict={}\n",
    "for i in range(len(strs)):\n",
    "    mydict[strs[i]]=len(strs[i])\n",
    "    min_val=min(mydict.values())    # min_val=4\n",
    "    min_str=''.join([name for name,length in mydict.items() if length==min_val])  # min_str='flow'\n",
    "    \n",
    "# 딕셔너리 안에 단어개수 가장적은 단어 제거 => {'flower': 6, 'flight': 6}\n",
    "mydict.pop(min_str)\n",
    "other_str=list(mydict.keys())   # ['flower', 'flight']\n",
    "\n",
    "# flow 라는단어가 포함되어있는지 체크\n",
    "for j in range(min_val,0,-1):  # j=4,3,2,1\n",
    "    cnt=len([w for w in other_str if min_str[:j] in w])\n",
    "    # 리스트안의 모든 단어가 같으면 끝\n",
    "    if cnt==len(other_str):\n",
    "        break\n",
    "print(min_str[:j])"
   ]
  },
  {
   "cell_type": "code",
   "execution_count": 128,
   "metadata": {},
   "outputs": [
    {
     "data": {
      "text/plain": [
       "['flower', 'flight']"
      ]
     },
     "execution_count": 128,
     "metadata": {},
     "output_type": "execute_result"
    }
   ],
   "source": [
    "other_str"
   ]
  },
  {
   "cell_type": "code",
   "execution_count": 121,
   "metadata": {},
   "outputs": [
    {
     "data": {
      "text/plain": [
       "1"
      ]
     },
     "execution_count": 121,
     "metadata": {},
     "output_type": "execute_result"
    }
   ],
   "source": [
    "cnt=len([w for w in other_str if min_str[:3] in w])\n",
    "cnt"
   ]
  },
  {
   "cell_type": "code",
   "execution_count": 36,
   "metadata": {},
   "outputs": [
    {
     "data": {
      "text/plain": [
       "['flower', 'flight']"
      ]
     },
     "execution_count": 36,
     "metadata": {},
     "output_type": "execute_result"
    }
   ],
   "source": [
    "other_str=list(mydict.keys())\n",
    "other_str"
   ]
  },
  {
   "cell_type": "code",
   "execution_count": 81,
   "metadata": {},
   "outputs": [
    {
     "data": {
      "text/plain": [
       "'fl'"
      ]
     },
     "execution_count": 81,
     "metadata": {},
     "output_type": "execute_result"
    }
   ],
   "source": [
    "min_str[:2] "
   ]
  },
  {
   "cell_type": "code",
   "execution_count": 100,
   "metadata": {},
   "outputs": [
    {
     "data": {
      "text/plain": [
       "['f', 'l']"
      ]
     },
     "execution_count": 100,
     "metadata": {},
     "output_type": "execute_result"
    }
   ],
   "source": [
    "[s for s in min_str[:2] if min_str[:2] in w]"
   ]
  },
  {
   "cell_type": "code",
   "execution_count": 81,
   "metadata": {},
   "outputs": [
    {
     "data": {
      "text/plain": [
       "'flow'"
      ]
     },
     "execution_count": 81,
     "metadata": {},
     "output_type": "execute_result"
    }
   ],
   "source": [
    "min_str[:4]"
   ]
  },
  {
   "cell_type": "code",
   "execution_count": 30,
   "metadata": {},
   "outputs": [
    {
     "data": {
      "text/plain": [
       "'fl'"
      ]
     },
     "execution_count": 30,
     "metadata": {},
     "output_type": "execute_result"
    }
   ],
   "source": [
    "min_str[:2]"
   ]
  },
  {
   "cell_type": "code",
   "execution_count": 94,
   "metadata": {
    "scrolled": true
   },
   "outputs": [
    {
     "name": "stdout",
     "output_type": "stream",
     "text": [
      "4\n",
      "3\n",
      "2\n",
      "1\n"
     ]
    }
   ],
   "source": [
    "for j in range(4,0,-1):\n",
    "    print(j)"
   ]
  },
  {
   "cell_type": "markdown",
   "metadata": {},
   "source": [
    "------------------------------\n",
    "## 다른사람 풀이\n",
    "* strs가 empty인 경우는 \"\" 공란 출력하는것 따로 처리\n",
    "* 단어길이가 짧은것 순으로 정렬하고\n",
    "* 맨앞에 온 짧은단어의 단어 하나하나를 순회하면서 그뒤의 단어들과 매칭해서 다를경우 그 부분까지 리스트 인덱싱해서 return\n",
    "> * 첫번째 for loop은 맨앞의 가장 짧은단어 알파벳 하나하나를 순회하는 것\n",
    "> * 두번째 for loop은 주어진 strs의 가장 짧은 단어를 제외한 나머지 단어를 순회하는 것"
   ]
  },
  {
   "cell_type": "code",
   "execution_count": 21,
   "metadata": {},
   "outputs": [
    {
     "name": "stdout",
     "output_type": "stream",
     "text": [
      "fl\n",
      "flo\n",
      "flow\n"
     ]
    }
   ],
   "source": [
    "strs = [\"flower\",\"flow\",\"flight\"]\n",
    "strs.sort(key=lambda x: len(x))    # ['flow', 'flower', 'flight']\n",
    "\n",
    "if len(strs)==0:\n",
    "    print(\"\")\n",
    "else:\n",
    "    for i in range(len(strs[0])):   # i = 0,1,2,3  ('flow'단어 하나씩 순회)\n",
    "        for j in range(1,len(strs)):   # j=1,2  ('flower','flight' 순회)\n",
    "            if strs[0][i]!=strs[j][i]:\n",
    "                print(strs[0][:i])\n",
    "    print(strs[0])"
   ]
  },
  {
   "cell_type": "code",
   "execution_count": 24,
   "metadata": {},
   "outputs": [],
   "source": [
    "def longestCommonPrefix(strs):\n",
    "    strs.sort(key=lambda x: len(x))\n",
    "    if len(strs)==0:\n",
    "        return \"\"\n",
    "    else:\n",
    "        for i in range(len(strs[0])):\n",
    "            for j in range(1, len(strs)):\n",
    "                if strs[0][i] != strs[j][i]:\n",
    "                    return strs[0][:i]\n",
    "        return strs[0]"
   ]
  },
  {
   "cell_type": "code",
   "execution_count": 25,
   "metadata": {},
   "outputs": [
    {
     "data": {
      "text/plain": [
       "'fl'"
      ]
     },
     "execution_count": 25,
     "metadata": {},
     "output_type": "execute_result"
    }
   ],
   "source": [
    "longestCommonPrefix(strs)"
   ]
  },
  {
   "cell_type": "code",
   "execution_count": null,
   "metadata": {},
   "outputs": [],
   "source": []
  },
  {
   "cell_type": "code",
   "execution_count": null,
   "metadata": {},
   "outputs": [],
   "source": []
  }
 ],
 "metadata": {
  "kernelspec": {
   "display_name": "suhyun2",
   "language": "python",
   "name": "suhyun2"
  },
  "language_info": {
   "codemirror_mode": {
    "name": "ipython",
    "version": 3
   },
   "file_extension": ".py",
   "mimetype": "text/x-python",
   "name": "python",
   "nbconvert_exporter": "python",
   "pygments_lexer": "ipython3",
   "version": "3.6.8"
  }
 },
 "nbformat": 4,
 "nbformat_minor": 2
}
