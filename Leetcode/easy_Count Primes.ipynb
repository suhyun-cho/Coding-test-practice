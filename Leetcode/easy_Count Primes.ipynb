{
 "cells": [
  {
   "cell_type": "markdown",
   "metadata": {},
   "source": [
    "## Count Primes(소수)\n",
    "2020-11-06\n",
    "* 2도 소수인데, Leetcode에서는 2를 소수라고 취급안하는지,, 게속 에러남"
   ]
  },
  {
   "cell_type": "code",
   "execution_count": 39,
   "metadata": {},
   "outputs": [
    {
     "name": "stdout",
     "output_type": "stream",
     "text": [
      "홀수=> 3\n",
      "홀수=> 5\n",
      "홀수=> 7\n",
      "홀수=> 9\n",
      "i= 3\n",
      "odd-------> 4\n",
      "최종odd= 4\n"
     ]
    }
   ],
   "source": [
    "# 1부터 10까지 숫자중에 하나라도 나누어떨어지면 소수아님.\n",
    "### 정답 => 2,3,5,7\n",
    "n=10\n",
    "odd=n-n//2    # 홀수개수=> 5개\n",
    "for num in range(1,n+1):  # num=1~10\n",
    "    if  num>1 and num%2!=0:\n",
    "        print('홀수=>',num)\n",
    "        \n",
    "         # 홀수중에서 자기보다 작은수로 나눴을때 나눠떨어지면 제외\n",
    "        for i in range(3,11):  # i=3~10, num=1,3,5,7,9  (홀수)\n",
    "            if num>i and num%i ==0:\n",
    "                print('i=',i)\n",
    "                odd=odd-1\n",
    "                print('odd------->',odd)\n",
    "                \n",
    "print('최종odd=',odd)"
   ]
  },
  {
   "cell_type": "code",
   "execution_count": 34,
   "metadata": {},
   "outputs": [
    {
     "data": {
      "text/plain": [
       "5"
      ]
     },
     "execution_count": 34,
     "metadata": {},
     "output_type": "execute_result"
    }
   ],
   "source": [
    "# 홀수개수\n",
    "10-10//2"
   ]
  },
  {
   "cell_type": "code",
   "execution_count": 106,
   "metadata": {},
   "outputs": [
    {
     "name": "stdout",
     "output_type": "stream",
     "text": [
      "odd-------> 3\n"
     ]
    }
   ],
   "source": [
    "n=5\n",
    "if n==0 or n==1:\n",
    "    odd=0\n",
    "else:\n",
    "    odd=n-n//2 \n",
    "    for num in range(2,n+1):  #num=1~10\n",
    "        if num%2!=0:   #num=1,3,5,7,9\n",
    "            for i in range(3,11):  # i=3,4,5,6,7,8,9,10\n",
    "                if num>i  and num%i==0:\n",
    "                    print('num=>',num)\n",
    "                    odd=odd-1\n",
    "print('odd------->',odd)"
   ]
  },
  {
   "cell_type": "code",
   "execution_count": 151,
   "metadata": {},
   "outputs": [],
   "source": [
    "def countPrimes(self, n: int) -> int:\n",
    "    if n==0 or n==1 :\n",
    "        odd=0\n",
    "    elif n==2:\n",
    "        odd=0\n",
    "    else:\n",
    "        odd=n-n//2  \n",
    "        for num in range(2,n+1): \n",
    "            if num%2!=0:   \n",
    "                for i in range(3,11):  \n",
    "                    if num>i  and num%i==0:\n",
    "                        odd=odd-1\n",
    "    return odd"
   ]
  },
  {
   "cell_type": "code",
   "execution_count": 153,
   "metadata": {},
   "outputs": [
    {
     "data": {
      "text/plain": [
       "2"
      ]
     },
     "execution_count": 153,
     "metadata": {},
     "output_type": "execute_result"
    }
   ],
   "source": [
    "countPrimes(n,3)"
   ]
  },
  {
   "cell_type": "code",
   "execution_count": 122,
   "metadata": {},
   "outputs": [
    {
     "data": {
      "text/plain": [
       "1"
      ]
     },
     "execution_count": 122,
     "metadata": {},
     "output_type": "execute_result"
    }
   ],
   "source": [
    "2-2//2"
   ]
  },
  {
   "cell_type": "markdown",
   "metadata": {},
   "source": [
    "#### 소수 구하는 다른사람 풀이해설"
   ]
  },
  {
   "cell_type": "code",
   "execution_count": 15,
   "metadata": {},
   "outputs": [],
   "source": [
    "def countPrimes(self, n: int) -> int:\n",
    "    prime_nums=[]\n",
    "    for i in range(2,n+1):  # 2~10\n",
    "        flag=1\n",
    "        for j in range(2,i//2+1): # i=10, j=2,3,4,5\n",
    "            if i%j==0:\n",
    "                flag=0\n",
    "                break\n",
    "        if flag==1:\n",
    "            prime_nums.append(i)\n",
    "    return len(prime_nums)"
   ]
  },
  {
   "cell_type": "code",
   "execution_count": 16,
   "metadata": {},
   "outputs": [
    {
     "data": {
      "text/plain": [
       "4"
      ]
     },
     "execution_count": 16,
     "metadata": {},
     "output_type": "execute_result"
    }
   ],
   "source": [
    "countPrimes(n,10)"
   ]
  },
  {
   "cell_type": "code",
   "execution_count": 23,
   "metadata": {},
   "outputs": [
    {
     "name": "stdout",
     "output_type": "stream",
     "text": [
      "[2, 3, 5, 7]\n",
      "4\n"
     ]
    }
   ],
   "source": [
    "n=10\n",
    "prime_nums=[]\n",
    "for i in range(2,n+1):  # 2~10\n",
    "    flag=1\n",
    "    for j in range(2,i//2+1): # i=10, j=2,3,4,5\n",
    "        if i%j==0:\n",
    "            flag=0\n",
    "            break\n",
    "    if flag==1:\n",
    "        prime_nums.append(i)\n",
    "print(prime_nums)\n",
    "print(len(prime_nums))"
   ]
  },
  {
   "cell_type": "code",
   "execution_count": 40,
   "metadata": {},
   "outputs": [
    {
     "name": "stdout",
     "output_type": "stream",
     "text": [
      "i= 2\n",
      "i= 2 j= 8\n",
      "prime_nums= [2]\n",
      "i= 3\n",
      "i= 3 j= 8\n",
      "prime_nums= [2, 3]\n",
      "i= 4\n",
      "i= 4 j= 2\n",
      "i= 5\n",
      "i= 5 j= 2\n",
      "prime_nums= [2, 3, 5]\n",
      "i= 6\n",
      "i= 6 j= 2\n",
      "i= 7\n",
      "i= 7 j= 3\n",
      "prime_nums= [2, 3, 5, 7]\n",
      "i= 8\n",
      "i= 8 j= 2\n",
      "i= 9\n",
      "i= 9 j= 3\n",
      "i= 10\n",
      "i= 10 j= 2\n",
      "[2, 3, 5, 7]\n"
     ]
    }
   ],
   "source": [
    "n=10\n",
    "prime_nums=[]\n",
    "for i in range(2,n+1):   \n",
    "    print('i=',i)  # i=7\n",
    "    flag=1\n",
    "    for j in range(2, i//2+1):   # j=2,3   (i=7인경우 j가 2일때 append안되고 3일때 append됨.)\n",
    "        if i%j==0:\n",
    "            flag=0\n",
    "            print( 'i=',i, 'j=',j)\n",
    "            break\n",
    "    # 위에 for문이 범위 끝까지 다 돈다음에 아래 if문 수행.\n",
    "    if flag==1:\n",
    "        print( 'i=',i, 'j=',j)\n",
    "        prime_nums.append(i)\n",
    "        print('prime_nums=',prime_nums)\n",
    "print(prime_nums)"
   ]
  },
  {
   "cell_type": "markdown",
   "metadata": {},
   "source": [
    "* 아래처럼 if문에 나눠떨어질경우 break하고, else문에 나눠떨어지지 않을경우 append를 하면 생기는문제.\n",
    "    * 만약 i=9가 들어왔을때  j=2,3,4를 for문에서 도는데, 이때 j를 끝까지 돌았을때 아무것도 나눠떨어지지 않을때만 append를 해야하는데,\n",
    "    * j=2일때 나눠떨어지지 않으므로 이를 append하게되는 문제가있음.\n",
    "    \n",
    "> 그래서, 위에처럼 j의 for문을 끝까지 다 돈다음에 나눠떨어지는게 없을 경우에 마지막에 append를 해야함."
   ]
  },
  {
   "cell_type": "code",
   "execution_count": 42,
   "metadata": {},
   "outputs": [
    {
     "name": "stdout",
     "output_type": "stream",
     "text": [
      "i= 2\n",
      "i= 3\n",
      "i= 4\n",
      "i= 4 j= 2\n",
      "i= 5\n",
      "i= 5 j= 2\n",
      "prime_nums [5]\n",
      "i= 6\n",
      "i= 6 j= 2\n",
      "i= 7\n",
      "i= 7 j= 2\n",
      "prime_nums [5, 7]\n",
      "i= 7 j= 3\n",
      "prime_nums [5, 7, 7]\n",
      "i= 8\n",
      "i= 8 j= 2\n",
      "i= 9\n",
      "i= 9 j= 2\n",
      "prime_nums [5, 7, 7, 9]\n",
      "i= 9 j= 3\n",
      "i= 10\n",
      "i= 10 j= 2\n",
      "[5, 7, 7, 9]\n"
     ]
    }
   ],
   "source": [
    "n=10\n",
    "prime_nums=[]\n",
    "for i in range(2,n+1):   \n",
    "    print('i=',i)    # i=9\n",
    "    for j in range(2, i//2+1):    # j=2,3,4\n",
    "        if i%j==0:\n",
    "            print( 'i=',i, 'j=',j)\n",
    "            break\n",
    "        else:\n",
    "            print( 'i=',i, 'j=',j)\n",
    "            prime_nums.append(i)  # i=9, j=2일때 안나눠떨어지므로 append를하는데, j=3일때 나눠떨어지므로 안됨.\n",
    "            print('prime_nums',prime_nums)\n",
    "print(prime_nums)"
   ]
  },
  {
   "cell_type": "code",
   "execution_count": null,
   "metadata": {},
   "outputs": [],
   "source": []
  },
  {
   "cell_type": "code",
   "execution_count": null,
   "metadata": {},
   "outputs": [],
   "source": []
  }
 ],
 "metadata": {
  "kernelspec": {
   "display_name": "suhyun2",
   "language": "python",
   "name": "suhyun2"
  },
  "language_info": {
   "codemirror_mode": {
    "name": "ipython",
    "version": 3
   },
   "file_extension": ".py",
   "mimetype": "text/x-python",
   "name": "python",
   "nbconvert_exporter": "python",
   "pygments_lexer": "ipython3",
   "version": "3.6.8"
  }
 },
 "nbformat": 4,
 "nbformat_minor": 2
}
