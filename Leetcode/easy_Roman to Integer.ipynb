{
 "cells": [
  {
   "cell_type": "markdown",
   "metadata": {},
   "source": [
    "## 13. Roman to Integer\n",
    "* V의 왼쪽에 쓰면 그 숫자만큼 빼고, V의 오른쪽에 쓰면 그 숫자만큼 더하는것이 규칙"
   ]
  },
  {
   "cell_type": "code",
   "execution_count": 2,
   "metadata": {},
   "outputs": [
    {
     "data": {
      "text/plain": [
       "{'I': 1, 'V': 5, 'X': 10, 'L': 50, 'C': 100, 'D': 500, 'M': 1000}"
      ]
     },
     "execution_count": 2,
     "metadata": {},
     "output_type": "execute_result"
    }
   ],
   "source": [
    "roman_dict={'I':1,'V':5, 'X': 10, 'L':50,'C':100, 'D':500, 'M':1000}\n",
    "roman_dict"
   ]
  },
  {
   "cell_type": "markdown",
   "metadata": {},
   "source": [
    " #### 수현's 풀이 로직 (fail)\n",
    "    * 가장큰 M부터, D,C,L,X,V,I순으로 차례대로 문자의 왼쪽에서부터 값이 있는지 탐색하고\n",
    "    * 있으면 해당위치 왼쪽에 그거보다 작은 문자(I,V,X,L,C,D,M)가 있으면 그값을 빼준다.\n",
    "    * 없으면 그냥 해당값만 더해줌."
   ]
  },
  {
   "cell_type": "code",
   "execution_count": 18,
   "metadata": {},
   "outputs": [
    {
     "data": {
      "text/plain": [
       "['M', 'C', 'M', 'X', 'C', 'I', 'V']"
      ]
     },
     "execution_count": 18,
     "metadata": {},
     "output_type": "execute_result"
    }
   ],
   "source": [
    "roman_dict={'I':1,'V':5, 'X': 10, 'L':50,'C':100, 'D':500, 'M':1000}\n",
    "roman_str=['M','D','C','L','X','V','I']\n",
    "\n",
    "s=\"MCMXCIV\"\n",
    "s=[x for x in s]\n",
    "s"
   ]
  },
  {
   "cell_type": "code",
   "execution_count": 16,
   "metadata": {},
   "outputs": [
    {
     "data": {
      "text/plain": [
       "1000"
      ]
     },
     "execution_count": 16,
     "metadata": {},
     "output_type": "execute_result"
    }
   ],
   "source": [
    "roman_dict[s[0]]"
   ]
  },
  {
   "cell_type": "code",
   "execution_count": 35,
   "metadata": {},
   "outputs": [
    {
     "data": {
      "text/plain": [
       "3"
      ]
     },
     "execution_count": 35,
     "metadata": {},
     "output_type": "execute_result"
    }
   ],
   "source": [
    "s.index('X')"
   ]
  },
  {
   "cell_type": "code",
   "execution_count": 47,
   "metadata": {},
   "outputs": [
    {
     "data": {
      "text/plain": [
       "['C', 'M']"
      ]
     },
     "execution_count": 47,
     "metadata": {},
     "output_type": "execute_result"
    }
   ],
   "source": [
    "s[1:3]"
   ]
  },
  {
   "cell_type": "code",
   "execution_count": 56,
   "metadata": {},
   "outputs": [
    {
     "data": {
      "text/plain": [
       "['M', 'V', 'C', 'M', 'I']"
      ]
     },
     "execution_count": 56,
     "metadata": {},
     "output_type": "execute_result"
    }
   ],
   "source": [
    "z='MVCMI'\n",
    "z=[x for x in z]\n",
    "z"
   ]
  },
  {
   "cell_type": "code",
   "execution_count": 57,
   "metadata": {},
   "outputs": [],
   "source": [
    "del z[:1]"
   ]
  },
  {
   "cell_type": "code",
   "execution_count": 58,
   "metadata": {},
   "outputs": [
    {
     "data": {
      "text/plain": [
       "['V', 'C', 'M', 'I']"
      ]
     },
     "execution_count": 58,
     "metadata": {},
     "output_type": "execute_result"
    }
   ],
   "source": [
    "z"
   ]
  },
  {
   "cell_type": "code",
   "execution_count": 84,
   "metadata": {},
   "outputs": [
    {
     "name": "stdout",
     "output_type": "stream",
     "text": [
      "0 M\n",
      "1 C\n",
      "2 M\n",
      "3 X\n",
      "4 C\n",
      "5 I\n",
      "6 V\n"
     ]
    }
   ],
   "source": [
    "# {0: M, 1:C, 2:M, 3:X, 4:C , 5:I , 6: V} 이런식으로 딕셔너리 만들기.\n",
    "for i,v in enumerate(s):\n",
    "    print(i,v)"
   ]
  },
  {
   "cell_type": "code",
   "execution_count": 86,
   "metadata": {},
   "outputs": [
    {
     "name": "stdout",
     "output_type": "stream",
     "text": [
      "roman M\n",
      "0\n",
      "roman D\n",
      "roman C\n",
      "roman L\n",
      "roman X\n",
      "roman V\n",
      "roman I\n",
      "roman M\n",
      "roman D\n",
      "roman C\n",
      "2\n",
      "roman L\n",
      "roman X\n",
      "roman V\n",
      "roman I\n",
      "roman M\n",
      "0\n",
      "roman D\n",
      "roman C\n",
      "roman L\n",
      "roman X\n",
      "roman V\n",
      "roman I\n",
      "roman M\n",
      "roman D\n",
      "roman C\n",
      "roman L\n",
      "roman X\n",
      "4\n",
      "roman V\n",
      "roman I\n",
      "roman M\n",
      "roman D\n",
      "roman C\n",
      "2\n",
      "roman L\n",
      "roman X\n",
      "roman V\n",
      "roman I\n",
      "roman M\n",
      "roman D\n",
      "roman C\n",
      "roman L\n",
      "roman X\n",
      "roman V\n",
      "roman I\n",
      "6\n",
      "roman M\n",
      "roman D\n",
      "roman C\n",
      "roman L\n",
      "roman X\n",
      "roman V\n",
      "5\n",
      "roman I\n"
     ]
    }
   ],
   "source": [
    "roman_str=['M','D','C','L','X','V','I']\n",
    "s=\"MCMXCIV\"\n",
    "s=[x for x in s]\n",
    "for i,v in enumerate(s):\n",
    "    # M의 인덱스를 뽑아오기.\n",
    "    for r in range(len(roman_str)): # (로마숫자 M부터 I까지 꺼내옴.)\n",
    "        print('roman',roman_str[r])\n",
    "        if v==roman_str[r]:\n",
    "            print(r)"
   ]
  },
  {
   "cell_type": "code",
   "execution_count": 71,
   "metadata": {},
   "outputs": [
    {
     "name": "stdout",
     "output_type": "stream",
     "text": [
      "로마숫자=> M\n",
      "idx=> 0\n",
      "문자 ['C', 'M', 'X', 'C', 'I', 'V']\n",
      "answer=================> [1000]\n",
      "로마숫자=> D\n",
      "로마숫자=> C\n",
      "idx=> 0\n",
      "문자 ['M', 'X', 'C', 'I', 'V']\n",
      "answer=================> [1000, 100]\n",
      "로마숫자=> L\n",
      "로마숫자=> X\n",
      "idx=> 1\n",
      "문자 ['C', 'I', 'V']\n",
      "answer=================> [1000, 100, 10]\n",
      "로마숫자=> V\n",
      "idx=> 2\n",
      "문자 []\n",
      "answer=================> [1000, 100, 10, -95]\n"
     ]
    },
    {
     "ename": "IndexError",
     "evalue": "list index out of range",
     "output_type": "error",
     "traceback": [
      "\u001b[0;31m---------------------------------------------------------------------------\u001b[0m",
      "\u001b[0;31mIndexError\u001b[0m                                Traceback (most recent call last)",
      "\u001b[0;32m<ipython-input-71-846dc476f2e2>\u001b[0m in \u001b[0;36m<module>\u001b[0;34m\u001b[0m\n\u001b[1;32m     15\u001b[0m             \u001b[0;32mif\u001b[0m \u001b[0mlen\u001b[0m\u001b[0;34m(\u001b[0m\u001b[0ms\u001b[0m\u001b[0;34m[\u001b[0m\u001b[0;34m:\u001b[0m\u001b[0midx\u001b[0m\u001b[0;34m]\u001b[0m\u001b[0;34m)\u001b[0m\u001b[0;34m>\u001b[0m\u001b[0;36m1\u001b[0m\u001b[0;34m:\u001b[0m    \u001b[0;31m#  'V',C','M' 이렇게 두개이상있을경우\u001b[0m\u001b[0;34m\u001b[0m\u001b[0;34m\u001b[0m\u001b[0m\n\u001b[1;32m     16\u001b[0m                 \u001b[0;32mfor\u001b[0m \u001b[0mj\u001b[0m \u001b[0;32min\u001b[0m \u001b[0mrange\u001b[0m\u001b[0;34m(\u001b[0m\u001b[0midx\u001b[0m\u001b[0;34m)\u001b[0m\u001b[0;34m:\u001b[0m   \u001b[0;31m#  idx=2, j = 0,1\u001b[0m\u001b[0;34m\u001b[0m\u001b[0;34m\u001b[0m\u001b[0m\n\u001b[0;32m---> 17\u001b[0;31m                     \u001b[0mminus\u001b[0m\u001b[0;34m+=\u001b[0m\u001b[0mroman_dict\u001b[0m\u001b[0;34m[\u001b[0m\u001b[0ms\u001b[0m\u001b[0;34m[\u001b[0m\u001b[0mj\u001b[0m\u001b[0;34m]\u001b[0m\u001b[0;34m]\u001b[0m   \u001b[0;31m# V=5, C=100 이므로 minus = 105\u001b[0m\u001b[0;34m\u001b[0m\u001b[0;34m\u001b[0m\u001b[0m\n\u001b[0m\u001b[1;32m     18\u001b[0m                     \u001b[0manswer\u001b[0m\u001b[0;34m.\u001b[0m\u001b[0mappend\u001b[0m\u001b[0;34m(\u001b[0m\u001b[0mroman_dict\u001b[0m\u001b[0;34m[\u001b[0m\u001b[0ms\u001b[0m\u001b[0;34m[\u001b[0m\u001b[0midx\u001b[0m\u001b[0;34m]\u001b[0m\u001b[0;34m]\u001b[0m \u001b[0;34m-\u001b[0m \u001b[0mminus\u001b[0m\u001b[0;34m)\u001b[0m  \u001b[0;31m# M=1000이니까 1000- 105\u001b[0m\u001b[0;34m\u001b[0m\u001b[0;34m\u001b[0m\u001b[0m\n\u001b[1;32m     19\u001b[0m                     \u001b[0;32mdel\u001b[0m \u001b[0ms\u001b[0m\u001b[0;34m[\u001b[0m\u001b[0;34m:\u001b[0m\u001b[0midx\u001b[0m\u001b[0;34m+\u001b[0m\u001b[0;36m1\u001b[0m\u001b[0;34m]\u001b[0m\u001b[0;34m\u001b[0m\u001b[0;34m\u001b[0m\u001b[0m\n",
      "\u001b[0;31mIndexError\u001b[0m: list index out of range"
     ]
    }
   ],
   "source": [
    "roman_dict={'I':1,'V':5, 'X': 10, 'L':50,'C':100, 'D':500, 'M':1000}\n",
    "roman_str=['M','D','C','L','X','V','I']\n",
    "s=\"MCMXCIV\"\n",
    "s=[x for x in s]\n",
    "\n",
    "# 문자가 'MVCM' 인경우?\n",
    "minus=0\n",
    "answer=[]\n",
    "while s:\n",
    "    for i in range(len(roman_str)):   # i= 0~6. (로마숫자 M부터 I까지 꺼내옴.)\n",
    "        print('로마숫자=>', roman_str[i])\n",
    "        if roman_str[i] in s:   # M이 문자안에 있으면,\n",
    "            idx=s.index(roman_str[i])  # 로마숫자가 있는 s의 인덱스 반환.  (idx=0)\n",
    "            print('idx=>', idx)\n",
    "            if len(s[:idx])>1:    #  'V',C','M' 이렇게 두개이상있을경우\n",
    "                for j in range(idx):   #  idx=2, j = 0,1\n",
    "                    minus+=roman_dict[s[j]]   # V=5, C=100 이므로 minus = 105\n",
    "                    answer.append(roman_dict[s[idx]] - minus)  # M=1000이니까 1000- 105\n",
    "                    del s[:idx+1]\n",
    "                    print('문자' , s)\n",
    "                    print('answer=================>',answer)\n",
    "            else :\n",
    "                answer.append(roman_dict[s[idx]])  # answer=1000\n",
    "                del s[:idx+1]\n",
    "                print('문자' , s)\n",
    "                print('answer=================>',answer)"
   ]
  },
  {
   "cell_type": "code",
   "execution_count": 28,
   "metadata": {},
   "outputs": [
    {
     "name": "stdout",
     "output_type": "stream",
     "text": [
      "roman딕셔터리 M\n",
      "주어진문자: M\n",
      "answer 1000\n",
      "-------------\n",
      "주어진문자: C\n",
      "answer 1100\n",
      "-------------\n",
      "주어진문자: M\n",
      "answer 2100\n",
      "-------------\n",
      "주어진문자: X\n",
      "answer 2110\n",
      "-------------\n",
      "주어진문자: C\n",
      "answer 2210\n",
      "-------------\n",
      "주어진문자: I\n",
      "answer 2211\n",
      "-------------\n",
      "주어진문자: V\n",
      "answer 2216\n",
      "-------------\n",
      "roman딕셔터리 D\n",
      "roman딕셔터리 C\n",
      "주어진문자: M\n",
      "answer 3216\n",
      "-------------\n",
      "주어진문자: C\n",
      "answer 3316\n",
      "-------------\n",
      "주어진문자: M\n",
      "answer 4316\n",
      "-------------\n",
      "주어진문자: X\n",
      "answer 4326\n",
      "-------------\n",
      "주어진문자: C\n",
      "answer 4426\n",
      "-------------\n",
      "주어진문자: I\n",
      "answer 4427\n",
      "-------------\n",
      "주어진문자: V\n",
      "answer 4432\n",
      "-------------\n",
      "roman딕셔터리 L\n",
      "roman딕셔터리 X\n",
      "주어진문자: M\n",
      "answer 5432\n",
      "-------------\n",
      "주어진문자: C\n",
      "answer 5532\n",
      "-------------\n",
      "주어진문자: M\n",
      "answer 6532\n",
      "-------------\n",
      "주어진문자: X\n",
      "answer 6542\n",
      "-------------\n",
      "주어진문자: C\n",
      "answer 6642\n",
      "-------------\n",
      "주어진문자: I\n",
      "answer 6643\n",
      "-------------\n",
      "주어진문자: V\n",
      "answer 6648\n",
      "-------------\n",
      "roman딕셔터리 V\n",
      "주어진문자: M\n",
      "answer 7648\n",
      "-------------\n",
      "주어진문자: C\n",
      "answer 7748\n",
      "-------------\n",
      "주어진문자: M\n",
      "answer 8748\n",
      "-------------\n",
      "주어진문자: X\n",
      "answer 8758\n",
      "-------------\n",
      "주어진문자: C\n",
      "answer 8858\n",
      "-------------\n",
      "주어진문자: I\n",
      "answer 8859\n",
      "-------------\n",
      "주어진문자: V\n",
      "answer 8864\n",
      "-------------\n",
      "roman딕셔터리 I\n",
      "주어진문자: M\n",
      "answer 9864\n",
      "-------------\n",
      "주어진문자: C\n",
      "answer 9964\n",
      "-------------\n",
      "주어진문자: M\n",
      "answer 10964\n",
      "-------------\n",
      "주어진문자: X\n",
      "answer 10974\n",
      "-------------\n",
      "주어진문자: C\n",
      "answer 11074\n",
      "-------------\n",
      "주어진문자: I\n",
      "answer 11075\n",
      "-------------\n",
      "주어진문자: V\n",
      "answer 11080\n",
      "-------------\n"
     ]
    }
   ],
   "source": [
    "answer=0\n",
    "for i in range(len(roman_str)):  # roman_str[i]= ['M','D','C','L','X','V','I']\n",
    "    print('roman딕셔터리',roman_str[i])\n",
    "    if roman_str[i] in s:\n",
    "        \n",
    "        for j in range(len(s)):   # s[j] = \"MCMXCIV\" => \"CMXCIV\"\n",
    "            print('주어진문자:',s[j])\n",
    "            answer+=roman_dict[s[j]]\n",
    "            print('answer', answer)\n",
    "            print('-------------')\n",
    "#             s.pop(roman_dict[s[j]])\n",
    "    else:\n",
    "        pass"
   ]
  },
  {
   "cell_type": "markdown",
   "metadata": {},
   "source": [
    "--------------------------------------------------\n",
    "### 다른사람 풀이[1]\n",
    "* while문 조건안에 i를 늘려가면서 문자에 순차적으로 접근하고, 문자길이를 제약조건으로하여 중단.\n",
    "* i를 1 또는 2씩 늘려가면서 s에 접근"
   ]
  },
  {
   "cell_type": "code",
   "execution_count": 19,
   "metadata": {},
   "outputs": [],
   "source": [
    "class Solution(object):\n",
    "    def romanToInt(self,s):\n",
    "        roman = {'I':1,'V':5,'X':10,'L':50,'C':100,'D':500,'M':1000,'IV':4,'IX':9,'XL':40,'XC':90,'CD':400,'CM':900}\n",
    "        i=0\n",
    "        num=0\n",
    "        while i <len(s):\n",
    "            if i+1<len(s) and s[i:i+2] in roman:\n",
    "                num+=roman[s[i:i+2]]\n",
    "                i+=2\n",
    "            else:\n",
    "                num+=roman[s[i]]\n",
    "                i+=1\n",
    "        return num"
   ]
  },
  {
   "cell_type": "code",
   "execution_count": 17,
   "metadata": {},
   "outputs": [
    {
     "name": "stdout",
     "output_type": "stream",
     "text": [
      "i= 0\n",
      "num=> 1000\n",
      "i= 1\n",
      "num=> 1900\n",
      "i= 3\n",
      "num=> 1990\n",
      "i= 5\n",
      "num=> 1994\n"
     ]
    }
   ],
   "source": [
    "s=\"MCMXCIV\"\n",
    "roman = {'I':1,'V':5,'X':10,'L':50,'C':100,'D':500,'M':1000,'IV':4,'IX':9,'XL':40,'XC':90,'CD':400,'CM':900}\n",
    "i=0\n",
    "num=0\n",
    "while i<len(s):   # len(s)=7\n",
    "    print('i=', i)\n",
    "    if i+1<len(s) and s[i:i+2] in roman:\n",
    "        num+=roman[s[i:i+2]]\n",
    "        i+=2\n",
    "        print('num=>',num)\n",
    "    else:\n",
    "        num+=roman[s[i]]\n",
    "        i+=1\n",
    "        print('num=>',num)\n"
   ]
  },
  {
   "cell_type": "code",
   "execution_count": 18,
   "metadata": {},
   "outputs": [
    {
     "data": {
      "text/plain": [
       "'XC'"
      ]
     },
     "execution_count": 18,
     "metadata": {},
     "output_type": "execute_result"
    }
   ],
   "source": [
    "s=\"MCMXCIV\"\n",
    "s[3:5]"
   ]
  },
  {
   "cell_type": "markdown",
   "metadata": {},
   "source": [
    "--------------------------------------------------\n",
    "### 다른사람 풀이[2]\n",
    "* 문제에 주어진 로마숫자만 저장\n",
    "* 주어진 s 에 해당하는 숫자를 앞에서부터 앞,뒤 비교해서 앞에값이 더 크면 더해주고, 뒤에값이 더 크면 뺌\n",
    "> Tip\n",
    "    * 앞,뒤 비교할경우에는 for문으로 접근할때, 전체문자길이보다 하나 작은 범위까지 접근하고 마지막은 따로 계산."
   ]
  },
  {
   "cell_type": "code",
   "execution_count": 23,
   "metadata": {},
   "outputs": [
    {
     "name": "stdout",
     "output_type": "stream",
     "text": [
      "M\n",
      "C\n",
      "M\n",
      "X\n",
      "C\n",
      "I\n"
     ]
    }
   ],
   "source": [
    "s=\"MCMXCIV\"\n",
    "for i in range(len(s)-1):\n",
    "    print(s[i])"
   ]
  },
  {
   "cell_type": "code",
   "execution_count": 22,
   "metadata": {},
   "outputs": [
    {
     "data": {
      "text/plain": [
       "1994"
      ]
     },
     "execution_count": 22,
     "metadata": {},
     "output_type": "execute_result"
    }
   ],
   "source": [
    "dic = {\"M\":1000, \"D\": 500, \"C\": 100,\"L\":50, \"X\":10, \"V\": 5, \"I\":1}\n",
    "result=0\n",
    "for i in range(len(s)-1):   # i=0~5 앞,뒤비교하므로 범위를 벗어나지않기위해 len(s)-1까지만.\n",
    "    num=dic[s[i]]\n",
    "    nextNum=dic[s[i+1]]\n",
    "    if (num>=nextNum):\n",
    "        result+=num\n",
    "    else:\n",
    "        result-=num\n",
    "result+=dic[s[len(s)-1]]    # 마지막문자는 더해주기.\n",
    "result"
   ]
  },
  {
   "cell_type": "code",
   "execution_count": null,
   "metadata": {},
   "outputs": [],
   "source": []
  }
 ],
 "metadata": {
  "kernelspec": {
   "display_name": "suhyun2",
   "language": "python",
   "name": "suhyun2"
  },
  "language_info": {
   "codemirror_mode": {
    "name": "ipython",
    "version": 3
   },
   "file_extension": ".py",
   "mimetype": "text/x-python",
   "name": "python",
   "nbconvert_exporter": "python",
   "pygments_lexer": "ipython3",
   "version": "3.6.8"
  }
 },
 "nbformat": 4,
 "nbformat_minor": 2
}
