{
 "cells": [
  {
   "cell_type": "markdown",
   "metadata": {},
   "source": [
    "## 7. Reverse Integer (easy)\n",
    "* x=-123\n",
    "    * ouput = -321\n",
    "* x=120\n",
    "    * output = 21\n",
    "* x= -1230\n",
    "    output= -321"
   ]
  },
  {
   "cell_type": "code",
   "execution_count": 5,
   "metadata": {},
   "outputs": [
    {
     "data": {
      "text/plain": [
       "'-1230'"
      ]
     },
     "execution_count": 5,
     "metadata": {},
     "output_type": "execute_result"
    }
   ],
   "source": [
    "#  - 부호가 있을경우 , 그대로 앞에 붙여야하므로 숫자랑 문자인것 구분해야됨.\n",
    "## 0으로시작할경우 제외.\n",
    "x=str(-1230)\n",
    "x"
   ]
  },
  {
   "cell_type": "code",
   "execution_count": 6,
   "metadata": {},
   "outputs": [
    {
     "data": {
      "text/plain": [
       "'1230'"
      ]
     },
     "execution_count": 6,
     "metadata": {},
     "output_type": "execute_result"
    }
   ],
   "source": [
    "x[1:]"
   ]
  },
  {
   "cell_type": "code",
   "execution_count": 7,
   "metadata": {},
   "outputs": [
    {
     "data": {
      "text/plain": [
       "True"
      ]
     },
     "execution_count": 7,
     "metadata": {},
     "output_type": "execute_result"
    }
   ],
   "source": [
    "x[1:].isdigit()"
   ]
  },
  {
   "cell_type": "code",
   "execution_count": 8,
   "metadata": {},
   "outputs": [
    {
     "data": {
      "text/plain": [
       "False"
      ]
     },
     "execution_count": 8,
     "metadata": {},
     "output_type": "execute_result"
    }
   ],
   "source": [
    "x.isdigit()"
   ]
  },
  {
   "cell_type": "code",
   "execution_count": 64,
   "metadata": {},
   "outputs": [
    {
     "name": "stdout",
     "output_type": "stream",
     "text": [
      "21\n"
     ]
    }
   ],
   "source": [
    "x=120\n",
    "x=str(x)\n",
    "if x.startswith('-'): \n",
    "    x=x[1:][::-1]   # 앞에 마이너스 부호를 떼고, 거꾸로 뒤집음==> x2='0321'    \n",
    "    x=int('-'+str(int(x)))  # 다시 정수화시켜서 앞에0을떼고, 음수부호'-'  붙여줌===> '0321' >'321'>'-321'\n",
    "else:\n",
    "    x=int(x[::-1])\n",
    "print(x)"
   ]
  },
  {
   "cell_type": "markdown",
   "metadata": {},
   "source": [
    "**수현's 풀이**\n",
    "* string형태로 변환해서 푸는 방법\n",
    "* 앞에 0이있는 string형태를 int형태로 바꿔주면 알아서 앞에 0은 제거됨"
   ]
  },
  {
   "cell_type": "code",
   "execution_count": 70,
   "metadata": {},
   "outputs": [],
   "source": [
    "def reverse(self, x: int) -> int:\n",
    "    x=str(x)\n",
    "    if x==0:\n",
    "        return 0\n",
    "    elif x.startswith('-'): \n",
    "        x=x[1:][::-1]    \n",
    "        x=int('-'+str(int(x)))  \n",
    "    else:\n",
    "        x=int(x[::-1])\n",
    "    return x"
   ]
  },
  {
   "cell_type": "code",
   "execution_count": 72,
   "metadata": {},
   "outputs": [
    {
     "data": {
      "text/plain": [
       "-321"
      ]
     },
     "execution_count": 72,
     "metadata": {},
     "output_type": "execute_result"
    }
   ],
   "source": [
    "# test-case\n",
    "reverse(x,-12300)"
   ]
  },
  {
   "cell_type": "code",
   "execution_count": 35,
   "metadata": {},
   "outputs": [
    {
     "data": {
      "text/plain": [
       "'12300'"
      ]
     },
     "execution_count": 35,
     "metadata": {},
     "output_type": "execute_result"
    }
   ],
   "source": [
    "x=str(-12300)  # '-12300'\n",
    "x2=x[1:]\n",
    "x2"
   ]
  },
  {
   "cell_type": "code",
   "execution_count": 36,
   "metadata": {},
   "outputs": [
    {
     "data": {
      "text/plain": [
       "'00321'"
      ]
     },
     "execution_count": 36,
     "metadata": {},
     "output_type": "execute_result"
    }
   ],
   "source": [
    "x2=x[1:][::-1]\n",
    "x2"
   ]
  },
  {
   "cell_type": "code",
   "execution_count": 43,
   "metadata": {},
   "outputs": [
    {
     "data": {
      "text/plain": [
       "True"
      ]
     },
     "execution_count": 43,
     "metadata": {},
     "output_type": "execute_result"
    }
   ],
   "source": [
    "x2.startswith('0')"
   ]
  },
  {
   "cell_type": "markdown",
   "metadata": {},
   "source": [
    "**error**\n",
    "* returns 0 when the reversed integer overflows.\n",
    ">  결과가 해당범위 : [−2^31,  2^31 − 1] 를 만족하지 못하면 0 출력하도록 해야 에러안남."
   ]
  },
  {
   "cell_type": "code",
   "execution_count": 90,
   "metadata": {},
   "outputs": [],
   "source": [
    "def reverse(self, x: int) -> int:  \n",
    "    if x<0:\n",
    "        x=str(x)[1:][::-1]       # 이방법말고, 음수일때 -음수 한번더 곱해주면 +양수됨...\n",
    "        x=int('-'+str(int(x)))    # 그리고 다시 음수붙여주려면 intger상태에서 -1곱하기.\n",
    "    elif x>=0:\n",
    "        x=int(str(x)[::-1])\n",
    "    mina=-2**31\n",
    "    mixa=2**31-1\n",
    "\n",
    "    if x not in range(mina,mixa):\n",
    "        return 0\n",
    "    else:\n",
    "        return x"
   ]
  },
  {
   "cell_type": "code",
   "execution_count": 92,
   "metadata": {},
   "outputs": [
    {
     "data": {
      "text/plain": [
       "0"
      ]
     },
     "execution_count": 92,
     "metadata": {},
     "output_type": "execute_result"
    }
   ],
   "source": [
    "# test-case\n",
    "reverse(x,-2343454385438598)"
   ]
  },
  {
   "cell_type": "code",
   "execution_count": null,
   "metadata": {},
   "outputs": [],
   "source": []
  }
 ],
 "metadata": {
  "kernelspec": {
   "display_name": "suhyun2",
   "language": "python",
   "name": "suhyun2"
  },
  "language_info": {
   "codemirror_mode": {
    "name": "ipython",
    "version": 3
   },
   "file_extension": ".py",
   "mimetype": "text/x-python",
   "name": "python",
   "nbconvert_exporter": "python",
   "pygments_lexer": "ipython3",
   "version": "3.6.8"
  }
 },
 "nbformat": 4,
 "nbformat_minor": 2
}
