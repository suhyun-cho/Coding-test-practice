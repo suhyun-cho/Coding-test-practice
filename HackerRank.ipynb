{
 "cells": [
  {
   "cell_type": "markdown",
   "metadata": {},
   "source": [
    "# Hacker Rank \n",
    "### contents\n",
    "1. FizzBuzz\n",
    "2. Sock Merchant\n",
    "3. Jumping on the Clouds"
   ]
  },
  {
   "cell_type": "markdown",
   "metadata": {},
   "source": [
    "## 문제 1 : FizzBuzz (sample-test)\n",
    "\n",
    "#### 문제 설명\n",
    "> n이 주어지고, 정수 i는 1~n 사이에 있다. 아래와 같은 방식으로 하나의 값을 프린트하시오.\n",
    "\n",
    "* i가 3과 5 의 배수이면, FizzBuzz를 프린트하라.\n",
    "* i가 3의 배수이고, 5의 배수가 아니면 Fizz를 프린트하라.\n",
    "* i가 5의 배수이고, 3의 배수가 아니면 Buzz를 프린트하라.\n",
    "* i가 3 또는 5의 배수가 아니면, i를 프린트하라.\n"
   ]
  },
  {
   "cell_type": "code",
   "execution_count": 33,
   "metadata": {},
   "outputs": [],
   "source": [
    "def fizzBuzz(n):\n",
    "    for i in range(1,n+1):\n",
    "        if i % 3 ==0 and i % 5 ==0:\n",
    "            print('FizzBuzz')\n",
    "        elif i % 3==0:\n",
    "            print('Fizz')\n",
    "        elif i %5 ==0:\n",
    "            print('Buzz')\n",
    "        else:\n",
    "            print(i)"
   ]
  },
  {
   "cell_type": "code",
   "execution_count": 34,
   "metadata": {},
   "outputs": [
    {
     "name": "stdout",
     "output_type": "stream",
     "text": [
      "1\n",
      "2\n",
      "Fizz\n",
      "4\n",
      "Buzz\n",
      "Fizz\n",
      "7\n",
      "8\n",
      "Fizz\n",
      "Buzz\n",
      "11\n",
      "Fizz\n",
      "13\n",
      "14\n",
      "FizzBuzz\n"
     ]
    }
   ],
   "source": [
    "fizzBuzz(15)"
   ]
  },
  {
   "cell_type": "markdown",
   "metadata": {},
   "source": [
    "------------------------------------------------------------------\n",
    "## 문제2 : Sock Merchant\n",
    "https://www.hackerrank.com/interview/interview-preparation-kit/warmup/challenges\n",
    "\n",
    "#### 문제 설명\n",
    "> 양말을 팔기위해서는 색깔별로 짝을 맞춰야 함. <br>\n",
    "주어진 array는 각 양말의 색깔을 나타낸다. <br>\n",
    "예를들어, n=7인 7개의 양말이 있다고 할 때 ar =[1, 2, 1, 2, 1, 3, 2] 이면 <br>\n",
    "1번 색깔은 한쌍, 2번 색깔은 한쌍있고 1번, 2번, 3번색깔의 양말이 각각 한짝 씩 있으므로 총 두쌍이 있다고 할 수 있다.\n",
    "\n",
    "* n : 양말의 개수\n",
    "* ar : 각 양말의 색깔\n",
    "<br>\n",
    "output Format => 팔수있는 양말의 쌍의 개수"
   ]
  },
  {
   "cell_type": "code",
   "execution_count": 65,
   "metadata": {},
   "outputs": [],
   "source": [
    "import collections"
   ]
  },
  {
   "cell_type": "code",
   "execution_count": 66,
   "metadata": {},
   "outputs": [
    {
     "data": {
      "text/plain": [
       "[1, 2, 1, 2, 1, 3, 2]"
      ]
     },
     "execution_count": 66,
     "metadata": {},
     "output_type": "execute_result"
    }
   ],
   "source": [
    "ar = [1,2,1,2,1,3,2]\n",
    "ar"
   ]
  },
  {
   "cell_type": "code",
   "execution_count": 9,
   "metadata": {},
   "outputs": [
    {
     "data": {
      "text/plain": [
       "Counter({1: 3, 2: 3, 3: 1})"
      ]
     },
     "execution_count": 9,
     "metadata": {},
     "output_type": "execute_result"
    }
   ],
   "source": [
    "# 리스트의 각 숫자의 개수 집계\n",
    "collections.Counter(ar)"
   ]
  },
  {
   "cell_type": "code",
   "execution_count": 10,
   "metadata": {},
   "outputs": [
    {
     "data": {
      "text/plain": [
       "3"
      ]
     },
     "execution_count": 10,
     "metadata": {},
     "output_type": "execute_result"
    }
   ],
   "source": [
    "7 //2"
   ]
  },
  {
   "cell_type": "code",
   "execution_count": 11,
   "metadata": {},
   "outputs": [
    {
     "data": {
      "text/plain": [
       "dict_values([3, 3, 1])"
      ]
     },
     "execution_count": 11,
     "metadata": {},
     "output_type": "execute_result"
    }
   ],
   "source": [
    "collections.Counter(ar).values()"
   ]
  },
  {
   "cell_type": "code",
   "execution_count": 12,
   "metadata": {},
   "outputs": [
    {
     "data": {
      "text/plain": [
       "[3, 3, 1]"
      ]
     },
     "execution_count": 12,
     "metadata": {},
     "output_type": "execute_result"
    }
   ],
   "source": [
    "# values 값\n",
    "list(collections.Counter(ar).values())"
   ]
  },
  {
   "cell_type": "code",
   "execution_count": 13,
   "metadata": {},
   "outputs": [
    {
     "data": {
      "text/plain": [
       "[1, 1, 0]"
      ]
     },
     "execution_count": 13,
     "metadata": {},
     "output_type": "execute_result"
    }
   ],
   "source": [
    "# values 값을 2로 나눈 몫을 산출.\n",
    "my_list=list(map (lambda x: x//2 ,collections.Counter(ar).values()) ) \n",
    "my_list"
   ]
  },
  {
   "cell_type": "code",
   "execution_count": 14,
   "metadata": {},
   "outputs": [
    {
     "data": {
      "text/plain": [
       "2"
      ]
     },
     "execution_count": 14,
     "metadata": {},
     "output_type": "execute_result"
    }
   ],
   "source": [
    "# 리스트 총합\n",
    "sum(my_list)"
   ]
  },
  {
   "cell_type": "markdown",
   "metadata": {},
   "source": [
    "### my code\n",
    "* collections.Counter() 함수로 array의 고유값들의 개수를 받아온다.\n",
    "* lambda 함수로 값을 각각 2로 나눈 몫을 산출 \n",
    "* 몫의 sum 계산"
   ]
  },
  {
   "cell_type": "code",
   "execution_count": null,
   "metadata": {},
   "outputs": [],
   "source": [
    "ar = [1,2,1,2,1,3,2]"
   ]
  },
  {
   "cell_type": "code",
   "execution_count": 9,
   "metadata": {},
   "outputs": [
    {
     "data": {
      "text/plain": [
       "2"
      ]
     },
     "execution_count": 9,
     "metadata": {},
     "output_type": "execute_result"
    }
   ],
   "source": [
    "# my code\n",
    "import collections\n",
    "def sockMerchant(n,ar):\n",
    "    return sum(list(map (lambda x: x//2 ,collections.Counter(ar).values())))\n",
    "\n",
    "sockMerchant(ar)"
   ]
  },
  {
   "cell_type": "markdown",
   "metadata": {},
   "source": [
    "#### input() 값 받는 법"
   ]
  },
  {
   "cell_type": "code",
   "execution_count": 29,
   "metadata": {},
   "outputs": [
    {
     "name": "stdout",
     "output_type": "stream",
     "text": [
      "9\n"
     ]
    }
   ],
   "source": [
    "n = int(input())"
   ]
  },
  {
   "cell_type": "code",
   "execution_count": 28,
   "metadata": {},
   "outputs": [
    {
     "name": "stdout",
     "output_type": "stream",
     "text": [
      "1 2 1 2 1 3 2\n"
     ]
    },
    {
     "data": {
      "text/plain": [
       "[1, 2, 1, 2, 1, 3, 2]"
      ]
     },
     "execution_count": 28,
     "metadata": {},
     "output_type": "execute_result"
    }
   ],
   "source": [
    "ar=list(map(int, input().rstrip().split()))\n",
    "ar"
   ]
  },
  {
   "cell_type": "markdown",
   "metadata": {},
   "source": [
    "--------------------------------------------------------------------------------\n",
    "### (참고)모듈과 시작점 알아보기\n",
    "* if __name__ == '__main__': \n",
    "    * 이 코드는 현재 스크립트 파일이 실행되는 상태를 파악하기 위해 사용함.\n",
    "* 즉, __name__ 은 모듈의 이름이 저장되는 변수이며 import로 모듈을 가져왔을 때 모듈의 이름이 들어갑니다. 하지만 파이썬 인터프리터로 스크립트 파일을 직접 실행했을 때는 모듈의 이름이 아니라 '__main__'이 들어갑니다"
   ]
  },
  {
   "cell_type": "code",
   "execution_count": null,
   "metadata": {},
   "outputs": [],
   "source": [
    "import math\n",
    "import os\n",
    "import random\n",
    "import re\n",
    "import sys\n",
    "\n",
    "if __name__ == '__main__':\n",
    "    fptr = open(os.environ['OUTPUT_PATH'], 'w')\n",
    "\n",
    "    n = int(input())\n",
    "\n",
    "    ar=list(map(int, input().rstrip().split()))\n",
    "\n",
    "    result = sockMerchant(n, ar)\n",
    "\n",
    "    fptr.write(str(result) + '\\n')\n",
    "\n",
    "    fptr.close()"
   ]
  },
  {
   "cell_type": "code",
   "execution_count": 53,
   "metadata": {},
   "outputs": [
    {
     "name": "stdout",
     "output_type": "stream",
     "text": [
      "30\n",
      "200\n"
     ]
    }
   ],
   "source": [
    "# 예시\n",
    "def add(a, b):\n",
    "    return a + b\n",
    " \n",
    "def mul(a, b):\n",
    "    return a * b\n",
    " \n",
    "if __name__ == '__main__':    # 프로그램의 시작점일 때만 아래 코드 실행\n",
    "    print(add(10, 20))\n",
    "    print(mul(10, 20))"
   ]
  },
  {
   "cell_type": "code",
   "execution_count": 54,
   "metadata": {},
   "outputs": [],
   "source": [
    "import calc"
   ]
  },
  {
   "cell_type": "code",
   "execution_count": 55,
   "metadata": {},
   "outputs": [
    {
     "data": {
      "text/plain": [
       "110"
      ]
     },
     "execution_count": 55,
     "metadata": {},
     "output_type": "execute_result"
    }
   ],
   "source": [
    "calc.add(50,60)"
   ]
  },
  {
   "cell_type": "code",
   "execution_count": 56,
   "metadata": {},
   "outputs": [
    {
     "data": {
      "text/plain": [
       "3000"
      ]
     },
     "execution_count": 56,
     "metadata": {},
     "output_type": "execute_result"
    }
   ],
   "source": [
    "calc.mul(50,60)"
   ]
  },
  {
   "cell_type": "markdown",
   "metadata": {},
   "source": [
    "----------------------------------------\n",
    "### (1) 다른 사람코드\n",
    "* Counter ( ) 활용\n",
    "* 2로나눈 몫을 산출하여 그 합계를 구하는 방법."
   ]
  },
  {
   "cell_type": "code",
   "execution_count": 48,
   "metadata": {},
   "outputs": [],
   "source": [
    "from collections import Counter"
   ]
  },
  {
   "cell_type": "code",
   "execution_count": 50,
   "metadata": {},
   "outputs": [
    {
     "data": {
      "text/plain": [
       "Counter({1: 3, 2: 3, 3: 1})"
      ]
     },
     "execution_count": 50,
     "metadata": {},
     "output_type": "execute_result"
    }
   ],
   "source": [
    "Counter(ar)"
   ]
  },
  {
   "cell_type": "code",
   "execution_count": 49,
   "metadata": {},
   "outputs": [
    {
     "data": {
      "text/plain": [
       "dict_values([3, 3, 1])"
      ]
     },
     "execution_count": 49,
     "metadata": {},
     "output_type": "execute_result"
    }
   ],
   "source": [
    "Counter(ar).values()"
   ]
  },
  {
   "cell_type": "code",
   "execution_count": 51,
   "metadata": {},
   "outputs": [
    {
     "name": "stdout",
     "output_type": "stream",
     "text": [
      "3\n",
      "3\n",
      "1\n"
     ]
    }
   ],
   "source": [
    "for values in Counter(ar).values():\n",
    "    print(values)"
   ]
  },
  {
   "cell_type": "code",
   "execution_count": 57,
   "metadata": {},
   "outputs": [
    {
     "name": "stdout",
     "output_type": "stream",
     "text": [
      "values : 3\n",
      "2로 나눈 몫 :  1\n",
      "values : 3\n",
      "2로 나눈 몫 :  1\n",
      "values : 1\n",
      "2로 나눈 몫 :  0\n",
      "=====> 몫의 총합 : 2\n"
     ]
    }
   ],
   "source": [
    "ar = [1,2,1,2,1,3,2]\n",
    "sum=0\n",
    "for values in Counter(ar).values():\n",
    "    print('values :',values)   # 3, 3, 1\n",
    "    sum+= values//2\n",
    "    print('2로 나눈 몫 : ' ,values//2)   # 1, 1, 0\n",
    "print('=====> 몫의 총합 :',sum)   # 1+1+0 = 2"
   ]
  },
  {
   "cell_type": "code",
   "execution_count": 47,
   "metadata": {},
   "outputs": [
    {
     "data": {
      "text/plain": [
       "3"
      ]
     },
     "execution_count": 47,
     "metadata": {},
     "output_type": "execute_result"
    }
   ],
   "source": [
    "from collections import Counter\n",
    "def sockMerchant(n,ar):\n",
    "    sum=0\n",
    "    for values in Counter(ar).values():\n",
    "        sum+= values//2\n",
    "    return sum\n",
    "\n",
    "sockMerchant(9,[10,20,20,10,10,30,50,10,20])"
   ]
  },
  {
   "cell_type": "markdown",
   "metadata": {},
   "source": [
    "### (2) 다른사람 코드\n",
    "* 비어있는 list에 값을 기존에 없던값이 들어오면 append하고, 기존에 있던 값이 또 들어오면 list에 해당 값을 remove하고 1씩 count증가시키는 방법"
   ]
  },
  {
   "cell_type": "code",
   "execution_count": 40,
   "metadata": {},
   "outputs": [
    {
     "data": {
      "text/plain": [
       "[2, 3]"
      ]
     },
     "execution_count": 40,
     "metadata": {},
     "output_type": "execute_result"
    }
   ],
   "source": [
    "check_stack=[1,2,3]\n",
    "check_stack.remove(1)\n",
    "check_stack"
   ]
  },
  {
   "cell_type": "code",
   "execution_count": 46,
   "metadata": {},
   "outputs": [
    {
     "name": "stdout",
     "output_type": "stream",
     "text": [
      "1\n",
      "2\n"
     ]
    }
   ],
   "source": [
    "ar = [1,2,1,2,1,3,2]\n",
    "\n",
    "check_stack=[]\n",
    "answer=0\n",
    "\n",
    "for i in range(7):  # 0,1,2,3,4,5,6\n",
    "    if ar[i] not in check_stack:    # check_stack에 ar값이 없으면 append\n",
    "        check_stack.append(ar[i])   # 1, 2, 3\n",
    "    else:\n",
    "        check_stack.remove(ar[i])   # check_stack에 ar값이 있으면 remove\n",
    "        answer= answer+1\n",
    "        print(answer)"
   ]
  },
  {
   "cell_type": "code",
   "execution_count": 59,
   "metadata": {},
   "outputs": [],
   "source": [
    "# 함수로 정리\n",
    "def sockMerchant(n, ar): \n",
    "    check_stack = [] \n",
    "    answer = 0 \n",
    "    \n",
    "    for i in range(n): \n",
    "        if ar[i] not in check_stack: \n",
    "            check_stack.append(ar[i]) \n",
    "        else: \n",
    "            check_stack.remove(ar[i]) \n",
    "            answer = answer + 1 \n",
    "    return answer\n"
   ]
  },
  {
   "cell_type": "code",
   "execution_count": 60,
   "metadata": {},
   "outputs": [
    {
     "data": {
      "text/plain": [
       "3"
      ]
     },
     "execution_count": 60,
     "metadata": {},
     "output_type": "execute_result"
    }
   ],
   "source": [
    "sockMerchant(9,[10,20,20,10,10,30,50,10,20])"
   ]
  },
  {
   "cell_type": "code",
   "execution_count": 61,
   "metadata": {},
   "outputs": [
    {
     "data": {
      "text/plain": [
       "4"
      ]
     },
     "execution_count": 61,
     "metadata": {},
     "output_type": "execute_result"
    }
   ],
   "source": [
    "sockMerchant(10,[1,1,3,1,2,1,3,3,3,3])"
   ]
  },
  {
   "cell_type": "markdown",
   "metadata": {},
   "source": [
    "--------------------------------------------------------------------------------\n",
    "## 문제3. Jumping on the Clouds\n",
    "https://www.hackerrank.com/challenges/jumping-on-the-clouds/problem?h_l=interview&playlist_slugs%5B%5D=interview-preparation-kit&playlist_slugs%5B%5D=warmup\n",
    "\n",
    "#### 문제 설명\n",
    "> 몇몇 구름은 적운이고, 몇몇은 소나기구름이다. <br>\n",
    "소나기구름은 피해야한다. 처음 위치에서 마지막 구름까지 엠마가 점프해야하는 최수 횟수를 결정하라. <br>\n",
    "\n",
    "> 각 게임에서 엠마는 안전하면 숫자 0을 array로 받을것이고, 피해야하면 숫자 1을 받을것이다. (c=[0,1,0,0,0,1,0]) <br>\n",
    "index값은 0~6. 이경우 엠마는 index=1, index=5일때 피해야한다. <br>\n",
    "\n",
    "> 0->2->4->6 로 가는방법(점프 3번)과 0->2->3->4->6 (점프 4번)으로가는 방법이 있는데 최소 횟수를 구하는것이므로 점프3번하는 첫번째 방법 선택."
   ]
  },
  {
   "cell_type": "markdown",
   "metadata": {},
   "source": [
    "#### Sample input & output\n",
    "* input 1\n",
    "    * 7, [0,0,1,0,0,1,0]\n",
    "* output 1\n",
    "    * 4\n",
    "\n",
    "* input 2\n",
    "    * 6, [0,0,0,0,1,0]\n",
    "* output 2\n",
    "    * 3\n",
    "    \n",
    "> * 로직\n",
    "    *  한칸 뒤가 0인데 두칸뒤는 1인경우 , 한칸만 전진 가능\n",
    "    * 두칸 뒤가 0이면 , 한칸뒤가 뭐든 간에 무조건 두칸 전진.\n",
    "    * 조건 = 맨끝값은 0"
   ]
  },
  {
   "cell_type": "code",
   "execution_count": 65,
   "metadata": {},
   "outputs": [
    {
     "data": {
      "text/plain": [
       "[0, 0, 1, 0, 0, 1, 0]"
      ]
     },
     "execution_count": 65,
     "metadata": {},
     "output_type": "execute_result"
    }
   ],
   "source": [
    "arr=[0,0,1,0,0,1,0]   # result=4\n",
    "#arr=[0,0,0,0,1,0]    # result= 3\n",
    "arr"
   ]
  },
  {
   "cell_type": "code",
   "execution_count": 76,
   "metadata": {},
   "outputs": [
    {
     "name": "stdout",
     "output_type": "stream",
     "text": [
      "4\n"
     ]
    }
   ],
   "source": [
    "arr=[0,0,1,0,0,1,0]\n",
    "count=0\n",
    "for index in range(len(arr)-3):  # 0 ,1,2,3\n",
    "    if arr[index+1]==0 and arr[index+2]==1:   # 한칸뒤가 0이면서, 두칸뒤는 1인경우\n",
    "        count+=1\n",
    "    elif arr[index+2]==0:   # 두칸뒤가 0\n",
    "        count+=1\n",
    "print(count)"
   ]
  },
  {
   "cell_type": "code",
   "execution_count": 77,
   "metadata": {},
   "outputs": [
    {
     "name": "stdout",
     "output_type": "stream",
     "text": [
      "3\n"
     ]
    }
   ],
   "source": [
    "arr=[0,0,0,0,1,0]\n",
    "count=0\n",
    "for index in range(len(arr)-3):  # index= 0 ,1,2\n",
    "    if arr[index+1]==0 and arr[index+2]==1:   # 한칸뒤가 0이면서, 두칸뒤는 1인경우\n",
    "        count+=1\n",
    "    elif arr[index+2]==0:   # 두칸뒤가 0\n",
    "        count+=1\n",
    "print(count)"
   ]
  },
  {
   "cell_type": "code",
   "execution_count": 78,
   "metadata": {},
   "outputs": [
    {
     "name": "stdout",
     "output_type": "stream",
     "text": [
      "4\n"
     ]
    }
   ],
   "source": [
    "arr=[0,1,0,1,0,0,0]\n",
    "count=0\n",
    "for index in range(len(arr)-3):  # index= 0 ,1,2,3\n",
    "    if arr[index+1]==0 and arr[index+2]==1:   # 한칸뒤가 0이면서, 두칸뒤는 1인경우 => 한칸이동\n",
    "        count+=1\n",
    "    elif arr[index+2]==0:   # 두칸뒤가 0 인경우 => 두칸이동\n",
    "        count+=1\n",
    "print(count)"
   ]
  },
  {
   "cell_type": "code",
   "execution_count": 3,
   "metadata": {},
   "outputs": [
    {
     "name": "stdout",
     "output_type": "stream",
     "text": [
      "3\n"
     ]
    }
   ],
   "source": [
    "arr=[0,1,0,1,0,0,0]    # result=3\n",
    "count=0\n",
    "i=0\n",
    "while i < len(arr)-2:   # i =0,1,2,3,4\n",
    "    if arr[i+1]==0 and arr[i+2]==1: # 한칸뒤가 0이면서, 두칸뒤는 1인경우 => 한칸이동\n",
    "        count+=1\n",
    "        i+=1\n",
    "    elif arr[i+2]==0:   # 두칸뒤가 0 인경우 => 두칸이동\n",
    "        count+=1\n",
    "        i+=2   # i: 0 => 2 (count=1), 2=> 4 (count=2)\n",
    "        \n",
    "if len(arr[i:])==3:\n",
    "    print(count+1)\n",
    "else:\n",
    "    print(count)"
   ]
  },
  {
   "cell_type": "code",
   "execution_count": 5,
   "metadata": {},
   "outputs": [
    {
     "data": {
      "text/plain": [
       "3"
      ]
     },
     "execution_count": 5,
     "metadata": {},
     "output_type": "execute_result"
    }
   ],
   "source": [
    "arr=[0,1,0,1,0,0,0] \n",
    "len(arr[4:])"
   ]
  },
  {
   "cell_type": "code",
   "execution_count": 8,
   "metadata": {},
   "outputs": [
    {
     "name": "stdout",
     "output_type": "stream",
     "text": [
      "3\n"
     ]
    }
   ],
   "source": [
    "jumpingOnClounds(9,arr)"
   ]
  },
  {
   "cell_type": "code",
   "execution_count": 11,
   "metadata": {},
   "outputs": [],
   "source": [
    "def jumpingOnClouds(n,c):\n",
    "    count=0\n",
    "    i=0\n",
    "    while i < len(c)-2:   # i =0,1,2,3,4\n",
    "        if c[i+1]==0 and c[i+2]==1: # 한칸뒤가 0이면서, 두칸뒤는 1인경우 => 한칸이동\n",
    "            i+=1\n",
    "            count+=1\n",
    "        elif c[i+2]==0:   # 두칸뒤가 0 인경우 => 두칸이동\n",
    "            i+=2   # i: 0 => 2 (count=1), 2=> 4 (count=2)\n",
    "            count+=1\n",
    "\n",
    "    if len(c[i:])==2:\n",
    "        return count+1\n",
    "    else:\n",
    "        return count"
   ]
  },
  {
   "cell_type": "code",
   "execution_count": 12,
   "metadata": {},
   "outputs": [
    {
     "name": "stdout",
     "output_type": "stream",
     "text": [
      "3\n"
     ]
    }
   ],
   "source": [
    "jumpingOnClounds(9,arr)"
   ]
  },
  {
   "cell_type": "code",
   "execution_count": null,
   "metadata": {},
   "outputs": [],
   "source": []
  }
 ],
 "metadata": {
  "kernelspec": {
   "display_name": "suhyun2",
   "language": "python",
   "name": "suhyun2"
  }
 },
 "nbformat": 4,
 "nbformat_minor": 2
}
