{
 "cells": [
  {
   "cell_type": "markdown",
   "metadata": {},
   "source": [
    "### 파이썬 알고리즘 - 가장 많이 등장하는 알파벳 개수세기 01,02\n",
    "https://www.youtube.com/watch?v=qHzIeKTXm1w"
   ]
  },
  {
   "cell_type": "code",
   "execution_count": 69,
   "metadata": {},
   "outputs": [],
   "source": [
    "word='test'\n",
    "def highFrequencyLetterCount(word):\n",
    "    map={}\n",
    "    for alphabet in word:\n",
    "        if map.get(alphabet)==None:\n",
    "            map[alphabet]=1\n",
    "        else :\n",
    "            map[alphabet]+=1\n",
    "        print(\"map=>\",map)\n",
    "    return -1"
   ]
  },
  {
   "cell_type": "code",
   "execution_count": 70,
   "metadata": {},
   "outputs": [
    {
     "name": "stdout",
     "output_type": "stream",
     "text": [
      "map=> {'t': 1}\n",
      "map=> {'t': 1, 'e': 1}\n",
      "map=> {'t': 1, 'e': 1, 's': 1}\n",
      "map=> {'t': 2, 'e': 1, 's': 1}\n"
     ]
    },
    {
     "data": {
      "text/plain": [
       "-1"
      ]
     },
     "execution_count": 70,
     "metadata": {},
     "output_type": "execute_result"
    }
   ],
   "source": [
    "highFrequencyLetterCount(word)"
   ]
  },
  {
   "cell_type": "code",
   "execution_count": 72,
   "metadata": {},
   "outputs": [
    {
     "name": "stdout",
     "output_type": "stream",
     "text": [
      "map=> {'t': 2, 'e': 1, 's': 1}\n"
     ]
    }
   ],
   "source": [
    "map={}\n",
    "for alphabet in word:\n",
    "    if map.get(alphabet)==None:\n",
    "        map[alphabet]=1\n",
    "    else :\n",
    "        map[alphabet]+=1\n",
    "print(\"map=>\",map)"
   ]
  },
  {
   "cell_type": "code",
   "execution_count": 75,
   "metadata": {},
   "outputs": [
    {
     "name": "stdout",
     "output_type": "stream",
     "text": [
      "map=> {'t': 2, 'e': 1, 's': 1}\n",
      "max=> 2\n"
     ]
    }
   ],
   "source": [
    "map={}\n",
    "for alphabet in word:\n",
    "    if map.get(alphabet)==None:\n",
    "        map[alphabet]=1\n",
    "    else :\n",
    "        map[alphabet]+=1\n",
    "print(\"map=>\",map)\n",
    "\n",
    "max=-1\n",
    "for key in map:\n",
    "    if map[key]>max:\n",
    "        max=map[key]\n",
    "print(\"max=>\",max)"
   ]
  },
  {
   "cell_type": "code",
   "execution_count": 79,
   "metadata": {},
   "outputs": [
    {
     "name": "stdout",
     "output_type": "stream",
     "text": [
      "map=> {'t': 2, 'e': 1, 's': 1}\n",
      "result=> 2\n"
     ]
    }
   ],
   "source": [
    "############## 최종결과\n",
    "word='test'\n",
    "def highFrequencyLetterCount(word):\n",
    "    map={}\n",
    "    for alphabet in word:\n",
    "        if map.get(alphabet)==None:\n",
    "            map[alphabet]=1\n",
    "        else :\n",
    "            map[alphabet]+=1\n",
    "    print(\"map=>\",map)\n",
    "        \n",
    "    max=-1\n",
    "    for key in map:\n",
    "        if map[key]>max:\n",
    "            max=map[key]\n",
    "    return max\n",
    "print(\"result=>\",highFrequencyLetterCount(word))"
   ]
  },
  {
   "cell_type": "code",
   "execution_count": null,
   "metadata": {},
   "outputs": [],
   "source": []
  },
  {
   "cell_type": "markdown",
   "metadata": {},
   "source": [
    "### python 딕셔너리 연습"
   ]
  },
  {
   "cell_type": "code",
   "execution_count": 61,
   "metadata": {},
   "outputs": [
    {
     "name": "stdout",
     "output_type": "stream",
     "text": [
      "철수 : 90\n",
      "민수 : 85\n",
      "영희 : 80\n"
     ]
    }
   ],
   "source": [
    "scores={'철수':90, \"민수\":85, \"영희\":80}\n",
    "for key in scores:\n",
    "    val=scores[key]\n",
    "    print(\"%s : %d\" % (key,val))"
   ]
  },
  {
   "cell_type": "code",
   "execution_count": 39,
   "metadata": {},
   "outputs": [
    {
     "data": {
      "text/plain": [
       "{'철수': 90, '민수': 85, '영희': 80, '수현': 77}"
      ]
     },
     "execution_count": 39,
     "metadata": {},
     "output_type": "execute_result"
    }
   ],
   "source": [
    "scores['수현']=77\n",
    "scores"
   ]
  },
  {
   "cell_type": "code",
   "execution_count": 26,
   "metadata": {},
   "outputs": [
    {
     "name": "stdout",
     "output_type": "stream",
     "text": [
      "철수\n",
      "민수\n",
      "영희\n",
      "90\n",
      "85\n",
      "80\n"
     ]
    }
   ],
   "source": [
    "keys=scores.keys()\n",
    "for k in keys:\n",
    "    print(k)\n",
    "    \n",
    "values=scores.values()\n",
    "for v in values:\n",
    "    print(v)"
   ]
  },
  {
   "cell_type": "code",
   "execution_count": 27,
   "metadata": {},
   "outputs": [
    {
     "data": {
      "text/plain": [
       "85"
      ]
     },
     "execution_count": 27,
     "metadata": {},
     "output_type": "execute_result"
    }
   ],
   "source": [
    "v=scores.get(\"민수\")\n",
    "v"
   ]
  },
  {
   "cell_type": "code",
   "execution_count": 62,
   "metadata": {},
   "outputs": [
    {
     "name": "stdout",
     "output_type": "stream",
     "text": [
      "{'철수': 'great', '민수': 'great', '영희': 'no'}\n"
     ]
    }
   ],
   "source": [
    "for name in scores:\n",
    "    if scores.get(name)>80:\n",
    "        scores[name]=\"great\"\n",
    "    else:\n",
    "        scores[name]=\"no\"\n",
    "        print(scores)"
   ]
  },
  {
   "cell_type": "code",
   "execution_count": null,
   "metadata": {},
   "outputs": [],
   "source": []
  }
 ],
 "metadata": {
  "kernelspec": {
   "display_name": "suhyun2",
   "language": "python",
   "name": "suhyun2"
  },
  "language_info": {
   "codemirror_mode": {
    "name": "ipython",
    "version": 3
   },
   "file_extension": ".py",
   "mimetype": "text/x-python",
   "name": "python",
   "nbconvert_exporter": "python",
   "pygments_lexer": "ipython3",
   "version": "3.6.8"
  }
 },
 "nbformat": 4,
 "nbformat_minor": 2
}
