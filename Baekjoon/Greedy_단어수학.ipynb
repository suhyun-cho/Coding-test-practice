{
 "cells": [
  {
   "cell_type": "markdown",
   "metadata": {},
   "source": [
    "## greedy 알고리즘 문제 - 단어 수학\n",
    "2020-12-03\n",
    "\n",
    "#### 문제설명\n",
    "민식이는 수학학원에서 단어 수학 문제를 푸는 숙제를 받았다. <br>\n",
    "<br>\n",
    "단어 수학 문제는 N개의 단어로 이루어져 있으며, 각 단어는 알파벳 대문자로만 이루어져 있다. 이때, 각 알파벳 대문자를 0부터 9까지의 숫자 중 하나로 바꿔서 N개의 수를 합하는 문제이다. 같은 알파벳은 같은 숫자로 바꿔야 하며, 두 개 이상의 알파벳이 같은 숫자로 바뀌어지면 안 된다.<br>\n",
    "<br>\n",
    "예를 들어, GCF + ACDEB를 계산한다고 할 때, A = 9, B = 4, C = 8, D = 6, E = 5, F = 3, G = 7로 결정한다면, 두 수의 합은 99437이 되어서 최대가 될 것이다.<br>\n",
    "<br>\n",
    "N개의 단어가 주어졌을 때, 그 수의 합을 최대로 만드는 프로그램을 작성하시오."
   ]
  },
  {
   "cell_type": "markdown",
   "metadata": {},
   "source": [
    "**풀이**\n",
    "* 자릿수가 큰 알파벳부터 큰 숫자를 차례대로 대입"
   ]
  },
  {
   "cell_type": "code",
   "execution_count": 27,
   "metadata": {},
   "outputs": [
    {
     "data": {
      "text/plain": [
       "['A', 'C', 'D', 'E', 'B']"
      ]
     },
     "execution_count": 27,
     "metadata": {},
     "output_type": "execute_result"
    }
   ],
   "source": [
    "d1='GCF'\n",
    "d2='ACDEB'\n",
    "d1=[x for x in d1]\n",
    "d2=[x for x in d2]\n",
    "d2"
   ]
  },
  {
   "cell_type": "code",
   "execution_count": 16,
   "metadata": {},
   "outputs": [
    {
     "data": {
      "text/plain": [
       "['G', 'C', 'F']"
      ]
     },
     "execution_count": 16,
     "metadata": {},
     "output_type": "execute_result"
    }
   ],
   "source": [
    "d1"
   ]
  },
  {
   "cell_type": "code",
   "execution_count": 14,
   "metadata": {},
   "outputs": [
    {
     "data": {
      "text/plain": [
       "2"
      ]
     },
     "execution_count": 14,
     "metadata": {},
     "output_type": "execute_result"
    }
   ],
   "source": [
    "# 두 문자의 길이 비교\n",
    "abs(len(d2)-len(d1))"
   ]
  },
  {
   "cell_type": "code",
   "execution_count": 23,
   "metadata": {
    "scrolled": true
   },
   "outputs": [
    {
     "data": {
      "text/plain": [
       "{'A': 9, 'C': 8}"
      ]
     },
     "execution_count": 23,
     "metadata": {},
     "output_type": "execute_result"
    }
   ],
   "source": [
    "dic={'A':9,'C':8}\n",
    "dic"
   ]
  },
  {
   "cell_type": "code",
   "execution_count": 18,
   "metadata": {},
   "outputs": [
    {
     "data": {
      "text/plain": [
       "[9, 8, 7, 6, 5, 4, 3, 2, 1, 0]"
      ]
     },
     "execution_count": 18,
     "metadata": {},
     "output_type": "execute_result"
    }
   ],
   "source": [
    "num =[9,8,7,6,5,4,3,2,1,0]\n",
    "num"
   ]
  },
  {
   "cell_type": "code",
   "execution_count": 33,
   "metadata": {},
   "outputs": [
    {
     "name": "stdout",
     "output_type": "stream",
     "text": [
      "{'A': 9}\n",
      "{'C': 8}\n"
     ]
    }
   ],
   "source": [
    "# 같은 문자는 같은 숫자를 대입해야됨.\n",
    "diff=abs(len(d2)-len(d1))\n",
    "num =[9,8,7,6,5,4,3,2,1,0]\n",
    "\n",
    "for i in range(diff):   # i=0,1\n",
    "    if len(d2) > len(d1):   # 두 문자중 자릿수큰것부터\n",
    "        dic={d2[i]: num[0]}\n",
    "        num.pop(0)\n",
    "        \n",
    "        print(dic)\n",
    "    elif len(d2) < len(d1):\n",
    "        dic={d1[i] : num[0]}\n",
    "        num.pop(0)\n",
    "        print( dic)"
   ]
  },
  {
   "cell_type": "code",
   "execution_count": 24,
   "metadata": {},
   "outputs": [
    {
     "data": {
      "text/plain": [
       "{'A': 9}"
      ]
     },
     "execution_count": 24,
     "metadata": {},
     "output_type": "execute_result"
    }
   ],
   "source": [
    "{'A': dic['A']}"
   ]
  },
  {
   "cell_type": "code",
   "execution_count": 35,
   "metadata": {},
   "outputs": [
    {
     "data": {
      "text/plain": [
       "Counter({'A': 2, 'C': 2})"
      ]
     },
     "execution_count": 35,
     "metadata": {},
     "output_type": "execute_result"
    }
   ],
   "source": [
    "import collections\n",
    "c=collections.Counter(['A','C','A','C'])\n",
    "c"
   ]
  },
  {
   "cell_type": "code",
   "execution_count": 43,
   "metadata": {},
   "outputs": [
    {
     "data": {
      "text/plain": [
       "dict_keys(['A', 'C'])"
      ]
     },
     "execution_count": 43,
     "metadata": {},
     "output_type": "execute_result"
    }
   ],
   "source": [
    "c.keys()"
   ]
  },
  {
   "cell_type": "code",
   "execution_count": 45,
   "metadata": {},
   "outputs": [
    {
     "data": {
      "text/plain": [
       "dict_items([('A', 2), ('C', 2)])"
      ]
     },
     "execution_count": 45,
     "metadata": {},
     "output_type": "execute_result"
    }
   ],
   "source": [
    "c.items()"
   ]
  },
  {
   "cell_type": "code",
   "execution_count": 47,
   "metadata": {},
   "outputs": [
    {
     "data": {
      "text/plain": [
       "['A', 'A', 'C', 'C']"
      ]
     },
     "execution_count": 47,
     "metadata": {},
     "output_type": "execute_result"
    }
   ],
   "source": [
    "list(c.elements())"
   ]
  },
  {
   "cell_type": "code",
   "execution_count": 56,
   "metadata": {},
   "outputs": [
    {
     "name": "stdout",
     "output_type": "stream",
     "text": [
      "A\n",
      "C\n"
     ]
    }
   ],
   "source": [
    "for e in set(['A','C','A','C']):\n",
    "    print(e)"
   ]
  },
  {
   "cell_type": "markdown",
   "metadata": {},
   "source": [
    "---------"
   ]
  },
  {
   "cell_type": "code",
   "execution_count": 199,
   "metadata": {},
   "outputs": [
    {
     "name": "stdout",
     "output_type": "stream",
     "text": [
      "d1= ['G', 'C', 'F']\n",
      "d2= ['A', 'C', 'D', 'E', 'B']\n"
     ]
    }
   ],
   "source": [
    "d1='GCF'\n",
    "d2='ACDEB'\n",
    "d1=[x for x in d1]\n",
    "d2=[x for x in d2]\n",
    "print('d1=',d1)\n",
    "print('d2=',d2)"
   ]
  },
  {
   "cell_type": "code",
   "execution_count": 200,
   "metadata": {},
   "outputs": [
    {
     "data": {
      "text/plain": [
       "2"
      ]
     },
     "execution_count": 200,
     "metadata": {},
     "output_type": "execute_result"
    }
   ],
   "source": [
    "diff=abs(len(d2)-len(d1))\n",
    "diff"
   ]
  },
  {
   "cell_type": "code",
   "execution_count": 201,
   "metadata": {},
   "outputs": [
    {
     "data": {
      "text/plain": [
       "['A', 'C']"
      ]
     },
     "execution_count": 201,
     "metadata": {},
     "output_type": "execute_result"
    }
   ],
   "source": [
    "d2[:diff]"
   ]
  },
  {
   "cell_type": "code",
   "execution_count": 202,
   "metadata": {},
   "outputs": [
    {
     "data": {
      "text/plain": [
       "{'A', 'C'}"
      ]
     },
     "execution_count": 202,
     "metadata": {},
     "output_type": "execute_result"
    }
   ],
   "source": [
    "set(d2[:diff])"
   ]
  },
  {
   "cell_type": "markdown",
   "metadata": {},
   "source": [
    "* 두 문자의 자리수를 비교해서 높은자리수를 가진 문자부터 숫자 대입.\n",
    "    * A=9, C=8 을 대입함.\n",
    "* 그럼이제 동일한 자리수의 문자를 놓고 다시 숫자대입\n",
    "    * 'GCF' 와 'DEB' 를놓고 앞에 C는 이미 숫자를 대입했으므로 C는 제외"
   ]
  },
  {
   "cell_type": "code",
   "execution_count": 221,
   "metadata": {},
   "outputs": [
    {
     "data": {
      "text/plain": [
       "False"
      ]
     },
     "execution_count": 221,
     "metadata": {},
     "output_type": "execute_result"
    }
   ],
   "source": [
    "len(d1)>len(d2)"
   ]
  },
  {
   "cell_type": "code",
   "execution_count": 236,
   "metadata": {},
   "outputs": [
    {
     "name": "stdout",
     "output_type": "stream",
     "text": [
      "d1=> ['A', 'A', 'A']\n",
      "d2=> ['A', 'A', 'A']\n",
      "diff= 0\n",
      "small=> ['A', 'A', 'A']\n",
      "big=> ['A', 'A', 'A']\n",
      "big_copy--------------------->  ['A', 'A', 'A']\n"
     ]
    }
   ],
   "source": [
    "# 수정 후\n",
    "d1='AAA'\n",
    "d2='AAA'\n",
    "d1=[x for x in d1]\n",
    "d2=[x for x in d2]\n",
    "print('d1=>', d1)\n",
    "print('d2=>',d2)\n",
    "\n",
    "diff=abs(len(d2)-len(d1))\n",
    "print('diff=',diff)\n",
    "num =[9,8,7,6,5,4,3,2,1,0]\n",
    "\n",
    "if len(d1)<=len(d2):\n",
    "    small=d1\n",
    "    big=d2\n",
    "print('small=>',small)\n",
    "print('big=>',big)\n",
    "\n",
    "dict={}\n",
    "big_copy=big[diff:]   #  5 - 2 +1 = 4\n",
    "for s in set(big[:diff]):\n",
    "    dict[s]=num[0]\n",
    "    num.pop(0)\n",
    "    print('dict ===> ' , dict)\n",
    "print('big_copy---------------------> ',big_copy)"
   ]
  },
  {
   "cell_type": "code",
   "execution_count": 108,
   "metadata": {},
   "outputs": [
    {
     "data": {
      "text/plain": [
       "{'A': 9, 'C': 8}"
      ]
     },
     "execution_count": 108,
     "metadata": {},
     "output_type": "execute_result"
    }
   ],
   "source": [
    "dict"
   ]
  },
  {
   "cell_type": "code",
   "execution_count": 207,
   "metadata": {},
   "outputs": [
    {
     "data": {
      "text/plain": [
       "['F']"
      ]
     },
     "execution_count": 207,
     "metadata": {},
     "output_type": "execute_result"
    }
   ],
   "source": [
    "d1_copy"
   ]
  },
  {
   "cell_type": "code",
   "execution_count": 208,
   "metadata": {},
   "outputs": [
    {
     "data": {
      "text/plain": [
       "['B']"
      ]
     },
     "execution_count": 208,
     "metadata": {},
     "output_type": "execute_result"
    }
   ],
   "source": [
    "d2_copy"
   ]
  },
  {
   "cell_type": "code",
   "execution_count": 131,
   "metadata": {},
   "outputs": [
    {
     "name": "stdout",
     "output_type": "stream",
     "text": [
      "dict= {'A': 9, 'C': 8, 'G': 7, 'D': 6, 'E': 5, 'F': 4, 'B': 3}\n"
     ]
    }
   ],
   "source": [
    "# 이때 num=[7, 6, 5, 4, 3, 2, 1, 0]\n",
    "# dict 키값이 d1,d2에 있는지 체크\n",
    "for i in range(len(d1)):\n",
    "    if d1[i] not in dict:  # dict에 알파벳이 없을경우에만 숫자 대입\n",
    "        dict[d1[i]]=num[0]\n",
    "        num.pop(0)\n",
    "    if d2[i] not in dict:\n",
    "        dict[d2[i]]=num[0]\n",
    "        num.pop(0)\n",
    "print('dict=',dict)"
   ]
  },
  {
   "cell_type": "markdown",
   "metadata": {},
   "source": [
    "------------------\n",
    "#### 코드 합치기"
   ]
  },
  {
   "cell_type": "code",
   "execution_count": 231,
   "metadata": {},
   "outputs": [
    {
     "name": "stdout",
     "output_type": "stream",
     "text": [
      "d1=> ['G', 'C', 'F']\n",
      "d2=> ['A', 'C', 'A', 'C', 'D', 'E', 'B']\n",
      "small=> ['G', 'C', 'F']\n",
      "big=> ['A', 'C', 'A', 'C', 'D', 'E', 'B']\n",
      "dict ===>  {'A': 9}\n",
      "dict ===>  {'A': 9, 'C': 8}\n",
      "big_copy--------------------->  ['D', 'E', 'B']\n",
      "dict= {'A': 9, 'C': 8, 'D': 7, 'G': 6, 'E': 5, 'B': 4, 'F': 3}\n",
      "small= 683\n",
      "big= 9898754\n",
      "answer= 9899437\n"
     ]
    }
   ],
   "source": [
    "## 코드 합치기\n",
    "d1='GCF'\n",
    "d2='ACACDEB'\n",
    "d1=[x for x in d1]\n",
    "d2=[x for x in d2]\n",
    "print('d1=>', d1)\n",
    "print('d2=>',d2)\n",
    "\n",
    "diff=abs(len(d2)-len(d1))\n",
    "num =[9,8,7,6,5,4,3,2,1,0]\n",
    "\n",
    "# 자리수가 더 큰거를 big, 작은걸 small변수에 할당.\n",
    "if len(d1)<len(d2):\n",
    "    small=d1\n",
    "    big=d2\n",
    "print('small=>',small)\n",
    "print('big=>',big)\n",
    "\n",
    "dict={}\n",
    "big_copy=big[diff:]   #  5 - 2 +1 = 4\n",
    "for s in set(big[:diff]):\n",
    "    dict[s]=num[0]\n",
    "    num.pop(0)\n",
    "    print('dict ===> ' , dict)\n",
    "print('big_copy---------------------> ',big_copy)  # 여기서 big_copy='DEB' 앞에 'ACAC'제외한\n",
    "\n",
    "for i in range(len(big_copy)):\n",
    "    if big_copy[i] not in dict:  # dict에 알파벳이 없을경우에만 숫자 대입\n",
    "        dict[big_copy[i]]=num[0]\n",
    "        num.pop(0)\n",
    "    if small[i] not in dict:\n",
    "        dict[small[i]]=num[0]\n",
    "        num.pop(0)\n",
    "print('dict=',dict)\n",
    "\n",
    "def fill_number(df):\n",
    "    for i in range(len(df)):\n",
    "        df[i]=dict[df[i]]\n",
    "\n",
    "fill_number(small)\n",
    "small=int(''.join(list(map(lambda x:str(x) ,small))))\n",
    "print('small=', small)\n",
    "\n",
    "fill_number(big)\n",
    "big=int(''.join(list(map(lambda x:str(x) ,big))))\n",
    "print('big=', big)\n",
    "\n",
    "answer=small+big\n",
    "print('answer=',answer)"
   ]
  },
  {
   "cell_type": "code",
   "execution_count": 137,
   "metadata": {},
   "outputs": [
    {
     "data": {
      "text/plain": [
       "['G', 'C', 'F']"
      ]
     },
     "execution_count": 137,
     "metadata": {},
     "output_type": "execute_result"
    }
   ],
   "source": [
    "d1"
   ]
  },
  {
   "cell_type": "code",
   "execution_count": 138,
   "metadata": {},
   "outputs": [
    {
     "data": {
      "text/plain": [
       "['A', 'C', 'A', 'C', 'D', 'E', 'B']"
      ]
     },
     "execution_count": 138,
     "metadata": {},
     "output_type": "execute_result"
    }
   ],
   "source": [
    "d2"
   ]
  },
  {
   "cell_type": "code",
   "execution_count": 139,
   "metadata": {},
   "outputs": [
    {
     "data": {
      "text/plain": [
       "{'A': 9, 'C': 8, 'G': 7, 'D': 6, 'E': 5, 'F': 4, 'B': 3}"
      ]
     },
     "execution_count": 139,
     "metadata": {},
     "output_type": "execute_result"
    }
   ],
   "source": [
    "dict"
   ]
  },
  {
   "cell_type": "code",
   "execution_count": 158,
   "metadata": {},
   "outputs": [],
   "source": [
    "# dict의 숫자를 원래알파벳에 대입해서 숫자만들기\n",
    "def fill_number(df):\n",
    "    for i in range(len(df)):\n",
    "        df[i]=dict[df[i]]\n",
    "\n",
    "fill_number(d1)\n",
    "print('d1=', d1)\n",
    "fill_number(d2)\n",
    "print('d2=', d2)"
   ]
  },
  {
   "cell_type": "code",
   "execution_count": 173,
   "metadata": {},
   "outputs": [
    {
     "data": {
      "text/plain": [
       "'[7, 8, 4]'"
      ]
     },
     "execution_count": 173,
     "metadata": {},
     "output_type": "execute_result"
    }
   ],
   "source": [
    "str(d1)"
   ]
  },
  {
   "cell_type": "code",
   "execution_count": 180,
   "metadata": {},
   "outputs": [
    {
     "data": {
      "text/plain": [
       "784"
      ]
     },
     "execution_count": 180,
     "metadata": {},
     "output_type": "execute_result"
    }
   ],
   "source": [
    "int(''.join(list(map(lambda x:str(x) ,d1))))"
   ]
  },
  {
   "cell_type": "code",
   "execution_count": 166,
   "metadata": {},
   "outputs": [
    {
     "data": {
      "text/plain": [
       "784"
      ]
     },
     "execution_count": 166,
     "metadata": {},
     "output_type": "execute_result"
    }
   ],
   "source": [
    "int(str(d1[0])+str(d1[1])+str(d1[2]))"
   ]
  },
  {
   "cell_type": "code",
   "execution_count": 170,
   "metadata": {},
   "outputs": [
    {
     "data": {
      "text/plain": [
       "['7', '8', '4']"
      ]
     },
     "execution_count": 170,
     "metadata": {},
     "output_type": "execute_result"
    }
   ],
   "source": [
    "d_list=[]\n",
    "for i in range(len(d1)):\n",
    "    d_list+=str(d1[i])\n",
    "d_list"
   ]
  },
  {
   "cell_type": "markdown",
   "metadata": {},
   "source": [
    "#### 코드 정리"
   ]
  },
  {
   "cell_type": "code",
   "execution_count": 191,
   "metadata": {},
   "outputs": [
    {
     "name": "stdout",
     "output_type": "stream",
     "text": [
      "2\n",
      "GCF\n",
      "ACDEB\n"
     ]
    }
   ],
   "source": [
    "N=int(input())\n",
    "d=[list(map(str, input())) for _ in range(N)]"
   ]
  },
  {
   "cell_type": "code",
   "execution_count": 192,
   "metadata": {},
   "outputs": [
    {
     "data": {
      "text/plain": [
       "[['G', 'C', 'F'], ['A', 'C', 'D', 'E', 'B']]"
      ]
     },
     "execution_count": 192,
     "metadata": {},
     "output_type": "execute_result"
    }
   ],
   "source": [
    "d"
   ]
  },
  {
   "cell_type": "code",
   "execution_count": 194,
   "metadata": {},
   "outputs": [],
   "source": [
    "d1=d[0]\n",
    "d2=d[1]"
   ]
  },
  {
   "cell_type": "code",
   "execution_count": 196,
   "metadata": {},
   "outputs": [
    {
     "data": {
      "text/plain": [
       "['A', 'C', 'D', 'E', 'B']"
      ]
     },
     "execution_count": 196,
     "metadata": {},
     "output_type": "execute_result"
    }
   ],
   "source": [
    "d2"
   ]
  },
  {
   "cell_type": "code",
   "execution_count": 242,
   "metadata": {},
   "outputs": [
    {
     "name": "stdout",
     "output_type": "stream",
     "text": [
      "10\n",
      "A\n",
      "B\n",
      "C\n",
      "D\n",
      "E\n",
      "F\n",
      "G\n",
      "H\n",
      "I\n",
      "J\n",
      "answer= 17\n"
     ]
    }
   ],
   "source": [
    "#  error\n",
    "### 값이 두개가아니라 10개가 들어올경우를 위해서 아래처럼 변수할당하면 안되고 for문으로 불러와야함.\n",
    "N=int(input())\n",
    "d=[list(map(str, input())) for _ in range(N)]\n",
    "d1=d[0]\n",
    "d2=d[1]\n",
    "\n",
    "# 자리수차이\n",
    "diff=abs(len(d2)-len(d1))\n",
    "num =[9,8,7,6,5,4,3,2,1,0]\n",
    "\n",
    "# 자리수가 더 큰거를 big, 작은걸 small변수에 할당.\n",
    "if len(d1)<=len(d2):\n",
    "    small=d1\n",
    "    big=d2\n",
    "\n",
    "# 자리수큰거만 가지고 큰수부터 채우기\n",
    "dict={}\n",
    "big_copy=big[diff:]   #  5 - 2 +1 = 4\n",
    "for s in set(big[:diff]):\n",
    "    dict[s]=num[0]\n",
    "    num.pop(0)\n",
    "# 여기서 big_copy='DEB' 앞에 'ACAC'제외한\n",
    "\n",
    "# 자리수동일한거 가지고 큰수부터채우기\n",
    "for i in range(len(big_copy)):\n",
    "    if big_copy[i] not in dict:  # dict에 알파벳이 없을경우에만 숫자 대입\n",
    "        dict[big_copy[i]]=num[0]\n",
    "        num.pop(0)\n",
    "    if small[i] not in dict:\n",
    "        dict[small[i]]=num[0]\n",
    "        num.pop(0)\n",
    "\n",
    "# 딕셔너리에있는 알파벳에 대응하는 숫자채울 함수정의\n",
    "def fill_number(df):\n",
    "    for i in range(len(df)):\n",
    "        df[i]=dict[df[i]]\n",
    "\n",
    "# 숫자 채우고 하나의 숫자로 변경.\n",
    "fill_number(small)\n",
    "small=int(''.join(list(map(lambda x:str(x) ,small))))\n",
    "fill_number(big)\n",
    "big=int(''.join(list(map(lambda x:str(x) ,big))))\n",
    "\n",
    "answer=small+big\n",
    "print('answer=',answer)"
   ]
  },
  {
   "cell_type": "code",
   "execution_count": 243,
   "metadata": {},
   "outputs": [
    {
     "name": "stdout",
     "output_type": "stream",
     "text": [
      "10\n",
      "A\n",
      "B\n",
      "C\n",
      "D\n",
      "E\n",
      "F\n",
      "G\n",
      "H\n",
      "I\n",
      "J\n"
     ]
    }
   ],
   "source": [
    "N=int(input())\n",
    "d=[list(map(str, input())) for _ in range(N)]"
   ]
  },
  {
   "cell_type": "code",
   "execution_count": 247,
   "metadata": {},
   "outputs": [
    {
     "data": {
      "text/plain": [
       "[['A'], ['B'], ['C'], ['D'], ['E'], ['F'], ['G'], ['H'], ['I'], ['J']]"
      ]
     },
     "execution_count": 247,
     "metadata": {},
     "output_type": "execute_result"
    }
   ],
   "source": [
    "d"
   ]
  },
  {
   "cell_type": "code",
   "execution_count": 246,
   "metadata": {},
   "outputs": [
    {
     "data": {
      "text/plain": [
       "['A']"
      ]
     },
     "execution_count": 246,
     "metadata": {},
     "output_type": "execute_result"
    }
   ],
   "source": [
    "d[0]"
   ]
  },
  {
   "cell_type": "code",
   "execution_count": null,
   "metadata": {},
   "outputs": [],
   "source": []
  }
 ],
 "metadata": {
  "kernelspec": {
   "display_name": "suhyun2",
   "language": "python",
   "name": "suhyun2"
  },
  "language_info": {
   "codemirror_mode": {
    "name": "ipython",
    "version": 3
   },
   "file_extension": ".py",
   "mimetype": "text/x-python",
   "name": "python",
   "nbconvert_exporter": "python",
   "pygments_lexer": "ipython3",
   "version": "3.6.8"
  }
 },
 "nbformat": 4,
 "nbformat_minor": 2
}
