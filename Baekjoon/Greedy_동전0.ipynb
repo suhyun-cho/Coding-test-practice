{
 "cells": [
  {
   "cell_type": "markdown",
   "metadata": {},
   "source": [
    "## greedy 알고리즘 문제 - 동전0\n",
    "2020-11-11\n",
    "\n"
   ]
  },
  {
   "cell_type": "markdown",
   "metadata": {},
   "source": [
    "#### 문제설명\n",
    "준규가 가지고 있는 동전은 총 N종류이고, 각각의 동전을 매우 많이 가지고 있다.\n",
    "\n",
    "동전을 적절히 사용해서 그 가치의 합을 K로 만들려고 한다. 이때 필요한 동전 개수의 최솟값을 구하는 프로그램을 작성하시오.\n",
    "\n",
    "> 예를들어, 1, 5, 10, 50, 100, 500, 1000,,, 이렇게 동전종류가 있을때 합을 4200을 만들 수 있는 최소 동전개수"
   ]
  },
  {
   "cell_type": "code",
   "execution_count": 2,
   "metadata": {},
   "outputs": [
    {
     "name": "stdout",
     "output_type": "stream",
     "text": [
      "10\n",
      "4200\n"
     ]
    }
   ],
   "source": [
    "N=int(input())\n",
    "K=int(input())"
   ]
  },
  {
   "cell_type": "code",
   "execution_count": 9,
   "metadata": {},
   "outputs": [
    {
     "data": {
      "text/plain": [
       "[50000, 10000, 5000, 1000, 500, 100, 50, 10, 5, 1]"
      ]
     },
     "execution_count": 9,
     "metadata": {},
     "output_type": "execute_result"
    }
   ],
   "source": [
    "coin=[1, 5, 10, 50, 100, 500, 1000, 5000, 10000, 50000]\n",
    "coin=sorted(coin,reverse=True)\n",
    "coin"
   ]
  },
  {
   "cell_type": "code",
   "execution_count": 35,
   "metadata": {},
   "outputs": [
    {
     "name": "stdout",
     "output_type": "stream",
     "text": [
      "i= 0\n",
      "i= 1\n",
      "i= 2\n",
      "i= 3\n",
      "(i)= 3 K============> 4790\n",
      "coin_sum------------> 4\n",
      "i= 4\n",
      "(i)= 4 K============> 790\n",
      "coin_sum------------> 5\n",
      "i= 5\n",
      "(i)= 5 K============> 290\n",
      "coin_sum------------> 7\n",
      "i= 6\n",
      "(i)= 6 K============> 90\n",
      "coin_sum------------> 8\n",
      "i= 7\n",
      "(i)= 7 K============> 40\n",
      "coin_sum------------> 12\n",
      "i= 8\n",
      "i= 9\n",
      "12\n"
     ]
    }
   ],
   "source": [
    "coin_sum=0\n",
    "K=4790\n",
    "while K!=0:\n",
    "    for i in range(len(coin)):  # i=0~9\n",
    "        print('i=',i)\n",
    "        if K >=coin[i]:   # i=3, coin[i]=1000  #i=5, coin[i]=100\n",
    "            print('(i)=',i,'K============>',K)\n",
    "            coin_sum+=K//coin[i]   # coin_sum=0 -> 4 -> 2\n",
    "            print('coin_sum------------>',coin_sum)\n",
    "            K=K- (coin[i]*(K//coin[i]))   #  4200-(1000*4)=200(=K)    # 200-(100*2)=0(=K)\n",
    "print(coin_sum)"
   ]
  },
  {
   "cell_type": "markdown",
   "metadata": {},
   "source": [
    "---------------------------------------------------------------\n",
    "### 수현's 코드 (=런타임 에러)\n",
    "* 원인 : 입력받는 N,K, coins 값을 고정해서 에러남\n",
    "    > coins = [int(input()) for _ in range(N)]  <br>\n",
    "    * 이런식으로 동전종류를 입력받을 수 있게 작성하면 통과"
   ]
  },
  {
   "cell_type": "code",
   "execution_count": 67,
   "metadata": {},
   "outputs": [
    {
     "data": {
      "text/plain": [
       "[50000, 10000, 5000, 1000, 500, 100, 50, 10, 5, 1]"
      ]
     },
     "execution_count": 67,
     "metadata": {},
     "output_type": "execute_result"
    }
   ],
   "source": [
    "sorted(coins,reverse=True)"
   ]
  },
  {
   "cell_type": "code",
   "execution_count": 68,
   "metadata": {},
   "outputs": [
    {
     "name": "stdout",
     "output_type": "stream",
     "text": [
      "10 4200\n",
      "1\n",
      "5\n",
      "10\n",
      "50\n",
      "100\n",
      "500\n",
      "1000\n",
      "5000\n",
      "10000\n",
      "50000\n",
      "6\n"
     ]
    }
   ],
   "source": [
    "N, K = map(int, input().split())  \n",
    "coins = [int(input()) for _ in range(N)]\n",
    "coins=sorted(coins,reverse=True)\n",
    "\n",
    "coin_sum=0\n",
    "while K!=0:\n",
    "    for i in range(len(coins)):  # i=0~9\n",
    "        if K >=coins[i]:   # i=3, coin[i]=1000  #i=5, coin[i]=100\n",
    "            coin_sum+=K//coins[i]   # coin_sum=0 -> 4 -> 2\n",
    "            K=K- (coins[i]*(K//coins[i]))   #  4200-(1000*4)=200(=K)    # 200-(100*2)=0(=K)\n",
    "print(coin_sum)"
   ]
  },
  {
   "cell_type": "markdown",
   "metadata": {},
   "source": [
    "---------------------------------------------------------------\n",
    "### 다른사람 코드\n",
    "* 나는 sorted해서 내림차순으로 재정렬했는데, 이사람은 인덱스 끝부터 거꾸로 순회하도록 작성함.\n",
    "    * 나머지 코드로직은 동일"
   ]
  },
  {
   "cell_type": "code",
   "execution_count": 52,
   "metadata": {},
   "outputs": [
    {
     "name": "stdout",
     "output_type": "stream",
     "text": [
      "1\n",
      "5\n",
      "10\n",
      "50\n",
      "100\n",
      "500\n",
      "1000\n",
      "5000\n",
      "10000\n",
      "50000\n"
     ]
    }
   ],
   "source": [
    "coins = [int(input()) for _ in range(N)]"
   ]
  },
  {
   "cell_type": "code",
   "execution_count": 57,
   "metadata": {},
   "outputs": [
    {
     "data": {
      "text/plain": [
       "[1, 5, 10, 50, 100, 500, 1000, 5000, 10000, 50000]"
      ]
     },
     "execution_count": 57,
     "metadata": {},
     "output_type": "execute_result"
    }
   ],
   "source": [
    "coins"
   ]
  },
  {
   "cell_type": "code",
   "execution_count": 58,
   "metadata": {},
   "outputs": [
    {
     "data": {
      "text/plain": [
       "50000"
      ]
     },
     "execution_count": 58,
     "metadata": {},
     "output_type": "execute_result"
    }
   ],
   "source": [
    "coins[-1]"
   ]
  },
  {
   "cell_type": "code",
   "execution_count": 60,
   "metadata": {},
   "outputs": [
    {
     "name": "stdout",
     "output_type": "stream",
     "text": [
      "10 4200\n",
      "6\n"
     ]
    }
   ],
   "source": [
    "N, K = map(int, input().split())  \n",
    "coins = [int(input()) for _ in range(N)]\n",
    "\n",
    "coin_num=0\n",
    "for i in range(1,N+1):\n",
    "    # 인덱스 끝부터 순회 : 마이너스 인덱스 (이때 i는 1부터시작해야됨.)\n",
    "    coin=coins[-i]\n",
    "    \n",
    "    if K>=coin:\n",
    "        num=K//coin # 4200//1000=4\n",
    "        K=K-coin*num # K=4200-(1000*4) =200\n",
    "        coin_num+=num\n",
    "print(coin_num)"
   ]
  },
  {
   "cell_type": "code",
   "execution_count": null,
   "metadata": {},
   "outputs": [],
   "source": []
  },
  {
   "cell_type": "code",
   "execution_count": null,
   "metadata": {},
   "outputs": [],
   "source": []
  }
 ],
 "metadata": {
  "kernelspec": {
   "display_name": "suhyun2",
   "language": "python",
   "name": "suhyun2"
  },
  "language_info": {
   "codemirror_mode": {
    "name": "ipython",
    "version": 3
   },
   "file_extension": ".py",
   "mimetype": "text/x-python",
   "name": "python",
   "nbconvert_exporter": "python",
   "pygments_lexer": "ipython3",
   "version": "3.6.8"
  }
 },
 "nbformat": 4,
 "nbformat_minor": 2
}
