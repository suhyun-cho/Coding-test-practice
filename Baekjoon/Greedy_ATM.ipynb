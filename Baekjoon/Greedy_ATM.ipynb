{
 "cells": [
  {
   "cell_type": "markdown",
   "metadata": {},
   "source": [
    "## greedy 알고리즘 문제 - ATM\n",
    "2020-11-10\n",
    "\n",
    "> 이전값을 계속 누적해서 더해가는 문제\n",
    "* 첫번째 풀이 => 초기값 0을 대입한 변수를 만들어서 하나는 이전값부터 계속 누적해서 더해가고, 하나는 신규값을 더해가게 작성\n",
    "* 두번째 풀이 => 이중 for문 사용해서 i가 주어진 리스트에 하나씩 돌때, j가 전체를 돌게끔 작성"
   ]
  },
  {
   "cell_type": "markdown",
   "metadata": {},
   "source": [
    "인하은행에는 ATM이 1대밖에 없다. 지금 이 ATM앞에 N명의 사람들이 줄을 서있다. 사람은 1번부터 N번까지 번호가 매겨져 있으며, i번 사람이 돈을 인출하는데 걸리는 시간은 Pi분이다. <br>\n",
    "<br>\n",
    "사람들이 줄을 서는 순서에 따라서, 돈을 인출하는데 필요한 시간의 합이 달라지게 된다. 예를 들어, 총 5명이 있고, P1 = 3, P2 = 1, P3 = 4, P4 = 3, P5 = 2 인 경우를 생각해보자. [1, 2, 3, 4, 5] 순서로 줄을 선다면, 1번 사람은 3분만에 돈을 뽑을 수 있다. 2번 사람은 1번 사람이 돈을 뽑을 때 까지 기다려야 하기 때문에, 3+1 = 4분이 걸리게 된다. 3번 사람은 1번, 2번 사람이 돈을 뽑을 때까지 기다려야 하기 때문에, 총 3+1+4 = 8분이 필요하게 된다. 4번 사람은 3+1+4+3 = 11분, 5번 사람은 3+1+4+3+2 = 13분이 걸리게 된다. 이 경우에 각 사람이 돈을 인출하는데 필요한 시간의 합은 3+4+8+11+13 = 39분이 된다.<br>\n",
    "<br>\n",
    "줄을 [2, 5, 1, 4, 3] 순서로 줄을 서면, 2번 사람은 1분만에, 5번 사람은 1+2 = 3분, 1번 사람은 1+2+3 = 6분, 4번 사람은 1+2+3+3 = 9분, 3번 사람은 1+2+3+3+4 = 13분이 걸리게 된다. 각 사람이 돈을 인출하는데 필요한 시간의 합은 1+3+6+9+13 = 32분이다. 이 방법보다 더 필요한 시간의 합을 최소로 만들 수는 없다.<br>\n",
    "<br>\n",
    "줄을 서 있는 사람의 수 N과 각 사람이 돈을 인출하는데 걸리는 시간 Pi가 주어졌을 때, 각 사람이 돈을 인출하는데 필요한 시간의 합의 최솟값을 구하는 프로그램을 작성하시오."
   ]
  },
  {
   "cell_type": "code",
   "execution_count": 36,
   "metadata": {},
   "outputs": [
    {
     "data": {
      "text/plain": [
       "[1, 2, 3, 3, 4]"
      ]
     },
     "execution_count": 36,
     "metadata": {},
     "output_type": "execute_result"
    }
   ],
   "source": [
    "p=[3,1,4,3,2]\n",
    "p=sorted(p)\n",
    "p"
   ]
  },
  {
   "cell_type": "code",
   "execution_count": 82,
   "metadata": {},
   "outputs": [
    {
     "name": "stdout",
     "output_type": "stream",
     "text": [
      "mylist=============> [3]\n",
      "최종mylist-----> [3]\n",
      "4\n"
     ]
    }
   ],
   "source": [
    "mylist=[]\n",
    "i=0\n",
    "# p=[3,1,4,3,2]\n",
    "p=[1,2]\n",
    "p=sorted(p)   # p=[1, 2, 3, 3, 4]\n",
    "while i<len(p):\n",
    "    if len(p)==1:\n",
    "        print('mylist===========>',sum(p))\n",
    "        i+=1\n",
    "    else:\n",
    "        if len(mylist)==0:\n",
    "            mylist.append(sum(p[:2]))\n",
    "            print('mylist=============>',mylist) #mylist=[3] => [3,6]\n",
    "            i+=2\n",
    "        else:\n",
    "            mylist.append(mylist[-1]+p[i])\n",
    "            print('mylist=============>',mylist) \n",
    "            i+=1\n",
    "print('최종mylist----->',mylist)\n",
    "print(sum(mylist)+p[0])"
   ]
  },
  {
   "cell_type": "markdown",
   "metadata": {},
   "source": [
    "--------------------------------------------------------\n",
    "### 수현's 풀이"
   ]
  },
  {
   "cell_type": "code",
   "execution_count": 83,
   "metadata": {},
   "outputs": [],
   "source": [
    "def total_time(p):\n",
    "    mylist=[]\n",
    "    i=0\n",
    "    p=sorted(p)   \n",
    "    while i<len(p):\n",
    "        if len(p)==1:\n",
    "            return sum(p)\n",
    "            i+=1\n",
    "        else:\n",
    "            if len(mylist)==0:\n",
    "                mylist.append(sum(p[:2]))\n",
    "                i+=2\n",
    "            else:\n",
    "                mylist.append(mylist[-1]+p[i])\n",
    "                i+=1\n",
    "    return sum(mylist)+p[0]"
   ]
  },
  {
   "cell_type": "code",
   "execution_count": 87,
   "metadata": {},
   "outputs": [
    {
     "data": {
      "text/plain": [
       "7"
      ]
     },
     "execution_count": 87,
     "metadata": {},
     "output_type": "execute_result"
    }
   ],
   "source": [
    "# p=[3,1,4,3,2]\n",
    "p=[2,3]\n",
    "total_time(p)"
   ]
  },
  {
   "cell_type": "code",
   "execution_count": 98,
   "metadata": {},
   "outputs": [
    {
     "name": "stdout",
     "output_type": "stream",
     "text": [
      "1\n",
      "3\n",
      "3\n"
     ]
    }
   ],
   "source": [
    "# 백준 제출용\n",
    "N = int(input())\n",
    "nums = list(map(int, input().split()))\n",
    "\n",
    "mylist=[]\n",
    "i=0\n",
    "p=sorted(nums)\n",
    "while i<len(p):\n",
    "    if len(p)==1:\n",
    "        i+=1\n",
    "        break\n",
    "    else:\n",
    "        if len(mylist)==0:\n",
    "            mylist.append(sum(p[:2]))\n",
    "            i+=2\n",
    "        else:\n",
    "            mylist.append(mylist[-1]+p[i])\n",
    "            i+=1\n",
    "print( sum(mylist)+p[0])"
   ]
  },
  {
   "cell_type": "markdown",
   "metadata": {},
   "source": [
    "--------------------------------------------------------\n",
    "### 다른사람 풀이(1)\n",
    "* i_sum에는 이전 사람들 걸린시간 포함해서 해당사람이 인출하는데 걸리는 총시간\n",
    "    * i_sum= (1), (1+2), (1+2+3), (1+2+3+3) ...\n",
    "* min_sum 에는 전체 걸리는 시간\n",
    "    * min_sum=(1)+(1+2)+(1+2+3)+(1+2+3+3)...."
   ]
  },
  {
   "cell_type": "code",
   "execution_count": 60,
   "metadata": {},
   "outputs": [
    {
     "name": "stdout",
     "output_type": "stream",
     "text": [
      "5\n"
     ]
    }
   ],
   "source": [
    "N=int(input())"
   ]
  },
  {
   "cell_type": "code",
   "execution_count": 61,
   "metadata": {},
   "outputs": [
    {
     "name": "stdout",
     "output_type": "stream",
     "text": [
      "3 1 4 3 2\n"
     ]
    }
   ],
   "source": [
    "nums=list(map(int,input().split()))"
   ]
  },
  {
   "cell_type": "code",
   "execution_count": 67,
   "metadata": {},
   "outputs": [
    {
     "data": {
      "text/plain": [
       "[1, 2, 3, 3, 4]"
      ]
     },
     "execution_count": 67,
     "metadata": {},
     "output_type": "execute_result"
    }
   ],
   "source": [
    "sorted(nums)"
   ]
  },
  {
   "cell_type": "code",
   "execution_count": 99,
   "metadata": {},
   "outputs": [
    {
     "name": "stdout",
     "output_type": "stream",
     "text": [
      "1\n",
      "3\n",
      "3\n"
     ]
    }
   ],
   "source": [
    "N=int(input())\n",
    "nums=list(map(int,input().split()))\n",
    "\n",
    "if N==1:\n",
    "    print(nums[0])\n",
    "else:\n",
    "    nums.sort()\n",
    "    i_sum=0\n",
    "    min_sum=0\n",
    "    \n",
    "    for i in range(N):   # i=0,1,2,3,4\n",
    "        min_sum=min_sum+(i_sum+nums[i])\n",
    "        i_sum=i_sum+nums[i]\n",
    "    print(min_sum)"
   ]
  },
  {
   "cell_type": "markdown",
   "metadata": {},
   "source": [
    "--------------------------------------------------------\n",
    "### 다른사람 풀이(2)"
   ]
  },
  {
   "cell_type": "code",
   "execution_count": 103,
   "metadata": {},
   "outputs": [
    {
     "name": "stdout",
     "output_type": "stream",
     "text": [
      "5\n",
      "3 1 4 3 2\n",
      "32\n"
     ]
    }
   ],
   "source": [
    "def solution():\n",
    "    answer=0\n",
    "    for i in range(N):   # i=0,1,2,3,4\n",
    "        for j in range(0,i+1):  # j=0,1,2,3,4\n",
    "            answer=answer+arr[j]\n",
    "    return answer\n",
    "\n",
    "N=int(input())\n",
    "arr=list(map(int,input().split()))\n",
    "arr.sort()  # [1, 2, 3, 3, 4]\n",
    "print(solution())"
   ]
  },
  {
   "cell_type": "code",
   "execution_count": 117,
   "metadata": {},
   "outputs": [
    {
     "name": "stdout",
     "output_type": "stream",
     "text": [
      "1\n",
      "3\n",
      "6\n",
      "9\n",
      "13\n",
      "13\n"
     ]
    }
   ],
   "source": [
    "answer=0\n",
    "arr=[1,2,3,3,4]\n",
    "for i in range(5):\n",
    "    answer=answer+arr[i]\n",
    "    print(answer)\n",
    "print(answer)"
   ]
  },
  {
   "cell_type": "code",
   "execution_count": 119,
   "metadata": {},
   "outputs": [
    {
     "name": "stdout",
     "output_type": "stream",
     "text": [
      "answer=> 0\n",
      "answer_sum=> 1\n",
      "answer=> 1\n",
      "answer_sum=> 2\n",
      "answer=> 2\n",
      "answer_sum=> 4\n",
      "answer=> 4\n",
      "answer_sum=> 5\n",
      "answer=> 5\n",
      "answer_sum=> 7\n",
      "answer=> 7\n",
      "answer_sum=> 10\n",
      "answer=> 10\n",
      "answer_sum=> 11\n",
      "answer=> 11\n",
      "answer_sum=> 13\n",
      "answer=> 13\n",
      "answer_sum=> 16\n",
      "answer=> 16\n",
      "answer_sum=> 19\n",
      "answer=> 19\n",
      "answer_sum=> 20\n",
      "answer=> 20\n",
      "answer_sum=> 22\n",
      "answer=> 22\n",
      "answer_sum=> 25\n",
      "answer=> 25\n",
      "answer_sum=> 28\n",
      "answer=> 28\n",
      "answer_sum=> 32\n",
      "32\n"
     ]
    }
   ],
   "source": [
    "answer=0\n",
    "arr=[1,2,3,3,4]   \n",
    "for i in range(5):  #i=0,1,2,3,4\n",
    "    for j in range(0,i+1):  # j=0,1,2,3,4\n",
    "        print('answer=>',answer)\n",
    "        answer=answer+arr[j]\n",
    "        print('answer_sum=>',answer)\n",
    "print(answer)"
   ]
  },
  {
   "cell_type": "code",
   "execution_count": null,
   "metadata": {},
   "outputs": [],
   "source": []
  }
 ],
 "metadata": {
  "kernelspec": {
   "display_name": "suhyun2",
   "language": "python",
   "name": "suhyun2"
  },
  "language_info": {
   "codemirror_mode": {
    "name": "ipython",
    "version": 3
   },
   "file_extension": ".py",
   "mimetype": "text/x-python",
   "name": "python",
   "nbconvert_exporter": "python",
   "pygments_lexer": "ipython3",
   "version": "3.6.8"
  }
 },
 "nbformat": 4,
 "nbformat_minor": 2
}
