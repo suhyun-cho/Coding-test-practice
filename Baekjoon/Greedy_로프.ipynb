{
 "cells": [
  {
   "cell_type": "markdown",
   "metadata": {},
   "source": [
    "## greedy 알고리즘 문제 - 로프\n",
    "2020-11-22\n",
    "\n",
    "#### 문제설명\n",
    "N(1≤N≤100,000)개의 로프가 있다. 이 로프를 이용하여 이런 저런 물체를 들어올릴 수 있다. 각각의 로프는 그 굵기나 길이가 다르기 때문에 들 수 있는 물체의 중량이 서로 다를 수도 있다.\n",
    "\n",
    "하지만 여러 개의 로프를 병렬로 연결하면 각각의 로프에 걸리는 중량을 나눌 수 있다. k개의 로프를 사용하여 중량이 w인 물체를 들어올릴 때, 각각의 로프에는 모두 고르게 w/k 만큼의 중량이 걸리게 된다.\n",
    "\n",
    "각 로프들에 대한 정보가 주어졌을 때, 이 로프들을 이용하여 들어올릴 수 있는 물체의 최대 중량을 구해내는 프로그램을 작성하시오. 모든 로프를 사용해야 할 필요는 없으며, 임의로 몇 개의 로프를 골라서 사용해도 된다."
   ]
  },
  {
   "cell_type": "markdown",
   "metadata": {},
   "source": [
    ">  [내가 생각한 로직] <br>\n",
    "로프가 버틸 수 있는 최대중량이 큰것부터 정렬해서 한개, 두개, 세개,,, 로프개수만큼 뺀다.  <br>\n",
    "그리고 뽑은 로프중 가장 중량이 작은로프의 중량에 뽑은 로프개수를 곱해서 나온 값을 append한다.<br>\n",
    "append한 값중 가장 큰값을 print<br>\n",
    "\n",
    "> ex) 로프정보 -> (50,20,10) 일때 (50) 하나의 로프만 뺐을경우 50 * 1 =50, <br>\n",
    "(50,20) 두개 로프뺐을 경우 가장 작은 20* 2= 40 <br>\n",
    "(50,20,10) 세개 로프 뺐을 경우 가장 작은 10* 3 = 30 <br>\n",
    "cnt라는 변수에 [50,40,30] 이 append되고 이중 가장 큰 50이출력."
   ]
  },
  {
   "cell_type": "code",
   "execution_count": 4,
   "metadata": {},
   "outputs": [
    {
     "name": "stdout",
     "output_type": "stream",
     "text": [
      "2\n",
      "10\n",
      "15\n"
     ]
    }
   ],
   "source": [
    "k=int(input())\n",
    "rope=[int(input()) for _ in range(k)]\n",
    "rope=sorted(rope, reverse=True)"
   ]
  },
  {
   "cell_type": "code",
   "execution_count": 5,
   "metadata": {},
   "outputs": [
    {
     "data": {
      "text/plain": [
       "[15, 10]"
      ]
     },
     "execution_count": 5,
     "metadata": {},
     "output_type": "execute_result"
    }
   ],
   "source": [
    "rope"
   ]
  },
  {
   "cell_type": "code",
   "execution_count": 12,
   "metadata": {},
   "outputs": [
    {
     "data": {
      "text/plain": [
       "[15]"
      ]
     },
     "execution_count": 12,
     "metadata": {},
     "output_type": "execute_result"
    }
   ],
   "source": [
    "rope[:1]"
   ]
  },
  {
   "cell_type": "code",
   "execution_count": 13,
   "metadata": {},
   "outputs": [
    {
     "data": {
      "text/plain": [
       "[15, 10]"
      ]
     },
     "execution_count": 13,
     "metadata": {},
     "output_type": "execute_result"
    }
   ],
   "source": [
    "rope[:2]"
   ]
  },
  {
   "cell_type": "markdown",
   "metadata": {},
   "source": [
    "------------------------------------------\n",
    "### 수현's 코드 (시간초과 error)"
   ]
  },
  {
   "cell_type": "markdown",
   "metadata": {},
   "source": [
    "> 전체 로프중량에서 최소값 * 로프개수를 append하고, 사용된 최소값은 리스트에서 제거하고 그다음 최소값 반복<br>\n",
    "* 똑같이 시간초과 error...\n",
    "    * min() 으로 최솟값을 찾는방식으로 작성하니까 시간초과 에러가남\n",
    "    * 그래서 min()안쓰고, 어차피 큰수부터 정렬한 상태로 앞에서부터 하나씩값을 빼오면, 그게 빼온값중 최소값임"
   ]
  },
  {
   "cell_type": "code",
   "execution_count": 37,
   "metadata": {},
   "outputs": [
    {
     "name": "stdout",
     "output_type": "stream",
     "text": [
      "5\n",
      "35\n",
      "33\n",
      "30\n",
      "20\n",
      "12\n",
      "90\n"
     ]
    }
   ],
   "source": [
    "k=int(input())\n",
    "rope=[int(input()) for _ in range(k)]\n",
    "rope=sorted(rope, reverse=True)\n",
    "\n",
    "result=[]\n",
    "while len(rope)!=0:\n",
    "    w=min(rope)*len(rope)\n",
    "    result.append(w)\n",
    "    del rope[-1]\n",
    "print(max(result))"
   ]
  },
  {
   "cell_type": "markdown",
   "metadata": {},
   "source": [
    "**코드 수정 ==> Success !**"
   ]
  },
  {
   "cell_type": "code",
   "execution_count": 47,
   "metadata": {},
   "outputs": [
    {
     "name": "stdout",
     "output_type": "stream",
     "text": [
      "4\n",
      "20\n",
      "18\n",
      "17\n",
      "15\n",
      "i= 0\n",
      "weight=> 20\n",
      "result================> [20]\n",
      "i= 1\n",
      "weight=> 36\n",
      "result================> [20, 36]\n",
      "i= 2\n",
      "weight=> 51\n",
      "result================> [20, 36, 51]\n",
      "i= 3\n",
      "weight=> 60\n",
      "result================> [20, 36, 51, 60]\n",
      "60\n"
     ]
    }
   ],
   "source": [
    "# rope=[20, 18, 17, 15]\n",
    "# result=[20, 36, 51, 60]\n",
    "k=int(input())\n",
    "rope=[int(input()) for _ in range(k)]\n",
    "rope=sorted(rope, reverse=True)\n",
    "\n",
    "result=[]\n",
    "for i in range(len(rope)):  # i=0,1,2,3\n",
    "    print('i=',i)\n",
    "    w=rope[i]*(i+1)\n",
    "    print('weight=>', w)\n",
    "    result.append(w)\n",
    "    print('result================>', result)\n",
    "print(max(result))"
   ]
  },
  {
   "cell_type": "markdown",
   "metadata": {},
   "source": [
    "----------------------------------------\n",
    "### 다른사람 풀이"
   ]
  },
  {
   "cell_type": "code",
   "execution_count": 38,
   "metadata": {},
   "outputs": [
    {
     "name": "stdout",
     "output_type": "stream",
     "text": [
      "5\n",
      "35\n",
      "33\n",
      "30\n",
      "20\n",
      "12\n"
     ]
    }
   ],
   "source": [
    "N=int(input())\n",
    "rope=[]\n",
    "value=[]\n",
    "\n",
    "for i in range(N):\n",
    "    rope.append(int(input()))"
   ]
  },
  {
   "cell_type": "code",
   "execution_count": 39,
   "metadata": {},
   "outputs": [
    {
     "data": {
      "text/plain": [
       "[35, 33, 30, 20, 12]"
      ]
     },
     "execution_count": 39,
     "metadata": {},
     "output_type": "execute_result"
    }
   ],
   "source": [
    "rope"
   ]
  },
  {
   "cell_type": "code",
   "execution_count": 42,
   "metadata": {},
   "outputs": [
    {
     "name": "stdout",
     "output_type": "stream",
     "text": [
      "90\n"
     ]
    }
   ],
   "source": [
    "for num in range(N):\n",
    "    value.append(rope[num]*(num+1))\n",
    "print(max(value))"
   ]
  },
  {
   "cell_type": "code",
   "execution_count": 43,
   "metadata": {},
   "outputs": [
    {
     "name": "stdout",
     "output_type": "stream",
     "text": [
      "5\n",
      "35\n",
      "33\n",
      "30\n",
      "20\n",
      "12\n",
      "rope=> [35, 33, 30, 20, 12]\n",
      "value=> [35]\n",
      "value=> [35, 66]\n",
      "value=> [35, 66, 90]\n",
      "value=> [35, 66, 90, 80]\n",
      "value=> [35, 66, 90, 80, 60]\n",
      "90\n"
     ]
    }
   ],
   "source": [
    "N=int(input())\n",
    "rope=[]\n",
    "value=[]\n",
    "\n",
    "for i in range(N):\n",
    "    rope.append(int(input()))\n",
    "rope.sort(reverse=True)\n",
    "print('rope=>',rope)\n",
    "\n",
    "for num in range(N):  # num=0,1,2,3,4\n",
    "    value.append(rope[num]*(num+1))\n",
    "    print('value=>',value)\n",
    "print(max(value))"
   ]
  },
  {
   "cell_type": "code",
   "execution_count": null,
   "metadata": {},
   "outputs": [],
   "source": []
  }
 ],
 "metadata": {
  "kernelspec": {
   "display_name": "suhyun2",
   "language": "python",
   "name": "suhyun2"
  },
  "language_info": {
   "codemirror_mode": {
    "name": "ipython",
    "version": 3
   },
   "file_extension": ".py",
   "mimetype": "text/x-python",
   "name": "python",
   "nbconvert_exporter": "python",
   "pygments_lexer": "ipython3",
   "version": "3.6.8"
  }
 },
 "nbformat": 4,
 "nbformat_minor": 2
}
