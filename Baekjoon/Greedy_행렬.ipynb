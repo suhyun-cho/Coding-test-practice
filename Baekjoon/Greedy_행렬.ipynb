{
 "cells": [
  {
   "cell_type": "markdown",
   "metadata": {},
   "source": [
    "## greedy 알고리즘 문제 - 행렬\n",
    "2020-12-07\n",
    "> 수현's 코드 fail.....ㅠㅠ\n",
    "\n",
    "#### 문제설명\n",
    "0과 1로만 이루어진 행렬 A와 행렬 B가 있다. 이때, 행렬 A를 행렬 B로 바꾸는데 필요한 연산의 횟수의 최솟값을 구하는 프로그램을 작성하시오.<br>\n",
    "<br>\n",
    "행렬을 변환하는 연산은 어떤 3*3크기의 부분 행렬에 있는 모든 원소를 뒤집는 것이다. (0 -> 1, 1 -> 0)"
   ]
  },
  {
   "cell_type": "code",
   "execution_count": 4,
   "metadata": {},
   "outputs": [
    {
     "name": "stdout",
     "output_type": "stream",
     "text": [
      "3 4\n"
     ]
    }
   ],
   "source": [
    "N,M=map(int, input().split())"
   ]
  },
  {
   "cell_type": "code",
   "execution_count": 16,
   "metadata": {},
   "outputs": [
    {
     "name": "stdout",
     "output_type": "stream",
     "text": [
      "0000\n",
      "0010\n",
      "0000\n",
      "1001\n",
      "1011\n",
      "1001\n"
     ]
    }
   ],
   "source": [
    "A=[list(map(int, input())) for _ in range(N)]\n",
    "B=[list(map(int, input())) for _ in range(N)]"
   ]
  },
  {
   "cell_type": "code",
   "execution_count": 17,
   "metadata": {},
   "outputs": [
    {
     "data": {
      "text/plain": [
       "[[0, 0, 0, 0], [0, 0, 1, 0], [0, 0, 0, 0]]"
      ]
     },
     "execution_count": 17,
     "metadata": {},
     "output_type": "execute_result"
    }
   ],
   "source": [
    "A"
   ]
  },
  {
   "cell_type": "code",
   "execution_count": 18,
   "metadata": {},
   "outputs": [
    {
     "data": {
      "text/plain": [
       "[[1, 0, 0, 1], [1, 0, 1, 1], [1, 0, 0, 1]]"
      ]
     },
     "execution_count": 18,
     "metadata": {},
     "output_type": "execute_result"
    }
   ],
   "source": [
    "B"
   ]
  },
  {
   "cell_type": "code",
   "execution_count": 11,
   "metadata": {},
   "outputs": [],
   "source": [
    "# 3x3부분을 다 바꿔주기\n",
    "for i in range(0,3):\n",
    "    for j in range(0,3):\n",
    "        A[i][j]=1-A[i][j]        "
   ]
  },
  {
   "cell_type": "code",
   "execution_count": 12,
   "metadata": {},
   "outputs": [
    {
     "data": {
      "text/plain": [
       "[[1, 1, 1, 0], [1, 1, 0, 0], [1, 1, 1, 0]]"
      ]
     },
     "execution_count": 12,
     "metadata": {},
     "output_type": "execute_result"
    }
   ],
   "source": [
    "A"
   ]
  },
  {
   "cell_type": "code",
   "execution_count": 13,
   "metadata": {},
   "outputs": [],
   "source": [
    "# 두번째 바꿔주니까 A행렬과 B행렬이 동일해짐\n",
    "for i in range(0,3):\n",
    "    for j in range(1,4):\n",
    "        A[i][j]=1-A[i][j]"
   ]
  },
  {
   "cell_type": "code",
   "execution_count": 14,
   "metadata": {},
   "outputs": [
    {
     "data": {
      "text/plain": [
       "[[1, 0, 0, 1], [1, 0, 1, 1], [1, 0, 0, 1]]"
      ]
     },
     "execution_count": 14,
     "metadata": {},
     "output_type": "execute_result"
    }
   ],
   "source": [
    "A"
   ]
  },
  {
   "cell_type": "code",
   "execution_count": 19,
   "metadata": {},
   "outputs": [],
   "source": [
    "# 3x3부분을 다 바꿔주기 위한 함수\n",
    "def changeAll(start_coord, arr):\n",
    "    x,y=start_coord\n",
    "    for i in range(x,x+3):\n",
    "        for j in range(y,y+3):\n",
    "            arr[i][j] = 1-arr[i][j]"
   ]
  },
  {
   "cell_type": "code",
   "execution_count": 20,
   "metadata": {},
   "outputs": [],
   "source": [
    "# 3*3행렬이 움직일수있는 범위까지 경계를 주기위해 N-2, M-2를 범위로한다.\n",
    "cnt=0\n",
    "for i in range(N-2):   # i=0\n",
    "    for j in range(M-2):   # j=0,1\n",
    "        if A[i][j] !=B[i][j]:\n",
    "            cnt+=1\n",
    "            changeAll( (i,j), A)"
   ]
  },
  {
   "cell_type": "code",
   "execution_count": 21,
   "metadata": {},
   "outputs": [
    {
     "data": {
      "text/plain": [
       "[[1, 0, 0, 1], [1, 0, 1, 1], [1, 0, 0, 1]]"
      ]
     },
     "execution_count": 21,
     "metadata": {},
     "output_type": "execute_result"
    }
   ],
   "source": [
    "A"
   ]
  },
  {
   "cell_type": "code",
   "execution_count": 22,
   "metadata": {},
   "outputs": [
    {
     "data": {
      "text/plain": [
       "[1, 0, 0, 1]"
      ]
     },
     "execution_count": 22,
     "metadata": {},
     "output_type": "execute_result"
    }
   ],
   "source": [
    "A[0]"
   ]
  },
  {
   "cell_type": "code",
   "execution_count": null,
   "metadata": {},
   "outputs": [],
   "source": [
    "# 최종변환된 A와 B행렬을 행 기준으로 비교하면서 다른게있으면 -1출력\n",
    "## 행렬 A,B가 동일하면 카운트한 개수 출력\n",
    "\n",
    "flag=0\n",
    "for i in range(N):\n",
    "    if A[i]!=B[i]:\n",
    "        print(-1)\n",
    "        flag=1\n",
    "        break\n",
    "if flag==0:\n",
    "    print(cnt)"
   ]
  },
  {
   "cell_type": "markdown",
   "metadata": {},
   "source": [
    "### 문제풀이 ( 다른사람 코드 참고)\n",
    "* A,B행렬을 서로 다른 변수로 input을 저장한다\n",
    "* 3 x 3행렬로 이동해가면서 전체 행렬값을 다 바꿔주는 함수 생성\n",
    "    * 행렬의 꼭짓점(시작위치) 에 따라 움직여가면서 3 x 3행렬에 해당하는 수 전부를 바꿔줘야함\n",
    "* 값이 달라서 연산을 할때마다 cnt를 1씩 증가시켜준다.\n",
    "    * 이때, 행렬 이동 범위는 3x3행렬이 움직일 수 있는 범위까지 \n",
    "        * 이경우에는 3x3행렬이기때문에 범위가 N-2, M-2인것.\n",
    "* 연산에의해 최종적으로 바뀐 A행렬과 B행렬을 비교\n",
    "    * 행 별로 돌아가면서 비교하고 다르면 -1출력\n",
    "    * 전부 같으면 카운트 횟수(cnt) 출력"
   ]
  },
  {
   "cell_type": "code",
   "execution_count": 31,
   "metadata": {},
   "outputs": [
    {
     "name": "stdout",
     "output_type": "stream",
     "text": [
      "3 4\n",
      "0000\n",
      "0010\n",
      "0000\n",
      "1001\n",
      "1011\n",
      "1001\n",
      "2\n"
     ]
    }
   ],
   "source": [
    "N, M = list(map(int, input().split()))\n",
    "#번환해야할 행렬\n",
    "map_list = [list(map(int, list(input()))) for _ in range(N)]\n",
    "#목표의 행렬\n",
    "wanted_list = [list(map(int, list(input()))) for _ in range(N)]\n",
    "\n",
    "#3x3부분을 다 바꿔주기 위한 함수\n",
    "def changeAll(start_coord, arr):\n",
    "    x, y = start_coord\n",
    "    for i in range(x, x+3):\n",
    "        for j in range(y, y+3):\n",
    "            arr[i][j] = 1 - arr[i][j] \n",
    "\n",
    "cnt = 0 #횟수 세주는 변수\n",
    "#행렬을 초과하지 않게 -2만큼 경계준다.\n",
    "for i in range(0, N-2):\n",
    "    for j in range(0, M-2):\n",
    "        #좌표의 값이 같지 않다면\n",
    "        if map_list[i][j] != wanted_list[i][j]:\n",
    "            cnt += 1\n",
    "            changeAll((i,j), map_list)\n",
    "            \n",
    "#flag = 0일 때는 변환했다는 것이고, 1일때는 변환해도 동치가 불가\n",
    "flag = 0\n",
    "for i in range(N):\n",
    "    if map_list[i] != wanted_list[i]:\n",
    "        print(-1)\n",
    "        flag = 1\n",
    "        break\n",
    "if flag == 0:\n",
    "    print(cnt)"
   ]
  },
  {
   "cell_type": "code",
   "execution_count": null,
   "metadata": {},
   "outputs": [],
   "source": []
  }
 ],
 "metadata": {
  "kernelspec": {
   "display_name": "suhyun2",
   "language": "python",
   "name": "suhyun2"
  },
  "language_info": {
   "codemirror_mode": {
    "name": "ipython",
    "version": 3
   },
   "file_extension": ".py",
   "mimetype": "text/x-python",
   "name": "python",
   "nbconvert_exporter": "python",
   "pygments_lexer": "ipython3",
   "version": "3.6.8"
  }
 },
 "nbformat": 4,
 "nbformat_minor": 2
}
