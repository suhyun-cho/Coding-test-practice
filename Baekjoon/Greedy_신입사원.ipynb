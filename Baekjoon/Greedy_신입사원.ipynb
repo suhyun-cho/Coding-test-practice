{
 "cells": [
  {
   "cell_type": "markdown",
   "metadata": {},
   "source": [
    "## greedy 알고리즘 문제 - 신입사원\n",
    "2020-12-02\n",
    "\n",
    "#### 문제설명\n",
    "다른 모든 지원자와 비교했을 때 서류심사 성적과 면접시험 성적 중 적어도 하나가 다른 지원자보다 떨어지지 않는 자만 선발한다는 원칙을 세웠다. <br>\n",
    "즉, 어떤 지원자 A의 성적이 다른 어떤 지원자 B의 성적에 비해 서류 심사 결과와 면접 성적이 모두 떨어진다면 A는 결코 선발되지 않는다.<br>\n",
    "<br>\n",
    "이러한 조건을 만족시키면서, 진영 주식회사가 이번 신규 사원 채용에서 선발할 수 있는 신입사원의 최대 인원수를 구하는 프로그램을 작성하시오.<br>\n",
    "\n",
    "첫째 줄에는 테스트 케이스의 개수 T(1 ≤ T ≤ 20)가 주어진다. <br>\n",
    "각 테스트 케이스의 첫째 줄에 지원자의 숫자 N(1 ≤ N ≤ 100,000)이 주어진다. <br>\n",
    "둘째 줄부터 N개 줄에는 각각의 지원자의 서류심사 성적, 면접 성적의 순위가 공백을 사이에 두고 한 줄에 주어진다. 두 성적 순위는 모두 1위부터 N위까지 동석차 없이 결정된다고 가정한다."
   ]
  },
  {
   "cell_type": "code",
   "execution_count": 17,
   "metadata": {},
   "outputs": [
    {
     "name": "stdout",
     "output_type": "stream",
     "text": [
      "7\n",
      "3 6\n",
      "7 3\n",
      "4 2\n",
      "1 4\n",
      "5 7\n",
      "2 5\n",
      "6 1\n"
     ]
    }
   ],
   "source": [
    "n=int(input())\n",
    "score=sorted([tuple(map(int, input().split())) for _ in range(n)],key=lambda x: (x[0],x[1]))"
   ]
  },
  {
   "cell_type": "code",
   "execution_count": 18,
   "metadata": {},
   "outputs": [
    {
     "data": {
      "text/plain": [
       "[(1, 4), (2, 5), (3, 6), (4, 2), (5, 7), (6, 1), (7, 3)]"
      ]
     },
     "execution_count": 18,
     "metadata": {},
     "output_type": "execute_result"
    }
   ],
   "source": [
    "# 전체 스코어를 서류 심사 순서대로 나열\n",
    "score"
   ]
  },
  {
   "cell_type": "code",
   "execution_count": 20,
   "metadata": {},
   "outputs": [
    {
     "data": {
      "text/plain": [
       "[4, 5, 6, 2, 7, 1, 3]"
      ]
     },
     "execution_count": 20,
     "metadata": {},
     "output_type": "execute_result"
    }
   ],
   "source": [
    "# 면접순위만 빼온것\n",
    "interview=list(map(lambda x: x[1], score))\n",
    "interview"
   ]
  },
  {
   "cell_type": "code",
   "execution_count": 34,
   "metadata": {},
   "outputs": [
    {
     "data": {
      "text/plain": [
       "[4, 5, 6, 2, 7, 1]"
      ]
     },
     "execution_count": 34,
     "metadata": {},
     "output_type": "execute_result"
    }
   ],
   "source": [
    "interview[:6]"
   ]
  },
  {
   "cell_type": "code",
   "execution_count": 27,
   "metadata": {},
   "outputs": [
    {
     "data": {
      "text/plain": [
       "4"
      ]
     },
     "execution_count": 27,
     "metadata": {},
     "output_type": "execute_result"
    }
   ],
   "source": [
    "min(interview[:3])"
   ]
  },
  {
   "cell_type": "code",
   "execution_count": 25,
   "metadata": {},
   "outputs": [
    {
     "data": {
      "text/plain": [
       "[4, 5, 6, 2, 7, 1, 3]"
      ]
     },
     "execution_count": 25,
     "metadata": {},
     "output_type": "execute_result"
    }
   ],
   "source": [
    "interview[:6]"
   ]
  },
  {
   "cell_type": "markdown",
   "metadata": {},
   "source": [
    "**핵심 코드 정리**"
   ]
  },
  {
   "cell_type": "code",
   "execution_count": 36,
   "metadata": {},
   "outputs": [
    {
     "name": "stdout",
     "output_type": "stream",
     "text": [
      "5\n",
      "3 2\n",
      "1 4\n",
      "4 1\n",
      "2 3\n",
      "5 5\n",
      "4\n"
     ]
    }
   ],
   "source": [
    "n=int(input())\n",
    "score=sorted([tuple(map(int, input().split())) for _ in range(n)],key=lambda x: (x[0],x[1]))\n",
    "interview=list(map(lambda x: x[1], score))\n",
    "\n",
    "cnt=1\n",
    "for i in range(1, len(interview)):   # i=3, i=5\n",
    "    if interview[i] < min(interview[:i]):\n",
    "        cnt+=1\n",
    "print(cnt)"
   ]
  },
  {
   "cell_type": "code",
   "execution_count": 12,
   "metadata": {},
   "outputs": [
    {
     "name": "stdout",
     "output_type": "stream",
     "text": [
      "2 \n",
      "5\n",
      "3 2\n",
      "1 4\n",
      "4 1\n",
      "2 3 \n",
      "5 5\n",
      "4\n",
      "7\n",
      "3 6\n",
      "7 3\n",
      "4 2\n",
      "1 4\n",
      "5 7\n",
      "2 5\n",
      "6 1\n",
      "3\n"
     ]
    }
   ],
   "source": [
    "# import sys 사용하지 않고 했을경우 -> fail !\n",
    "t=int(input())\n",
    "for _ in range(t):  # 테스트케이스 2회를 한번씩 돌면서 수행.\n",
    "    n=int(input())\n",
    "    cv=[list(map(int, input().split())) for _ in range(n)]   # cv=[[3, 6], [7, 3], [4, 2], [1, 4], [5, 7], [2, 5], [6, 1]]\n",
    "    cv.sort(key=lambda x:x[0])   # [[1, 4], [2, 5], [3, 6], [4, 2], [5, 7], [6, 1], [7, 3]]\n",
    "    interview=list(map(lambda x: x[1], cv))  # interview=[4, 5, 6, 2, 7, 1, 3]\n",
    "    \n",
    "    cnt=1\n",
    "    for i in range(1, len(interview)):   # i=1,2,3,4,5,6\n",
    "        if interview[i] < min(interview[:i]):\n",
    "            cnt+=1\n",
    "    print(cnt)"
   ]
  },
  {
   "cell_type": "code",
   "execution_count": 5,
   "metadata": {},
   "outputs": [
    {
     "data": {
      "text/plain": [
       "[[3, 6], [7, 3], [4, 2], [1, 4], [5, 7], [2, 5], [6, 1]]"
      ]
     },
     "execution_count": 5,
     "metadata": {},
     "output_type": "execute_result"
    }
   ],
   "source": [
    "cv"
   ]
  },
  {
   "cell_type": "code",
   "execution_count": 8,
   "metadata": {},
   "outputs": [
    {
     "data": {
      "text/plain": [
       "[[1, 4], [2, 5], [3, 6], [4, 2], [5, 7], [6, 1], [7, 3]]"
      ]
     },
     "execution_count": 8,
     "metadata": {},
     "output_type": "execute_result"
    }
   ],
   "source": [
    "cv_sort=sorted(cv,key=lambda x:x[0])\n",
    "cv_sort"
   ]
  },
  {
   "cell_type": "code",
   "execution_count": 9,
   "metadata": {},
   "outputs": [
    {
     "data": {
      "text/plain": [
       "[4, 5, 6, 2, 7, 1, 3]"
      ]
     },
     "execution_count": 9,
     "metadata": {},
     "output_type": "execute_result"
    }
   ],
   "source": [
    "list(map(lambda x: x[1], cv_sort))"
   ]
  },
  {
   "cell_type": "markdown",
   "metadata": {},
   "source": [
    "-----------------------------------------------------------------\n",
    "### 수현's 최종코드 ---> Success!\n",
    "> * 리스트 슬라이싱으로 서류성적 좋은 앞에학생들의 면접성적을 전부 스캔할경우, 시간초과 에러남\n",
    "    * Solution => 맨앞 학생의 면접성적을 초기값으로두고, grade변수를 만들어서 초기값과 이후 학생의 면접성적중 min값을 grade에 할당하고 이를 반복. \n",
    "        * 뒤로 가면서 면접성적과 그 최소값(grade)이 같을경우 카운트+1<br>\n",
    "\n",
    "> * sys.stdin.readline 안하면 시간초과남"
   ]
  },
  {
   "cell_type": "code",
   "execution_count": null,
   "metadata": {},
   "outputs": [],
   "source": [
    "# import sys사용하면 주피터에서 에러남.\n",
    "import sys\n",
    "input=sys.stdin.readline\n",
    "\n",
    "t=int(input())\n",
    "for _ in range(t):  # 테스트케이스 2회를 한번씩 돌면서 수행.\n",
    "    n=int(input())\n",
    "    cv=[list(map(int, input().split())) for _ in range(n)]   # cv=[[3, 6], [7, 3], [4, 2], [1, 4], [5, 7], [2, 5], [6, 1]]\n",
    "    cv.sort(key=lambda x:x[0])   # [[1, 4], [2, 5], [3, 6], [4, 2], [5, 7], [6, 1], [7, 3]]\n",
    "    interview=list(map(lambda x: x[1], cv))  # interview=[4, 5, 6, 2, 7, 1, 3]\n",
    "    \n",
    "    cnt=1\n",
    "    grade=interview[0]\n",
    "    for i in range(1, len(interview)):   # i=1,2,3,4,5,6\n",
    "        grade=min(grade, interview[i])\n",
    "        if grade==interview[i]:\n",
    "            cnt+=1\n",
    "    print(cnt)"
   ]
  },
  {
   "cell_type": "markdown",
   "metadata": {},
   "source": [
    "#### 다른사람 코드"
   ]
  },
  {
   "cell_type": "code",
   "execution_count": null,
   "metadata": {},
   "outputs": [],
   "source": [
    "import sys\n",
    "input=sys.stdin.readline\n",
    "\n",
    "t=int(input())\n",
    "for _ in range(t):\n",
    "    n=int(input())\n",
    "    cv=[list(map(int, input().split())) for _ in range(n)]\n",
    "    cv.sort(key=lambda x: x[0])\n",
    "    interview=[cv[i][1] for i in range(n)]\n",
    "    \n",
    "    res=1\n",
    "    grade=interview[0]\n",
    "    for i in range(1,n):\n",
    "        grade=min(grade, interview[i])\n",
    "        if grade==interview[i]:\n",
    "            res+=1\n",
    "    print(res)"
   ]
  },
  {
   "cell_type": "code",
   "execution_count": 16,
   "metadata": {},
   "outputs": [
    {
     "data": {
      "text/plain": [
       "[[1, 4], [2, 5], [3, 6], [4, 2], [5, 7], [6, 1], [7, 3]]"
      ]
     },
     "execution_count": 16,
     "metadata": {},
     "output_type": "execute_result"
    }
   ],
   "source": [
    "cv"
   ]
  },
  {
   "cell_type": "code",
   "execution_count": 18,
   "metadata": {},
   "outputs": [
    {
     "data": {
      "text/plain": [
       "[4, 5, 6, 2, 7, 1, 3]"
      ]
     },
     "execution_count": 18,
     "metadata": {},
     "output_type": "execute_result"
    }
   ],
   "source": [
    "interview2=[cv[i][1] for i in range(7)]\n",
    "interview2"
   ]
  },
  {
   "cell_type": "code",
   "execution_count": 20,
   "metadata": {},
   "outputs": [
    {
     "data": {
      "text/plain": [
       "4"
      ]
     },
     "execution_count": 20,
     "metadata": {},
     "output_type": "execute_result"
    }
   ],
   "source": [
    "grade=interview2[0]\n",
    "grade"
   ]
  },
  {
   "cell_type": "code",
   "execution_count": 23,
   "metadata": {},
   "outputs": [
    {
     "data": {
      "text/plain": [
       "2"
      ]
     },
     "execution_count": 23,
     "metadata": {},
     "output_type": "execute_result"
    }
   ],
   "source": [
    "min(grade, interview[3])"
   ]
  },
  {
   "cell_type": "markdown",
   "metadata": {},
   "source": [
    "## input() 과 sys.stdin.readline 비교\n",
    "* input()\n",
    "    * input()은 사용자의 입력을 받고 → 문자열로 변환 → 추가 strip 진행 의 과정을 거치는 것이다. \n",
    "    * input()은 사용자로부터 입력을 받기 전 이를 기다리기 위해 prompt를 가지고 있다. <br>\n",
    "    때문에 대량의 입력을 받는 경우라면 입력을 받고 prompt를 띄우고 의 과정을 반복하므로 오류가 발생할 가능성이 존재한다. <br>\n",
    "<br>\n",
    "* sys.stdin.readline\n",
    "    * sys.stdin.readline()은 사용자의 입력을 받지만 개행 문자도 입력을 받을 수 있다. 또한 입력 크기에 제한을 줌으로써 한번에 읽어들일 문자의 수를 정할 수 있다.\n",
    "    * input()과 가장 큰 차이점은 input() 은 내장 함수로 취급되는 반면 sys 에 속하는 메소드들은 file object로 취급된다. 즉, 사용자의 입력만을 받는 buffer를 하나 만들어 그 buffer에서 읽어들이는 것이다."
   ]
  },
  {
   "cell_type": "code",
   "execution_count": null,
   "metadata": {},
   "outputs": [],
   "source": []
  },
  {
   "cell_type": "code",
   "execution_count": null,
   "metadata": {},
   "outputs": [],
   "source": []
  },
  {
   "cell_type": "code",
   "execution_count": null,
   "metadata": {},
   "outputs": [],
   "source": []
  },
  {
   "cell_type": "code",
   "execution_count": null,
   "metadata": {},
   "outputs": [],
   "source": []
  }
 ],
 "metadata": {
  "kernelspec": {
   "display_name": "suhyun2",
   "language": "python",
   "name": "suhyun2"
  },
  "language_info": {
   "codemirror_mode": {
    "name": "ipython",
    "version": 3
   },
   "file_extension": ".py",
   "mimetype": "text/x-python",
   "name": "python",
   "nbconvert_exporter": "python",
   "pygments_lexer": "ipython3",
   "version": "3.6.8"
  }
 },
 "nbformat": 4,
 "nbformat_minor": 2
}
