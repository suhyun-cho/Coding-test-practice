{
 "cells": [
  {
   "cell_type": "markdown",
   "metadata": {},
   "source": [
    "### python algorithmn\n"
   ]
  },
  {
   "cell_type": "markdown",
   "metadata": {},
   "source": [
    "https://stackoverflow.com/questions/51146399/python-playlist-solution-how-to-finish-is-repeating-playlist-function/51146455"
   ]
  },
  {
   "cell_type": "markdown",
   "metadata": {},
   "source": [
    "### 문제1) repeating playlist"
   ]
  },
  {
   "cell_type": "code",
   "execution_count": 1,
   "metadata": {},
   "outputs": [
    {
     "name": "stdout",
     "output_type": "stream",
     "text": [
      "None\n"
     ]
    }
   ],
   "source": [
    "class Song:\n",
    "    def __init__(self, name):\n",
    "        self.name = name\n",
    "        self.next = None\n",
    "\n",
    "    def next_song(self, song):\n",
    "        self.next = song \n",
    "    \n",
    "    def is_repeating_playlist(self):\n",
    "        \"\"\"\n",
    "        :returns: (bool) True if the playlist is repeating, False if not.\n",
    "        \"\"\"\n",
    "        return None\n",
    "            \n",
    "first = Song(\"Hello\")\n",
    "second = Song(\"Eye of the tiger\")\n",
    "    \n",
    "first.next_song(second)\n",
    "second.next_song(first)\n",
    "    \n",
    "print(first.is_repeating_playlist())"
   ]
  },
  {
   "cell_type": "code",
   "execution_count": 9,
   "metadata": {},
   "outputs": [
    {
     "data": {
      "text/plain": [
       "<__main__.Song at 0x10a5efcc0>"
      ]
     },
     "execution_count": 9,
     "metadata": {},
     "output_type": "execute_result"
    }
   ],
   "source": [
    "first = Song(\"Hello\")\n",
    "second = Song(\"Eye of the tiger\")\n",
    "\n",
    "songs_in_playlist=set()\n",
    "current_song=first\n",
    "current_song"
   ]
  },
  {
   "cell_type": "code",
   "execution_count": 23,
   "metadata": {},
   "outputs": [
    {
     "data": {
      "text/plain": [
       "{'Hello'}"
      ]
     },
     "execution_count": 23,
     "metadata": {},
     "output_type": "execute_result"
    }
   ],
   "source": [
    "n=\"Hello\"\n",
    "x=set()\n",
    "x.add(n)\n",
    "x"
   ]
  },
  {
   "cell_type": "code",
   "execution_count": 43,
   "metadata": {},
   "outputs": [],
   "source": [
    "def is_repeating_playlist(self):\n",
    "    n = self\n",
    "    x = set()\n",
    "    while n is not None:\n",
    "        x.add(n)\n",
    "        n = n.next\n",
    "        if n in x:\n",
    "            return True\n",
    "    return False"
   ]
  },
  {
   "cell_type": "markdown",
   "metadata": {},
   "source": [
    "### 문제2)  find_two_sum\n",
    "* 주어진 numbers 리스트에서 두개의 숫자 합이 target_sum과 같을때, 그 두 숫자의 index를 return\n",
    "* 결과가 (0,3), (1,5), (2,4) 여러개일경우 처음 일치하는 (0,3) 만 return"
   ]
  },
  {
   "cell_type": "code",
   "execution_count": null,
   "metadata": {},
   "outputs": [],
   "source": [
    "def find_two_sum(numbers, target_sum):\n",
    "    \"\"\"\n",
    "    :param numbers: (list of ints) The list of numbers.\n",
    "    :param target_sum: (int) The required target sum.\n",
    "    :returns: (a tuple of 2 ints) The indices of the two elements whose sum is equal to target_sum\n",
    "    \"\"\"\n",
    "    return None\n",
    "\n",
    "if __name__ == \"__main__\":\n",
    "    print(find_two_sum([3, 1, 5, 7, 5, 9], 10))"
   ]
  },
  {
   "cell_type": "code",
   "execution_count": 34,
   "metadata": {},
   "outputs": [
    {
     "name": "stdout",
     "output_type": "stream",
     "text": [
      "3 0\n",
      "4 2\n",
      "5 1\n",
      "None\n"
     ]
    }
   ],
   "source": [
    "numbers=[3,1,5,7,5,9]   # return= (0,3),(1,5),(2,4)\n",
    "target_sum=10\n",
    "\n",
    "taken={}\n",
    "for i,num in enumerate(numbers) :\n",
    "    diff=target_sum-num\n",
    "    if diff in taken:   # 딕셔너리의 key값 기준으로 있는지 없는지 판단\n",
    "        print( i, taken[diff])\n",
    "    taken[num]=i\n",
    "print('None')\n"
   ]
  },
  {
   "cell_type": "code",
   "execution_count": 35,
   "metadata": {},
   "outputs": [],
   "source": [
    "numbers=[3,1,5,7,5,9] \n",
    "target_sum=10\n",
    "\n",
    "taken={}\n",
    "for i, num in enumerate(numbers):\n",
    "    diff=target_sum-num\n",
    "    if diff in taken:\n",
    "        print( i, taken[diff] )\n",
    "    taken[num]=i"
   ]
  },
  {
   "cell_type": "code",
   "execution_count": 36,
   "metadata": {},
   "outputs": [
    {
     "data": {
      "text/plain": [
       "{3: 0, 1: 1, 5: 4, 7: 3, 9: 5}"
      ]
     },
     "execution_count": 36,
     "metadata": {},
     "output_type": "execute_result"
    }
   ],
   "source": [
    "taken"
   ]
  },
  {
   "cell_type": "code",
   "execution_count": 41,
   "metadata": {},
   "outputs": [],
   "source": [
    "# 최종 결과\n",
    "def find_two_sum(numbers, target_sum):\n",
    "    taken = {}\n",
    "    for i, num in enumerate(numbers):\n",
    "        diff = target_sum - num\n",
    "        if diff in taken:\n",
    "            return i, taken[diff]\n",
    "        taken[num] = i\n",
    "    return None"
   ]
  },
  {
   "cell_type": "code",
   "execution_count": 42,
   "metadata": {},
   "outputs": [
    {
     "data": {
      "text/plain": [
       "(3, 0)"
      ]
     },
     "execution_count": 42,
     "metadata": {},
     "output_type": "execute_result"
    }
   ],
   "source": [
    "# 일치하는게 있을경우 바로 출력하기때문에 모든 경우를 다 출력하지 않음.\n",
    "find_two_sum(numbers,target_sum)"
   ]
  },
  {
   "cell_type": "code",
   "execution_count": null,
   "metadata": {},
   "outputs": [],
   "source": []
  },
  {
   "cell_type": "code",
   "execution_count": null,
   "metadata": {},
   "outputs": [],
   "source": []
  },
  {
   "cell_type": "code",
   "execution_count": null,
   "metadata": {},
   "outputs": [],
   "source": []
  },
  {
   "cell_type": "code",
   "execution_count": null,
   "metadata": {},
   "outputs": [],
   "source": []
  }
 ],
 "metadata": {
  "kernelspec": {
   "display_name": "suhyun2",
   "language": "python",
   "name": "suhyun2"
  },
  "language_info": {
   "codemirror_mode": {
    "name": "ipython",
    "version": 3
   },
   "file_extension": ".py",
   "mimetype": "text/x-python",
   "name": "python",
   "nbconvert_exporter": "python",
   "pygments_lexer": "ipython3",
   "version": "3.6.8"
  }
 },
 "nbformat": 4,
 "nbformat_minor": 2
}
