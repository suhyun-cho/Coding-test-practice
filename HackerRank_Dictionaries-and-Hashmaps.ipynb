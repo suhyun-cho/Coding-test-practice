{
 "cells": [
  {
   "cell_type": "markdown",
   "metadata": {},
   "source": [
    "# Hacker Rank_Dictionaries and Hashmaps\n",
    "https://www.hackerrank.com/challenges/ctci-ransom-note/problem?h_l=interview&playlist_slugs%5B%5D=interview-preparation-kit&playlist_slugs%5B%5D=dictionaries-hashmaps\n",
    "\n",
    "### Contents\n",
    "1. Hash Tables: Ransom Note"
   ]
  },
  {
   "cell_type": "markdown",
   "metadata": {},
   "source": [
    "------------------------------------------------------------------------\n",
    "## 문제1. Hash Tables: Ransom Note\n",
    "\n",
    "#### 문제설명\n",
    "> 그는 그가 필요한 단어를 만들기위해 substring이나 concatenation을 사용할수 없다. <br>\n",
    "만약 그가 magazine에 있는 모든 단어를 사용해서 그의 ransom note를 정확하게 복제할수있으면 Yes를 프린트하라. 그게 아니면 No를 프린트하라.<br>\n",
    "예를들어, note가 \"Attack at dawn\" 이고, magazine은 \"attack at dawn\"만 포함하고 있다. magazine은 모든 단어를 갖고있지만, mismatch한 경우도 있기 때문에 답은 No이다.\n",
    "\n",
    "> 그의 ransom note의 추적할수 없는 복제본을 만들기위해 magazine을 사용할수 있으면 Yes를 프린트하고,아니면 No 를 프린트하라.\n",
    "\n",
    "> * sample input 1\n",
    "    * 6  4\n",
    "    * megazine : give me one grand today night\n",
    "    * note : give one grand today\n",
    "> * sample output 1\n",
    "    * Yes\n",
    "        * note의 모든 단어들이 megazine에 포함되어 있으므로 Yes 출력.\n",
    "    \n",
    "    \n",
    "> * sample input 2\n",
    "    * 6  5 \n",
    "    * megazine : two times three is not four\n",
    "    * note : two times two is four\n",
    "> * sample output2\n",
    "    * No\n",
    "        * note의 단어중 'two' 가 megazine에 없으므로, 모든 단어를 포함하고 있지 않아서 No 출력."
   ]
  },
  {
   "cell_type": "markdown",
   "metadata": {},
   "source": [
    "#### example of 'No'"
   ]
  },
  {
   "cell_type": "code",
   "execution_count": 199,
   "metadata": {},
   "outputs": [],
   "source": [
    "magazine = 'two times three is not four'\n",
    "note = 'two times two is four'"
   ]
  },
  {
   "cell_type": "code",
   "execution_count": 200,
   "metadata": {},
   "outputs": [
    {
     "data": {
      "text/plain": [
       "'two times three is not four'"
      ]
     },
     "execution_count": 200,
     "metadata": {},
     "output_type": "execute_result"
    }
   ],
   "source": [
    "magazine"
   ]
  },
  {
   "cell_type": "code",
   "execution_count": 201,
   "metadata": {},
   "outputs": [
    {
     "data": {
      "text/plain": [
       "['two', 'times', 'three', 'is', 'not', 'four']"
      ]
     },
     "execution_count": 201,
     "metadata": {},
     "output_type": "execute_result"
    }
   ],
   "source": [
    "# 띄어쓰기 기준으로 단어를 언더바로 연결 후 split하여 단어 분리.\n",
    "mag_list=magazine.replace(\" \",\"_\").split('_')\n",
    "mag_list"
   ]
  },
  {
   "cell_type": "code",
   "execution_count": 202,
   "metadata": {},
   "outputs": [
    {
     "data": {
      "text/plain": [
       "['two', 'times', 'two', 'is', 'four']"
      ]
     },
     "execution_count": 202,
     "metadata": {},
     "output_type": "execute_result"
    }
   ],
   "source": [
    "note_list=note.replace(\" \",\"_\").split('_')\n",
    "note_list"
   ]
  },
  {
   "cell_type": "code",
   "execution_count": 203,
   "metadata": {},
   "outputs": [],
   "source": [
    "from collections import Counter"
   ]
  },
  {
   "cell_type": "code",
   "execution_count": 204,
   "metadata": {},
   "outputs": [
    {
     "data": {
      "text/plain": [
       "Counter({'two': 1, 'times': 1, 'three': 1, 'is': 1, 'not': 1, 'four': 1})"
      ]
     },
     "execution_count": 204,
     "metadata": {},
     "output_type": "execute_result"
    }
   ],
   "source": [
    "Counter(mag_list)"
   ]
  },
  {
   "cell_type": "code",
   "execution_count": 205,
   "metadata": {},
   "outputs": [
    {
     "data": {
      "text/plain": [
       "Counter({'two': 2, 'times': 1, 'is': 1, 'four': 1})"
      ]
     },
     "execution_count": 205,
     "metadata": {},
     "output_type": "execute_result"
    }
   ],
   "source": [
    "Counter(note_list)"
   ]
  },
  {
   "cell_type": "code",
   "execution_count": 206,
   "metadata": {},
   "outputs": [
    {
     "data": {
      "text/plain": [
       "Counter({'two': 1})"
      ]
     },
     "execution_count": 206,
     "metadata": {},
     "output_type": "execute_result"
    }
   ],
   "source": [
    "Counter(note_list)-Counter(mag_list) "
   ]
  },
  {
   "cell_type": "code",
   "execution_count": 207,
   "metadata": {},
   "outputs": [
    {
     "data": {
      "text/plain": [
       "True"
      ]
     },
     "execution_count": 207,
     "metadata": {},
     "output_type": "execute_result"
    }
   ],
   "source": [
    "# bool연산은  안비었으면 True\n",
    "### True 이면 No 출력. False이면 Yes 출력.\n",
    "bool(Counter(note_list)-Counter(mag_list))"
   ]
  },
  {
   "cell_type": "markdown",
   "metadata": {},
   "source": [
    "#### example of 'Yes'"
   ]
  },
  {
   "cell_type": "code",
   "execution_count": 208,
   "metadata": {},
   "outputs": [],
   "source": [
    "magazine2='give me one grand today night'\n",
    "note2='give one grand today'"
   ]
  },
  {
   "cell_type": "code",
   "execution_count": 209,
   "metadata": {},
   "outputs": [
    {
     "data": {
      "text/plain": [
       "Counter()"
      ]
     },
     "execution_count": 209,
     "metadata": {},
     "output_type": "execute_result"
    }
   ],
   "source": [
    "mag2_list=magazine2.replace(\" \",\"_\").split('_')\n",
    "note2_list=note2.replace(\" \",\"_\").split('_')\n",
    "(Counter(note2_list)-Counter(mag2_list))"
   ]
  },
  {
   "cell_type": "code",
   "execution_count": 210,
   "metadata": {},
   "outputs": [
    {
     "data": {
      "text/plain": [
       "False"
      ]
     },
     "execution_count": 210,
     "metadata": {},
     "output_type": "execute_result"
    }
   ],
   "source": [
    "# bool연산은 비었으면 False , 안비었으면 True\n",
    "bool(Counter(note2_list)-Counter(mag2_list))"
   ]
  },
  {
   "cell_type": "markdown",
   "metadata": {},
   "source": [
    "#### 함수만들기 - my code"
   ]
  },
  {
   "cell_type": "code",
   "execution_count": 6,
   "metadata": {},
   "outputs": [],
   "source": [
    "# False => Yes\n",
    "magazine='give me one grand today night'\n",
    "note='give one grand today'"
   ]
  },
  {
   "cell_type": "code",
   "execution_count": 212,
   "metadata": {},
   "outputs": [],
   "source": [
    "# True => No\n",
    "magazine = 'two times three is not four'\n",
    "note = 'two times two is four'"
   ]
  },
  {
   "cell_type": "code",
   "execution_count": 228,
   "metadata": {},
   "outputs": [],
   "source": [
    "magazine='ive got a lovely bunch of coconuts'\n",
    "note='ive got some coconuts'"
   ]
  },
  {
   "cell_type": "code",
   "execution_count": 7,
   "metadata": {},
   "outputs": [],
   "source": [
    "# run time error.\n",
    "from collections import Counter\n",
    "\n",
    "def checkMagazine(magazine, note):\n",
    "    magazine_list=magazine.replace(\" \",\"_\").split('_')\n",
    "    note_list=note.replace(\" \",\"_\").split('_')\n",
    "    answer=bool(Counter(note_list)-Counter(magazine_list))\n",
    "    if answer ==True:\n",
    "        return 'No'\n",
    "    else:\n",
    "        return 'Yes'"
   ]
  },
  {
   "cell_type": "code",
   "execution_count": 8,
   "metadata": {},
   "outputs": [
    {
     "data": {
      "text/plain": [
       "'Yes'"
      ]
     },
     "execution_count": 8,
     "metadata": {},
     "output_type": "execute_result"
    }
   ],
   "source": [
    "checkMagazine(magazine, note)"
   ]
  },
  {
   "cell_type": "code",
   "execution_count": 195,
   "metadata": {},
   "outputs": [],
   "source": [
    "def checkMagazine(magazine, note):\n",
    "    if set(magazine.split()) & set(note.split()) == set(note.split()) :\n",
    "            return 'yes'\n",
    "    else :\n",
    "        return 'no'"
   ]
  },
  {
   "cell_type": "code",
   "execution_count": 196,
   "metadata": {},
   "outputs": [
    {
     "data": {
      "text/plain": [
       "'yes'"
      ]
     },
     "execution_count": 196,
     "metadata": {},
     "output_type": "execute_result"
    }
   ],
   "source": [
    "checkMagazine(megazine,note)"
   ]
  },
  {
   "cell_type": "markdown",
   "metadata": {},
   "source": [
    "### (1) 다른사람 코드\n",
    "* Counter 결과에 len 사용해서 0일때 True인지 False인지 구분."
   ]
  },
  {
   "cell_type": "code",
   "execution_count": 2,
   "metadata": {},
   "outputs": [
    {
     "name": "stdout",
     "output_type": "stream",
     "text": [
      "6 4\n"
     ]
    }
   ],
   "source": [
    "mn=input().split()"
   ]
  },
  {
   "cell_type": "code",
   "execution_count": 5,
   "metadata": {},
   "outputs": [
    {
     "data": {
      "text/plain": [
       "6"
      ]
     },
     "execution_count": 5,
     "metadata": {},
     "output_type": "execute_result"
    }
   ],
   "source": [
    "int(mn[0])"
   ]
  },
  {
   "cell_type": "code",
   "execution_count": 215,
   "metadata": {},
   "outputs": [],
   "source": [
    "# run time error.\n",
    "from collections import Counter\n",
    "\n",
    "def checkMagazine(magazine, note):\n",
    "    result=len(Counter(note)- Counter(magazine))==0\n",
    "    if result==True:\n",
    "        return 'Yes'\n",
    "    else:\n",
    "        return 'No'"
   ]
  },
  {
   "cell_type": "code",
   "execution_count": 216,
   "metadata": {},
   "outputs": [
    {
     "data": {
      "text/plain": [
       "'No'"
      ]
     },
     "execution_count": 216,
     "metadata": {},
     "output_type": "execute_result"
    }
   ],
   "source": [
    "checkMagazine(magazine,note)"
   ]
  },
  {
   "cell_type": "code",
   "execution_count": 195,
   "metadata": {},
   "outputs": [],
   "source": [
    "def checkMagazine(magazine, note):\n",
    "    if set(magazine.split()) & set(note.split()) == set(note.split()) :\n",
    "            return 'yes'\n",
    "    else :\n",
    "        return 'no'"
   ]
  },
  {
   "cell_type": "code",
   "execution_count": 196,
   "metadata": {},
   "outputs": [
    {
     "data": {
      "text/plain": [
       "'yes'"
      ]
     },
     "execution_count": 196,
     "metadata": {},
     "output_type": "execute_result"
    }
   ],
   "source": [
    "checkMagazine(megazine,note)"
   ]
  },
  {
   "cell_type": "markdown",
   "metadata": {},
   "source": [
    "#### input( ) 값"
   ]
  },
  {
   "cell_type": "code",
   "execution_count": 153,
   "metadata": {},
   "outputs": [
    {
     "name": "stdout",
     "output_type": "stream",
     "text": [
      "two times three is not four\n"
     ]
    },
    {
     "data": {
      "text/plain": [
       "['two', 'times', 'three', 'is', 'not', 'four']"
      ]
     },
     "execution_count": 153,
     "metadata": {},
     "output_type": "execute_result"
    }
   ],
   "source": [
    "magazine = input().rstrip().split()\n",
    "magazine"
   ]
  },
  {
   "cell_type": "code",
   "execution_count": 219,
   "metadata": {},
   "outputs": [
    {
     "name": "stdout",
     "output_type": "stream",
     "text": [
      "two times three is not four\n"
     ]
    }
   ],
   "source": [
    "mn=input().split()"
   ]
  },
  {
   "cell_type": "code",
   "execution_count": 227,
   "metadata": {},
   "outputs": [
    {
     "data": {
      "text/plain": [
       "6"
      ]
     },
     "execution_count": 227,
     "metadata": {},
     "output_type": "execute_result"
    }
   ],
   "source": [
    "len(mn)"
   ]
  },
  {
   "cell_type": "markdown",
   "metadata": {},
   "source": [
    "### (2) 다른사람 코드\n",
    "https://somjang.tistory.com/entry/HackerRank-Hash-Tables-Ransom-Note-Python?category=351755\n",
    "* 딕셔너리(dictionary) 활용법"
   ]
  },
  {
   "cell_type": "code",
   "execution_count": 69,
   "metadata": {},
   "outputs": [],
   "source": [
    "# False => Yes\n",
    "magazine='give me one grand today night'\n",
    "note='give one grand today'"
   ]
  },
  {
   "cell_type": "code",
   "execution_count": 14,
   "metadata": {},
   "outputs": [
    {
     "data": {
      "text/plain": [
       "29"
      ]
     },
     "execution_count": 14,
     "metadata": {},
     "output_type": "execute_result"
    }
   ],
   "source": [
    "len(magazine)"
   ]
  },
  {
   "cell_type": "code",
   "execution_count": 70,
   "metadata": {},
   "outputs": [
    {
     "data": {
      "text/plain": [
       "{}"
      ]
     },
     "execution_count": 70,
     "metadata": {},
     "output_type": "execute_result"
    }
   ],
   "source": [
    "# 딕셔너리 만들기.\n",
    "magazine_dic={}\n",
    "magazine_dic"
   ]
  },
  {
   "cell_type": "code",
   "execution_count": 80,
   "metadata": {},
   "outputs": [
    {
     "data": {
      "text/plain": [
       "'e'"
      ]
     },
     "execution_count": 80,
     "metadata": {},
     "output_type": "execute_result"
    }
   ],
   "source": [
    "# 특정 위치 값 가져오기\n",
    "note[3]"
   ]
  },
  {
   "cell_type": "code",
   "execution_count": 81,
   "metadata": {},
   "outputs": [],
   "source": [
    "#딕셔너리에 key, value를 할당.\n",
    "magazine_dic[note[3]]=1"
   ]
  },
  {
   "cell_type": "code",
   "execution_count": 84,
   "metadata": {},
   "outputs": [],
   "source": [
    "# 딕셔너리에서 해당 키의 value값 업데이트.\n",
    "magazine_dic[note[3]]=magazine_dic[note[3]]+1"
   ]
  },
  {
   "cell_type": "code",
   "execution_count": 85,
   "metadata": {},
   "outputs": [
    {
     "data": {
      "text/plain": [
       "{'g': 1, 'i': 1, 'v': 1, 'e': 2}"
      ]
     },
     "execution_count": 85,
     "metadata": {},
     "output_type": "execute_result"
    }
   ],
   "source": [
    "magazine_dic"
   ]
  },
  {
   "cell_type": "code",
   "execution_count": 86,
   "metadata": {},
   "outputs": [
    {
     "data": {
      "text/plain": [
       "dict_keys(['g', 'i', 'v', 'e'])"
      ]
     },
     "execution_count": 86,
     "metadata": {},
     "output_type": "execute_result"
    }
   ],
   "source": [
    "magazine_dic.keys()"
   ]
  },
  {
   "cell_type": "code",
   "execution_count": 87,
   "metadata": {},
   "outputs": [
    {
     "data": {
      "text/plain": [
       "dict_values([1, 1, 1, 2])"
      ]
     },
     "execution_count": 87,
     "metadata": {},
     "output_type": "execute_result"
    }
   ],
   "source": [
    "magazine_dic.values()"
   ]
  },
  {
   "cell_type": "code",
   "execution_count": 259,
   "metadata": {},
   "outputs": [],
   "source": [
    "def checkMagazine(magazine, note): \n",
    "    answer = 'Yes' \n",
    "    magazine_dic = {} \n",
    "\n",
    "    for i in range(len(magazine)):   # i= 0~28\n",
    "        if magazine[i] not in magazine_dic.keys(): \n",
    "            magazine_dic[magazine[i]] = 1 \n",
    "        else: \n",
    "            magazine_dic[magazine[i]] = magazine_dic[magazine[i]] + 1 \n",
    "\n",
    "    for i in range(len(note)): \n",
    "        if note[i] not in magazine_dic.keys(): \n",
    "            answer = 'No' \n",
    "            break \n",
    "        else: \n",
    "            magazine_dic[note[i]] = magazine_dic[note[i]] - 1 \n",
    "        \n",
    "            if magazine_dic[note[i]] < 0: \n",
    "                answer = \"No\" \n",
    "                break \n",
    "    return answer"
   ]
  },
  {
   "cell_type": "code",
   "execution_count": 261,
   "metadata": {},
   "outputs": [
    {
     "data": {
      "text/plain": [
       "'Yes'"
      ]
     },
     "execution_count": 261,
     "metadata": {},
     "output_type": "execute_result"
    }
   ],
   "source": [
    "checkMagazine(magazine,note)"
   ]
  },
  {
   "cell_type": "code",
   "execution_count": 89,
   "metadata": {},
   "outputs": [
    {
     "name": "stdout",
     "output_type": "stream",
     "text": [
      "Yes\n"
     ]
    }
   ],
   "source": [
    "# 위의 함수 과정 상세풀이.\n",
    "answer='Yes'\n",
    "magazine_dic={}\n",
    "\n",
    "# magazine의 값에 하나씩 접근해서 \n",
    "## magazine에 있는 알파벳을 key로하고, 알파벳 개수를 value로한 딕셔너리 만들어주는 과정.\n",
    "for i in range(len(magazine)):\n",
    "    if magazine[i] not in magazine_dic.keys():\n",
    "        magazine_dic[magazine[i]]=1\n",
    "    else:\n",
    "        magazine_dic[magazine[i]]=magazine_dic[magazine[i]]+1\n",
    "\n",
    "# note의 값에 하나씩 접근해서 magazine의 key에 있는 값인지 확인하는 과정.\n",
    "for i in range(len(note)):\n",
    "    if note[i] not in magazine_dic.keys():   # note의 알파벳이 magazine키에 없을 경우,\n",
    "        answer='No'\n",
    "        break\n",
    "    else:             # note의 알파벳이 magazine키에 있을경우,\n",
    "        magazine_dic[note[i]]=magazine_dic[note[i]]-1   # magazine딕셔너리에 해당 알파벳 개수 -1\n",
    "        if magazine_dic[note[i]]<0:    # note에 있는 알파벳개수가 magazine에있는 알파벳 개수보다 크면 No출력.\n",
    "            answer='No'\n",
    "            break\n",
    "print(answer)   # 위에 해당되는게 없으면 Yes 출력."
   ]
  },
  {
   "cell_type": "code",
   "execution_count": null,
   "metadata": {},
   "outputs": [],
   "source": []
  }
 ],
 "metadata": {
  "kernelspec": {
   "display_name": "suhyun2",
   "language": "python",
   "name": "suhyun2"
  },
  "language_info": {
   "codemirror_mode": {
    "name": "ipython",
    "version": 3
   },
   "file_extension": ".py",
   "mimetype": "text/x-python",
   "name": "python",
   "nbconvert_exporter": "python",
   "pygments_lexer": "ipython3",
   "version": "3.6.8"
  }
 },
 "nbformat": 4,
 "nbformat_minor": 2
}
