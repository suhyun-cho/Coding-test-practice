{
 "cells": [
  {
   "cell_type": "markdown",
   "metadata": {},
   "source": [
    "## 2016년\n",
    "\n",
    "#### 문제 설명\n",
    "2016년 1월 1일은 금요일입니다. 2016년 a월 b일은 무슨 요일일까요? <br>\n",
    "두 수 a ,b를 입력받아 2016년 a월 b일이 무슨 요일인지 리턴하는 함수, solution을 완성하세요. <br>\n",
    "요일의 이름은 일요일부터 토요일까지 각각 SUN,MON,TUE,WED,THU,FRI,SAT\n",
    "<br>\n",
    "\n",
    "*나의풀이는 실패..ㅠㅠ*\n"
   ]
  },
  {
   "cell_type": "markdown",
   "metadata": {},
   "source": [
    "#### 다른사람 풀이 (1)\n",
    "* 매달 31,30,29로 다르게 끝나므로 이전달의 날짜를 반영하기위해 리스트에 값을 저장해둠\n",
    "* day는 index가 1일때 금요일로 나오게 설정"
   ]
  },
  {
   "cell_type": "markdown",
   "metadata": {},
   "source": [
    "a=1, b=1 -> daty[1] , i=(0+1)%7  <br>\n",
    "a=1, b=2 -> day[2] , i=(0+2)%7<br>\n",
    "a=1, b=31 -> day[3] , i=(0+31)%7<br>\n",
    "<br>\n",
    "a=2, b=1 ->day[4] , i=(31+1)%7<br>\n",
    "a=2, b=2 -> day[5] , i=(31+2)%7<br>\n",
    "<br>\n",
    "a=3, b=1 ->day[5], i=(31+29+1)%7<br>\n",
    "<br>\n",
    "a=4, b=1 -> day[1], i=(31+29+31+1)%7<br>"
   ]
  },
  {
   "cell_type": "code",
   "execution_count": 24,
   "metadata": {},
   "outputs": [],
   "source": [
    "day=['THU','FRI','SAT','SUN','MON','TUE','WED']\n",
    "mon= [31, 29, 31, 30, 31, 30 , 31, 31, 30, 31, 30, 31] "
   ]
  },
  {
   "cell_type": "code",
   "execution_count": 34,
   "metadata": {},
   "outputs": [
    {
     "data": {
      "text/plain": [
       "[31]"
      ]
     },
     "execution_count": 34,
     "metadata": {},
     "output_type": "execute_result"
    }
   ],
   "source": [
    "mon[:1]"
   ]
  },
  {
   "cell_type": "code",
   "execution_count": 36,
   "metadata": {},
   "outputs": [
    {
     "data": {
      "text/plain": [
       "'TUE'"
      ]
     },
     "execution_count": 36,
     "metadata": {},
     "output_type": "execute_result"
    }
   ],
   "source": [
    "a=5\n",
    "b=24\n",
    "day[(sum(mon[:a-1])+b)%7]"
   ]
  },
  {
   "cell_type": "code",
   "execution_count": 37,
   "metadata": {},
   "outputs": [],
   "source": [
    "# 함수만들기\n",
    "def soluion(a,b):\n",
    "    answer=day[(sum(mon[:a-1])+b)%7]\n",
    "    return answer"
   ]
  },
  {
   "cell_type": "code",
   "execution_count": 38,
   "metadata": {},
   "outputs": [
    {
     "data": {
      "text/plain": [
       "'TUE'"
      ]
     },
     "execution_count": 38,
     "metadata": {},
     "output_type": "execute_result"
    }
   ],
   "source": [
    "# 함수 결과 확인\n",
    "soluion(5,24)"
   ]
  },
  {
   "cell_type": "markdown",
   "metadata": {},
   "source": [
    "#### 다른사람 풀이(2)\n",
    "* datetime, weekday() 함수 활용\n",
    "    * weekday -> 요일을 반환함. 월요일은 0, 일요일은 6"
   ]
  },
  {
   "cell_type": "code",
   "execution_count": 49,
   "metadata": {},
   "outputs": [
    {
     "name": "stdout",
     "output_type": "stream",
     "text": [
      "요일 :  ['MON', 'TUE', 'WED', 'THU', 'FRI', 'SAT', 'SUN']\n",
      "요일 index 반환  [4]\n"
     ]
    },
    {
     "data": {
      "text/plain": [
       "'FRI'"
      ]
     },
     "execution_count": 49,
     "metadata": {},
     "output_type": "execute_result"
    }
   ],
   "source": [
    "import datetime\n",
    "\n",
    "t='MON TUE WED THU FRI SAT SUN'.split()\n",
    "print('요일 : ',t)\n",
    "\n",
    "print('요일 index 반환 ',[datetime.datetime(2016,1,1).weekday()])\n",
    "\n",
    "t[datetime.datetime(2016,1,1).weekday()]"
   ]
  },
  {
   "cell_type": "code",
   "execution_count": null,
   "metadata": {},
   "outputs": [],
   "source": []
  }
 ],
 "metadata": {
  "kernelspec": {
   "display_name": "suhyun2",
   "language": "python",
   "name": "suhyun2"
  },
  "language_info": {
   "codemirror_mode": {
    "name": "ipython",
    "version": 3
   },
   "file_extension": ".py",
   "mimetype": "text/x-python",
   "name": "python",
   "nbconvert_exporter": "python",
   "pygments_lexer": "ipython3",
   "version": "3.6.8"
  }
 },
 "nbformat": 4,
 "nbformat_minor": 2
}
